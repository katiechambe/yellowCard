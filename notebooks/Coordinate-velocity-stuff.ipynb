{
 "cells": [
  {
   "cell_type": "code",
   "execution_count": 1,
   "id": "f7f65f90",
   "metadata": {
    "ExecuteTime": {
     "end_time": "2021-07-13T15:15:53.443681Z",
     "start_time": "2021-07-13T15:15:51.024006Z"
    }
   },
   "outputs": [],
   "source": [
    "import astropy.coordinates as coord\n",
    "import astropy.table as at\n",
    "import astropy.units as u\n",
    "import matplotlib as mpl\n",
    "import matplotlib.pyplot as plt\n",
    "%matplotlib inline\n",
    "import numpy as np\n",
    "\n",
    "# gala\n",
    "import gala.coordinates as gc\n",
    "import gala.dynamics as gd\n",
    "import gala.potential as gp\n",
    "from gala.units import galactic"
   ]
  },
  {
   "cell_type": "code",
   "execution_count": 17,
   "id": "a37466c1",
   "metadata": {
    "ExecuteTime": {
     "end_time": "2021-07-13T16:01:02.708952Z",
     "start_time": "2021-07-13T16:01:02.701517Z"
    }
   },
   "outputs": [
    {
     "data": {
      "text/plain": [
       "<Galactocentric Frame (galcen_coord=<ICRS Coordinate: (ra, dec) in deg\n",
       "    (266.4051, -28.936175)>, galcen_distance=8.122 kpc, galcen_v_sun=(12.9, 245.6, 7.78) km / s, z_sun=20.8 pc, roll=0.0 deg)>"
      ]
     },
     "execution_count": 17,
     "metadata": {},
     "output_type": "execute_result"
    }
   ],
   "source": [
    "galcen_frame = coord.Galactocentric()\n",
    "galcen_frame"
   ]
  },
  {
   "cell_type": "markdown",
   "id": "e03c5182",
   "metadata": {},
   "source": [
    "- Sky coordinates from \n",
    "- Proper motions from Table 2: (Blue sample) https://arxiv.org/pdf/2012.09204.pdf\n",
    "- Distance and RV from Mcconachie 2012"
   ]
  },
  {
   "cell_type": "code",
   "execution_count": 43,
   "id": "dd600304",
   "metadata": {
    "ExecuteTime": {
     "end_time": "2021-07-13T16:07:24.776889Z",
     "start_time": "2021-07-13T16:07:24.771877Z"
    }
   },
   "outputs": [],
   "source": [
    "m31_c = coord.SkyCoord(\n",
    "    ra=10.68470833 * u.deg, \n",
    "    dec=41.26875 * u.deg,\n",
    "    distance=731 * u.kpc,\n",
    "    pm_ra_cosdec=48.98 * u.microarcsecond/u.yr, \n",
    "    pm_dec=-36.85 * u.microarcsecond/u.yr,\n",
    "    radial_velocity=-300*u.km/u.s\n",
    ")"
   ]
  },
  {
   "cell_type": "code",
   "execution_count": 44,
   "id": "5688d6f6",
   "metadata": {
    "ExecuteTime": {
     "end_time": "2021-07-13T16:07:25.127465Z",
     "start_time": "2021-07-13T16:07:25.117741Z"
    }
   },
   "outputs": [],
   "source": [
    "m31_galcen = m31_c.transform_to(galcen_frame)"
   ]
  },
  {
   "cell_type": "markdown",
   "id": "26f97f90",
   "metadata": {},
   "source": [
    "From [Petersen & Peñarrubia 2021](https://arxiv.org/pdf/2011.10581.pdf)"
   ]
  },
  {
   "cell_type": "code",
   "execution_count": 45,
   "id": "8bc56134",
   "metadata": {
    "ExecuteTime": {
     "end_time": "2021-07-13T16:07:25.422226Z",
     "start_time": "2021-07-13T16:07:25.417100Z"
    }
   },
   "outputs": [],
   "source": [
    "vtravel_c = coord.SkyCoord(\n",
    "    lon=56*u.deg, \n",
    "    lat=-34*u.deg, \n",
    "    d_distance=32*u.km/u.s,\n",
    "    frame=galcen_frame,\n",
    "    representation_type=coord.UnitSphericalRepresentation,\n",
    "    differential_type=coord.RadialDifferential\n",
    ")"
   ]
  },
  {
   "cell_type": "code",
   "execution_count": 46,
   "id": "eaffbd2d",
   "metadata": {
    "ExecuteTime": {
     "end_time": "2021-07-13T16:07:25.567890Z",
     "start_time": "2021-07-13T16:07:25.565608Z"
    }
   },
   "outputs": [],
   "source": [
    "vsun = galcen_frame.galcen_v_sun"
   ]
  },
  {
   "cell_type": "code",
   "execution_count": 49,
   "id": "02f2f5dc",
   "metadata": {
    "ExecuteTime": {
     "end_time": "2021-07-13T16:07:48.346053Z",
     "start_time": "2021-07-13T16:07:48.341164Z"
    }
   },
   "outputs": [
    {
     "data": {
      "text/plain": [
       "<CartesianDifferential (d_x, d_y, d_z) in km / s\n",
       "    (56.41849884, -98.5903647, -24.28506776)>"
      ]
     },
     "execution_count": 49,
     "metadata": {},
     "output_type": "execute_result"
    }
   ],
   "source": [
    "m31_galcen.velocity + vtravel_c.velocity"
   ]
  },
  {
   "cell_type": "code",
   "execution_count": 51,
   "id": "779b564f",
   "metadata": {
    "ExecuteTime": {
     "end_time": "2021-07-13T16:18:25.404819Z",
     "start_time": "2021-07-13T16:18:25.398239Z"
    }
   },
   "outputs": [
    {
     "data": {
      "text/plain": [
       "(<Quantity 127.71277833 km / s>, <Quantity 116.15882033 km / s>)"
      ]
     },
     "execution_count": 51,
     "metadata": {},
     "output_type": "execute_result"
    }
   ],
   "source": [
    "m31_galcen.velocity.norm(), (m31_galcen.velocity + vtravel_c.velocity).norm()"
   ]
  },
  {
   "cell_type": "code",
   "execution_count": null,
   "id": "6f361907",
   "metadata": {},
   "outputs": [],
   "source": []
  }
 ],
 "metadata": {
  "kernelspec": {
   "display_name": "Python [conda env:root] *",
   "language": "python",
   "name": "conda-root-py"
  },
  "language_info": {
   "codemirror_mode": {
    "name": "ipython",
    "version": 3
   },
   "file_extension": ".py",
   "mimetype": "text/x-python",
   "name": "python",
   "nbconvert_exporter": "python",
   "pygments_lexer": "ipython3",
   "version": "3.8.3"
  },
  "toc": {
   "base_numbering": 1,
   "nav_menu": {},
   "number_sections": true,
   "sideBar": true,
   "skip_h1_title": false,
   "title_cell": "Table of Contents",
   "title_sidebar": "Contents",
   "toc_cell": false,
   "toc_position": {},
   "toc_section_display": true,
   "toc_window_display": false
  }
 },
 "nbformat": 4,
 "nbformat_minor": 5
}
