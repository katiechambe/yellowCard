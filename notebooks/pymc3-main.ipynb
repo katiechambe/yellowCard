{
 "cells": [
  {
   "cell_type": "code",
   "execution_count": 1,
   "id": "33a9c0c1",
   "metadata": {},
   "outputs": [],
   "source": [
    "import warnings\n",
    "warnings.filterwarnings('ignore')\n",
    "    \n",
    "import arviz as az\n",
    "import astropy.coordinates as coord\n",
    "import astropy.table as at\n",
    "import astropy.units as u\n",
    "from gala.units import UnitSystem\n",
    "import matplotlib.pyplot as plt\n",
    "%matplotlib inline\n",
    "import numpy as np\n",
    "import pymc3 as pm\n",
    "import pymc3_ext as pmx\n",
    "from tqdm.notebook import tqdm\n",
    "import astropy.table as at\n",
    "from aesara_theano_fallback import tensor as tt\n",
    "import exoplanet.units as xu\n",
    "import json\n",
    "\n",
    "from yellowcard.model_pymc3 import TimingArgumentModelPymc3"
   ]
  },
  {
   "cell_type": "code",
   "execution_count": 2,
   "id": "13bb868f",
   "metadata": {},
   "outputs": [],
   "source": [
    "plt.rcParams.update({\"text.usetex\":False})"
   ]
  },
  {
   "cell_type": "markdown",
   "id": "0076f3f0",
   "metadata": {},
   "source": [
    "### To get mass as a function of travel velocity"
   ]
  },
  {
   "cell_type": "code",
   "execution_count": 35,
   "id": "4c0beed4",
   "metadata": {
    "scrolled": true
   },
   "outputs": [
    {
     "name": "stderr",
     "output_type": "stream",
     "text": [
      "optimizing logp for variables: [vtravel_lat, vtravel_lon, vtravel_mag, alpha, ln(1-e), eta, M, r]\n"
     ]
    },
    {
     "data": {
      "text/html": [
       "\n",
       "    <div>\n",
       "        <style>\n",
       "            /* Turns off some styling */\n",
       "            progress {\n",
       "                /* gets rid of default border in Firefox and Opera. */\n",
       "                border: none;\n",
       "                /* Needs to be in here for Safari polyfill so background images work as expected. */\n",
       "                background-size: auto;\n",
       "            }\n",
       "            .progress-bar-interrupted, .progress-bar-interrupted::-webkit-progress-bar {\n",
       "                background: #F44336;\n",
       "            }\n",
       "        </style>\n",
       "      <progress value='103' class='' max='103' style='width:300px; height:20px; vertical-align: middle;'></progress>\n",
       "      100.00% [103/103 00:00<00:00 logp = 4.510e+01]\n",
       "    </div>\n",
       "    "
      ],
      "text/plain": [
       "<IPython.core.display.HTML object>"
      ]
     },
     "metadata": {},
     "output_type": "display_data"
    },
    {
     "name": "stdout",
     "output_type": "stream",
     "text": [
      "\n"
     ]
    },
    {
     "name": "stderr",
     "output_type": "stream",
     "text": [
      "message: Optimization terminated successfully.\n",
      "logp: -3093.899065450101 -> 45.09710149881158\n"
     ]
    },
    {
     "name": "stdout",
     "output_type": "stream",
     "text": [
      "{'r_interval__': array(-2.63148973), 'M_interval__': array(-1.40578006), 'eta_angle__': array([-3.73934671, -2.45301572]), 'ln(1-e)_interval__': array(1.92396008), 'alpha_angle__': array([ 4.36693298, -0.96431133]), 'vtravel_mag': array(71.58985155), 'vtravel_lon': array(0.96429555), 'vtravel_lat': array(-0.59958543), 'r': array(764.67695625), 'M': array(4.33955984), 'eta': array(-2.15137872), 'sineta': array(-0.83614334), 'coseta': array(-0.54851099), 'ln(1-e)': array(-1.27420616), 'e': array(0.72034712), 'a': array(548.10903786), 'vscale': array(188.72234554), 'vrad': array(-81.4769659), 'vtan': array(93.82746352), 'tperi': array(13.74937331), 'sun_m31_dist': array(760.7340453), 'm31_icrs_xyz': array([561.8725182 , 106.01161022, 501.77395255]), 'alpha': array(1.78812977), 'model_pmra': array(0.23536552), 'model_pmdec': array(-0.18476058), 'model_rv': array(-308.86732915)}\n"
     ]
    },
    {
     "name": "stderr",
     "output_type": "stream",
     "text": [
      "Multiprocess sampling (4 chains in 4 jobs)\n",
      "NUTS: [vtravel_lat, vtravel_lon, vtravel_mag, alpha, ln(1-e), eta, M, r]\n"
     ]
    },
    {
     "data": {
      "text/html": [
       "\n",
       "    <div>\n",
       "        <style>\n",
       "            /* Turns off some styling */\n",
       "            progress {\n",
       "                /* gets rid of default border in Firefox and Opera. */\n",
       "                border: none;\n",
       "                /* Needs to be in here for Safari polyfill so background images work as expected. */\n",
       "                background-size: auto;\n",
       "            }\n",
       "            .progress-bar-interrupted, .progress-bar-interrupted::-webkit-progress-bar {\n",
       "                background: #F44336;\n",
       "            }\n",
       "        </style>\n",
       "      <progress value='24000' class='' max='24000' style='width:300px; height:20px; vertical-align: middle;'></progress>\n",
       "      100.00% [24000/24000 01:06<00:00 Sampling 4 chains, 32 divergences]\n",
       "    </div>\n",
       "    "
      ],
      "text/plain": [
       "<IPython.core.display.HTML object>"
      ]
     },
     "metadata": {},
     "output_type": "display_data"
    },
    {
     "name": "stderr",
     "output_type": "stream",
     "text": [
      "Sampling 4 chains for 4_000 tune and 2_000 draw iterations (16_000 + 8_000 draws total) took 76 seconds.\n",
      "There was 1 divergence after tuning. Increase `target_accept` or reparameterize.\n",
      "There were 6 divergences after tuning. Increase `target_accept` or reparameterize.\n",
      "There were 25 divergences after tuning. Increase `target_accept` or reparameterize.\n",
      "The number of effective samples is smaller than 25% for some parameters.\n"
     ]
    },
    {
     "name": "stdout",
     "output_type": "stream",
     "text": [
      "exported to ../pymc3-data/fiducial2021_vtravel_100.json\n",
      "ALL. DAMN. DONE.\n"
     ]
    }
   ],
   "source": [
    "# # ------------------------------------------- #\n",
    "# # this bit of the code runs pymc3 for various #\n",
    "# # values of the travel velocity of the disk   #\n",
    "# # ------------------------------------------- #\n",
    "# # includes ~0.1% error on velocity measure    #\n",
    "# # ------------------------------------------- #\n",
    "\n",
    "# # modelChoice = \"vdm2012\"\n",
    "# modelChoice = \"fiducial2021\"\n",
    "\n",
    "# vtravel = 70\n",
    "# vtravel_err = 1e-3\n",
    "\n",
    "# if vtravel == 0:\n",
    "#     model = TimingArgumentModelPymc3.from_dataset(f\"../datasets/{modelChoice}.ecsv\", \n",
    "#                                               include_vtravel=False)\n",
    "# else:\n",
    "#     model = TimingArgumentModelPymc3.from_dataset(f\"../datasets/{modelChoice}.ecsv\", \n",
    "#                                               include_vtravel=True,\n",
    "#                                               vtravel_mag=vtravel,\n",
    "#                                               vtravel_mag_err=vtravel_err)\n",
    "# with model.pymc3_model:\n",
    "#     start = {\n",
    "#     'r': 770.,  \n",
    "#     'M': 4.2, \n",
    "#     'eta': 4.5,\n",
    "#     'ln(1-e)': -3,\n",
    "#     'alpha': 0.5\n",
    "#     }\n",
    "#     res = pmx.optimize(start=start)\n",
    "#     print(repr(res))\n",
    "\n",
    "#     samples = pmx.sample(return_inferencedata=True, \n",
    "#                          start=res, tune=4000, draws=2000)\n",
    "\n",
    "# samples.to_json(f\"../pymc3-data/{modelChoice}_vtravel_{vtravel}.json\")\n",
    "# print(f\"exported to ../pymc3-data/{modelChoice}_vtravel_{vtravel}.json\")\n",
    "# print(\"ALL. DAMN. DONE.\")"
   ]
  },
  {
   "cell_type": "markdown",
   "id": "5bc14483",
   "metadata": {},
   "source": [
    "----\n",
    "# Mass vs. vtravel"
   ]
  },
  {
   "cell_type": "code",
   "execution_count": 5,
   "id": "89f2f82b",
   "metadata": {
    "scrolled": true
   },
   "outputs": [
    {
     "name": "stdout",
     "output_type": "stream",
     "text": [
      "working on fiducial2021\n"
     ]
    },
    {
     "name": "stderr",
     "output_type": "stream",
     "text": [
      "optimizing logp for variables: [alpha, ln(1-e), eta, M, r]\n"
     ]
    },
    {
     "data": {
      "text/html": [
       "\n",
       "    <div>\n",
       "        <style>\n",
       "            /* Turns off some styling */\n",
       "            progress {\n",
       "                /* gets rid of default border in Firefox and Opera. */\n",
       "                border: none;\n",
       "                /* Needs to be in here for Safari polyfill so background images work as expected. */\n",
       "                background-size: auto;\n",
       "            }\n",
       "            .progress-bar-interrupted, .progress-bar-interrupted::-webkit-progress-bar {\n",
       "                background: #F44336;\n",
       "            }\n",
       "        </style>\n",
       "      <progress value='131' class='' max='131' style='width:300px; height:20px; vertical-align: middle;'></progress>\n",
       "      100.00% [131/131 00:00<00:00 logp = 3.899e+01]\n",
       "    </div>\n",
       "    "
      ],
      "text/plain": [
       "<IPython.core.display.HTML object>"
      ]
     },
     "metadata": {},
     "output_type": "display_data"
    },
    {
     "name": "stdout",
     "output_type": "stream",
     "text": [
      "\n"
     ]
    },
    {
     "name": "stderr",
     "output_type": "stream",
     "text": [
      "message: Optimization terminated successfully.\n",
      "logp: -36711.301122280645 -> 38.989192535760075\n"
     ]
    },
    {
     "name": "stdout",
     "output_type": "stream",
     "text": [
      "{'r_interval__': array(-2.63042895), 'M_interval__': array(-1.11771762), 'eta_angle__': array([-4.05414096, -1.88784031]), 'ln(1-e)_interval__': array(1.44220095), 'alpha_angle__': array([3.69991139, 2.51210185]), 'r': array(765.33499755), 'M': array(5.30548028), 'eta': array(-2.0065943), 'sineta': array(-0.90653348), 'coseta': array(-0.42213393), 'ln(1-e)': array(-1.9120475), 'e': array(0.8522225), 'a': array(562.84894683), 'vscale': array(205.92088205), 'vrad': array(-116.99775173), 'vtan': array(79.23032065), 'tperi': array(13.80099933), 'sun_m31_dist': array(761.39211509), 'm31_icrs_xyz': array([562.35856366, 106.10331512, 502.20801   ]), 'alpha': array(0.97432932), 'model_pmra': array(0.24910958), 'model_pmdec': array(-0.18807238), 'model_rv': array(-307.83390538)}\n"
     ]
    },
    {
     "name": "stderr",
     "output_type": "stream",
     "text": [
      "Multiprocess sampling (4 chains in 4 jobs)\n",
      "NUTS: [alpha, ln(1-e), eta, M, r]\n"
     ]
    },
    {
     "data": {
      "text/html": [
       "\n",
       "    <div>\n",
       "        <style>\n",
       "            /* Turns off some styling */\n",
       "            progress {\n",
       "                /* gets rid of default border in Firefox and Opera. */\n",
       "                border: none;\n",
       "                /* Needs to be in here for Safari polyfill so background images work as expected. */\n",
       "                background-size: auto;\n",
       "            }\n",
       "            .progress-bar-interrupted, .progress-bar-interrupted::-webkit-progress-bar {\n",
       "                background: #F44336;\n",
       "            }\n",
       "        </style>\n",
       "      <progress value='48000' class='' max='48000' style='width:300px; height:20px; vertical-align: middle;'></progress>\n",
       "      100.00% [48000/48000 03:45<00:00 Sampling 4 chains, 257 divergences]\n",
       "    </div>\n",
       "    "
      ],
      "text/plain": [
       "<IPython.core.display.HTML object>"
      ]
     },
     "metadata": {},
     "output_type": "display_data"
    },
    {
     "name": "stderr",
     "output_type": "stream",
     "text": [
      "INFO (theano.gof.compilelock): Waiting for existing lock by process '73115' (I am process '73150')\n",
      "INFO (theano.gof.compilelock): To manually release the lock, delete /Users/katiechambe/.theano/compiledir_macOS-10.15.7-x86_64-i386-64bit-i386-3.9.5-64/lock_dir\n",
      "INFO (theano.gof.compilelock): Waiting for existing lock by process '73115' (I am process '73185')\n",
      "INFO (theano.gof.compilelock): To manually release the lock, delete /Users/katiechambe/.theano/compiledir_macOS-10.15.7-x86_64-i386-64bit-i386-3.9.5-64/lock_dir\n",
      "INFO (theano.gof.compilelock): Waiting for existing lock by process '73115' (I am process '73222')\n",
      "INFO (theano.gof.compilelock): To manually release the lock, delete /Users/katiechambe/.theano/compiledir_macOS-10.15.7-x86_64-i386-64bit-i386-3.9.5-64/lock_dir\n",
      "INFO (theano.gof.compilelock): Waiting for existing lock by process '73115' (I am process '73150')\n",
      "INFO (theano.gof.compilelock): To manually release the lock, delete /Users/katiechambe/.theano/compiledir_macOS-10.15.7-x86_64-i386-64bit-i386-3.9.5-64/lock_dir\n",
      "INFO (theano.gof.compilelock): Waiting for existing lock by process '73115' (I am process '73185')\n",
      "INFO (theano.gof.compilelock): To manually release the lock, delete /Users/katiechambe/.theano/compiledir_macOS-10.15.7-x86_64-i386-64bit-i386-3.9.5-64/lock_dir\n",
      "INFO (theano.gof.compilelock): Waiting for existing lock by process '73115' (I am process '73222')\n",
      "INFO (theano.gof.compilelock): To manually release the lock, delete /Users/katiechambe/.theano/compiledir_macOS-10.15.7-x86_64-i386-64bit-i386-3.9.5-64/lock_dir\n",
      "INFO (theano.gof.compilelock): Waiting for existing lock by process '73115' (I am process '73150')\n",
      "INFO (theano.gof.compilelock): To manually release the lock, delete /Users/katiechambe/.theano/compiledir_macOS-10.15.7-x86_64-i386-64bit-i386-3.9.5-64/lock_dir\n",
      "INFO (theano.gof.compilelock): Waiting for existing lock by process '73185' (I am process '73222')\n",
      "INFO (theano.gof.compilelock): To manually release the lock, delete /Users/katiechambe/.theano/compiledir_macOS-10.15.7-x86_64-i386-64bit-i386-3.9.5-64/lock_dir\n",
      "INFO (theano.gof.compilelock): Waiting for existing lock by process '73185' (I am process '73150')\n",
      "INFO (theano.gof.compilelock): To manually release the lock, delete /Users/katiechambe/.theano/compiledir_macOS-10.15.7-x86_64-i386-64bit-i386-3.9.5-64/lock_dir\n",
      "INFO (theano.gof.compilelock): Waiting for existing lock by process '73185' (I am process '73222')\n",
      "INFO (theano.gof.compilelock): To manually release the lock, delete /Users/katiechambe/.theano/compiledir_macOS-10.15.7-x86_64-i386-64bit-i386-3.9.5-64/lock_dir\n",
      "INFO (theano.gof.compilelock): Waiting for existing lock by process '73185' (I am process '73115')\n",
      "INFO (theano.gof.compilelock): To manually release the lock, delete /Users/katiechambe/.theano/compiledir_macOS-10.15.7-x86_64-i386-64bit-i386-3.9.5-64/lock_dir\n",
      "INFO (theano.gof.compilelock): Waiting for existing lock by process '73185' (I am process '73150')\n",
      "INFO (theano.gof.compilelock): To manually release the lock, delete /Users/katiechambe/.theano/compiledir_macOS-10.15.7-x86_64-i386-64bit-i386-3.9.5-64/lock_dir\n",
      "INFO (theano.gof.compilelock): Waiting for existing lock by process '73185' (I am process '73222')\n",
      "INFO (theano.gof.compilelock): To manually release the lock, delete /Users/katiechambe/.theano/compiledir_macOS-10.15.7-x86_64-i386-64bit-i386-3.9.5-64/lock_dir\n",
      "INFO (theano.gof.compilelock): Waiting for existing lock by process '73185' (I am process '73150')\n",
      "INFO (theano.gof.compilelock): To manually release the lock, delete /Users/katiechambe/.theano/compiledir_macOS-10.15.7-x86_64-i386-64bit-i386-3.9.5-64/lock_dir\n",
      "INFO (theano.gof.compilelock): Waiting for existing lock by process '73185' (I am process '73115')\n",
      "INFO (theano.gof.compilelock): To manually release the lock, delete /Users/katiechambe/.theano/compiledir_macOS-10.15.7-x86_64-i386-64bit-i386-3.9.5-64/lock_dir\n",
      "INFO (theano.gof.compilelock): Waiting for existing lock by process '73185' (I am process '73222')\n",
      "INFO (theano.gof.compilelock): To manually release the lock, delete /Users/katiechambe/.theano/compiledir_macOS-10.15.7-x86_64-i386-64bit-i386-3.9.5-64/lock_dir\n",
      "INFO (theano.gof.compilelock): Waiting for existing lock by process '73185' (I am process '73115')\n",
      "INFO (theano.gof.compilelock): To manually release the lock, delete /Users/katiechambe/.theano/compiledir_macOS-10.15.7-x86_64-i386-64bit-i386-3.9.5-64/lock_dir\n",
      "INFO (theano.gof.compilelock): Waiting for existing lock by process '73185' (I am process '73150')\n",
      "INFO (theano.gof.compilelock): To manually release the lock, delete /Users/katiechambe/.theano/compiledir_macOS-10.15.7-x86_64-i386-64bit-i386-3.9.5-64/lock_dir\n",
      "INFO (theano.gof.compilelock): Waiting for existing lock by process '73185' (I am process '73222')\n",
      "INFO (theano.gof.compilelock): To manually release the lock, delete /Users/katiechambe/.theano/compiledir_macOS-10.15.7-x86_64-i386-64bit-i386-3.9.5-64/lock_dir\n",
      "INFO (theano.gof.compilelock): Waiting for existing lock by process '73185' (I am process '73115')\n",
      "INFO (theano.gof.compilelock): To manually release the lock, delete /Users/katiechambe/.theano/compiledir_macOS-10.15.7-x86_64-i386-64bit-i386-3.9.5-64/lock_dir\n",
      "INFO (theano.gof.compilelock): Waiting for existing lock by process '73185' (I am process '73150')\n",
      "INFO (theano.gof.compilelock): To manually release the lock, delete /Users/katiechambe/.theano/compiledir_macOS-10.15.7-x86_64-i386-64bit-i386-3.9.5-64/lock_dir\n",
      "INFO (theano.gof.compilelock): Waiting for existing lock by process '73185' (I am process '73222')\n",
      "INFO (theano.gof.compilelock): To manually release the lock, delete /Users/katiechambe/.theano/compiledir_macOS-10.15.7-x86_64-i386-64bit-i386-3.9.5-64/lock_dir\n",
      "INFO (theano.gof.compilelock): Waiting for existing lock by process '73185' (I am process '73150')\n",
      "INFO (theano.gof.compilelock): To manually release the lock, delete /Users/katiechambe/.theano/compiledir_macOS-10.15.7-x86_64-i386-64bit-i386-3.9.5-64/lock_dir\n",
      "INFO (theano.gof.compilelock): Waiting for existing lock by process '73185' (I am process '73115')\n",
      "INFO (theano.gof.compilelock): To manually release the lock, delete /Users/katiechambe/.theano/compiledir_macOS-10.15.7-x86_64-i386-64bit-i386-3.9.5-64/lock_dir\n",
      "INFO (theano.gof.compilelock): Waiting for existing lock by process '73185' (I am process '73222')\n",
      "INFO (theano.gof.compilelock): To manually release the lock, delete /Users/katiechambe/.theano/compiledir_macOS-10.15.7-x86_64-i386-64bit-i386-3.9.5-64/lock_dir\n",
      "INFO (theano.gof.compilelock): Waiting for existing lock by process '73185' (I am process '73115')\n",
      "INFO (theano.gof.compilelock): To manually release the lock, delete /Users/katiechambe/.theano/compiledir_macOS-10.15.7-x86_64-i386-64bit-i386-3.9.5-64/lock_dir\n",
      "INFO (theano.gof.compilelock): Waiting for existing lock by process '73185' (I am process '73150')\n",
      "INFO (theano.gof.compilelock): To manually release the lock, delete /Users/katiechambe/.theano/compiledir_macOS-10.15.7-x86_64-i386-64bit-i386-3.9.5-64/lock_dir\n",
      "INFO (theano.gof.compilelock): Waiting for existing lock by process '73185' (I am process '73222')\n",
      "INFO (theano.gof.compilelock): To manually release the lock, delete /Users/katiechambe/.theano/compiledir_macOS-10.15.7-x86_64-i386-64bit-i386-3.9.5-64/lock_dir\n",
      "INFO (theano.gof.compilelock): Waiting for existing lock by process '73150' (I am process '73222')\n",
      "INFO (theano.gof.compilelock): To manually release the lock, delete /Users/katiechambe/.theano/compiledir_macOS-10.15.7-x86_64-i386-64bit-i386-3.9.5-64/lock_dir\n",
      "Sampling 4 chains for 4_000 tune and 8_000 draw iterations (16_000 + 32_000 draws total) took 237 seconds.\n",
      "WARNING (theano.gof.cmodule): A module that was loaded by this ModuleCache can no longer be read from file /Users/katiechambe/.theano/compiledir_macOS-10.15.7-x86_64-i386-64bit-i386-3.9.5-64/tmptuc8btaj/m63a3e35cdcc38bc64be5b0ff625c4adc2438ea8b0d0e17e36fc17e4c36a5e8fc.so... this could lead to problems.\n",
      "WARNING (theano.gof.cmodule): Removing key file /Users/katiechambe/.theano/compiledir_macOS-10.15.7-x86_64-i386-64bit-i386-3.9.5-64/tmptuc8btaj/key.pkl because the corresponding module is gone from the file system.\n",
      "WARNING (theano.gof.cmodule): A module that was loaded by this ModuleCache can no longer be read from file /Users/katiechambe/.theano/compiledir_macOS-10.15.7-x86_64-i386-64bit-i386-3.9.5-64/tmppwz3emvk/m03cc3cdee46c6787a94521175277126c8d483d4e6ac5026e943ac127eec8e49a.so... this could lead to problems.\n"
     ]
    },
    {
     "name": "stderr",
     "output_type": "stream",
     "text": [
      "WARNING (theano.gof.cmodule): Removing key file /Users/katiechambe/.theano/compiledir_macOS-10.15.7-x86_64-i386-64bit-i386-3.9.5-64/tmppwz3emvk/key.pkl because the corresponding module is gone from the file system.\n",
      "WARNING (theano.gof.cmodule): A module that was loaded by this ModuleCache can no longer be read from file /Users/katiechambe/.theano/compiledir_macOS-10.15.7-x86_64-i386-64bit-i386-3.9.5-64/tmpf0ph_jmt/m8b05da9e2121a036efaeab8b4b11d89bf6f37b1f39712307f911a46fbf4d313c.so... this could lead to problems.\n",
      "WARNING (theano.gof.cmodule): Removing key file /Users/katiechambe/.theano/compiledir_macOS-10.15.7-x86_64-i386-64bit-i386-3.9.5-64/tmpf0ph_jmt/key.pkl because the corresponding module is gone from the file system.\n",
      "WARNING (theano.gof.cmodule): A module that was loaded by this ModuleCache can no longer be read from file /Users/katiechambe/.theano/compiledir_macOS-10.15.7-x86_64-i386-64bit-i386-3.9.5-64/tmp511kvpzt/m54e1ce4760689129b813fce15fee7f8d468afbe167bc036205eea6bd301309d7.so... this could lead to problems.\n",
      "WARNING (theano.gof.cmodule): Removing key file /Users/katiechambe/.theano/compiledir_macOS-10.15.7-x86_64-i386-64bit-i386-3.9.5-64/tmp511kvpzt/key.pkl because the corresponding module is gone from the file system.\n",
      "WARNING (theano.gof.cmodule): A module that was loaded by this ModuleCache can no longer be read from file /Users/katiechambe/.theano/compiledir_macOS-10.15.7-x86_64-i386-64bit-i386-3.9.5-64/tmp5qntq2lz/mf58e389dbf73bb9ed71a05adf7facee70f1ede2d88df041d3115a142b330b60b.so... this could lead to problems.\n",
      "WARNING (theano.gof.cmodule): Removing key file /Users/katiechambe/.theano/compiledir_macOS-10.15.7-x86_64-i386-64bit-i386-3.9.5-64/tmp5qntq2lz/key.pkl because the corresponding module is gone from the file system.\n",
      "WARNING (theano.gof.cmodule): A module that was loaded by this ModuleCache can no longer be read from file /Users/katiechambe/.theano/compiledir_macOS-10.15.7-x86_64-i386-64bit-i386-3.9.5-64/tmp_jv1nn1u/m96d1c78b1c579d8fa189d3f3edb97194f8655a78d76b9c2d14a282fb8b79ce0d.so... this could lead to problems.\n",
      "WARNING (theano.gof.cmodule): Removing key file /Users/katiechambe/.theano/compiledir_macOS-10.15.7-x86_64-i386-64bit-i386-3.9.5-64/tmp_jv1nn1u/key.pkl because the corresponding module is gone from the file system.\n",
      "WARNING (theano.gof.cmodule): A module that was loaded by this ModuleCache can no longer be read from file /Users/katiechambe/.theano/compiledir_macOS-10.15.7-x86_64-i386-64bit-i386-3.9.5-64/tmp9n4ielqp/mb66b5942e7cf047b546a9aa8995aaacfa70e1bd735cd0b2f02691cb3437be94b.so... this could lead to problems.\n",
      "WARNING (theano.gof.cmodule): Removing key file /Users/katiechambe/.theano/compiledir_macOS-10.15.7-x86_64-i386-64bit-i386-3.9.5-64/tmp9n4ielqp/key.pkl because the corresponding module is gone from the file system.\n",
      "WARNING (theano.gof.cmodule): A module that was loaded by this ModuleCache can no longer be read from file /Users/katiechambe/.theano/compiledir_macOS-10.15.7-x86_64-i386-64bit-i386-3.9.5-64/tmpjl5g98zr/mc3d2e28b26afc802d17ff2e57e8e9942a780014c29439784028b7c8fa3ab158a.so... this could lead to problems.\n",
      "WARNING (theano.gof.cmodule): Removing key file /Users/katiechambe/.theano/compiledir_macOS-10.15.7-x86_64-i386-64bit-i386-3.9.5-64/tmpjl5g98zr/key.pkl because the corresponding module is gone from the file system.\n",
      "WARNING (theano.gof.cmodule): A module that was loaded by this ModuleCache can no longer be read from file /Users/katiechambe/.theano/compiledir_macOS-10.15.7-x86_64-i386-64bit-i386-3.9.5-64/tmpwkyp690m/mb63002e4cb3b72a8678617030d8b841c60d1b77d8eb3a2052c9a8bc46863bcd5.so... this could lead to problems.\n",
      "WARNING (theano.gof.cmodule): Removing key file /Users/katiechambe/.theano/compiledir_macOS-10.15.7-x86_64-i386-64bit-i386-3.9.5-64/tmpwkyp690m/key.pkl because the corresponding module is gone from the file system.\n",
      "WARNING (theano.gof.cmodule): A module that was loaded by this ModuleCache can no longer be read from file /Users/katiechambe/.theano/compiledir_macOS-10.15.7-x86_64-i386-64bit-i386-3.9.5-64/tmp5ozhgn7v/me1b70abf2487746f11d44e03101358e42a5484bbe793d07b15d6a32a1e22c75d.so... this could lead to problems.\n",
      "WARNING (theano.gof.cmodule): Removing key file /Users/katiechambe/.theano/compiledir_macOS-10.15.7-x86_64-i386-64bit-i386-3.9.5-64/tmp5ozhgn7v/key.pkl because the corresponding module is gone from the file system.\n",
      "WARNING (theano.gof.cmodule): A module that was loaded by this ModuleCache can no longer be read from file /Users/katiechambe/.theano/compiledir_macOS-10.15.7-x86_64-i386-64bit-i386-3.9.5-64/tmptxi8udov/md99f8854c398932e8a2429898f7f19479d1a51434a4afb7659b351bfeccc587b.so... this could lead to problems.\n",
      "WARNING (theano.gof.cmodule): Removing key file /Users/katiechambe/.theano/compiledir_macOS-10.15.7-x86_64-i386-64bit-i386-3.9.5-64/tmptxi8udov/key.pkl because the corresponding module is gone from the file system.\n",
      "WARNING (theano.gof.cmodule): A module that was loaded by this ModuleCache can no longer be read from file /Users/katiechambe/.theano/compiledir_macOS-10.15.7-x86_64-i386-64bit-i386-3.9.5-64/tmp81h4akub/md30f43e3ac0abbc35c6ccc18f4ae4b8a4604228b9e2d3049ac95fe8733f7325c.so... this could lead to problems.\n",
      "WARNING (theano.gof.cmodule): Removing key file /Users/katiechambe/.theano/compiledir_macOS-10.15.7-x86_64-i386-64bit-i386-3.9.5-64/tmp81h4akub/key.pkl because the corresponding module is gone from the file system.\n",
      "WARNING (theano.gof.cmodule): A module that was loaded by this ModuleCache can no longer be read from file /Users/katiechambe/.theano/compiledir_macOS-10.15.7-x86_64-i386-64bit-i386-3.9.5-64/tmpfsyyjk95/mf123c29239f2cc768637ba735f1fcea3c3028bbbe424c6ca6ee868d52e672243.so... this could lead to problems.\n",
      "WARNING (theano.gof.cmodule): Removing key file /Users/katiechambe/.theano/compiledir_macOS-10.15.7-x86_64-i386-64bit-i386-3.9.5-64/tmpfsyyjk95/key.pkl because the corresponding module is gone from the file system.\n",
      "WARNING (theano.gof.cmodule): A module that was loaded by this ModuleCache can no longer be read from file /Users/katiechambe/.theano/compiledir_macOS-10.15.7-x86_64-i386-64bit-i386-3.9.5-64/tmpemgolmwo/m24598f8fcf28d4ca443a101ff8e6ae6dee828e639eeef2fb7eb776c3945e3358.so... this could lead to problems.\n",
      "WARNING (theano.gof.cmodule): Removing key file /Users/katiechambe/.theano/compiledir_macOS-10.15.7-x86_64-i386-64bit-i386-3.9.5-64/tmpemgolmwo/key.pkl because the corresponding module is gone from the file system.\n",
      "WARNING (theano.gof.cmodule): A module that was loaded by this ModuleCache can no longer be read from file /Users/katiechambe/.theano/compiledir_macOS-10.15.7-x86_64-i386-64bit-i386-3.9.5-64/tmp01ciiw3k/m853343dadd2903f34502b8a9cc35f7ffbbba0c3fdc916b33d7c0682384d02042.so... this could lead to problems.\n",
      "WARNING (theano.gof.cmodule): Removing key file /Users/katiechambe/.theano/compiledir_macOS-10.15.7-x86_64-i386-64bit-i386-3.9.5-64/tmp01ciiw3k/key.pkl because the corresponding module is gone from the file system.\n",
      "WARNING (theano.gof.cmodule): A module that was loaded by this ModuleCache can no longer be read from file /Users/katiechambe/.theano/compiledir_macOS-10.15.7-x86_64-i386-64bit-i386-3.9.5-64/tmp519budmq/m7e9af8e5778573b74981490ea42c04bae889c63788dcd3d90d27e184e37bb667.so... this could lead to problems.\n",
      "WARNING (theano.gof.cmodule): Removing key file /Users/katiechambe/.theano/compiledir_macOS-10.15.7-x86_64-i386-64bit-i386-3.9.5-64/tmp519budmq/key.pkl because the corresponding module is gone from the file system.\n",
      "WARNING (theano.gof.cmodule): A module that was loaded by this ModuleCache can no longer be read from file /Users/katiechambe/.theano/compiledir_macOS-10.15.7-x86_64-i386-64bit-i386-3.9.5-64/tmptg9oapv2/m2a622e0ed3b1e6b498710ea7b735a0e00830aec8b824520e2fb7e7b31ce626a2.so... this could lead to problems.\n",
      "WARNING (theano.gof.cmodule): Removing key file /Users/katiechambe/.theano/compiledir_macOS-10.15.7-x86_64-i386-64bit-i386-3.9.5-64/tmptg9oapv2/key.pkl because the corresponding module is gone from the file system.\n",
      "WARNING (theano.gof.cmodule): A module that was loaded by this ModuleCache can no longer be read from file /Users/katiechambe/.theano/compiledir_macOS-10.15.7-x86_64-i386-64bit-i386-3.9.5-64/tmpyu_sr96k/m2bc19d64bc62a026741782b1e76b7d41695cc063c8a46ffd1976e0da65b16f0b.so... this could lead to problems.\n"
     ]
    },
    {
     "name": "stderr",
     "output_type": "stream",
     "text": [
      "WARNING (theano.gof.cmodule): Removing key file /Users/katiechambe/.theano/compiledir_macOS-10.15.7-x86_64-i386-64bit-i386-3.9.5-64/tmpyu_sr96k/key.pkl because the corresponding module is gone from the file system.\n",
      "WARNING (theano.gof.cmodule): A module that was loaded by this ModuleCache can no longer be read from file /Users/katiechambe/.theano/compiledir_macOS-10.15.7-x86_64-i386-64bit-i386-3.9.5-64/tmpxxqxtn3f/mfa8abdd3a0269298c3d16b9d0359e8e570128883334f9be54318e37d183fb05e.so... this could lead to problems.\n",
      "WARNING (theano.gof.cmodule): Removing key file /Users/katiechambe/.theano/compiledir_macOS-10.15.7-x86_64-i386-64bit-i386-3.9.5-64/tmpxxqxtn3f/key.pkl because the corresponding module is gone from the file system.\n",
      "WARNING (theano.gof.cmodule): A module that was loaded by this ModuleCache can no longer be read from file /Users/katiechambe/.theano/compiledir_macOS-10.15.7-x86_64-i386-64bit-i386-3.9.5-64/tmpmbghjc10/mf0c597995cda5a5ddd6f2023fd9404c7f21824ed4f7f0d5318dee29bd7fd2b7c.so... this could lead to problems.\n",
      "WARNING (theano.gof.cmodule): A module that was loaded by this ModuleCache can no longer be read from file /Users/katiechambe/.theano/compiledir_macOS-10.15.7-x86_64-i386-64bit-i386-3.9.5-64/tmp8iidqx4n/m95e7311d064f2fec7461595cc522b3dbec39693356e8ad3ab6ddcc5cd3542707.so... this could lead to problems.\n",
      "WARNING (theano.gof.cmodule): Removing key file /Users/katiechambe/.theano/compiledir_macOS-10.15.7-x86_64-i386-64bit-i386-3.9.5-64/tmp8iidqx4n/key.pkl because the corresponding module is gone from the file system.\n",
      "WARNING (theano.gof.cmodule): A module that was loaded by this ModuleCache can no longer be read from file /Users/katiechambe/.theano/compiledir_macOS-10.15.7-x86_64-i386-64bit-i386-3.9.5-64/tmpi1r3gvk5/m6fbc389799ffe4de42a10463e896f5ee29685f896c2aee3eacc734d739f6dc8a.so... this could lead to problems.\n",
      "WARNING (theano.gof.cmodule): Removing key file /Users/katiechambe/.theano/compiledir_macOS-10.15.7-x86_64-i386-64bit-i386-3.9.5-64/tmpi1r3gvk5/key.pkl because the corresponding module is gone from the file system.\n",
      "WARNING (theano.gof.cmodule): A module that was loaded by this ModuleCache can no longer be read from file /Users/katiechambe/.theano/compiledir_macOS-10.15.7-x86_64-i386-64bit-i386-3.9.5-64/tmp65crhw7c/m1d98be46c26760826fbf179da3edce04417b52aacb46d8f334d0e1aacda26a97.so... this could lead to problems.\n",
      "WARNING (theano.gof.cmodule): Removing key file /Users/katiechambe/.theano/compiledir_macOS-10.15.7-x86_64-i386-64bit-i386-3.9.5-64/tmp65crhw7c/key.pkl because the corresponding module is gone from the file system.\n",
      "WARNING (theano.gof.cmodule): A module that was loaded by this ModuleCache can no longer be read from file /Users/katiechambe/.theano/compiledir_macOS-10.15.7-x86_64-i386-64bit-i386-3.9.5-64/tmpa0_e7896/m835cbb3a3941e99e15bcaf26d5d3d6c83983a19e19761f6df9e8ee66b836c3c9.so... this could lead to problems.\n",
      "WARNING (theano.gof.cmodule): Removing key file /Users/katiechambe/.theano/compiledir_macOS-10.15.7-x86_64-i386-64bit-i386-3.9.5-64/tmpa0_e7896/key.pkl because the corresponding module is gone from the file system.\n",
      "WARNING (theano.gof.cmodule): A module that was loaded by this ModuleCache can no longer be read from file /Users/katiechambe/.theano/compiledir_macOS-10.15.7-x86_64-i386-64bit-i386-3.9.5-64/tmp6lw1trir/ma1f8d95857bc9f8a2b3a5654801eb1949574672b1f2f9e7a258ce0cf66db9240.so... this could lead to problems.\n",
      "WARNING (theano.gof.cmodule): Removing key file /Users/katiechambe/.theano/compiledir_macOS-10.15.7-x86_64-i386-64bit-i386-3.9.5-64/tmp6lw1trir/key.pkl because the corresponding module is gone from the file system.\n",
      "WARNING (theano.gof.cmodule): A module that was loaded by this ModuleCache can no longer be read from file /Users/katiechambe/.theano/compiledir_macOS-10.15.7-x86_64-i386-64bit-i386-3.9.5-64/tmpgrex59m0/m885ff006a95d626dac547a7bdfdb471bbf058622ece2b4435e42316c4012ea56.so... this could lead to problems.\n",
      "WARNING (theano.gof.cmodule): Removing key file /Users/katiechambe/.theano/compiledir_macOS-10.15.7-x86_64-i386-64bit-i386-3.9.5-64/tmpgrex59m0/key.pkl because the corresponding module is gone from the file system.\n",
      "WARNING (theano.gof.cmodule): A module that was loaded by this ModuleCache can no longer be read from file /Users/katiechambe/.theano/compiledir_macOS-10.15.7-x86_64-i386-64bit-i386-3.9.5-64/tmp23tm9vmx/m61c68deb8ae00617d63e2c2e1ea6967124f7e2712d1a63222aae3c772cd76853.so... this could lead to problems.\n",
      "WARNING (theano.gof.cmodule): Removing key file /Users/katiechambe/.theano/compiledir_macOS-10.15.7-x86_64-i386-64bit-i386-3.9.5-64/tmp23tm9vmx/key.pkl because the corresponding module is gone from the file system.\n",
      "WARNING (theano.gof.cmodule): A module that was loaded by this ModuleCache can no longer be read from file /Users/katiechambe/.theano/compiledir_macOS-10.15.7-x86_64-i386-64bit-i386-3.9.5-64/tmpfsq6p3ov/ma0ea870d167723cf941e86880e7998815df55b53fde2fb68066d83a4de012cf1.so... this could lead to problems.\n",
      "WARNING (theano.gof.cmodule): Removing key file /Users/katiechambe/.theano/compiledir_macOS-10.15.7-x86_64-i386-64bit-i386-3.9.5-64/tmpfsq6p3ov/key.pkl because the corresponding module is gone from the file system.\n",
      "WARNING (theano.gof.cmodule): A module that was loaded by this ModuleCache can no longer be read from file /Users/katiechambe/.theano/compiledir_macOS-10.15.7-x86_64-i386-64bit-i386-3.9.5-64/tmpji09glx3/me2e380d53316895e71d165d7dbdae09a4f633147fc97edcb5ad823c3ba58ee08.so... this could lead to problems.\n",
      "WARNING (theano.gof.cmodule): Removing key file /Users/katiechambe/.theano/compiledir_macOS-10.15.7-x86_64-i386-64bit-i386-3.9.5-64/tmpji09glx3/key.pkl because the corresponding module is gone from the file system.\n",
      "WARNING (theano.gof.cmodule): A module that was loaded by this ModuleCache can no longer be read from file /Users/katiechambe/.theano/compiledir_macOS-10.15.7-x86_64-i386-64bit-i386-3.9.5-64/tmpv1wapdqi/m71b3b60e74b3450298c58da2d94429cffdd757f249e8808b21737e93c72598e1.so... this could lead to problems.\n",
      "WARNING (theano.gof.cmodule): Removing key file /Users/katiechambe/.theano/compiledir_macOS-10.15.7-x86_64-i386-64bit-i386-3.9.5-64/tmpv1wapdqi/key.pkl because the corresponding module is gone from the file system.\n",
      "WARNING (theano.gof.cmodule): A module that was loaded by this ModuleCache can no longer be read from file /Users/katiechambe/.theano/compiledir_macOS-10.15.7-x86_64-i386-64bit-i386-3.9.5-64/tmp8v3mcomh/m5e68ca540ad37ff50c006abc58f57a013657ed88b3f1ca4b8b7d2bd843eecfeb.so... this could lead to problems.\n",
      "WARNING (theano.gof.cmodule): Removing key file /Users/katiechambe/.theano/compiledir_macOS-10.15.7-x86_64-i386-64bit-i386-3.9.5-64/tmp8v3mcomh/key.pkl because the corresponding module is gone from the file system.\n",
      "WARNING (theano.gof.cmodule): A module that was loaded by this ModuleCache can no longer be read from file /Users/katiechambe/.theano/compiledir_macOS-10.15.7-x86_64-i386-64bit-i386-3.9.5-64/tmpxgo1lpys/mfffa8399d959808db2b6e251f1647e3f02f9b3cdd4031c1b520f9d1a87e88148.so... this could lead to problems.\n",
      "WARNING (theano.gof.cmodule): Removing key file /Users/katiechambe/.theano/compiledir_macOS-10.15.7-x86_64-i386-64bit-i386-3.9.5-64/tmpxgo1lpys/key.pkl because the corresponding module is gone from the file system.\n",
      "WARNING (theano.gof.cmodule): A module that was loaded by this ModuleCache can no longer be read from file /Users/katiechambe/.theano/compiledir_macOS-10.15.7-x86_64-i386-64bit-i386-3.9.5-64/tmpf8f16i9e/m3eb87040f21380867e950ca934a2ec81a620b8b71d54a616e607e9163333dfd4.so... this could lead to problems.\n",
      "WARNING (theano.gof.cmodule): Removing key file /Users/katiechambe/.theano/compiledir_macOS-10.15.7-x86_64-i386-64bit-i386-3.9.5-64/tmpf8f16i9e/key.pkl because the corresponding module is gone from the file system.\n",
      "WARNING (theano.gof.cmodule): A module that was loaded by this ModuleCache can no longer be read from file /Users/katiechambe/.theano/compiledir_macOS-10.15.7-x86_64-i386-64bit-i386-3.9.5-64/tmpd_bdi1rj/mf338c421cfdbc8bf32db13f03f9e774d887ff63a027f10dae47c18955a236537.so... this could lead to problems.\n",
      "WARNING (theano.gof.cmodule): Removing key file /Users/katiechambe/.theano/compiledir_macOS-10.15.7-x86_64-i386-64bit-i386-3.9.5-64/tmpd_bdi1rj/key.pkl because the corresponding module is gone from the file system.\n"
     ]
    },
    {
     "name": "stderr",
     "output_type": "stream",
     "text": [
      "WARNING (theano.gof.cmodule): A module that was loaded by this ModuleCache can no longer be read from file /Users/katiechambe/.theano/compiledir_macOS-10.15.7-x86_64-i386-64bit-i386-3.9.5-64/tmp9zfai2w9/m8c069144b5f30d54b9503198a3df441f1812ba0b68c6d0a422960bbfd480914f.so... this could lead to problems.\n",
      "WARNING (theano.gof.cmodule): Removing key file /Users/katiechambe/.theano/compiledir_macOS-10.15.7-x86_64-i386-64bit-i386-3.9.5-64/tmp9zfai2w9/key.pkl because the corresponding module is gone from the file system.\n",
      "WARNING (theano.gof.cmodule): A module that was loaded by this ModuleCache can no longer be read from file /Users/katiechambe/.theano/compiledir_macOS-10.15.7-x86_64-i386-64bit-i386-3.9.5-64/tmpqjad2u34/m8d24deab84274767198cce0bd6c59a7a31f76918eb9fb5664045c209e7a8563c.so... this could lead to problems.\n",
      "WARNING (theano.gof.cmodule): Removing key file /Users/katiechambe/.theano/compiledir_macOS-10.15.7-x86_64-i386-64bit-i386-3.9.5-64/tmpqjad2u34/key.pkl because the corresponding module is gone from the file system.\n",
      "WARNING (theano.gof.cmodule): A module that was loaded by this ModuleCache can no longer be read from file /Users/katiechambe/.theano/compiledir_macOS-10.15.7-x86_64-i386-64bit-i386-3.9.5-64/tmp6aa_1n6l/me604ca2eeb1171c378383d7096ea5323182767bf29261c133ba0298b656bb215.so... this could lead to problems.\n",
      "WARNING (theano.gof.cmodule): Removing key file /Users/katiechambe/.theano/compiledir_macOS-10.15.7-x86_64-i386-64bit-i386-3.9.5-64/tmp6aa_1n6l/key.pkl because the corresponding module is gone from the file system.\n",
      "WARNING (theano.gof.cmodule): A module that was loaded by this ModuleCache can no longer be read from file /Users/katiechambe/.theano/compiledir_macOS-10.15.7-x86_64-i386-64bit-i386-3.9.5-64/tmpx6xacawf/m6ce5fc0aae585e86162e59cd5b5f257cb10e95fd62855ffc34715f617dd9ea27.so... this could lead to problems.\n",
      "WARNING (theano.gof.cmodule): Removing key file /Users/katiechambe/.theano/compiledir_macOS-10.15.7-x86_64-i386-64bit-i386-3.9.5-64/tmpx6xacawf/key.pkl because the corresponding module is gone from the file system.\n",
      "WARNING (theano.gof.cmodule): A module that was loaded by this ModuleCache can no longer be read from file /Users/katiechambe/.theano/compiledir_macOS-10.15.7-x86_64-i386-64bit-i386-3.9.5-64/tmpmam7xrw5/mbf603e414396181d78ebdc7b7f3292b9a15629083c2e0aa4d31d71596ce9c1a4.so... this could lead to problems.\n",
      "WARNING (theano.gof.cmodule): A module that was loaded by this ModuleCache can no longer be read from file /Users/katiechambe/.theano/compiledir_macOS-10.15.7-x86_64-i386-64bit-i386-3.9.5-64/tmpj35cn_ul/m725d19d2441341942cd0fe0f5b8dbc043bcef2759775dab6b679b549397f74ff.so... this could lead to problems.\n",
      "WARNING (theano.gof.cmodule): Removing key file /Users/katiechambe/.theano/compiledir_macOS-10.15.7-x86_64-i386-64bit-i386-3.9.5-64/tmpj35cn_ul/key.pkl because the corresponding module is gone from the file system.\n",
      "WARNING (theano.gof.cmodule): A module that was loaded by this ModuleCache can no longer be read from file /Users/katiechambe/.theano/compiledir_macOS-10.15.7-x86_64-i386-64bit-i386-3.9.5-64/tmptmrkhqz1/mab7e2e3ce43a0d9e8ad5d734e6afac1d5c81febd7176d2dc2338e1458b0922a5.so... this could lead to problems.\n",
      "WARNING (theano.gof.cmodule): Removing key file /Users/katiechambe/.theano/compiledir_macOS-10.15.7-x86_64-i386-64bit-i386-3.9.5-64/tmptmrkhqz1/key.pkl because the corresponding module is gone from the file system.\n",
      "WARNING (theano.gof.cmodule): A module that was loaded by this ModuleCache can no longer be read from file /Users/katiechambe/.theano/compiledir_macOS-10.15.7-x86_64-i386-64bit-i386-3.9.5-64/tmptnkv5wt1/m2f85892eb43fa8693dc1b088e6c6f94b767b521d5d425e8edc25403aa2a9cea7.so... this could lead to problems.\n",
      "WARNING (theano.gof.cmodule): Removing key file /Users/katiechambe/.theano/compiledir_macOS-10.15.7-x86_64-i386-64bit-i386-3.9.5-64/tmptnkv5wt1/key.pkl because the corresponding module is gone from the file system.\n",
      "WARNING (theano.gof.cmodule): A module that was loaded by this ModuleCache can no longer be read from file /Users/katiechambe/.theano/compiledir_macOS-10.15.7-x86_64-i386-64bit-i386-3.9.5-64/tmpd157sxh1/m43e2f10175c8cb3751d25cf685f5379783484e0f29388fc21a34a41edb6ae98d.so... this could lead to problems.\n",
      "WARNING (theano.gof.cmodule): Removing key file /Users/katiechambe/.theano/compiledir_macOS-10.15.7-x86_64-i386-64bit-i386-3.9.5-64/tmpd157sxh1/key.pkl because the corresponding module is gone from the file system.\n",
      "WARNING (theano.gof.cmodule): A module that was loaded by this ModuleCache can no longer be read from file /Users/katiechambe/.theano/compiledir_macOS-10.15.7-x86_64-i386-64bit-i386-3.9.5-64/tmpp3jt505w/meef376c342c3241797de25082009ac7500b7ed0dfd3c6400756e15e27f30b267.so... this could lead to problems.\n",
      "WARNING (theano.gof.cmodule): Removing key file /Users/katiechambe/.theano/compiledir_macOS-10.15.7-x86_64-i386-64bit-i386-3.9.5-64/tmpp3jt505w/key.pkl because the corresponding module is gone from the file system.\n",
      "WARNING (theano.gof.cmodule): A module that was loaded by this ModuleCache can no longer be read from file /Users/katiechambe/.theano/compiledir_macOS-10.15.7-x86_64-i386-64bit-i386-3.9.5-64/tmp7gty4ggq/me242e0fa2d6e7cf7515c8da77c6ecc767dca78934ce0628d6d060de636be740c.so... this could lead to problems.\n",
      "WARNING (theano.gof.cmodule): Removing key file /Users/katiechambe/.theano/compiledir_macOS-10.15.7-x86_64-i386-64bit-i386-3.9.5-64/tmp7gty4ggq/key.pkl because the corresponding module is gone from the file system.\n",
      "WARNING (theano.gof.cmodule): A module that was loaded by this ModuleCache can no longer be read from file /Users/katiechambe/.theano/compiledir_macOS-10.15.7-x86_64-i386-64bit-i386-3.9.5-64/tmpoxivwhd4/m191789005377be54f7ea77732e9a2a03667632392daec5a53cf2f5867aae7a4e.so... this could lead to problems.\n",
      "WARNING (theano.gof.cmodule): Removing key file /Users/katiechambe/.theano/compiledir_macOS-10.15.7-x86_64-i386-64bit-i386-3.9.5-64/tmpoxivwhd4/key.pkl because the corresponding module is gone from the file system.\n",
      "WARNING (theano.gof.cmodule): A module that was loaded by this ModuleCache can no longer be read from file /Users/katiechambe/.theano/compiledir_macOS-10.15.7-x86_64-i386-64bit-i386-3.9.5-64/tmp_pm1t667/mab86770991c223837aa8ac1db985feb94c2f3aecfa3637f03b59b4e2691696ff.so... this could lead to problems.\n",
      "WARNING (theano.gof.cmodule): Removing key file /Users/katiechambe/.theano/compiledir_macOS-10.15.7-x86_64-i386-64bit-i386-3.9.5-64/tmp_pm1t667/key.pkl because the corresponding module is gone from the file system.\n",
      "WARNING (theano.gof.cmodule): A module that was loaded by this ModuleCache can no longer be read from file /Users/katiechambe/.theano/compiledir_macOS-10.15.7-x86_64-i386-64bit-i386-3.9.5-64/tmphutsxout/mcc8743614f1a43a2dbef4ca4ae80f63363e66773b47e1048c750316fa0b312e5.so... this could lead to problems.\n",
      "WARNING (theano.gof.cmodule): Removing key file /Users/katiechambe/.theano/compiledir_macOS-10.15.7-x86_64-i386-64bit-i386-3.9.5-64/tmphutsxout/key.pkl because the corresponding module is gone from the file system.\n",
      "WARNING (theano.gof.cmodule): A module that was loaded by this ModuleCache can no longer be read from file /Users/katiechambe/.theano/compiledir_macOS-10.15.7-x86_64-i386-64bit-i386-3.9.5-64/tmp176v2d1h/m6795de3240f7179d80af73ad94a54c1faca1ecab0b2130204107df1468531179.so... this could lead to problems.\n",
      "WARNING (theano.gof.cmodule): Removing key file /Users/katiechambe/.theano/compiledir_macOS-10.15.7-x86_64-i386-64bit-i386-3.9.5-64/tmp176v2d1h/key.pkl because the corresponding module is gone from the file system.\n",
      "WARNING (theano.gof.cmodule): A module that was loaded by this ModuleCache can no longer be read from file /Users/katiechambe/.theano/compiledir_macOS-10.15.7-x86_64-i386-64bit-i386-3.9.5-64/tmpz3_yv2yt/m82def8f7e9e08f5fdd3b9c93382138380d957119215eb2e66be80d0ee0fab7f8.so... this could lead to problems.\n",
      "WARNING (theano.gof.cmodule): Removing key file /Users/katiechambe/.theano/compiledir_macOS-10.15.7-x86_64-i386-64bit-i386-3.9.5-64/tmpz3_yv2yt/key.pkl because the corresponding module is gone from the file system.\n",
      "WARNING (theano.gof.cmodule): A module that was loaded by this ModuleCache can no longer be read from file /Users/katiechambe/.theano/compiledir_macOS-10.15.7-x86_64-i386-64bit-i386-3.9.5-64/tmpu5ajqlrg/m0388e68af28408efcc28a7152362a7ae342de1bb38416212ca3bf914e9e9a704.so... this could lead to problems.\n"
     ]
    },
    {
     "name": "stderr",
     "output_type": "stream",
     "text": [
      "WARNING (theano.gof.cmodule): A module that was loaded by this ModuleCache can no longer be read from file /Users/katiechambe/.theano/compiledir_macOS-10.15.7-x86_64-i386-64bit-i386-3.9.5-64/tmpxhg2ncv2/mffb89e377b6e2684269d1bbc351c4d78593ad036ee6bdcd95d3f184e5b11ad9b.so... this could lead to problems.\n",
      "WARNING (theano.gof.cmodule): Removing key file /Users/katiechambe/.theano/compiledir_macOS-10.15.7-x86_64-i386-64bit-i386-3.9.5-64/tmpxhg2ncv2/key.pkl because the corresponding module is gone from the file system.\n",
      "WARNING (theano.gof.cmodule): A module that was loaded by this ModuleCache can no longer be read from file /Users/katiechambe/.theano/compiledir_macOS-10.15.7-x86_64-i386-64bit-i386-3.9.5-64/tmpcei120_v/mc3d9d9bd1f5bb2907f36261efb26feb6ebdcccd5ada95434ef762773fe391591.so... this could lead to problems.\n",
      "WARNING (theano.gof.cmodule): Removing key file /Users/katiechambe/.theano/compiledir_macOS-10.15.7-x86_64-i386-64bit-i386-3.9.5-64/tmpcei120_v/key.pkl because the corresponding module is gone from the file system.\n",
      "WARNING (theano.gof.cmodule): A module that was loaded by this ModuleCache can no longer be read from file /Users/katiechambe/.theano/compiledir_macOS-10.15.7-x86_64-i386-64bit-i386-3.9.5-64/tmpk63erb0m/m3f5f78e9e2577950ef6c1a30bc972cdbe64920a6c678864745af4aea5e21168a.so... this could lead to problems.\n",
      "WARNING (theano.gof.cmodule): A module that was loaded by this ModuleCache can no longer be read from file /Users/katiechambe/.theano/compiledir_macOS-10.15.7-x86_64-i386-64bit-i386-3.9.5-64/tmpfzu_ns99/ma1626a4fce5a6c29e4908aef3aec95bd7bd4e28577388c346e1ee9722cc9deef.so... this could lead to problems.\n",
      "WARNING (theano.gof.cmodule): Removing key file /Users/katiechambe/.theano/compiledir_macOS-10.15.7-x86_64-i386-64bit-i386-3.9.5-64/tmpfzu_ns99/key.pkl because the corresponding module is gone from the file system.\n",
      "WARNING (theano.gof.cmodule): A module that was loaded by this ModuleCache can no longer be read from file /Users/katiechambe/.theano/compiledir_macOS-10.15.7-x86_64-i386-64bit-i386-3.9.5-64/tmplmijq_kl/m1649b438315a05236a7c0a6413d9c8ee92871eb95aea33d2df07d59d48ca950f.so... this could lead to problems.\n",
      "WARNING (theano.gof.cmodule): Removing key file /Users/katiechambe/.theano/compiledir_macOS-10.15.7-x86_64-i386-64bit-i386-3.9.5-64/tmplmijq_kl/key.pkl because the corresponding module is gone from the file system.\n",
      "WARNING (theano.gof.cmodule): A module that was loaded by this ModuleCache can no longer be read from file /Users/katiechambe/.theano/compiledir_macOS-10.15.7-x86_64-i386-64bit-i386-3.9.5-64/tmpcwlqorws/m4d04b211e3c4fe110aae217859e9d652ee6534698bdeac0610781b2b06f641c3.so... this could lead to problems.\n",
      "WARNING (theano.gof.cmodule): Removing key file /Users/katiechambe/.theano/compiledir_macOS-10.15.7-x86_64-i386-64bit-i386-3.9.5-64/tmpcwlqorws/key.pkl because the corresponding module is gone from the file system.\n",
      "WARNING (theano.gof.cmodule): A module that was loaded by this ModuleCache can no longer be read from file /Users/katiechambe/.theano/compiledir_macOS-10.15.7-x86_64-i386-64bit-i386-3.9.5-64/tmp4y12_51x/m5817f642f8266586a0cc8f5efa7a0b45da905cea9ba2bda1fbd4f0f42c530cb4.so... this could lead to problems.\n",
      "WARNING (theano.gof.cmodule): Removing key file /Users/katiechambe/.theano/compiledir_macOS-10.15.7-x86_64-i386-64bit-i386-3.9.5-64/tmp4y12_51x/key.pkl because the corresponding module is gone from the file system.\n",
      "WARNING (theano.gof.cmodule): A module that was loaded by this ModuleCache can no longer be read from file /Users/katiechambe/.theano/compiledir_macOS-10.15.7-x86_64-i386-64bit-i386-3.9.5-64/tmplfto_vr9/m0393d4e48afab57f923f5f705484f7ecb3c404fa5ba953e9d57c68be189c4982.so... this could lead to problems.\n",
      "WARNING (theano.gof.cmodule): Removing key file /Users/katiechambe/.theano/compiledir_macOS-10.15.7-x86_64-i386-64bit-i386-3.9.5-64/tmplfto_vr9/key.pkl because the corresponding module is gone from the file system.\n",
      "WARNING (theano.gof.cmodule): A module that was loaded by this ModuleCache can no longer be read from file /Users/katiechambe/.theano/compiledir_macOS-10.15.7-x86_64-i386-64bit-i386-3.9.5-64/tmpw5svg273/mde297ff4324383c41cd1bcddc51f1d31edcbb896786c230fa0aa7882877f14fd.so... this could lead to problems.\n",
      "WARNING (theano.gof.cmodule): Removing key file /Users/katiechambe/.theano/compiledir_macOS-10.15.7-x86_64-i386-64bit-i386-3.9.5-64/tmpw5svg273/key.pkl because the corresponding module is gone from the file system.\n",
      "WARNING (theano.gof.cmodule): A module that was loaded by this ModuleCache can no longer be read from file /Users/katiechambe/.theano/compiledir_macOS-10.15.7-x86_64-i386-64bit-i386-3.9.5-64/tmpu39mtber/m4e11c75abd5d832893971be31278f89e4c74fd22cfbd5877fcc08e1a9f9e6620.so... this could lead to problems.\n",
      "WARNING (theano.gof.cmodule): Removing key file /Users/katiechambe/.theano/compiledir_macOS-10.15.7-x86_64-i386-64bit-i386-3.9.5-64/tmpu39mtber/key.pkl because the corresponding module is gone from the file system.\n",
      "WARNING (theano.gof.cmodule): A module that was loaded by this ModuleCache can no longer be read from file /Users/katiechambe/.theano/compiledir_macOS-10.15.7-x86_64-i386-64bit-i386-3.9.5-64/tmp8u1f_4jm/m0199e584f4192256ca2db4564f4d88b760f1864c658444646de97d9bca5b2230.so... this could lead to problems.\n",
      "WARNING (theano.gof.cmodule): Removing key file /Users/katiechambe/.theano/compiledir_macOS-10.15.7-x86_64-i386-64bit-i386-3.9.5-64/tmp8u1f_4jm/key.pkl because the corresponding module is gone from the file system.\n",
      "WARNING (theano.gof.cmodule): A module that was loaded by this ModuleCache can no longer be read from file /Users/katiechambe/.theano/compiledir_macOS-10.15.7-x86_64-i386-64bit-i386-3.9.5-64/tmp1yaan9ih/m2eb83677e8682bdf3e242b2623b890f54c8d8fb2ff39ea88fbc6177dc3cbcc25.so... this could lead to problems.\n",
      "WARNING (theano.gof.cmodule): Removing key file /Users/katiechambe/.theano/compiledir_macOS-10.15.7-x86_64-i386-64bit-i386-3.9.5-64/tmp1yaan9ih/key.pkl because the corresponding module is gone from the file system.\n",
      "WARNING (theano.gof.cmodule): A module that was loaded by this ModuleCache can no longer be read from file /Users/katiechambe/.theano/compiledir_macOS-10.15.7-x86_64-i386-64bit-i386-3.9.5-64/tmp6zi_i6sd/m3a7bf5eb418e27d280547b2a51376999e769e7fb411a315615b649d648c1fd5e.so... this could lead to problems.\n",
      "WARNING (theano.gof.cmodule): Removing key file /Users/katiechambe/.theano/compiledir_macOS-10.15.7-x86_64-i386-64bit-i386-3.9.5-64/tmp6zi_i6sd/key.pkl because the corresponding module is gone from the file system.\n",
      "WARNING (theano.gof.cmodule): A module that was loaded by this ModuleCache can no longer be read from file /Users/katiechambe/.theano/compiledir_macOS-10.15.7-x86_64-i386-64bit-i386-3.9.5-64/tmp281x09zs/m030b142f25a59a548aa749aee61cf9b2aed2730545537d0c2c4399e8c937a487.so... this could lead to problems.\n",
      "WARNING (theano.gof.cmodule): Removing key file /Users/katiechambe/.theano/compiledir_macOS-10.15.7-x86_64-i386-64bit-i386-3.9.5-64/tmp281x09zs/key.pkl because the corresponding module is gone from the file system.\n",
      "WARNING (theano.gof.cmodule): A module that was loaded by this ModuleCache can no longer be read from file /Users/katiechambe/.theano/compiledir_macOS-10.15.7-x86_64-i386-64bit-i386-3.9.5-64/tmpimnuuiym/ma69512c38ecaa2b2ce0373d282f67e0feee81b01d414da6b456b24a8a3df6270.so... this could lead to problems.\n",
      "WARNING (theano.gof.cmodule): Removing key file /Users/katiechambe/.theano/compiledir_macOS-10.15.7-x86_64-i386-64bit-i386-3.9.5-64/tmpimnuuiym/key.pkl because the corresponding module is gone from the file system.\n",
      "WARNING (theano.gof.cmodule): A module that was loaded by this ModuleCache can no longer be read from file /Users/katiechambe/.theano/compiledir_macOS-10.15.7-x86_64-i386-64bit-i386-3.9.5-64/tmpz51w6ef9/mc379e1f3d345f3f56be88e8a2d5d601b81c420f109e2702aedf11e06917dd1dc.so... this could lead to problems.\n",
      "WARNING (theano.gof.cmodule): Removing key file /Users/katiechambe/.theano/compiledir_macOS-10.15.7-x86_64-i386-64bit-i386-3.9.5-64/tmpz51w6ef9/key.pkl because the corresponding module is gone from the file system.\n",
      "WARNING (theano.gof.cmodule): A module that was loaded by this ModuleCache can no longer be read from file /Users/katiechambe/.theano/compiledir_macOS-10.15.7-x86_64-i386-64bit-i386-3.9.5-64/tmpa4g7xhce/m0d8a3a1983451a3abdffe5e507dee37b7758cd8e77650a383650e76f54b7f5ab.so... this could lead to problems.\n"
     ]
    },
    {
     "name": "stderr",
     "output_type": "stream",
     "text": [
      "WARNING (theano.gof.cmodule): Removing key file /Users/katiechambe/.theano/compiledir_macOS-10.15.7-x86_64-i386-64bit-i386-3.9.5-64/tmpa4g7xhce/key.pkl because the corresponding module is gone from the file system.\n",
      "WARNING (theano.gof.cmodule): A module that was loaded by this ModuleCache can no longer be read from file /Users/katiechambe/.theano/compiledir_macOS-10.15.7-x86_64-i386-64bit-i386-3.9.5-64/tmp_fedzcks/m1f022bcc72d6d2936486e4600f087daa8f98ceca189bfd5dad9c1d19a9c98a35.so... this could lead to problems.\n",
      "WARNING (theano.gof.cmodule): Removing key file /Users/katiechambe/.theano/compiledir_macOS-10.15.7-x86_64-i386-64bit-i386-3.9.5-64/tmp_fedzcks/key.pkl because the corresponding module is gone from the file system.\n",
      "WARNING (theano.gof.cmodule): A module that was loaded by this ModuleCache can no longer be read from file /Users/katiechambe/.theano/compiledir_macOS-10.15.7-x86_64-i386-64bit-i386-3.9.5-64/tmpc5me35hf/m11cbc4e7021d6d9ba6081b570850007b6e45a9bed9cf8d04238e58b0ee5f6281.so... this could lead to problems.\n",
      "WARNING (theano.gof.cmodule): Removing key file /Users/katiechambe/.theano/compiledir_macOS-10.15.7-x86_64-i386-64bit-i386-3.9.5-64/tmpc5me35hf/key.pkl because the corresponding module is gone from the file system.\n",
      "WARNING (theano.gof.cmodule): A module that was loaded by this ModuleCache can no longer be read from file /Users/katiechambe/.theano/compiledir_macOS-10.15.7-x86_64-i386-64bit-i386-3.9.5-64/tmpt7bqr7wr/mb08cbdf7f43354949df395bb6b5eeb5fecca4572211499bda4740360e06b8243.so... this could lead to problems.\n",
      "WARNING (theano.gof.cmodule): A module that was loaded by this ModuleCache can no longer be read from file /Users/katiechambe/.theano/compiledir_macOS-10.15.7-x86_64-i386-64bit-i386-3.9.5-64/tmpie1k4yxz/m2bae552dc01d6b7c896dd29abef6a2bcfa52951d71466abe33b917d3901d42a9.so... this could lead to problems.\n",
      "WARNING (theano.gof.cmodule): Removing key file /Users/katiechambe/.theano/compiledir_macOS-10.15.7-x86_64-i386-64bit-i386-3.9.5-64/tmpie1k4yxz/key.pkl because the corresponding module is gone from the file system.\n",
      "WARNING (theano.gof.cmodule): A module that was loaded by this ModuleCache can no longer be read from file /Users/katiechambe/.theano/compiledir_macOS-10.15.7-x86_64-i386-64bit-i386-3.9.5-64/tmpbz3f77z8/mb406c5fe056a1e9eb862627374dd8b1174e65025508443c123afe4c29449fad2.so... this could lead to problems.\n",
      "WARNING (theano.gof.cmodule): Removing key file /Users/katiechambe/.theano/compiledir_macOS-10.15.7-x86_64-i386-64bit-i386-3.9.5-64/tmpbz3f77z8/key.pkl because the corresponding module is gone from the file system.\n",
      "WARNING (theano.gof.cmodule): A module that was loaded by this ModuleCache can no longer be read from file /Users/katiechambe/.theano/compiledir_macOS-10.15.7-x86_64-i386-64bit-i386-3.9.5-64/tmpmh_s5gq8/m6ebb0e3510c17e29eefe2c0e8d65ba9603062d7d6ebff3012ca971af970e688a.so... this could lead to problems.\n",
      "WARNING (theano.gof.cmodule): Removing key file /Users/katiechambe/.theano/compiledir_macOS-10.15.7-x86_64-i386-64bit-i386-3.9.5-64/tmpmh_s5gq8/key.pkl because the corresponding module is gone from the file system.\n",
      "WARNING (theano.gof.cmodule): A module that was loaded by this ModuleCache can no longer be read from file /Users/katiechambe/.theano/compiledir_macOS-10.15.7-x86_64-i386-64bit-i386-3.9.5-64/tmp0jz4x4ii/mee286e162017f47977c59ea484cbbd37a30506131b28c4193dd9467ac9fd748a.so... this could lead to problems.\n",
      "WARNING (theano.gof.cmodule): Removing key file /Users/katiechambe/.theano/compiledir_macOS-10.15.7-x86_64-i386-64bit-i386-3.9.5-64/tmp0jz4x4ii/key.pkl because the corresponding module is gone from the file system.\n",
      "WARNING (theano.gof.cmodule): A module that was loaded by this ModuleCache can no longer be read from file /Users/katiechambe/.theano/compiledir_macOS-10.15.7-x86_64-i386-64bit-i386-3.9.5-64/tmpt8ysme1j/md18e96881f8efb373ae48b9f993b1bb271fd11326a42fb50ef79c392787dce2c.so... this could lead to problems.\n",
      "WARNING (theano.gof.cmodule): Removing key file /Users/katiechambe/.theano/compiledir_macOS-10.15.7-x86_64-i386-64bit-i386-3.9.5-64/tmpt8ysme1j/key.pkl because the corresponding module is gone from the file system.\n",
      "WARNING (theano.gof.cmodule): A module that was loaded by this ModuleCache can no longer be read from file /Users/katiechambe/.theano/compiledir_macOS-10.15.7-x86_64-i386-64bit-i386-3.9.5-64/tmppicbk4lx/m0d8a3a1983451a3abdffe5e507dee37b7758cd8e77650a383650e76f54b7f5ab.so... this could lead to problems.\n",
      "WARNING (theano.gof.cmodule): Removing key file /Users/katiechambe/.theano/compiledir_macOS-10.15.7-x86_64-i386-64bit-i386-3.9.5-64/tmppicbk4lx/key.pkl because the corresponding module is gone from the file system.\n",
      "WARNING (theano.gof.cmodule): A module that was loaded by this ModuleCache can no longer be read from file /Users/katiechambe/.theano/compiledir_macOS-10.15.7-x86_64-i386-64bit-i386-3.9.5-64/tmpe2bwfrmz/mb664f3870617becbeb3c460f3a54eca122cbb4e18bc6efe9cc7fdb6f4c4082fc.so... this could lead to problems.\n",
      "WARNING (theano.gof.cmodule): Removing key file /Users/katiechambe/.theano/compiledir_macOS-10.15.7-x86_64-i386-64bit-i386-3.9.5-64/tmpe2bwfrmz/key.pkl because the corresponding module is gone from the file system.\n",
      "WARNING (theano.gof.cmodule): A module that was loaded by this ModuleCache can no longer be read from file /Users/katiechambe/.theano/compiledir_macOS-10.15.7-x86_64-i386-64bit-i386-3.9.5-64/tmpcsekjaw4/m1224fb5b6552c716e30963f65a3ae9290229dffec456a73393fd3c92c4ee7d80.so... this could lead to problems.\n",
      "WARNING (theano.gof.cmodule): Removing key file /Users/katiechambe/.theano/compiledir_macOS-10.15.7-x86_64-i386-64bit-i386-3.9.5-64/tmpcsekjaw4/key.pkl because the corresponding module is gone from the file system.\n",
      "WARNING (theano.gof.cmodule): A module that was loaded by this ModuleCache can no longer be read from file /Users/katiechambe/.theano/compiledir_macOS-10.15.7-x86_64-i386-64bit-i386-3.9.5-64/tmpinwrc10i/m2bc19d64bc62a026741782b1e76b7d41695cc063c8a46ffd1976e0da65b16f0b.so... this could lead to problems.\n",
      "WARNING (theano.gof.cmodule): Removing key file /Users/katiechambe/.theano/compiledir_macOS-10.15.7-x86_64-i386-64bit-i386-3.9.5-64/tmpinwrc10i/key.pkl because the corresponding module is gone from the file system.\n",
      "WARNING (theano.gof.cmodule): A module that was loaded by this ModuleCache can no longer be read from file /Users/katiechambe/.theano/compiledir_macOS-10.15.7-x86_64-i386-64bit-i386-3.9.5-64/tmp2gmm2r0_/m4c01a297052d36a957a930025f2a08a95b5da1fc87664ba93893bd787f895a56.so... this could lead to problems.\n",
      "WARNING (theano.gof.cmodule): Removing key file /Users/katiechambe/.theano/compiledir_macOS-10.15.7-x86_64-i386-64bit-i386-3.9.5-64/tmp2gmm2r0_/key.pkl because the corresponding module is gone from the file system.\n",
      "WARNING (theano.gof.cmodule): A module that was loaded by this ModuleCache can no longer be read from file /Users/katiechambe/.theano/compiledir_macOS-10.15.7-x86_64-i386-64bit-i386-3.9.5-64/tmp_zjen479/mb5d0b513edf770ec839bad2e63d390785875a189532422a92a05add958560b88.so... this could lead to problems.\n",
      "WARNING (theano.gof.cmodule): Removing key file /Users/katiechambe/.theano/compiledir_macOS-10.15.7-x86_64-i386-64bit-i386-3.9.5-64/tmp_zjen479/key.pkl because the corresponding module is gone from the file system.\n",
      "WARNING (theano.gof.cmodule): A module that was loaded by this ModuleCache can no longer be read from file /Users/katiechambe/.theano/compiledir_macOS-10.15.7-x86_64-i386-64bit-i386-3.9.5-64/tmp5ewf70l0/m32f6557ff43042898070b9670516f256d484a5a3e51e25bb95d3c040c1ff12d9.so... this could lead to problems.\n",
      "WARNING (theano.gof.cmodule): Removing key file /Users/katiechambe/.theano/compiledir_macOS-10.15.7-x86_64-i386-64bit-i386-3.9.5-64/tmp5ewf70l0/key.pkl because the corresponding module is gone from the file system.\n",
      "WARNING (theano.gof.cmodule): A module that was loaded by this ModuleCache can no longer be read from file /Users/katiechambe/.theano/compiledir_macOS-10.15.7-x86_64-i386-64bit-i386-3.9.5-64/tmpw788f5iv/m5fa0f494661bffda960ab91018216e77b09496c8c29be05aba635aef44fe0f50.so... this could lead to problems.\n",
      "WARNING (theano.gof.cmodule): Removing key file /Users/katiechambe/.theano/compiledir_macOS-10.15.7-x86_64-i386-64bit-i386-3.9.5-64/tmpw788f5iv/key.pkl because the corresponding module is gone from the file system.\n"
     ]
    },
    {
     "name": "stderr",
     "output_type": "stream",
     "text": [
      "WARNING (theano.gof.cmodule): A module that was loaded by this ModuleCache can no longer be read from file /Users/katiechambe/.theano/compiledir_macOS-10.15.7-x86_64-i386-64bit-i386-3.9.5-64/tmpc9jua0su/m91f05a0f17b2ee343f063822384985926c69b52352522030bea9d982e6bbf9d8.so... this could lead to problems.\n",
      "WARNING (theano.gof.cmodule): Removing key file /Users/katiechambe/.theano/compiledir_macOS-10.15.7-x86_64-i386-64bit-i386-3.9.5-64/tmpc9jua0su/key.pkl because the corresponding module is gone from the file system.\n",
      "WARNING (theano.gof.cmodule): A module that was loaded by this ModuleCache can no longer be read from file /Users/katiechambe/.theano/compiledir_macOS-10.15.7-x86_64-i386-64bit-i386-3.9.5-64/tmpjhd1qttt/m83b1e0b2d074f08e32cb95b40332a3b413bcc9deefc637f9c5994896ea7be7c2.so... this could lead to problems.\n",
      "WARNING (theano.gof.cmodule): Removing key file /Users/katiechambe/.theano/compiledir_macOS-10.15.7-x86_64-i386-64bit-i386-3.9.5-64/tmpjhd1qttt/key.pkl because the corresponding module is gone from the file system.\n",
      "WARNING (theano.gof.cmodule): A module that was loaded by this ModuleCache can no longer be read from file /Users/katiechambe/.theano/compiledir_macOS-10.15.7-x86_64-i386-64bit-i386-3.9.5-64/tmps622f5h1/m5ab38b345862ca38b6b9344339d98c8624fe0429b7a79b4969ea3dd5c03aad28.so... this could lead to problems.\n",
      "WARNING (theano.gof.cmodule): Removing key file /Users/katiechambe/.theano/compiledir_macOS-10.15.7-x86_64-i386-64bit-i386-3.9.5-64/tmps622f5h1/key.pkl because the corresponding module is gone from the file system.\n",
      "WARNING (theano.gof.cmodule): A module that was loaded by this ModuleCache can no longer be read from file /Users/katiechambe/.theano/compiledir_macOS-10.15.7-x86_64-i386-64bit-i386-3.9.5-64/tmpr_zsqn10/m1af12115c0ec54b6e181bada6f9047e3c3ac55281f7b04809cf01b94a5ec6faa.so... this could lead to problems.\n",
      "WARNING (theano.gof.cmodule): A module that was loaded by this ModuleCache can no longer be read from file /Users/katiechambe/.theano/compiledir_macOS-10.15.7-x86_64-i386-64bit-i386-3.9.5-64/tmp5i1udtd9/m8650c5d6a4bf7323328dd36f989e430494fdc6da8a6e0b41f57ce4a6ca215841.so... this could lead to problems.\n",
      "WARNING (theano.gof.cmodule): Removing key file /Users/katiechambe/.theano/compiledir_macOS-10.15.7-x86_64-i386-64bit-i386-3.9.5-64/tmp5i1udtd9/key.pkl because the corresponding module is gone from the file system.\n",
      "WARNING (theano.gof.cmodule): A module that was loaded by this ModuleCache can no longer be read from file /Users/katiechambe/.theano/compiledir_macOS-10.15.7-x86_64-i386-64bit-i386-3.9.5-64/tmpn06t4hhy/m9bf455dd35cd7657a8208512d33238cdb4ea2dfd9fca933dd6c16385e7869edf.so... this could lead to problems.\n",
      "WARNING (theano.gof.cmodule): Removing key file /Users/katiechambe/.theano/compiledir_macOS-10.15.7-x86_64-i386-64bit-i386-3.9.5-64/tmpn06t4hhy/key.pkl because the corresponding module is gone from the file system.\n",
      "WARNING (theano.gof.cmodule): A module that was loaded by this ModuleCache can no longer be read from file /Users/katiechambe/.theano/compiledir_macOS-10.15.7-x86_64-i386-64bit-i386-3.9.5-64/tmpb6h819_y/m2f66b27baac8adc8471590b33c76a82c667ed58a189179d7ec693dd7a8547d42.so... this could lead to problems.\n",
      "WARNING (theano.gof.cmodule): Removing key file /Users/katiechambe/.theano/compiledir_macOS-10.15.7-x86_64-i386-64bit-i386-3.9.5-64/tmpb6h819_y/key.pkl because the corresponding module is gone from the file system.\n",
      "WARNING (theano.gof.cmodule): A module that was loaded by this ModuleCache can no longer be read from file /Users/katiechambe/.theano/compiledir_macOS-10.15.7-x86_64-i386-64bit-i386-3.9.5-64/tmp_vzv10v6/mf0661fa48fd1665a3debeb6063ef40e9c82471715fcfc3214242e94f536ad01b.so... this could lead to problems.\n",
      "WARNING (theano.gof.cmodule): A module that was loaded by this ModuleCache can no longer be read from file /Users/katiechambe/.theano/compiledir_macOS-10.15.7-x86_64-i386-64bit-i386-3.9.5-64/tmp_9ih61ty/m7e02ee69c8482c0a6488ecd0e36e32e720e2b1f5687e9e773688bbad40ec4153.so... this could lead to problems.\n",
      "WARNING (theano.gof.cmodule): Removing key file /Users/katiechambe/.theano/compiledir_macOS-10.15.7-x86_64-i386-64bit-i386-3.9.5-64/tmp_9ih61ty/key.pkl because the corresponding module is gone from the file system.\n",
      "WARNING (theano.gof.cmodule): A module that was loaded by this ModuleCache can no longer be read from file /Users/katiechambe/.theano/compiledir_macOS-10.15.7-x86_64-i386-64bit-i386-3.9.5-64/tmpp700kft9/m6e2ac7728ebc3be0e1feda6c035bd5a7b331d5ef334d8fb2780634b49ddf827a.so... this could lead to problems.\n",
      "WARNING (theano.gof.cmodule): Removing key file /Users/katiechambe/.theano/compiledir_macOS-10.15.7-x86_64-i386-64bit-i386-3.9.5-64/tmpp700kft9/key.pkl because the corresponding module is gone from the file system.\n",
      "WARNING (theano.gof.cmodule): A module that was loaded by this ModuleCache can no longer be read from file /Users/katiechambe/.theano/compiledir_macOS-10.15.7-x86_64-i386-64bit-i386-3.9.5-64/tmphqtiq008/m90614462ae10aeeb82af60d3c481fc2d2fdd67c9feb35b234f847ccbbfb1eba4.so... this could lead to problems.\n",
      "WARNING (theano.gof.cmodule): Removing key file /Users/katiechambe/.theano/compiledir_macOS-10.15.7-x86_64-i386-64bit-i386-3.9.5-64/tmphqtiq008/key.pkl because the corresponding module is gone from the file system.\n",
      "WARNING (theano.gof.cmodule): A module that was loaded by this ModuleCache can no longer be read from file /Users/katiechambe/.theano/compiledir_macOS-10.15.7-x86_64-i386-64bit-i386-3.9.5-64/tmp4pg3c0fg/m07b41c118a49e45d4a594ef90b8f84c3fcec44e694fcbea3f1c001268e0a2475.so... this could lead to problems.\n",
      "WARNING (theano.gof.cmodule): Removing key file /Users/katiechambe/.theano/compiledir_macOS-10.15.7-x86_64-i386-64bit-i386-3.9.5-64/tmp4pg3c0fg/key.pkl because the corresponding module is gone from the file system.\n",
      "WARNING (theano.gof.cmodule): A module that was loaded by this ModuleCache can no longer be read from file /Users/katiechambe/.theano/compiledir_macOS-10.15.7-x86_64-i386-64bit-i386-3.9.5-64/tmpvqd8jbvl/m97c1f253e4a92ccdf936fefa0dc19aeda8f4a621efc2ade5ad8df04f151f7978.so... this could lead to problems.\n",
      "WARNING (theano.gof.cmodule): Removing key file /Users/katiechambe/.theano/compiledir_macOS-10.15.7-x86_64-i386-64bit-i386-3.9.5-64/tmpvqd8jbvl/key.pkl because the corresponding module is gone from the file system.\n",
      "WARNING (theano.gof.cmodule): A module that was loaded by this ModuleCache can no longer be read from file /Users/katiechambe/.theano/compiledir_macOS-10.15.7-x86_64-i386-64bit-i386-3.9.5-64/tmpseybhrz4/m8e2d09d1f4dd8200b2468dcd6f4e01adc79b851ebccf677cf01dbf8189abd3fc.so... this could lead to problems.\n",
      "WARNING (theano.gof.cmodule): Removing key file /Users/katiechambe/.theano/compiledir_macOS-10.15.7-x86_64-i386-64bit-i386-3.9.5-64/tmpseybhrz4/key.pkl because the corresponding module is gone from the file system.\n",
      "WARNING (theano.gof.cmodule): A module that was loaded by this ModuleCache can no longer be read from file /Users/katiechambe/.theano/compiledir_macOS-10.15.7-x86_64-i386-64bit-i386-3.9.5-64/tmpbnzpv4aw/m3108ce054bab11613baf724cd55ac6d5859c7c2aad0130785c36b937d3610fbb.so... this could lead to problems.\n",
      "WARNING (theano.gof.cmodule): Removing key file /Users/katiechambe/.theano/compiledir_macOS-10.15.7-x86_64-i386-64bit-i386-3.9.5-64/tmpbnzpv4aw/key.pkl because the corresponding module is gone from the file system.\n",
      "WARNING (theano.gof.cmodule): A module that was loaded by this ModuleCache can no longer be read from file /Users/katiechambe/.theano/compiledir_macOS-10.15.7-x86_64-i386-64bit-i386-3.9.5-64/tmpxpsdducv/ma06ccb844132594456e06cf4876a4e2d39f84fd85a3d8486b9c517d9fc40a88a.so... this could lead to problems.\n",
      "WARNING (theano.gof.cmodule): Removing key file /Users/katiechambe/.theano/compiledir_macOS-10.15.7-x86_64-i386-64bit-i386-3.9.5-64/tmpxpsdducv/key.pkl because the corresponding module is gone from the file system.\n",
      "WARNING (theano.gof.cmodule): A module that was loaded by this ModuleCache can no longer be read from file /Users/katiechambe/.theano/compiledir_macOS-10.15.7-x86_64-i386-64bit-i386-3.9.5-64/tmpdkerzdde/m4178f74ff6cf76c214b49ff3b5d07d30718aaacafc88b98a7e0139364b948033.so... this could lead to problems.\n",
      "WARNING (theano.gof.cmodule): Removing key file /Users/katiechambe/.theano/compiledir_macOS-10.15.7-x86_64-i386-64bit-i386-3.9.5-64/tmpdkerzdde/key.pkl because the corresponding module is gone from the file system.\n"
     ]
    },
    {
     "name": "stderr",
     "output_type": "stream",
     "text": [
      "WARNING (theano.gof.cmodule): A module that was loaded by this ModuleCache can no longer be read from file /Users/katiechambe/.theano/compiledir_macOS-10.15.7-x86_64-i386-64bit-i386-3.9.5-64/tmpj6gy1s97/ma692af6079a6a7155f7aa0f29e8bc84c85b1e3c2dcaf9331a29806c7da76e5f7.so... this could lead to problems.\n",
      "WARNING (theano.gof.cmodule): Removing key file /Users/katiechambe/.theano/compiledir_macOS-10.15.7-x86_64-i386-64bit-i386-3.9.5-64/tmpj6gy1s97/key.pkl because the corresponding module is gone from the file system.\n",
      "WARNING (theano.gof.cmodule): A module that was loaded by this ModuleCache can no longer be read from file /Users/katiechambe/.theano/compiledir_macOS-10.15.7-x86_64-i386-64bit-i386-3.9.5-64/tmp2204g_iw/m9dc30e36f85e14dccbfae8aee93f3328f3989a6bd94a71f67c398b2baf7bdf9c.so... this could lead to problems.\n",
      "WARNING (theano.gof.cmodule): Removing key file /Users/katiechambe/.theano/compiledir_macOS-10.15.7-x86_64-i386-64bit-i386-3.9.5-64/tmp2204g_iw/key.pkl because the corresponding module is gone from the file system.\n",
      "WARNING (theano.gof.cmodule): A module that was loaded by this ModuleCache can no longer be read from file /Users/katiechambe/.theano/compiledir_macOS-10.15.7-x86_64-i386-64bit-i386-3.9.5-64/tmpbe6l0v_p/mf110794dd33876f1d9c9776a00172cdd2237c221ed74077d09a249787adb5da2.so... this could lead to problems.\n",
      "WARNING (theano.gof.cmodule): Removing key file /Users/katiechambe/.theano/compiledir_macOS-10.15.7-x86_64-i386-64bit-i386-3.9.5-64/tmpbe6l0v_p/key.pkl because the corresponding module is gone from the file system.\n",
      "WARNING (theano.gof.cmodule): A module that was loaded by this ModuleCache can no longer be read from file /Users/katiechambe/.theano/compiledir_macOS-10.15.7-x86_64-i386-64bit-i386-3.9.5-64/tmplxtyjcqq/mbeb8abcdbe807f1043821eb4bd8494b561698cbd08e80f0b03e7e089970b4d32.so... this could lead to problems.\n",
      "WARNING (theano.gof.cmodule): Removing key file /Users/katiechambe/.theano/compiledir_macOS-10.15.7-x86_64-i386-64bit-i386-3.9.5-64/tmplxtyjcqq/key.pkl because the corresponding module is gone from the file system.\n",
      "WARNING (theano.gof.cmodule): A module that was loaded by this ModuleCache can no longer be read from file /Users/katiechambe/.theano/compiledir_macOS-10.15.7-x86_64-i386-64bit-i386-3.9.5-64/tmphsmy0yim/md1a5e8e0c8397aeb9497f3b4a00ea322de76a49ec21a503c33d2bc85f17c6bd7.so... this could lead to problems.\n",
      "WARNING (theano.gof.cmodule): Removing key file /Users/katiechambe/.theano/compiledir_macOS-10.15.7-x86_64-i386-64bit-i386-3.9.5-64/tmphsmy0yim/key.pkl because the corresponding module is gone from the file system.\n",
      "WARNING (theano.gof.cmodule): A module that was loaded by this ModuleCache can no longer be read from file /Users/katiechambe/.theano/compiledir_macOS-10.15.7-x86_64-i386-64bit-i386-3.9.5-64/tmpjib7nwwq/m32f6557ff43042898070b9670516f256d484a5a3e51e25bb95d3c040c1ff12d9.so... this could lead to problems.\n",
      "WARNING (theano.gof.cmodule): Removing key file /Users/katiechambe/.theano/compiledir_macOS-10.15.7-x86_64-i386-64bit-i386-3.9.5-64/tmpjib7nwwq/key.pkl because the corresponding module is gone from the file system.\n",
      "WARNING (theano.gof.cmodule): A module that was loaded by this ModuleCache can no longer be read from file /Users/katiechambe/.theano/compiledir_macOS-10.15.7-x86_64-i386-64bit-i386-3.9.5-64/tmpldb4ota4/mcfb07075cd469293e3b3444c314f55e55bd05c4ecff08f30a6bd080ee2baab4d.so... this could lead to problems.\n",
      "WARNING (theano.gof.cmodule): Removing key file /Users/katiechambe/.theano/compiledir_macOS-10.15.7-x86_64-i386-64bit-i386-3.9.5-64/tmpldb4ota4/key.pkl because the corresponding module is gone from the file system.\n",
      "WARNING (theano.gof.cmodule): A module that was loaded by this ModuleCache can no longer be read from file /Users/katiechambe/.theano/compiledir_macOS-10.15.7-x86_64-i386-64bit-i386-3.9.5-64/tmp2bcygqth/m4d858c70deb2f09629f276eed88dff0c22f1333d2868d3db3acc7eb02c8a9a91.so... this could lead to problems.\n",
      "WARNING (theano.gof.cmodule): Removing key file /Users/katiechambe/.theano/compiledir_macOS-10.15.7-x86_64-i386-64bit-i386-3.9.5-64/tmp2bcygqth/key.pkl because the corresponding module is gone from the file system.\n",
      "WARNING (theano.gof.cmodule): A module that was loaded by this ModuleCache can no longer be read from file /Users/katiechambe/.theano/compiledir_macOS-10.15.7-x86_64-i386-64bit-i386-3.9.5-64/tmpttnjemob/m23bc45a70deea4798d5e0c14c2015f42f23d0f392b2441e51c983640209a96c0.so... this could lead to problems.\n",
      "WARNING (theano.gof.cmodule): Removing key file /Users/katiechambe/.theano/compiledir_macOS-10.15.7-x86_64-i386-64bit-i386-3.9.5-64/tmpttnjemob/key.pkl because the corresponding module is gone from the file system.\n",
      "WARNING (theano.gof.cmodule): A module that was loaded by this ModuleCache can no longer be read from file /Users/katiechambe/.theano/compiledir_macOS-10.15.7-x86_64-i386-64bit-i386-3.9.5-64/tmpkyzpymvl/m47d6add6a0ef4211aaecc89eec6fed44265e9340f8ea0045258e9a5f1a3a419c.so... this could lead to problems.\n",
      "WARNING (theano.gof.cmodule): Removing key file /Users/katiechambe/.theano/compiledir_macOS-10.15.7-x86_64-i386-64bit-i386-3.9.5-64/tmpkyzpymvl/key.pkl because the corresponding module is gone from the file system.\n",
      "WARNING (theano.gof.cmodule): A module that was loaded by this ModuleCache can no longer be read from file /Users/katiechambe/.theano/compiledir_macOS-10.15.7-x86_64-i386-64bit-i386-3.9.5-64/tmp6wy5t4ci/m5b2e54cfbafaff4b7b00d04217518a339d817bebf673cf2a533e0c23083381d1.so... this could lead to problems.\n",
      "WARNING (theano.gof.cmodule): Removing key file /Users/katiechambe/.theano/compiledir_macOS-10.15.7-x86_64-i386-64bit-i386-3.9.5-64/tmp6wy5t4ci/key.pkl because the corresponding module is gone from the file system.\n",
      "WARNING (theano.gof.cmodule): A module that was loaded by this ModuleCache can no longer be read from file /Users/katiechambe/.theano/compiledir_macOS-10.15.7-x86_64-i386-64bit-i386-3.9.5-64/tmp_ncy8b1n/m9593c39703226d29fef963405aac1620aeacbc0d30446019d7ae5a11338b503c.so... this could lead to problems.\n",
      "WARNING (theano.gof.cmodule): Removing key file /Users/katiechambe/.theano/compiledir_macOS-10.15.7-x86_64-i386-64bit-i386-3.9.5-64/tmp_ncy8b1n/key.pkl because the corresponding module is gone from the file system.\n",
      "WARNING (theano.gof.cmodule): A module that was loaded by this ModuleCache can no longer be read from file /Users/katiechambe/.theano/compiledir_macOS-10.15.7-x86_64-i386-64bit-i386-3.9.5-64/tmpj2qbf7d2/m990332cca2a817c41393766adc0a1db3b2479df55d367c6853714c5f8938464f.so... this could lead to problems.\n",
      "WARNING (theano.gof.cmodule): Removing key file /Users/katiechambe/.theano/compiledir_macOS-10.15.7-x86_64-i386-64bit-i386-3.9.5-64/tmpj2qbf7d2/key.pkl because the corresponding module is gone from the file system.\n",
      "WARNING (theano.gof.cmodule): A module that was loaded by this ModuleCache can no longer be read from file /Users/katiechambe/.theano/compiledir_macOS-10.15.7-x86_64-i386-64bit-i386-3.9.5-64/tmpdoa6xn08/ma203b807421d5a0cb246bb7f0bc9152bf0e5adf69315f96023ef38de0fed5095.so... this could lead to problems.\n",
      "WARNING (theano.gof.cmodule): Removing key file /Users/katiechambe/.theano/compiledir_macOS-10.15.7-x86_64-i386-64bit-i386-3.9.5-64/tmpdoa6xn08/key.pkl because the corresponding module is gone from the file system.\n",
      "WARNING (theano.gof.cmodule): A module that was loaded by this ModuleCache can no longer be read from file /Users/katiechambe/.theano/compiledir_macOS-10.15.7-x86_64-i386-64bit-i386-3.9.5-64/tmpuxl3e77v/mffb745c53eb2018c408d0eabb78ed7801344e8a9bfac131ef8a85dced12a5163.so... this could lead to problems.\n",
      "WARNING (theano.gof.cmodule): Removing key file /Users/katiechambe/.theano/compiledir_macOS-10.15.7-x86_64-i386-64bit-i386-3.9.5-64/tmpuxl3e77v/key.pkl because the corresponding module is gone from the file system.\n",
      "WARNING (theano.gof.cmodule): A module that was loaded by this ModuleCache can no longer be read from file /Users/katiechambe/.theano/compiledir_macOS-10.15.7-x86_64-i386-64bit-i386-3.9.5-64/tmpn4tm5gic/m8bb797363bb75d7e8f2ffc1f59ded252569a36d374f271747cfb364a720a7532.so... this could lead to problems.\n",
      "WARNING (theano.gof.cmodule): Removing key file /Users/katiechambe/.theano/compiledir_macOS-10.15.7-x86_64-i386-64bit-i386-3.9.5-64/tmpn4tm5gic/key.pkl because the corresponding module is gone from the file system.\n"
     ]
    },
    {
     "name": "stderr",
     "output_type": "stream",
     "text": [
      "WARNING (theano.gof.cmodule): A module that was loaded by this ModuleCache can no longer be read from file /Users/katiechambe/.theano/compiledir_macOS-10.15.7-x86_64-i386-64bit-i386-3.9.5-64/tmp81i09yye/mb18058157ebaf83817b1056df4a9004ec23926a9a0c3a53d450edd409a5b87b7.so... this could lead to problems.\n",
      "WARNING (theano.gof.cmodule): Removing key file /Users/katiechambe/.theano/compiledir_macOS-10.15.7-x86_64-i386-64bit-i386-3.9.5-64/tmp81i09yye/key.pkl because the corresponding module is gone from the file system.\n",
      "WARNING (theano.gof.cmodule): A module that was loaded by this ModuleCache can no longer be read from file /Users/katiechambe/.theano/compiledir_macOS-10.15.7-x86_64-i386-64bit-i386-3.9.5-64/tmpkytyoi89/md1bef2c5b342c88fdb6a8f0817de3394effb779c0691776087ec8092fd5ed7e6.so... this could lead to problems.\n",
      "WARNING (theano.gof.cmodule): Removing key file /Users/katiechambe/.theano/compiledir_macOS-10.15.7-x86_64-i386-64bit-i386-3.9.5-64/tmpkytyoi89/key.pkl because the corresponding module is gone from the file system.\n",
      "WARNING (theano.gof.cmodule): A module that was loaded by this ModuleCache can no longer be read from file /Users/katiechambe/.theano/compiledir_macOS-10.15.7-x86_64-i386-64bit-i386-3.9.5-64/tmpjueoef38/m3b715b33b7cc070a4653a0e2c847723239c1ebf96fcf7c0438e39e972140a0cc.so... this could lead to problems.\n",
      "WARNING (theano.gof.cmodule): Removing key file /Users/katiechambe/.theano/compiledir_macOS-10.15.7-x86_64-i386-64bit-i386-3.9.5-64/tmpjueoef38/key.pkl because the corresponding module is gone from the file system.\n",
      "WARNING (theano.gof.cmodule): A module that was loaded by this ModuleCache can no longer be read from file /Users/katiechambe/.theano/compiledir_macOS-10.15.7-x86_64-i386-64bit-i386-3.9.5-64/tmplcp18pr2/m3788aa728d99270f86a9e7a7ed209602a53ca1c09cade341a2248d92e5b12018.so... this could lead to problems.\n",
      "WARNING (theano.gof.cmodule): Removing key file /Users/katiechambe/.theano/compiledir_macOS-10.15.7-x86_64-i386-64bit-i386-3.9.5-64/tmplcp18pr2/key.pkl because the corresponding module is gone from the file system.\n",
      "WARNING (theano.gof.cmodule): A module that was loaded by this ModuleCache can no longer be read from file /Users/katiechambe/.theano/compiledir_macOS-10.15.7-x86_64-i386-64bit-i386-3.9.5-64/tmpw6_xuuxt/m5e618a30457958f05755e24c8e216abe250732682e64206030484fe296085b50.so... this could lead to problems.\n",
      "WARNING (theano.gof.cmodule): A module that was loaded by this ModuleCache can no longer be read from file /Users/katiechambe/.theano/compiledir_macOS-10.15.7-x86_64-i386-64bit-i386-3.9.5-64/tmpezjw3a9t/m4a5fc2f0ea0794de9ee259a3ea16e4bca721b104f06aefbd2ea8ec7e58e6ca63.so... this could lead to problems.\n",
      "WARNING (theano.gof.cmodule): Removing key file /Users/katiechambe/.theano/compiledir_macOS-10.15.7-x86_64-i386-64bit-i386-3.9.5-64/tmpezjw3a9t/key.pkl because the corresponding module is gone from the file system.\n",
      "WARNING (theano.gof.cmodule): A module that was loaded by this ModuleCache can no longer be read from file /Users/katiechambe/.theano/compiledir_macOS-10.15.7-x86_64-i386-64bit-i386-3.9.5-64/tmp6cz0dddr/m97238916141dad62a1c276cc210ee2c47bed576ac804bbe8b9a62a4cac9d7c51.so... this could lead to problems.\n",
      "WARNING (theano.gof.cmodule): Removing key file /Users/katiechambe/.theano/compiledir_macOS-10.15.7-x86_64-i386-64bit-i386-3.9.5-64/tmp6cz0dddr/key.pkl because the corresponding module is gone from the file system.\n",
      "WARNING (theano.gof.cmodule): A module that was loaded by this ModuleCache can no longer be read from file /Users/katiechambe/.theano/compiledir_macOS-10.15.7-x86_64-i386-64bit-i386-3.9.5-64/tmpzmk0rnhc/m79018365705451ae318b9b5b0b3e4c7efe7655113414d42cdec7adbcd08d512e.so... this could lead to problems.\n",
      "WARNING (theano.gof.cmodule): Removing key file /Users/katiechambe/.theano/compiledir_macOS-10.15.7-x86_64-i386-64bit-i386-3.9.5-64/tmpzmk0rnhc/key.pkl because the corresponding module is gone from the file system.\n",
      "WARNING (theano.gof.cmodule): A module that was loaded by this ModuleCache can no longer be read from file /Users/katiechambe/.theano/compiledir_macOS-10.15.7-x86_64-i386-64bit-i386-3.9.5-64/tmpd9ler5r3/m1b4aefaa3b924fa970e92d2ce64558f1b93f9c411576e788e0eb0332ef2c49ab.so... this could lead to problems.\n",
      "WARNING (theano.gof.cmodule): Removing key file /Users/katiechambe/.theano/compiledir_macOS-10.15.7-x86_64-i386-64bit-i386-3.9.5-64/tmpd9ler5r3/key.pkl because the corresponding module is gone from the file system.\n",
      "WARNING (theano.gof.cmodule): A module that was loaded by this ModuleCache can no longer be read from file /Users/katiechambe/.theano/compiledir_macOS-10.15.7-x86_64-i386-64bit-i386-3.9.5-64/tmpi3dnfyxu/m9bcbeb9b5c144b504f4686595b37ada2415e42433207045865d25484dd4f4a22.so... this could lead to problems.\n",
      "WARNING (theano.gof.cmodule): Removing key file /Users/katiechambe/.theano/compiledir_macOS-10.15.7-x86_64-i386-64bit-i386-3.9.5-64/tmpi3dnfyxu/key.pkl because the corresponding module is gone from the file system.\n",
      "WARNING (theano.gof.cmodule): A module that was loaded by this ModuleCache can no longer be read from file /Users/katiechambe/.theano/compiledir_macOS-10.15.7-x86_64-i386-64bit-i386-3.9.5-64/tmpdk93diy_/mf0bbdca78fe3b318868705b7a9deb0f6a55369d6618c8e23afc653a279546bce.so... this could lead to problems.\n",
      "WARNING (theano.gof.cmodule): Removing key file /Users/katiechambe/.theano/compiledir_macOS-10.15.7-x86_64-i386-64bit-i386-3.9.5-64/tmpdk93diy_/key.pkl because the corresponding module is gone from the file system.\n",
      "WARNING (theano.gof.cmodule): A module that was loaded by this ModuleCache can no longer be read from file /Users/katiechambe/.theano/compiledir_macOS-10.15.7-x86_64-i386-64bit-i386-3.9.5-64/tmpt7f4gpj0/m885e4e14c90030b1fc60aa70d488e708b81eee3e46729f273c620aea83da2a3d.so... this could lead to problems.\n",
      "WARNING (theano.gof.cmodule): Removing key file /Users/katiechambe/.theano/compiledir_macOS-10.15.7-x86_64-i386-64bit-i386-3.9.5-64/tmpt7f4gpj0/key.pkl because the corresponding module is gone from the file system.\n",
      "WARNING (theano.gof.cmodule): A module that was loaded by this ModuleCache can no longer be read from file /Users/katiechambe/.theano/compiledir_macOS-10.15.7-x86_64-i386-64bit-i386-3.9.5-64/tmpjl5pr4vi/mcff42b3b7ac43f33781a53cae8f9b8a90e4bd64374b974abb9cfd20497a47ad9.so... this could lead to problems.\n",
      "WARNING (theano.gof.cmodule): Removing key file /Users/katiechambe/.theano/compiledir_macOS-10.15.7-x86_64-i386-64bit-i386-3.9.5-64/tmpjl5pr4vi/key.pkl because the corresponding module is gone from the file system.\n",
      "WARNING (theano.gof.cmodule): A module that was loaded by this ModuleCache can no longer be read from file /Users/katiechambe/.theano/compiledir_macOS-10.15.7-x86_64-i386-64bit-i386-3.9.5-64/tmpdrlqcc_r/m4621f44175ee359cca5dd1628e803f60eb0389a1244a82da382fac41641dc0bd.so... this could lead to problems.\n",
      "WARNING (theano.gof.cmodule): Removing key file /Users/katiechambe/.theano/compiledir_macOS-10.15.7-x86_64-i386-64bit-i386-3.9.5-64/tmpdrlqcc_r/key.pkl because the corresponding module is gone from the file system.\n",
      "WARNING (theano.gof.cmodule): A module that was loaded by this ModuleCache can no longer be read from file /Users/katiechambe/.theano/compiledir_macOS-10.15.7-x86_64-i386-64bit-i386-3.9.5-64/tmp75u9o69j/mb65d6ed7c89ba304b50357745c8e9dc876dd0a0ff11cdaf9e6cce5e0b29108f9.so... this could lead to problems.\n",
      "WARNING (theano.gof.cmodule): Removing key file /Users/katiechambe/.theano/compiledir_macOS-10.15.7-x86_64-i386-64bit-i386-3.9.5-64/tmp75u9o69j/key.pkl because the corresponding module is gone from the file system.\n",
      "WARNING (theano.gof.cmodule): A module that was loaded by this ModuleCache can no longer be read from file /Users/katiechambe/.theano/compiledir_macOS-10.15.7-x86_64-i386-64bit-i386-3.9.5-64/tmp0dw6fcmw/m233714890ffba603bf0f23a56c8d7262e611ae7b83cb2e59820ea03d94c8635f.so... this could lead to problems.\n",
      "WARNING (theano.gof.cmodule): Removing key file /Users/katiechambe/.theano/compiledir_macOS-10.15.7-x86_64-i386-64bit-i386-3.9.5-64/tmp0dw6fcmw/key.pkl because the corresponding module is gone from the file system.\n",
      "WARNING (theano.gof.cmodule): A module that was loaded by this ModuleCache can no longer be read from file /Users/katiechambe/.theano/compiledir_macOS-10.15.7-x86_64-i386-64bit-i386-3.9.5-64/tmpym7cqan9/m196475e3aa6a7364f16cba64e59542636e86e879600a661268ebeb9e33a0ae56.so... this could lead to problems.\n"
     ]
    },
    {
     "name": "stderr",
     "output_type": "stream",
     "text": [
      "WARNING (theano.gof.cmodule): Removing key file /Users/katiechambe/.theano/compiledir_macOS-10.15.7-x86_64-i386-64bit-i386-3.9.5-64/tmpym7cqan9/key.pkl because the corresponding module is gone from the file system.\n",
      "WARNING (theano.gof.cmodule): A module that was loaded by this ModuleCache can no longer be read from file /Users/katiechambe/.theano/compiledir_macOS-10.15.7-x86_64-i386-64bit-i386-3.9.5-64/tmps8ay3zzu/mb9baf29a26fa43d8a3eac9ec6684d247ac50f998f0d9175f5d69c4c2e39a98fc.so... this could lead to problems.\n",
      "WARNING (theano.gof.cmodule): Removing key file /Users/katiechambe/.theano/compiledir_macOS-10.15.7-x86_64-i386-64bit-i386-3.9.5-64/tmps8ay3zzu/key.pkl because the corresponding module is gone from the file system.\n",
      "WARNING (theano.gof.cmodule): A module that was loaded by this ModuleCache can no longer be read from file /Users/katiechambe/.theano/compiledir_macOS-10.15.7-x86_64-i386-64bit-i386-3.9.5-64/tmp7zc1jcjz/m3663b4856efbed80cd54da7b0fc37eae090b6ac584ad8ff67c9cfca4f9d2b0ae.so... this could lead to problems.\n",
      "WARNING (theano.gof.cmodule): Removing key file /Users/katiechambe/.theano/compiledir_macOS-10.15.7-x86_64-i386-64bit-i386-3.9.5-64/tmp7zc1jcjz/key.pkl because the corresponding module is gone from the file system.\n",
      "WARNING (theano.gof.cmodule): A module that was loaded by this ModuleCache can no longer be read from file /Users/katiechambe/.theano/compiledir_macOS-10.15.7-x86_64-i386-64bit-i386-3.9.5-64/tmp4uadxmoq/m2ac7b94695bf625df25659a3a14c6453a34d5ff07bb72644434a6b57f7ea7d27.so... this could lead to problems.\n",
      "WARNING (theano.gof.cmodule): Removing key file /Users/katiechambe/.theano/compiledir_macOS-10.15.7-x86_64-i386-64bit-i386-3.9.5-64/tmp4uadxmoq/key.pkl because the corresponding module is gone from the file system.\n",
      "WARNING (theano.gof.cmodule): A module that was loaded by this ModuleCache can no longer be read from file /Users/katiechambe/.theano/compiledir_macOS-10.15.7-x86_64-i386-64bit-i386-3.9.5-64/tmpasl6i2rq/mdc8be50a5a621390b0f2d098898f6d5b99494cfea088ab09a90e21d81cc629a1.so... this could lead to problems.\n",
      "WARNING (theano.gof.cmodule): Removing key file /Users/katiechambe/.theano/compiledir_macOS-10.15.7-x86_64-i386-64bit-i386-3.9.5-64/tmpasl6i2rq/key.pkl because the corresponding module is gone from the file system.\n",
      "WARNING (theano.gof.cmodule): A module that was loaded by this ModuleCache can no longer be read from file /Users/katiechambe/.theano/compiledir_macOS-10.15.7-x86_64-i386-64bit-i386-3.9.5-64/tmpwv8cmujl/m2273476ead9dfa2ac6e3a2dd5ce055f115d355e9a77081c236a8af06b88e64c1.so... this could lead to problems.\n",
      "WARNING (theano.gof.cmodule): Removing key file /Users/katiechambe/.theano/compiledir_macOS-10.15.7-x86_64-i386-64bit-i386-3.9.5-64/tmpwv8cmujl/key.pkl because the corresponding module is gone from the file system.\n",
      "WARNING (theano.gof.cmodule): A module that was loaded by this ModuleCache can no longer be read from file /Users/katiechambe/.theano/compiledir_macOS-10.15.7-x86_64-i386-64bit-i386-3.9.5-64/tmpq4v632sy/m15a3e6031637d5d85305ac511b51f85d86951961bdd8b4efb5d4edfb0f716688.so... this could lead to problems.\n",
      "WARNING (theano.gof.cmodule): Removing key file /Users/katiechambe/.theano/compiledir_macOS-10.15.7-x86_64-i386-64bit-i386-3.9.5-64/tmpq4v632sy/key.pkl because the corresponding module is gone from the file system.\n",
      "WARNING (theano.gof.cmodule): A module that was loaded by this ModuleCache can no longer be read from file /Users/katiechambe/.theano/compiledir_macOS-10.15.7-x86_64-i386-64bit-i386-3.9.5-64/tmpxjeiu_3j/m1f20b6c02458b454de7c86dd12b1ac995aca54e67d641e9b5fd126a58edbbc24.so... this could lead to problems.\n",
      "WARNING (theano.gof.cmodule): Removing key file /Users/katiechambe/.theano/compiledir_macOS-10.15.7-x86_64-i386-64bit-i386-3.9.5-64/tmpxjeiu_3j/key.pkl because the corresponding module is gone from the file system.\n",
      "WARNING (theano.gof.cmodule): A module that was loaded by this ModuleCache can no longer be read from file /Users/katiechambe/.theano/compiledir_macOS-10.15.7-x86_64-i386-64bit-i386-3.9.5-64/tmpt0h0x8ri/m68849020dab3339365ca27144f64b9c67e526c5de62d1ae50600c3e1426dde6e.so... this could lead to problems.\n",
      "WARNING (theano.gof.cmodule): Removing key file /Users/katiechambe/.theano/compiledir_macOS-10.15.7-x86_64-i386-64bit-i386-3.9.5-64/tmpt0h0x8ri/key.pkl because the corresponding module is gone from the file system.\n",
      "WARNING (theano.gof.cmodule): A module that was loaded by this ModuleCache can no longer be read from file /Users/katiechambe/.theano/compiledir_macOS-10.15.7-x86_64-i386-64bit-i386-3.9.5-64/tmprx3vau9i/m2b5d81442c811f6826ce327a538c4313b823a727943391cc3058bc532b433ea7.so... this could lead to problems.\n",
      "WARNING (theano.gof.cmodule): Removing key file /Users/katiechambe/.theano/compiledir_macOS-10.15.7-x86_64-i386-64bit-i386-3.9.5-64/tmprx3vau9i/key.pkl because the corresponding module is gone from the file system.\n",
      "WARNING (theano.gof.cmodule): A module that was loaded by this ModuleCache can no longer be read from file /Users/katiechambe/.theano/compiledir_macOS-10.15.7-x86_64-i386-64bit-i386-3.9.5-64/tmpnfvb178h/m19e597b34927fa78cbdb549e129c3c161b98629834b8cdc1d3bc0557e420aa19.so... this could lead to problems.\n",
      "WARNING (theano.gof.cmodule): Removing key file /Users/katiechambe/.theano/compiledir_macOS-10.15.7-x86_64-i386-64bit-i386-3.9.5-64/tmpnfvb178h/key.pkl because the corresponding module is gone from the file system.\n",
      "WARNING (theano.gof.cmodule): A module that was loaded by this ModuleCache can no longer be read from file /Users/katiechambe/.theano/compiledir_macOS-10.15.7-x86_64-i386-64bit-i386-3.9.5-64/tmp10pdgla6/m704bb2245275075b6e27ff006d1774fb5af37fc7ed911739c832d8cfa485079c.so... this could lead to problems.\n",
      "WARNING (theano.gof.cmodule): Removing key file /Users/katiechambe/.theano/compiledir_macOS-10.15.7-x86_64-i386-64bit-i386-3.9.5-64/tmp10pdgla6/key.pkl because the corresponding module is gone from the file system.\n",
      "WARNING (theano.gof.cmodule): A module that was loaded by this ModuleCache can no longer be read from file /Users/katiechambe/.theano/compiledir_macOS-10.15.7-x86_64-i386-64bit-i386-3.9.5-64/tmp5v9ly1ub/ma1ad6019c52af5ce01ea1ccb47b9095382ec1f5a7eb0b439a0d74adab942585b.so... this could lead to problems.\n",
      "WARNING (theano.gof.cmodule): Removing key file /Users/katiechambe/.theano/compiledir_macOS-10.15.7-x86_64-i386-64bit-i386-3.9.5-64/tmp5v9ly1ub/key.pkl because the corresponding module is gone from the file system.\n",
      "WARNING (theano.gof.cmodule): A module that was loaded by this ModuleCache can no longer be read from file /Users/katiechambe/.theano/compiledir_macOS-10.15.7-x86_64-i386-64bit-i386-3.9.5-64/tmpxm6zl1m9/md93dc175d8c4ef1460ad6e9974ae59ff976cbec0695e4551d9f311c47b4a20dc.so... this could lead to problems.\n",
      "WARNING (theano.gof.cmodule): Removing key file /Users/katiechambe/.theano/compiledir_macOS-10.15.7-x86_64-i386-64bit-i386-3.9.5-64/tmpxm6zl1m9/key.pkl because the corresponding module is gone from the file system.\n",
      "WARNING (theano.gof.cmodule): A module that was loaded by this ModuleCache can no longer be read from file /Users/katiechambe/.theano/compiledir_macOS-10.15.7-x86_64-i386-64bit-i386-3.9.5-64/tmpuhaj7nlm/m53d2076bf2a273a81bb15f4f1e63b40ae7debc39b6c802bdae203271ea6325dd.so... this could lead to problems.\n",
      "WARNING (theano.gof.cmodule): Removing key file /Users/katiechambe/.theano/compiledir_macOS-10.15.7-x86_64-i386-64bit-i386-3.9.5-64/tmpuhaj7nlm/key.pkl because the corresponding module is gone from the file system.\n",
      "WARNING (theano.gof.cmodule): A module that was loaded by this ModuleCache can no longer be read from file /Users/katiechambe/.theano/compiledir_macOS-10.15.7-x86_64-i386-64bit-i386-3.9.5-64/tmpvij6krqn/m97d3948dcac6e58d8e63d2e69b78c5f0772de6e9ad25136930f313fbfeaf064f.so... this could lead to problems.\n",
      "WARNING (theano.gof.cmodule): Removing key file /Users/katiechambe/.theano/compiledir_macOS-10.15.7-x86_64-i386-64bit-i386-3.9.5-64/tmpvij6krqn/key.pkl because the corresponding module is gone from the file system.\n",
      "WARNING (theano.gof.cmodule): A module that was loaded by this ModuleCache can no longer be read from file /Users/katiechambe/.theano/compiledir_macOS-10.15.7-x86_64-i386-64bit-i386-3.9.5-64/tmpyw5hq2_a/m56b1fcb9193f10b5c7a482e1ca1a647290e10b44d4aa0d06044e8c7ab7599edc.so... this could lead to problems.\n"
     ]
    },
    {
     "name": "stderr",
     "output_type": "stream",
     "text": [
      "WARNING (theano.gof.cmodule): Removing key file /Users/katiechambe/.theano/compiledir_macOS-10.15.7-x86_64-i386-64bit-i386-3.9.5-64/tmpyw5hq2_a/key.pkl because the corresponding module is gone from the file system.\n",
      "WARNING (theano.gof.cmodule): A module that was loaded by this ModuleCache can no longer be read from file /Users/katiechambe/.theano/compiledir_macOS-10.15.7-x86_64-i386-64bit-i386-3.9.5-64/tmpx60cpzg9/m1c3202e99a79ce88d0ac67905774688250c74554c738e9972d14e570ac474cfe.so... this could lead to problems.\n",
      "WARNING (theano.gof.cmodule): Removing key file /Users/katiechambe/.theano/compiledir_macOS-10.15.7-x86_64-i386-64bit-i386-3.9.5-64/tmpx60cpzg9/key.pkl because the corresponding module is gone from the file system.\n",
      "WARNING (theano.gof.cmodule): A module that was loaded by this ModuleCache can no longer be read from file /Users/katiechambe/.theano/compiledir_macOS-10.15.7-x86_64-i386-64bit-i386-3.9.5-64/tmpr4pp3qh8/m1651427a9bcb76feb07054e10bbdff37e24614da5ea981eed363c3fb4cc975ae.so... this could lead to problems.\n",
      "WARNING (theano.gof.cmodule): Removing key file /Users/katiechambe/.theano/compiledir_macOS-10.15.7-x86_64-i386-64bit-i386-3.9.5-64/tmpr4pp3qh8/key.pkl because the corresponding module is gone from the file system.\n",
      "WARNING (theano.gof.cmodule): A module that was loaded by this ModuleCache can no longer be read from file /Users/katiechambe/.theano/compiledir_macOS-10.15.7-x86_64-i386-64bit-i386-3.9.5-64/tmp956m3upu/md8b2a4a66ea1200fa83a31e0f8b155595edd467ab57f9f2b3919eeb1e71d891d.so... this could lead to problems.\n",
      "WARNING (theano.gof.cmodule): Removing key file /Users/katiechambe/.theano/compiledir_macOS-10.15.7-x86_64-i386-64bit-i386-3.9.5-64/tmp956m3upu/key.pkl because the corresponding module is gone from the file system.\n",
      "WARNING (theano.gof.cmodule): A module that was loaded by this ModuleCache can no longer be read from file /Users/katiechambe/.theano/compiledir_macOS-10.15.7-x86_64-i386-64bit-i386-3.9.5-64/tmpwt_0uxla/meb7fffb987ade5ba120bcd46ac4bd45bdf8e42113ce69f35471bd216f69cd98b.so... this could lead to problems.\n",
      "WARNING (theano.gof.cmodule): Removing key file /Users/katiechambe/.theano/compiledir_macOS-10.15.7-x86_64-i386-64bit-i386-3.9.5-64/tmpwt_0uxla/key.pkl because the corresponding module is gone from the file system.\n",
      "WARNING (theano.gof.cmodule): A module that was loaded by this ModuleCache can no longer be read from file /Users/katiechambe/.theano/compiledir_macOS-10.15.7-x86_64-i386-64bit-i386-3.9.5-64/tmpkgjjhljq/m98c2d4f8ecc2de5ec7459df997c43ce2fac32fa266521c65ac50d4f1c20d7f99.so... this could lead to problems.\n",
      "WARNING (theano.gof.cmodule): A module that was loaded by this ModuleCache can no longer be read from file /Users/katiechambe/.theano/compiledir_macOS-10.15.7-x86_64-i386-64bit-i386-3.9.5-64/tmpanice0hp/m60a068f5e4bfe48344c4e636f49e249da0f0a2df673bf7ffb57b86690cf56e0d.so... this could lead to problems.\n",
      "WARNING (theano.gof.cmodule): Removing key file /Users/katiechambe/.theano/compiledir_macOS-10.15.7-x86_64-i386-64bit-i386-3.9.5-64/tmpanice0hp/key.pkl because the corresponding module is gone from the file system.\n",
      "WARNING (theano.gof.cmodule): A module that was loaded by this ModuleCache can no longer be read from file /Users/katiechambe/.theano/compiledir_macOS-10.15.7-x86_64-i386-64bit-i386-3.9.5-64/tmpro65vifb/mbae467f723447aba66dd93bf311dedce1472c4a5dd3a687dd902a65bf9131524.so... this could lead to problems.\n",
      "WARNING (theano.gof.cmodule): Removing key file /Users/katiechambe/.theano/compiledir_macOS-10.15.7-x86_64-i386-64bit-i386-3.9.5-64/tmpro65vifb/key.pkl because the corresponding module is gone from the file system.\n",
      "WARNING (theano.gof.cmodule): A module that was loaded by this ModuleCache can no longer be read from file /Users/katiechambe/.theano/compiledir_macOS-10.15.7-x86_64-i386-64bit-i386-3.9.5-64/tmpi6gzqh6h/m9da30bdd19cad45437970f8429b268515ef0419ac1af6c116dfc4287ddae841e.so... this could lead to problems.\n",
      "WARNING (theano.gof.cmodule): Removing key file /Users/katiechambe/.theano/compiledir_macOS-10.15.7-x86_64-i386-64bit-i386-3.9.5-64/tmpi6gzqh6h/key.pkl because the corresponding module is gone from the file system.\n",
      "WARNING (theano.gof.cmodule): A module that was loaded by this ModuleCache can no longer be read from file /Users/katiechambe/.theano/compiledir_macOS-10.15.7-x86_64-i386-64bit-i386-3.9.5-64/tmptee51m3r/m6c217ea0a391cfdc14d72fa57bcf4f3e46638b041a106cad8f06d6f0d2b4983c.so... this could lead to problems.\n",
      "WARNING (theano.gof.cmodule): Removing key file /Users/katiechambe/.theano/compiledir_macOS-10.15.7-x86_64-i386-64bit-i386-3.9.5-64/tmptee51m3r/key.pkl because the corresponding module is gone from the file system.\n",
      "WARNING (theano.gof.cmodule): A module that was loaded by this ModuleCache can no longer be read from file /Users/katiechambe/.theano/compiledir_macOS-10.15.7-x86_64-i386-64bit-i386-3.9.5-64/tmpuk2xlr6v/m4c495e7afe02f8a471e56b4f7fd5f3495ce11b8c96cd1bc3c19d6d9b5e74c55c.so... this could lead to problems.\n",
      "WARNING (theano.gof.cmodule): Removing key file /Users/katiechambe/.theano/compiledir_macOS-10.15.7-x86_64-i386-64bit-i386-3.9.5-64/tmpuk2xlr6v/key.pkl because the corresponding module is gone from the file system.\n",
      "WARNING (theano.gof.cmodule): A module that was loaded by this ModuleCache can no longer be read from file /Users/katiechambe/.theano/compiledir_macOS-10.15.7-x86_64-i386-64bit-i386-3.9.5-64/tmp14gimfkl/m701d23b8973440a4bfe21c0b74aed30564b05162cb630cc76cfa528d93d5b5ad.so... this could lead to problems.\n",
      "WARNING (theano.gof.cmodule): Removing key file /Users/katiechambe/.theano/compiledir_macOS-10.15.7-x86_64-i386-64bit-i386-3.9.5-64/tmp14gimfkl/key.pkl because the corresponding module is gone from the file system.\n",
      "WARNING (theano.gof.cmodule): A module that was loaded by this ModuleCache can no longer be read from file /Users/katiechambe/.theano/compiledir_macOS-10.15.7-x86_64-i386-64bit-i386-3.9.5-64/tmp25obk2r9/me49b7f5cddec463c287d4bee780eda9eb7363966ef21a897f10177bea5d54f42.so... this could lead to problems.\n",
      "WARNING (theano.gof.cmodule): Removing key file /Users/katiechambe/.theano/compiledir_macOS-10.15.7-x86_64-i386-64bit-i386-3.9.5-64/tmp25obk2r9/key.pkl because the corresponding module is gone from the file system.\n",
      "WARNING (theano.gof.cmodule): A module that was loaded by this ModuleCache can no longer be read from file /Users/katiechambe/.theano/compiledir_macOS-10.15.7-x86_64-i386-64bit-i386-3.9.5-64/tmpj3k_1q0s/maa6e146d5c7d2e67ff0d44c21c17964aa8f7ff6d71565e2387b4915974ce4e28.so... this could lead to problems.\n",
      "WARNING (theano.gof.cmodule): Removing key file /Users/katiechambe/.theano/compiledir_macOS-10.15.7-x86_64-i386-64bit-i386-3.9.5-64/tmpj3k_1q0s/key.pkl because the corresponding module is gone from the file system.\n",
      "WARNING (theano.gof.cmodule): A module that was loaded by this ModuleCache can no longer be read from file /Users/katiechambe/.theano/compiledir_macOS-10.15.7-x86_64-i386-64bit-i386-3.9.5-64/tmpmakobi0i/m093824f61db45102cf7b20447563f85b519037ca7996f8f8b73588701a6a8a9a.so... this could lead to problems.\n",
      "WARNING (theano.gof.cmodule): Removing key file /Users/katiechambe/.theano/compiledir_macOS-10.15.7-x86_64-i386-64bit-i386-3.9.5-64/tmpmakobi0i/key.pkl because the corresponding module is gone from the file system.\n",
      "WARNING (theano.gof.cmodule): A module that was loaded by this ModuleCache can no longer be read from file /Users/katiechambe/.theano/compiledir_macOS-10.15.7-x86_64-i386-64bit-i386-3.9.5-64/tmpvagil2ct/m4bc9fdd6782efa9272db70dd4355075e4cd8d7bc63c873f5e17aff4339e6406e.so... this could lead to problems.\n",
      "WARNING (theano.gof.cmodule): Removing key file /Users/katiechambe/.theano/compiledir_macOS-10.15.7-x86_64-i386-64bit-i386-3.9.5-64/tmpvagil2ct/key.pkl because the corresponding module is gone from the file system.\n",
      "WARNING (theano.gof.cmodule): A module that was loaded by this ModuleCache can no longer be read from file /Users/katiechambe/.theano/compiledir_macOS-10.15.7-x86_64-i386-64bit-i386-3.9.5-64/tmpkurp0mu5/m5a7795ab4dc3f4b9266c1346d04e7412b2493c405f5b88f34dfd940e46d70494.so... this could lead to problems.\n",
      "WARNING (theano.gof.cmodule): Removing key file /Users/katiechambe/.theano/compiledir_macOS-10.15.7-x86_64-i386-64bit-i386-3.9.5-64/tmpkurp0mu5/key.pkl because the corresponding module is gone from the file system.\n"
     ]
    },
    {
     "name": "stderr",
     "output_type": "stream",
     "text": [
      "WARNING (theano.gof.cmodule): A module that was loaded by this ModuleCache can no longer be read from file /Users/katiechambe/.theano/compiledir_macOS-10.15.7-x86_64-i386-64bit-i386-3.9.5-64/tmpgw375q4q/mb99e3259aad5e26057e8bcd8a6fa6de950e7a2293257ebd31f2b7adf75536d5d.so... this could lead to problems.\n",
      "WARNING (theano.gof.cmodule): Removing key file /Users/katiechambe/.theano/compiledir_macOS-10.15.7-x86_64-i386-64bit-i386-3.9.5-64/tmpgw375q4q/key.pkl because the corresponding module is gone from the file system.\n",
      "WARNING (theano.gof.cmodule): A module that was loaded by this ModuleCache can no longer be read from file /Users/katiechambe/.theano/compiledir_macOS-10.15.7-x86_64-i386-64bit-i386-3.9.5-64/tmpfr_p4_xk/mf552614a5ffefba583fed185bb2a23db2a83081269274491282e12ccb1c20171.so... this could lead to problems.\n",
      "WARNING (theano.gof.cmodule): Removing key file /Users/katiechambe/.theano/compiledir_macOS-10.15.7-x86_64-i386-64bit-i386-3.9.5-64/tmpfr_p4_xk/key.pkl because the corresponding module is gone from the file system.\n",
      "WARNING (theano.gof.cmodule): A module that was loaded by this ModuleCache can no longer be read from file /Users/katiechambe/.theano/compiledir_macOS-10.15.7-x86_64-i386-64bit-i386-3.9.5-64/tmpwbestbx1/m1a2445d022b4b2792ee16ec46702d7509e660b95076bb9bdf743d64d59bd5208.so... this could lead to problems.\n",
      "WARNING (theano.gof.cmodule): Removing key file /Users/katiechambe/.theano/compiledir_macOS-10.15.7-x86_64-i386-64bit-i386-3.9.5-64/tmpwbestbx1/key.pkl because the corresponding module is gone from the file system.\n",
      "WARNING (theano.gof.cmodule): A module that was loaded by this ModuleCache can no longer be read from file /Users/katiechambe/.theano/compiledir_macOS-10.15.7-x86_64-i386-64bit-i386-3.9.5-64/tmpkcaqwnl6/mbd050f4a6c6b177220c044b068cf3ee0fb1ff8d8bbeb350696a4a989a79dc069.so... this could lead to problems.\n",
      "WARNING (theano.gof.cmodule): Removing key file /Users/katiechambe/.theano/compiledir_macOS-10.15.7-x86_64-i386-64bit-i386-3.9.5-64/tmpkcaqwnl6/key.pkl because the corresponding module is gone from the file system.\n",
      "WARNING (theano.gof.cmodule): A module that was loaded by this ModuleCache can no longer be read from file /Users/katiechambe/.theano/compiledir_macOS-10.15.7-x86_64-i386-64bit-i386-3.9.5-64/tmpmazybhwv/m716a7a66f386445e5931bc06f30d5b2b70e08b3e641b677fcad8d26d9021ad45.so... this could lead to problems.\n",
      "WARNING (theano.gof.cmodule): Removing key file /Users/katiechambe/.theano/compiledir_macOS-10.15.7-x86_64-i386-64bit-i386-3.9.5-64/tmpmazybhwv/key.pkl because the corresponding module is gone from the file system.\n",
      "WARNING (theano.gof.cmodule): A module that was loaded by this ModuleCache can no longer be read from file /Users/katiechambe/.theano/compiledir_macOS-10.15.7-x86_64-i386-64bit-i386-3.9.5-64/tmpll4xw4up/m3222fde3aa615707ad200b5769c25a16e2d99a3b81b0f1ddb9038c88e7c32244.so... this could lead to problems.\n",
      "WARNING (theano.gof.cmodule): Removing key file /Users/katiechambe/.theano/compiledir_macOS-10.15.7-x86_64-i386-64bit-i386-3.9.5-64/tmpll4xw4up/key.pkl because the corresponding module is gone from the file system.\n",
      "WARNING (theano.gof.cmodule): A module that was loaded by this ModuleCache can no longer be read from file /Users/katiechambe/.theano/compiledir_macOS-10.15.7-x86_64-i386-64bit-i386-3.9.5-64/tmpk_q0cd20/m7e98cee77ca042a225dbbc43de9871bd73d310703eff4efc54e087b795fedb14.so... this could lead to problems.\n",
      "WARNING (theano.gof.cmodule): Removing key file /Users/katiechambe/.theano/compiledir_macOS-10.15.7-x86_64-i386-64bit-i386-3.9.5-64/tmpk_q0cd20/key.pkl because the corresponding module is gone from the file system.\n",
      "WARNING (theano.gof.cmodule): A module that was loaded by this ModuleCache can no longer be read from file /Users/katiechambe/.theano/compiledir_macOS-10.15.7-x86_64-i386-64bit-i386-3.9.5-64/tmp_94op7jt/mab2f885ea680960632a52a79eb92ccb88c2be3c387e652242624aac97aeb71b6.so... this could lead to problems.\n",
      "WARNING (theano.gof.cmodule): Removing key file /Users/katiechambe/.theano/compiledir_macOS-10.15.7-x86_64-i386-64bit-i386-3.9.5-64/tmp_94op7jt/key.pkl because the corresponding module is gone from the file system.\n",
      "WARNING (theano.gof.cmodule): A module that was loaded by this ModuleCache can no longer be read from file /Users/katiechambe/.theano/compiledir_macOS-10.15.7-x86_64-i386-64bit-i386-3.9.5-64/tmpjk97mhac/ma3fe1074a8d38ce836cd5fb187e48327e45bbeb47a1826fa451c1e46e8dc560c.so... this could lead to problems.\n",
      "WARNING (theano.gof.cmodule): Removing key file /Users/katiechambe/.theano/compiledir_macOS-10.15.7-x86_64-i386-64bit-i386-3.9.5-64/tmpjk97mhac/key.pkl because the corresponding module is gone from the file system.\n",
      "WARNING (theano.gof.cmodule): A module that was loaded by this ModuleCache can no longer be read from file /Users/katiechambe/.theano/compiledir_macOS-10.15.7-x86_64-i386-64bit-i386-3.9.5-64/tmp3jhn7x1q/ma50ba1e51da4c8f88cd323d1a94cbed499a181b401494b6c5086bae614629596.so... this could lead to problems.\n",
      "WARNING (theano.gof.cmodule): Removing key file /Users/katiechambe/.theano/compiledir_macOS-10.15.7-x86_64-i386-64bit-i386-3.9.5-64/tmp3jhn7x1q/key.pkl because the corresponding module is gone from the file system.\n",
      "WARNING (theano.gof.cmodule): A module that was loaded by this ModuleCache can no longer be read from file /Users/katiechambe/.theano/compiledir_macOS-10.15.7-x86_64-i386-64bit-i386-3.9.5-64/tmphibu90py/m9484afcfcdf982f602a7946782bdf8f2f12ac98efe29be52f657c45cbd8cd3a8.so... this could lead to problems.\n",
      "WARNING (theano.gof.cmodule): Removing key file /Users/katiechambe/.theano/compiledir_macOS-10.15.7-x86_64-i386-64bit-i386-3.9.5-64/tmphibu90py/key.pkl because the corresponding module is gone from the file system.\n",
      "There were 15 divergences after tuning. Increase `target_accept` or reparameterize.\n",
      "There were 197 divergences after tuning. Increase `target_accept` or reparameterize.\n",
      "There were 42 divergences after tuning. Increase `target_accept` or reparameterize.\n",
      "There were 3 divergences after tuning. Increase `target_accept` or reparameterize.\n",
      "The number of effective samples is smaller than 10% for some parameters.\n",
      "optimizing logp for variables: [vtravel_lat, vtravel_lon, vtravel_mag, alpha, ln(1-e), eta, M, r]\n"
     ]
    },
    {
     "data": {
      "text/html": [
       "\n",
       "    <div>\n",
       "        <style>\n",
       "            /* Turns off some styling */\n",
       "            progress {\n",
       "                /* gets rid of default border in Firefox and Opera. */\n",
       "                border: none;\n",
       "                /* Needs to be in here for Safari polyfill so background images work as expected. */\n",
       "                background-size: auto;\n",
       "            }\n",
       "            .progress-bar-interrupted, .progress-bar-interrupted::-webkit-progress-bar {\n",
       "                background: #F44336;\n",
       "            }\n",
       "        </style>\n",
       "      <progress value='138' class='' max='138' style='width:300px; height:20px; vertical-align: middle;'></progress>\n",
       "      100.00% [138/138 00:00<00:00 logp = 4.446e+01]\n",
       "    </div>\n",
       "    "
      ],
      "text/plain": [
       "<IPython.core.display.HTML object>"
      ]
     },
     "metadata": {},
     "output_type": "display_data"
    },
    {
     "name": "stdout",
     "output_type": "stream",
     "text": [
      "\n"
     ]
    },
    {
     "name": "stderr",
     "output_type": "stream",
     "text": [
      "message: Optimization terminated successfully.\n",
      "logp: -36750.3338561598 -> 44.46470087583651\n"
     ]
    },
    {
     "name": "stdout",
     "output_type": "stream",
     "text": [
      "{'r_interval__': array(-2.630389), 'M_interval__': array(-1.15068259), 'eta_angle__': array([-4.03312455, -1.93233186]), 'ln(1-e)_interval__': array(1.45650184), 'alpha_angle__': array([3.85596265, 2.26529292]), 'vtravel_mag': array(5.11356087), 'vtravel_lon': array(0.97743653), 'vtravel_lat': array(-0.59487378), 'r': array(765.35979033), 'M': array(5.18710633), 'eta': array(-2.01759706), 'sineta': array(-0.90183406), 'coseta': array(-0.43208254), 'ln(1-e)': array(-1.89002943), 'e': array(0.84893264), 'a': array(559.96105339), 'vscale': array(204.13507412), 'vrad': array(-114.34302462), 'vtan': array(78.93246758), 'tperi': array(13.80099648), 'sun_m31_dist': array(761.41690895), 'm31_icrs_xyz': array([562.37687622, 106.10677025, 502.22436383]), 'alpha': array(1.03963512), 'model_pmra': array(0.24825249), 'model_pmdec': array(-0.18871328), 'model_rv': array(-307.83477694)}\n"
     ]
    },
    {
     "name": "stderr",
     "output_type": "stream",
     "text": [
      "Multiprocess sampling (4 chains in 4 jobs)\n",
      "NUTS: [vtravel_lat, vtravel_lon, vtravel_mag, alpha, ln(1-e), eta, M, r]\n"
     ]
    },
    {
     "data": {
      "text/html": [
       "\n",
       "    <div>\n",
       "        <style>\n",
       "            /* Turns off some styling */\n",
       "            progress {\n",
       "                /* gets rid of default border in Firefox and Opera. */\n",
       "                border: none;\n",
       "                /* Needs to be in here for Safari polyfill so background images work as expected. */\n",
       "                background-size: auto;\n",
       "            }\n",
       "            .progress-bar-interrupted, .progress-bar-interrupted::-webkit-progress-bar {\n",
       "                background: #F44336;\n",
       "            }\n",
       "        </style>\n",
       "      <progress value='48000' class='' max='48000' style='width:300px; height:20px; vertical-align: middle;'></progress>\n",
       "      100.00% [48000/48000 03:12<00:00 Sampling 4 chains, 71 divergences]\n",
       "    </div>\n",
       "    "
      ],
      "text/plain": [
       "<IPython.core.display.HTML object>"
      ]
     },
     "metadata": {},
     "output_type": "display_data"
    },
    {
     "name": "stderr",
     "output_type": "stream",
     "text": [
      "INFO (theano.gof.compilelock): Waiting for existing lock by process '75479' (I am process '75548')\n",
      "INFO (theano.gof.compilelock): To manually release the lock, delete /Users/katiechambe/.theano/compiledir_macOS-10.15.7-x86_64-i386-64bit-i386-3.9.5-64/lock_dir\n",
      "Sampling 4 chains for 4_000 tune and 8_000 draw iterations (16_000 + 32_000 draws total) took 204 seconds.\n",
      "The acceptance probability does not match the target. It is 0.9651298314581013, but should be close to 0.9. Try to increase the number of tuning steps.\n",
      "There were 4 divergences after tuning. Increase `target_accept` or reparameterize.\n",
      "There were 6 divergences after tuning. Increase `target_accept` or reparameterize.\n",
      "There were 61 divergences after tuning. Increase `target_accept` or reparameterize.\n",
      "The number of effective samples is smaller than 25% for some parameters.\n",
      "optimizing logp for variables: [vtravel_lat, vtravel_lon, vtravel_mag, alpha, ln(1-e), eta, M, r]\n"
     ]
    },
    {
     "data": {
      "text/html": [
       "\n",
       "    <div>\n",
       "        <style>\n",
       "            /* Turns off some styling */\n",
       "            progress {\n",
       "                /* gets rid of default border in Firefox and Opera. */\n",
       "                border: none;\n",
       "                /* Needs to be in here for Safari polyfill so background images work as expected. */\n",
       "                background-size: auto;\n",
       "            }\n",
       "            .progress-bar-interrupted, .progress-bar-interrupted::-webkit-progress-bar {\n",
       "                background: #F44336;\n",
       "            }\n",
       "        </style>\n",
       "      <progress value='139' class='' max='139' style='width:300px; height:20px; vertical-align: middle;'></progress>\n",
       "      100.00% [139/139 00:00<00:00 logp = 4.447e+01]\n",
       "    </div>\n",
       "    "
      ],
      "text/plain": [
       "<IPython.core.display.HTML object>"
      ]
     },
     "metadata": {},
     "output_type": "display_data"
    },
    {
     "name": "stdout",
     "output_type": "stream",
     "text": [
      "\n"
     ]
    },
    {
     "name": "stderr",
     "output_type": "stream",
     "text": [
      "message: Optimization terminated successfully.\n",
      "logp: -36801.82938021156 -> 44.46717476282008\n"
     ]
    },
    {
     "name": "stdout",
     "output_type": "stream",
     "text": [
      "{'r_interval__': array(-2.63036059), 'M_interval__': array(-1.18245702), 'eta_angle__': array([-4.01161758, -1.97659404]), 'ln(1-e)_interval__': array(1.4738292), 'alpha_angle__': array([3.99851812, 2.00296101]), 'vtravel_mag': array(10.22712171), 'vtravel_lon': array(0.97726575), 'vtravel_lat': array(-0.59634148), 'r': array(765.37742028), 'M': array(5.07490876), 'eta': array(-2.02860095), 'sineta': array(-0.89702497), 'coseta': array(-0.44197987), 'ln(1-e)': array(-1.86361291), 'e': array(0.84488879), 'a': array(557.27693162), 'vscale': array(202.40095275), 'vrad': array(-111.68942397), 'vtan': array(78.83420017), 'tperi': array(13.80099377), 'sun_m31_dist': array(761.43453966), 'm31_icrs_xyz': array([562.38989814, 106.10922717, 502.2359929 ]), 'alpha': array(1.10640833), 'model_pmra': array(0.24718694), 'model_pmdec': array(-0.18924022), 'model_rv': array(-307.83562702)}\n"
     ]
    },
    {
     "name": "stderr",
     "output_type": "stream",
     "text": [
      "Multiprocess sampling (4 chains in 4 jobs)\n",
      "NUTS: [vtravel_lat, vtravel_lon, vtravel_mag, alpha, ln(1-e), eta, M, r]\n"
     ]
    },
    {
     "data": {
      "text/html": [
       "\n",
       "    <div>\n",
       "        <style>\n",
       "            /* Turns off some styling */\n",
       "            progress {\n",
       "                /* gets rid of default border in Firefox and Opera. */\n",
       "                border: none;\n",
       "                /* Needs to be in here for Safari polyfill so background images work as expected. */\n",
       "                background-size: auto;\n",
       "            }\n",
       "            .progress-bar-interrupted, .progress-bar-interrupted::-webkit-progress-bar {\n",
       "                background: #F44336;\n",
       "            }\n",
       "        </style>\n",
       "      <progress value='48000' class='' max='48000' style='width:300px; height:20px; vertical-align: middle;'></progress>\n",
       "      100.00% [48000/48000 02:34<00:00 Sampling 4 chains, 556 divergences]\n",
       "    </div>\n",
       "    "
      ],
      "text/plain": [
       "<IPython.core.display.HTML object>"
      ]
     },
     "metadata": {},
     "output_type": "display_data"
    },
    {
     "name": "stderr",
     "output_type": "stream",
     "text": [
      "Sampling 4 chains for 4_000 tune and 8_000 draw iterations (16_000 + 32_000 draws total) took 167 seconds.\n",
      "There were 154 divergences after tuning. Increase `target_accept` or reparameterize.\n",
      "There were 214 divergences after tuning. Increase `target_accept` or reparameterize.\n",
      "There were 160 divergences after tuning. Increase `target_accept` or reparameterize.\n",
      "There were 28 divergences after tuning. Increase `target_accept` or reparameterize.\n",
      "The number of effective samples is smaller than 10% for some parameters.\n",
      "optimizing logp for variables: [vtravel_lat, vtravel_lon, vtravel_mag, alpha, ln(1-e), eta, M, r]\n"
     ]
    },
    {
     "data": {
      "text/html": [
       "\n",
       "    <div>\n",
       "        <style>\n",
       "            /* Turns off some styling */\n",
       "            progress {\n",
       "                /* gets rid of default border in Firefox and Opera. */\n",
       "                border: none;\n",
       "                /* Needs to be in here for Safari polyfill so background images work as expected. */\n",
       "                background-size: auto;\n",
       "            }\n",
       "            .progress-bar-interrupted, .progress-bar-interrupted::-webkit-progress-bar {\n",
       "                background: #F44336;\n",
       "            }\n",
       "        </style>\n",
       "      <progress value='196' class='' max='196' style='width:300px; height:20px; vertical-align: middle;'></progress>\n",
       "      100.00% [196/196 00:00<00:00 logp = 4.447e+01]\n",
       "    </div>\n",
       "    "
      ],
      "text/plain": [
       "<IPython.core.display.HTML object>"
      ]
     },
     "metadata": {},
     "output_type": "display_data"
    },
    {
     "name": "stdout",
     "output_type": "stream",
     "text": [
      "\n"
     ]
    },
    {
     "name": "stderr",
     "output_type": "stream",
     "text": [
      "message: Desired error not necessarily achieved due to precision loss.\n",
      "logp: -36860.313860379196 -> 44.47062912410745\n"
     ]
    },
    {
     "name": "stdout",
     "output_type": "stream",
     "text": [
      "{'r_interval__': array(-2.63034346), 'M_interval__': array(-1.21284221), 'eta_angle__': array([-3.989678  , -2.02051217]), 'ln(1-e)_interval__': array(1.49443868), 'alpha_angle__': array([4.12463097, 1.72841532]), 'vtravel_mag': array(15.34068256), 'vtravel_lon': array(0.97687957), 'vtravel_lat': array(-0.59775315), 'r': array(765.38805374), 'M': array(4.96937157), 'eta': array(-2.03957859), 'sineta': array(-0.89211912), 'coseta': array(-0.45180026), 'ln(1-e)': array(-1.83256441), 'e': array(0.83999727), 'a': array(554.82563296), 'vscale': array(200.72730005), 'vrad': array(-109.03903631), 'vtan': array(78.95026015), 'tperi': array(13.80099119), 'sun_m31_dist': array(761.44517358), 'm31_icrs_xyz': array([562.39775227, 106.11070905, 502.24300695]), 'alpha': array(1.17397849), 'model_pmra': array(0.24595353), 'model_pmdec': array(-0.1896275), 'model_rv': array(-307.83645745)}\n"
     ]
    },
    {
     "name": "stderr",
     "output_type": "stream",
     "text": [
      "Multiprocess sampling (4 chains in 4 jobs)\n",
      "NUTS: [vtravel_lat, vtravel_lon, vtravel_mag, alpha, ln(1-e), eta, M, r]\n"
     ]
    },
    {
     "data": {
      "text/html": [
       "\n",
       "    <div>\n",
       "        <style>\n",
       "            /* Turns off some styling */\n",
       "            progress {\n",
       "                /* gets rid of default border in Firefox and Opera. */\n",
       "                border: none;\n",
       "                /* Needs to be in here for Safari polyfill so background images work as expected. */\n",
       "                background-size: auto;\n",
       "            }\n",
       "            .progress-bar-interrupted, .progress-bar-interrupted::-webkit-progress-bar {\n",
       "                background: #F44336;\n",
       "            }\n",
       "        </style>\n",
       "      <progress value='48000' class='' max='48000' style='width:300px; height:20px; vertical-align: middle;'></progress>\n",
       "      100.00% [48000/48000 03:07<00:00 Sampling 4 chains, 68 divergences]\n",
       "    </div>\n",
       "    "
      ],
      "text/plain": [
       "<IPython.core.display.HTML object>"
      ]
     },
     "metadata": {},
     "output_type": "display_data"
    },
    {
     "name": "stderr",
     "output_type": "stream",
     "text": [
      "INFO (theano.gof.compilelock): Waiting for existing lock by process '77176' (I am process '77246')\n",
      "INFO (theano.gof.compilelock): To manually release the lock, delete /Users/katiechambe/.theano/compiledir_macOS-10.15.7-x86_64-i386-64bit-i386-3.9.5-64/lock_dir\n",
      "Sampling 4 chains for 4_000 tune and 8_000 draw iterations (16_000 + 32_000 draws total) took 197 seconds.\n",
      "There were 3 divergences after tuning. Increase `target_accept` or reparameterize.\n",
      "There were 13 divergences after tuning. Increase `target_accept` or reparameterize.\n",
      "There was 1 divergence after tuning. Increase `target_accept` or reparameterize.\n",
      "The acceptance probability does not match the target. It is 0.9636864594056282, but should be close to 0.9. Try to increase the number of tuning steps.\n",
      "There were 51 divergences after tuning. Increase `target_accept` or reparameterize.\n",
      "The number of effective samples is smaller than 25% for some parameters.\n",
      "optimizing logp for variables: [vtravel_lat, vtravel_lon, vtravel_mag, alpha, ln(1-e), eta, M, r]\n"
     ]
    },
    {
     "data": {
      "text/html": [
       "\n",
       "    <div>\n",
       "        <style>\n",
       "            /* Turns off some styling */\n",
       "            progress {\n",
       "                /* gets rid of default border in Firefox and Opera. */\n",
       "                border: none;\n",
       "                /* Needs to be in here for Safari polyfill so background images work as expected. */\n",
       "                background-size: auto;\n",
       "            }\n",
       "            .progress-bar-interrupted, .progress-bar-interrupted::-webkit-progress-bar {\n",
       "                background: #F44336;\n",
       "            }\n",
       "        </style>\n",
       "      <progress value='190' class='' max='190' style='width:300px; height:20px; vertical-align: middle;'></progress>\n",
       "      100.00% [190/190 00:00<00:00 logp = 4.448e+01]\n",
       "    </div>\n",
       "    "
      ],
      "text/plain": [
       "<IPython.core.display.HTML object>"
      ]
     },
     "metadata": {},
     "output_type": "display_data"
    },
    {
     "name": "stdout",
     "output_type": "stream",
     "text": [
      "\n"
     ]
    },
    {
     "name": "stderr",
     "output_type": "stream",
     "text": [
      "message: Optimization terminated successfully.\n",
      "logp: -36925.78729666271 -> 44.47510303581815\n"
     ]
    },
    {
     "name": "stdout",
     "output_type": "stream",
     "text": [
      "{'r_interval__': array(-2.63033682), 'M_interval__': array(-1.24164403), 'eta_angle__': array([-3.96736408, -2.06398215]), 'ln(1-e)_interval__': array(1.51852484), 'alpha_angle__': array([4.23193822, 1.44592493]), 'vtravel_mag': array(20.4542434), 'vtravel_lon': array(0.97629188), 'vtravel_lat': array(-0.5990468), 'r': array(765.39217503), 'M': array(4.87092398), 'eta': array(-2.05050465), 'sineta': array(-0.88712958), 'coseta': array(-0.46152044), 'ln(1-e)': array(-1.79678847), 'e': array(0.8341694), 'a': array(552.63522548), 'vscale': array(199.1225109), 'vrad': array(-106.39377469), 'vtan': array(79.29156096), 'tperi': array(13.80098873), 'sun_m31_dist': array(761.44929504), 'm31_icrs_xyz': array([562.40079635, 106.11128339, 502.24572543]), 'alpha': array(1.24156193), 'model_pmra': array(0.24460519), 'model_pmdec': array(-0.18985538), 'model_rv': array(-307.8372702)}\n"
     ]
    },
    {
     "name": "stderr",
     "output_type": "stream",
     "text": [
      "Multiprocess sampling (4 chains in 4 jobs)\n",
      "NUTS: [vtravel_lat, vtravel_lon, vtravel_mag, alpha, ln(1-e), eta, M, r]\n"
     ]
    },
    {
     "data": {
      "text/html": [
       "\n",
       "    <div>\n",
       "        <style>\n",
       "            /* Turns off some styling */\n",
       "            progress {\n",
       "                /* gets rid of default border in Firefox and Opera. */\n",
       "                border: none;\n",
       "                /* Needs to be in here for Safari polyfill so background images work as expected. */\n",
       "                background-size: auto;\n",
       "            }\n",
       "            .progress-bar-interrupted, .progress-bar-interrupted::-webkit-progress-bar {\n",
       "                background: #F44336;\n",
       "            }\n",
       "        </style>\n",
       "      <progress value='48000' class='' max='48000' style='width:300px; height:20px; vertical-align: middle;'></progress>\n",
       "      100.00% [48000/48000 02:56<00:00 Sampling 4 chains, 224 divergences]\n",
       "    </div>\n",
       "    "
      ],
      "text/plain": [
       "<IPython.core.display.HTML object>"
      ]
     },
     "metadata": {},
     "output_type": "display_data"
    },
    {
     "name": "stderr",
     "output_type": "stream",
     "text": [
      "INFO (theano.gof.compilelock): Waiting for existing lock by process '78051' (I am process '78121')\n",
      "INFO (theano.gof.compilelock): To manually release the lock, delete /Users/katiechambe/.theano/compiledir_macOS-10.15.7-x86_64-i386-64bit-i386-3.9.5-64/lock_dir\n",
      "Sampling 4 chains for 4_000 tune and 8_000 draw iterations (16_000 + 32_000 draws total) took 187 seconds.\n",
      "There were 93 divergences after tuning. Increase `target_accept` or reparameterize.\n",
      "There were 81 divergences after tuning. Increase `target_accept` or reparameterize.\n",
      "There were 18 divergences after tuning. Increase `target_accept` or reparameterize.\n",
      "There were 32 divergences after tuning. Increase `target_accept` or reparameterize.\n",
      "The number of effective samples is smaller than 25% for some parameters.\n",
      "optimizing logp for variables: [vtravel_lat, vtravel_lon, vtravel_mag, alpha, ln(1-e), eta, M, r]\n"
     ]
    },
    {
     "data": {
      "text/html": [
       "\n",
       "    <div>\n",
       "        <style>\n",
       "            /* Turns off some styling */\n",
       "            progress {\n",
       "                /* gets rid of default border in Firefox and Opera. */\n",
       "                border: none;\n",
       "                /* Needs to be in here for Safari polyfill so background images work as expected. */\n",
       "                background-size: auto;\n",
       "            }\n",
       "            .progress-bar-interrupted, .progress-bar-interrupted::-webkit-progress-bar {\n",
       "                background: #F44336;\n",
       "            }\n",
       "        </style>\n",
       "      <progress value='140' class='' max='140' style='width:300px; height:20px; vertical-align: middle;'></progress>\n",
       "      100.00% [140/140 00:00<00:00 logp = 4.448e+01]\n",
       "    </div>\n",
       "    "
      ],
      "text/plain": [
       "<IPython.core.display.HTML object>"
      ]
     },
     "metadata": {},
     "output_type": "display_data"
    },
    {
     "name": "stdout",
     "output_type": "stream",
     "text": [
      "\n"
     ]
    },
    {
     "name": "stderr",
     "output_type": "stream",
     "text": [
      "message: Optimization terminated successfully.\n",
      "logp: -36998.24968906212 -> 44.48048725173931\n"
     ]
    },
    {
     "name": "stdout",
     "output_type": "stream",
     "text": [
      "{'r_interval__': array(-2.63033941), 'M_interval__': array(-1.26868528), 'eta_angle__': array([-3.94472973, -2.10691892]), 'ln(1-e)_interval__': array(1.54619786), 'alpha_angle__': array([4.31897242, 1.16037803]), 'vtravel_mag': array(25.56780424), 'vtravel_lon': array(0.9755222), 'vtravel_lat': array(-0.60016643), 'r': array(765.39056856), 'M': array(4.77990668), 'eta': array(-2.061358), 'sineta': array(-0.88206838), 'coseta': array(-0.47112139), 'ln(1-e)': array(-1.75636093), 'e': array(0.82732791), 'a': array(550.73108029), 'vscale': array(197.59405861), 'vrad': array(-103.75530096), 'vtan': array(79.86374563), 'tperi': array(13.8009864), 'sun_m31_dist': array(761.44768851), 'm31_icrs_xyz': array([562.39960978, 106.11105952, 502.24466578]), 'alpha': array(1.3083246), 'model_pmra': array(0.24320276), 'model_pmdec': array(-0.18991291), 'model_rv': array(-307.83806768)}\n"
     ]
    },
    {
     "name": "stderr",
     "output_type": "stream",
     "text": [
      "Multiprocess sampling (4 chains in 4 jobs)\n",
      "NUTS: [vtravel_lat, vtravel_lon, vtravel_mag, alpha, ln(1-e), eta, M, r]\n"
     ]
    },
    {
     "data": {
      "text/html": [
       "\n",
       "    <div>\n",
       "        <style>\n",
       "            /* Turns off some styling */\n",
       "            progress {\n",
       "                /* gets rid of default border in Firefox and Opera. */\n",
       "                border: none;\n",
       "                /* Needs to be in here for Safari polyfill so background images work as expected. */\n",
       "                background-size: auto;\n",
       "            }\n",
       "            .progress-bar-interrupted, .progress-bar-interrupted::-webkit-progress-bar {\n",
       "                background: #F44336;\n",
       "            }\n",
       "        </style>\n",
       "      <progress value='48000' class='' max='48000' style='width:300px; height:20px; vertical-align: middle;'></progress>\n",
       "      100.00% [48000/48000 03:31<00:00 Sampling 4 chains, 396 divergences]\n",
       "    </div>\n",
       "    "
      ],
      "text/plain": [
       "<IPython.core.display.HTML object>"
      ]
     },
     "metadata": {},
     "output_type": "display_data"
    },
    {
     "name": "stderr",
     "output_type": "stream",
     "text": [
      "INFO (theano.gof.compilelock): Waiting for existing lock by process '78945' (I am process '78875')\n",
      "INFO (theano.gof.compilelock): To manually release the lock, delete /Users/katiechambe/.theano/compiledir_macOS-10.15.7-x86_64-i386-64bit-i386-3.9.5-64/lock_dir\n",
      "Sampling 4 chains for 4_000 tune and 8_000 draw iterations (16_000 + 32_000 draws total) took 222 seconds.\n",
      "There were 81 divergences after tuning. Increase `target_accept` or reparameterize.\n",
      "There were 27 divergences after tuning. Increase `target_accept` or reparameterize.\n",
      "There were 264 divergences after tuning. Increase `target_accept` or reparameterize.\n",
      "There were 24 divergences after tuning. Increase `target_accept` or reparameterize.\n",
      "The number of effective samples is smaller than 25% for some parameters.\n",
      "optimizing logp for variables: [vtravel_lat, vtravel_lon, vtravel_mag, alpha, ln(1-e), eta, M, r]\n"
     ]
    },
    {
     "data": {
      "text/html": [
       "\n",
       "    <div>\n",
       "        <style>\n",
       "            /* Turns off some styling */\n",
       "            progress {\n",
       "                /* gets rid of default border in Firefox and Opera. */\n",
       "                border: none;\n",
       "                /* Needs to be in here for Safari polyfill so background images work as expected. */\n",
       "                background-size: auto;\n",
       "            }\n",
       "            .progress-bar-interrupted, .progress-bar-interrupted::-webkit-progress-bar {\n",
       "                background: #F44336;\n",
       "            }\n",
       "        </style>\n",
       "      <progress value='127' class='' max='127' style='width:300px; height:20px; vertical-align: middle;'></progress>\n",
       "      100.00% [127/127 00:00<00:00 logp = 4.449e+01]\n",
       "    </div>\n",
       "    "
      ],
      "text/plain": [
       "<IPython.core.display.HTML object>"
      ]
     },
     "metadata": {},
     "output_type": "display_data"
    },
    {
     "name": "stdout",
     "output_type": "stream",
     "text": [
      "\n"
     ]
    },
    {
     "name": "stderr",
     "output_type": "stream",
     "text": [
      "message: Optimization terminated successfully.\n",
      "logp: -37077.701037577404 -> 44.48653323261315\n"
     ]
    },
    {
     "name": "stdout",
     "output_type": "stream",
     "text": [
      "{'r_interval__': array(-2.63034959), 'M_interval__': array(-1.29381621), 'eta_angle__': array([-3.92181986, -2.14926244]), 'ln(1-e)_interval__': array(1.57747009), 'alpha_angle__': array([4.38534342, 0.87679134]), 'vtravel_mag': array(30.68136508), 'vtravel_lon': array(0.97459396), 'vtravel_lat': array(-0.60106765), 'r': array(765.38424732), 'M': array(4.69654776), 'eta': array(-2.07212335), 'sineta': array(-0.87694558), 'coseta': array(-0.48058969), 'ln(1-e)': array(-1.71154078), 'e': array(0.81941267), 'a': array(549.13441262), 'vscale': array(196.14805565), 'vrad': array(-101.12498381), 'vtan': array(80.66634828), 'tperi': array(13.80098418), 'sun_m31_dist': array(761.441367), 'm31_icrs_xyz': array([562.39494076, 106.11017859, 502.24049616]), 'alpha': array(1.37346158), 'model_pmra': array(0.24180861), 'model_pmdec': array(-0.18979934), 'model_rv': array(-307.83885243)}\n"
     ]
    },
    {
     "name": "stderr",
     "output_type": "stream",
     "text": [
      "Multiprocess sampling (4 chains in 4 jobs)\n",
      "NUTS: [vtravel_lat, vtravel_lon, vtravel_mag, alpha, ln(1-e), eta, M, r]\n"
     ]
    },
    {
     "data": {
      "text/html": [
       "\n",
       "    <div>\n",
       "        <style>\n",
       "            /* Turns off some styling */\n",
       "            progress {\n",
       "                /* gets rid of default border in Firefox and Opera. */\n",
       "                border: none;\n",
       "                /* Needs to be in here for Safari polyfill so background images work as expected. */\n",
       "                background-size: auto;\n",
       "            }\n",
       "            .progress-bar-interrupted, .progress-bar-interrupted::-webkit-progress-bar {\n",
       "                background: #F44336;\n",
       "            }\n",
       "        </style>\n",
       "      <progress value='48000' class='' max='48000' style='width:300px; height:20px; vertical-align: middle;'></progress>\n",
       "      100.00% [48000/48000 02:49<00:00 Sampling 4 chains, 538 divergences]\n",
       "    </div>\n",
       "    "
      ],
      "text/plain": [
       "<IPython.core.display.HTML object>"
      ]
     },
     "metadata": {},
     "output_type": "display_data"
    },
    {
     "name": "stderr",
     "output_type": "stream",
     "text": [
      "INFO (theano.gof.compilelock): Waiting for existing lock by process '79808' (I am process '79874')\n",
      "INFO (theano.gof.compilelock): To manually release the lock, delete /Users/katiechambe/.theano/compiledir_macOS-10.15.7-x86_64-i386-64bit-i386-3.9.5-64/lock_dir\n",
      "Sampling 4 chains for 4_000 tune and 8_000 draw iterations (16_000 + 32_000 draws total) took 179 seconds.\n",
      "There were 25 divergences after tuning. Increase `target_accept` or reparameterize.\n",
      "There were 394 divergences after tuning. Increase `target_accept` or reparameterize.\n",
      "There were 97 divergences after tuning. Increase `target_accept` or reparameterize.\n",
      "There were 22 divergences after tuning. Increase `target_accept` or reparameterize.\n",
      "The number of effective samples is smaller than 10% for some parameters.\n",
      "optimizing logp for variables: [vtravel_lat, vtravel_lon, vtravel_mag, alpha, ln(1-e), eta, M, r]\n"
     ]
    },
    {
     "data": {
      "text/html": [
       "\n",
       "    <div>\n",
       "        <style>\n",
       "            /* Turns off some styling */\n",
       "            progress {\n",
       "                /* gets rid of default border in Firefox and Opera. */\n",
       "                border: none;\n",
       "                /* Needs to be in here for Safari polyfill so background images work as expected. */\n",
       "                background-size: auto;\n",
       "            }\n",
       "            .progress-bar-interrupted, .progress-bar-interrupted::-webkit-progress-bar {\n",
       "                background: #F44336;\n",
       "            }\n",
       "        </style>\n",
       "      <progress value='148' class='' max='148' style='width:300px; height:20px; vertical-align: middle;'></progress>\n",
       "      100.00% [148/148 00:00<00:00 logp = 4.449e+01]\n",
       "    </div>\n",
       "    "
      ],
      "text/plain": [
       "<IPython.core.display.HTML object>"
      ]
     },
     "metadata": {},
     "output_type": "display_data"
    },
    {
     "name": "stdout",
     "output_type": "stream",
     "text": [
      "\n"
     ]
    },
    {
     "name": "stderr",
     "output_type": "stream",
     "text": [
      "message: Optimization terminated successfully.\n",
      "logp: -37164.14134220857 -> 44.49287682866358\n"
     ]
    },
    {
     "name": "stdout",
     "output_type": "stream",
     "text": [
      "{'r_interval__': array(-2.63036555), 'M_interval__': array(-1.3169205), 'eta_angle__': array([-3.89866762, -2.19097941]), 'ln(1-e)_interval__': array(1.6122575), 'alpha_angle__': array([4.43173249, 0.59978915]), 'vtravel_mag': array(35.79492591), 'vtravel_lon': array(0.97353197), 'vtravel_lat': array(-0.60172112), 'r': array(765.37434472), 'M': array(4.62095641), 'eta': array(-2.08279189), 'sineta': array(-0.87176858), 'coseta': array(-0.48991789), 'ln(1-e)': array(-1.66275425), 'e': array(0.81038399), 'a': array(547.86149113), 'vscale': array(194.78903882), 'vrad': array(-98.50390672), 'vtan': array(81.69288641), 'tperi': array(13.80098206), 'sun_m31_dist': array(761.43146397), 'm31_icrs_xyz': array([562.38762646, 106.10879856, 502.23396421]), 'alpha': array(1.43627404), 'model_pmra': array(0.24047995), 'model_pmdec': array(-0.18952376), 'model_rv': array(-307.83962702)}\n"
     ]
    },
    {
     "name": "stderr",
     "output_type": "stream",
     "text": [
      "Multiprocess sampling (4 chains in 4 jobs)\n",
      "NUTS: [vtravel_lat, vtravel_lon, vtravel_mag, alpha, ln(1-e), eta, M, r]\n"
     ]
    },
    {
     "data": {
      "text/html": [
       "\n",
       "    <div>\n",
       "        <style>\n",
       "            /* Turns off some styling */\n",
       "            progress {\n",
       "                /* gets rid of default border in Firefox and Opera. */\n",
       "                border: none;\n",
       "                /* Needs to be in here for Safari polyfill so background images work as expected. */\n",
       "                background-size: auto;\n",
       "            }\n",
       "            .progress-bar-interrupted, .progress-bar-interrupted::-webkit-progress-bar {\n",
       "                background: #F44336;\n",
       "            }\n",
       "        </style>\n",
       "      <progress value='48000' class='' max='48000' style='width:300px; height:20px; vertical-align: middle;'></progress>\n",
       "      100.00% [48000/48000 02:55<00:00 Sampling 4 chains, 450 divergences]\n",
       "    </div>\n",
       "    "
      ],
      "text/plain": [
       "<IPython.core.display.HTML object>"
      ]
     },
     "metadata": {},
     "output_type": "display_data"
    },
    {
     "name": "stderr",
     "output_type": "stream",
     "text": [
      "INFO (theano.gof.compilelock): Waiting for existing lock by process '80614' (I am process '80683')\n",
      "INFO (theano.gof.compilelock): To manually release the lock, delete /Users/katiechambe/.theano/compiledir_macOS-10.15.7-x86_64-i386-64bit-i386-3.9.5-64/lock_dir\n",
      "Sampling 4 chains for 4_000 tune and 8_000 draw iterations (16_000 + 32_000 draws total) took 185 seconds.\n",
      "There were 195 divergences after tuning. Increase `target_accept` or reparameterize.\n",
      "There were 36 divergences after tuning. Increase `target_accept` or reparameterize.\n",
      "There were 200 divergences after tuning. Increase `target_accept` or reparameterize.\n",
      "There were 19 divergences after tuning. Increase `target_accept` or reparameterize.\n",
      "The number of effective samples is smaller than 10% for some parameters.\n",
      "optimizing logp for variables: [vtravel_lat, vtravel_lon, vtravel_mag, alpha, ln(1-e), eta, M, r]\n"
     ]
    },
    {
     "data": {
      "text/html": [
       "\n",
       "    <div>\n",
       "        <style>\n",
       "            /* Turns off some styling */\n",
       "            progress {\n",
       "                /* gets rid of default border in Firefox and Opera. */\n",
       "                border: none;\n",
       "                /* Needs to be in here for Safari polyfill so background images work as expected. */\n",
       "                background-size: auto;\n",
       "            }\n",
       "            .progress-bar-interrupted, .progress-bar-interrupted::-webkit-progress-bar {\n",
       "                background: #F44336;\n",
       "            }\n",
       "        </style>\n",
       "      <progress value='157' class='' max='157' style='width:300px; height:20px; vertical-align: middle;'></progress>\n",
       "      100.00% [157/157 00:00<00:00 logp = 4.450e+01]\n",
       "    </div>\n",
       "    "
      ],
      "text/plain": [
       "<IPython.core.display.HTML object>"
      ]
     },
     "metadata": {},
     "output_type": "display_data"
    },
    {
     "name": "stdout",
     "output_type": "stream",
     "text": [
      "\n"
     ]
    },
    {
     "name": "stderr",
     "output_type": "stream",
     "text": [
      "message: Optimization terminated successfully.\n",
      "logp: -37257.570602955624 -> 44.499071799647766\n"
     ]
    },
    {
     "name": "stdout",
     "output_type": "stream",
     "text": [
      "{'r_interval__': array(-2.63038546), 'M_interval__': array(-1.33791566), 'eta_angle__': array([-3.87529406, -2.23206093]), 'ln(1-e)_interval__': array(1.65039527), 'alpha_angle__': array([4.45970693, 0.33318784]), 'vtravel_mag': array(40.90848672), 'vtravel_lon': array(0.97235998), 'vtravel_lat': array(-0.60211318), 'r': array(765.36198828), 'M': array(4.55313422), 'eta': array(-2.09336079), 'sineta': array(-0.86654209), 'coseta': array(-0.499104), 'ln(1-e)': array(-1.61055535), 'e': array(0.80022336), 'a': array(546.92360958), 'vscale': array(193.52000077), 'vrad': array(-95.89291705), 'vtan': array(82.93181801), 'tperi': array(13.80098004), 'sun_m31_dist': array(761.41910699), 'm31_icrs_xyz': array([562.37849968, 106.10707656, 502.22581364]), 'alpha': array(1.49622416), 'model_pmra': array(0.2392635), 'model_pmdec': array(-0.18910309), 'model_rv': array(-307.84039417)}\n"
     ]
    },
    {
     "name": "stderr",
     "output_type": "stream",
     "text": [
      "Multiprocess sampling (4 chains in 4 jobs)\n",
      "NUTS: [vtravel_lat, vtravel_lon, vtravel_mag, alpha, ln(1-e), eta, M, r]\n"
     ]
    },
    {
     "data": {
      "text/html": [
       "\n",
       "    <div>\n",
       "        <style>\n",
       "            /* Turns off some styling */\n",
       "            progress {\n",
       "                /* gets rid of default border in Firefox and Opera. */\n",
       "                border: none;\n",
       "                /* Needs to be in here for Safari polyfill so background images work as expected. */\n",
       "                background-size: auto;\n",
       "            }\n",
       "            .progress-bar-interrupted, .progress-bar-interrupted::-webkit-progress-bar {\n",
       "                background: #F44336;\n",
       "            }\n",
       "        </style>\n",
       "      <progress value='48000' class='' max='48000' style='width:300px; height:20px; vertical-align: middle;'></progress>\n",
       "      100.00% [48000/48000 03:00<00:00 Sampling 4 chains, 424 divergences]\n",
       "    </div>\n",
       "    "
      ],
      "text/plain": [
       "<IPython.core.display.HTML object>"
      ]
     },
     "metadata": {},
     "output_type": "display_data"
    },
    {
     "name": "stderr",
     "output_type": "stream",
     "text": [
      "Sampling 4 chains for 4_000 tune and 8_000 draw iterations (16_000 + 32_000 draws total) took 190 seconds.\n",
      "There were 18 divergences after tuning. Increase `target_accept` or reparameterize.\n",
      "There were 263 divergences after tuning. Increase `target_accept` or reparameterize.\n",
      "There were 34 divergences after tuning. Increase `target_accept` or reparameterize.\n",
      "There were 109 divergences after tuning. Increase `target_accept` or reparameterize.\n",
      "The number of effective samples is smaller than 10% for some parameters.\n",
      "optimizing logp for variables: [vtravel_lat, vtravel_lon, vtravel_mag, alpha, ln(1-e), eta, M, r]\n"
     ]
    },
    {
     "data": {
      "text/html": [
       "\n",
       "    <div>\n",
       "        <style>\n",
       "            /* Turns off some styling */\n",
       "            progress {\n",
       "                /* gets rid of default border in Firefox and Opera. */\n",
       "                border: none;\n",
       "                /* Needs to be in here for Safari polyfill so background images work as expected. */\n",
       "                background-size: auto;\n",
       "            }\n",
       "            .progress-bar-interrupted, .progress-bar-interrupted::-webkit-progress-bar {\n",
       "                background: #F44336;\n",
       "            }\n",
       "        </style>\n",
       "      <progress value='176' class='' max='176' style='width:300px; height:20px; vertical-align: middle;'></progress>\n",
       "      100.00% [176/176 00:00<00:00 logp = 4.450e+01]\n",
       "    </div>\n",
       "    "
      ],
      "text/plain": [
       "<IPython.core.display.HTML object>"
      ]
     },
     "metadata": {},
     "output_type": "display_data"
    },
    {
     "name": "stdout",
     "output_type": "stream",
     "text": [
      "\n"
     ]
    },
    {
     "name": "stderr",
     "output_type": "stream",
     "text": [
      "message: Desired error not necessarily achieved due to precision loss.\n",
      "logp: -37357.98881981855 -> 44.504626286606566\n"
     ]
    },
    {
     "name": "stdout",
     "output_type": "stream",
     "text": [
      "{'r_interval__': array(-2.63040767), 'M_interval__': array(-1.35674887), 'eta_angle__': array([-3.85170967, -2.27251682]), 'ln(1-e)_interval__': array(1.69166222), 'alpha_angle__': array([4.47142444, 0.07977102]), 'vtravel_mag': array(46.02204753), 'vtravel_lon': array(0.97109866), 'vtravel_lat': array(-0.60224399), 'r': array(765.3482006), 'M': array(4.49299948), 'eta': array(-2.103832), 'sineta': array(-0.86126846), 'coseta': array(-0.50815021), 'ln(1-e)': array(-1.55557368), 'e': array(0.78893174), 'a': array(546.32770436), 'vscale': array(192.34262479), 'vrad': array(-93.29270155), 'vtan': array(84.36805742), 'tperi': array(13.8009781), 'sun_m31_dist': array(761.40531872), 'm31_icrs_xyz': array([562.36831577, 106.1051551 , 502.21671901]), 'alpha': array(1.55295804), 'model_pmra': array(0.23819273), 'model_pmdec': array(-0.18855904), 'model_rv': array(-307.84115644)}\n"
     ]
    },
    {
     "name": "stderr",
     "output_type": "stream",
     "text": [
      "Multiprocess sampling (4 chains in 4 jobs)\n",
      "NUTS: [vtravel_lat, vtravel_lon, vtravel_mag, alpha, ln(1-e), eta, M, r]\n"
     ]
    },
    {
     "data": {
      "text/html": [
       "\n",
       "    <div>\n",
       "        <style>\n",
       "            /* Turns off some styling */\n",
       "            progress {\n",
       "                /* gets rid of default border in Firefox and Opera. */\n",
       "                border: none;\n",
       "                /* Needs to be in here for Safari polyfill so background images work as expected. */\n",
       "                background-size: auto;\n",
       "            }\n",
       "            .progress-bar-interrupted, .progress-bar-interrupted::-webkit-progress-bar {\n",
       "                background: #F44336;\n",
       "            }\n",
       "        </style>\n",
       "      <progress value='48000' class='' max='48000' style='width:300px; height:20px; vertical-align: middle;'></progress>\n",
       "      100.00% [48000/48000 03:35<00:00 Sampling 4 chains, 304 divergences]\n",
       "    </div>\n",
       "    "
      ],
      "text/plain": [
       "<IPython.core.display.HTML object>"
      ]
     },
     "metadata": {},
     "output_type": "display_data"
    },
    {
     "name": "stderr",
     "output_type": "stream",
     "text": [
      "INFO (theano.gof.compilelock): Waiting for existing lock by process '82231' (I am process '82298')\n",
      "INFO (theano.gof.compilelock): To manually release the lock, delete /Users/katiechambe/.theano/compiledir_macOS-10.15.7-x86_64-i386-64bit-i386-3.9.5-64/lock_dir\n",
      "Sampling 4 chains for 4_000 tune and 8_000 draw iterations (16_000 + 32_000 draws total) took 224 seconds.\n",
      "There were 92 divergences after tuning. Increase `target_accept` or reparameterize.\n",
      "There were 44 divergences after tuning. Increase `target_accept` or reparameterize.\n",
      "There were 165 divergences after tuning. Increase `target_accept` or reparameterize.\n",
      "There were 3 divergences after tuning. Increase `target_accept` or reparameterize.\n",
      "The number of effective samples is smaller than 25% for some parameters.\n",
      "optimizing logp for variables: [vtravel_lat, vtravel_lon, vtravel_mag, alpha, ln(1-e), eta, M, r]\n"
     ]
    },
    {
     "data": {
      "text/html": [
       "\n",
       "    <div>\n",
       "        <style>\n",
       "            /* Turns off some styling */\n",
       "            progress {\n",
       "                /* gets rid of default border in Firefox and Opera. */\n",
       "                border: none;\n",
       "                /* Needs to be in here for Safari polyfill so background images work as expected. */\n",
       "                background-size: auto;\n",
       "            }\n",
       "            .progress-bar-interrupted, .progress-bar-interrupted::-webkit-progress-bar {\n",
       "                background: #F44336;\n",
       "            }\n",
       "        </style>\n",
       "      <progress value='145' class='' max='145' style='width:300px; height:20px; vertical-align: middle;'></progress>\n",
       "      100.00% [145/145 00:00<00:00 logp = 4.451e+01]\n",
       "    </div>\n",
       "    "
      ],
      "text/plain": [
       "<IPython.core.display.HTML object>"
      ]
     },
     "metadata": {},
     "output_type": "display_data"
    },
    {
     "name": "stdout",
     "output_type": "stream",
     "text": [
      "\n"
     ]
    },
    {
     "name": "stderr",
     "output_type": "stream",
     "text": [
      "message: Optimization terminated successfully.\n",
      "logp: -37465.395992797356 -> 44.50903586188552\n"
     ]
    },
    {
     "name": "stdout",
     "output_type": "stream",
     "text": [
      "{'r_interval__': array(-2.63043082), 'M_interval__': array(-1.37339055), 'eta_angle__': array([-3.82791719, -2.31236892]), 'ln(1-e)_interval__': array(1.73580712), 'alpha_angle__': array([ 4.46931803, -0.15873335]), 'vtravel_mag': array(51.13560833), 'vtravel_lon': array(0.96976439), 'vtravel_lat': array(-0.6021241), 'r': array(765.33383663), 'M': array(4.44041579), 'eta': array(-2.11421056), 'sineta': array(-0.8559483), 'coseta': array(-0.51706141), 'ln(1-e)': array(-1.49846292), 'e': array(0.77652661), 'a': array(546.07728535), 'vscale': array(191.25761218), 'vrad': array(-90.70386714), 'vtan': array(85.98460416), 'tperi': array(13.80097624), 'sun_m31_dist': array(761.39095413), 'm31_icrs_xyz': array([562.35770619, 106.10315333, 502.20724424]), 'alpha': array(1.60629764), 'model_pmra': array(0.23728776), 'model_pmdec': array(-0.18791503), 'model_rv': array(-307.84191648)}\n"
     ]
    },
    {
     "name": "stderr",
     "output_type": "stream",
     "text": [
      "Multiprocess sampling (4 chains in 4 jobs)\n",
      "NUTS: [vtravel_lat, vtravel_lon, vtravel_mag, alpha, ln(1-e), eta, M, r]\n"
     ]
    },
    {
     "data": {
      "text/html": [
       "\n",
       "    <div>\n",
       "        <style>\n",
       "            /* Turns off some styling */\n",
       "            progress {\n",
       "                /* gets rid of default border in Firefox and Opera. */\n",
       "                border: none;\n",
       "                /* Needs to be in here for Safari polyfill so background images work as expected. */\n",
       "                background-size: auto;\n",
       "            }\n",
       "            .progress-bar-interrupted, .progress-bar-interrupted::-webkit-progress-bar {\n",
       "                background: #F44336;\n",
       "            }\n",
       "        </style>\n",
       "      <progress value='48000' class='' max='48000' style='width:300px; height:20px; vertical-align: middle;'></progress>\n",
       "      100.00% [48000/48000 02:59<00:00 Sampling 4 chains, 808 divergences]\n",
       "    </div>\n",
       "    "
      ],
      "text/plain": [
       "<IPython.core.display.HTML object>"
      ]
     },
     "metadata": {},
     "output_type": "display_data"
    },
    {
     "name": "stderr",
     "output_type": "stream",
     "text": [
      "Sampling 4 chains for 4_000 tune and 8_000 draw iterations (16_000 + 32_000 draws total) took 191 seconds.\n",
      "There were 18 divergences after tuning. Increase `target_accept` or reparameterize.\n",
      "There were 172 divergences after tuning. Increase `target_accept` or reparameterize.\n",
      "There were 54 divergences after tuning. Increase `target_accept` or reparameterize.\n",
      "There were 564 divergences after tuning. Increase `target_accept` or reparameterize.\n",
      "The acceptance probability does not match the target. It is 0.8358928103425649, but should be close to 0.9. Try to increase the number of tuning steps.\n",
      "The number of effective samples is smaller than 10% for some parameters.\n",
      "optimizing logp for variables: [vtravel_lat, vtravel_lon, vtravel_mag, alpha, ln(1-e), eta, M, r]\n"
     ]
    },
    {
     "data": {
      "text/html": [
       "\n",
       "    <div>\n",
       "        <style>\n",
       "            /* Turns off some styling */\n",
       "            progress {\n",
       "                /* gets rid of default border in Firefox and Opera. */\n",
       "                border: none;\n",
       "                /* Needs to be in here for Safari polyfill so background images work as expected. */\n",
       "                background-size: auto;\n",
       "            }\n",
       "            .progress-bar-interrupted, .progress-bar-interrupted::-webkit-progress-bar {\n",
       "                background: #F44336;\n",
       "            }\n",
       "        </style>\n",
       "      <progress value='142' class='' max='142' style='width:300px; height:20px; vertical-align: middle;'></progress>\n",
       "      100.00% [142/142 00:00<00:00 logp = 4.451e+01]\n",
       "    </div>\n",
       "    "
      ],
      "text/plain": [
       "<IPython.core.display.HTML object>"
      ]
     },
     "metadata": {},
     "output_type": "display_data"
    },
    {
     "name": "stdout",
     "output_type": "stream",
     "text": [
      "\n"
     ]
    },
    {
     "name": "stderr",
     "output_type": "stream",
     "text": [
      "message: Optimization terminated successfully.\n",
      "logp: -37579.79212189206 -> 44.51180912505964\n"
     ]
    },
    {
     "name": "stdout",
     "output_type": "stream",
     "text": [
      "{'r_interval__': array(-2.63045382), 'M_interval__': array(-1.38782772), 'eta_angle__': array([-3.80391462, -2.35164481]), 'ln(1-e)_interval__': array(1.78257145), 'alpha_angle__': array([ 4.45583169, -0.38152839]), 'vtravel_mag': array(56.24916911), 'vtravel_lon': array(0.96836891), 'vtravel_lat': array(-0.60177058), 'r': array(765.31955952), 'M': array(4.39521813), 'eta': array(-2.12450313), 'sineta': array(-0.85058117), 'coseta': array(-0.52584377), 'ln(1-e)': array(-1.43985902), 'e': array(0.76303884), 'a': array(546.17337961), 'vscale': array(190.26500583), 'vrad': array(-88.12701168), 'vtan': array(87.76394973), 'tperi': array(13.80097443), 'sun_m31_dist': array(761.3766764), 'm31_icrs_xyz': array([562.34716076, 106.10116367, 502.19782677]), 'alpha': array(1.6562125), 'model_pmra': array(0.23655708), 'model_pmdec': array(-0.18719377), 'model_rv': array(-307.84267664)}\n"
     ]
    },
    {
     "name": "stderr",
     "output_type": "stream",
     "text": [
      "Multiprocess sampling (4 chains in 4 jobs)\n",
      "NUTS: [vtravel_lat, vtravel_lon, vtravel_mag, alpha, ln(1-e), eta, M, r]\n"
     ]
    },
    {
     "data": {
      "text/html": [
       "\n",
       "    <div>\n",
       "        <style>\n",
       "            /* Turns off some styling */\n",
       "            progress {\n",
       "                /* gets rid of default border in Firefox and Opera. */\n",
       "                border: none;\n",
       "                /* Needs to be in here for Safari polyfill so background images work as expected. */\n",
       "                background-size: auto;\n",
       "            }\n",
       "            .progress-bar-interrupted, .progress-bar-interrupted::-webkit-progress-bar {\n",
       "                background: #F44336;\n",
       "            }\n",
       "        </style>\n",
       "      <progress value='48000' class='' max='48000' style='width:300px; height:20px; vertical-align: middle;'></progress>\n",
       "      100.00% [48000/48000 03:00<00:00 Sampling 4 chains, 344 divergences]\n",
       "    </div>\n",
       "    "
      ],
      "text/plain": [
       "<IPython.core.display.HTML object>"
      ]
     },
     "metadata": {},
     "output_type": "display_data"
    },
    {
     "name": "stderr",
     "output_type": "stream",
     "text": [
      "INFO (theano.gof.compilelock): Waiting for existing lock by process '84034' (I am process '84103')\n",
      "INFO (theano.gof.compilelock): To manually release the lock, delete /Users/katiechambe/.theano/compiledir_macOS-10.15.7-x86_64-i386-64bit-i386-3.9.5-64/lock_dir\n",
      "Sampling 4 chains for 4_000 tune and 8_000 draw iterations (16_000 + 32_000 draws total) took 190 seconds.\n",
      "There were 35 divergences after tuning. Increase `target_accept` or reparameterize.\n",
      "There were 68 divergences after tuning. Increase `target_accept` or reparameterize.\n",
      "There were 126 divergences after tuning. Increase `target_accept` or reparameterize.\n",
      "There were 115 divergences after tuning. Increase `target_accept` or reparameterize.\n",
      "The number of effective samples is smaller than 25% for some parameters.\n",
      "optimizing logp for variables: [vtravel_lat, vtravel_lon, vtravel_mag, alpha, ln(1-e), eta, M, r]\n"
     ]
    },
    {
     "data": {
      "text/html": [
       "\n",
       "    <div>\n",
       "        <style>\n",
       "            /* Turns off some styling */\n",
       "            progress {\n",
       "                /* gets rid of default border in Firefox and Opera. */\n",
       "                border: none;\n",
       "                /* Needs to be in here for Safari polyfill so background images work as expected. */\n",
       "                background-size: auto;\n",
       "            }\n",
       "            .progress-bar-interrupted, .progress-bar-interrupted::-webkit-progress-bar {\n",
       "                background: #F44336;\n",
       "            }\n",
       "        </style>\n",
       "      <progress value='132' class='' max='132' style='width:300px; height:20px; vertical-align: middle;'></progress>\n",
       "      100.00% [132/132 00:00<00:00 logp = 4.451e+01]\n",
       "    </div>\n",
       "    "
      ],
      "text/plain": [
       "<IPython.core.display.HTML object>"
      ]
     },
     "metadata": {},
     "output_type": "display_data"
    },
    {
     "name": "stdout",
     "output_type": "stream",
     "text": [
      "\n"
     ]
    },
    {
     "name": "stderr",
     "output_type": "stream",
     "text": [
      "message: Optimization terminated successfully.\n",
      "logp: -37701.17720710263 -> 44.5124845473414\n"
     ]
    },
    {
     "name": "stdout",
     "output_type": "stream",
     "text": [
      "{'r_interval__': array(-2.63047591), 'M_interval__': array(-1.40005872), 'eta_angle__': array([-3.77969804, -2.39037299]), 'ln(1-e)_interval__': array(1.83170572), 'alpha_angle__': array([ 4.43323935, -0.58854827]), 'vtravel_mag': array(61.36272989), 'vtravel_lon': array(0.96691954), 'vtravel_lat': array(-0.60120363), 'r': array(765.30584951), 'M': array(4.35723248), 'eta': array(-2.13471668), 'sineta': array(-0.84516617), 'coseta': array(-0.53450365), 'ln(1-e)': array(-1.38035199), 'e': array(0.74850999), 'a': array(546.61528661), 'vscale': array(189.36444782), 'vrad': array(-85.56278039), 'vtan': array(89.68909), 'tperi': array(13.80097268), 'sun_m31_dist': array(761.36296579), 'm31_icrs_xyz': array([562.33703421, 106.09925304, 502.18878337]), 'alpha': array(1.70278259), 'model_pmra': array(0.23600028), 'model_pmdec': array(-0.18641556), 'model_rv': array(-307.84343938)}\n"
     ]
    },
    {
     "name": "stderr",
     "output_type": "stream",
     "text": [
      "Multiprocess sampling (4 chains in 4 jobs)\n",
      "NUTS: [vtravel_lat, vtravel_lon, vtravel_mag, alpha, ln(1-e), eta, M, r]\n"
     ]
    },
    {
     "data": {
      "text/html": [
       "\n",
       "    <div>\n",
       "        <style>\n",
       "            /* Turns off some styling */\n",
       "            progress {\n",
       "                /* gets rid of default border in Firefox and Opera. */\n",
       "                border: none;\n",
       "                /* Needs to be in here for Safari polyfill so background images work as expected. */\n",
       "                background-size: auto;\n",
       "            }\n",
       "            .progress-bar-interrupted, .progress-bar-interrupted::-webkit-progress-bar {\n",
       "                background: #F44336;\n",
       "            }\n",
       "        </style>\n",
       "      <progress value='48000' class='' max='48000' style='width:300px; height:20px; vertical-align: middle;'></progress>\n",
       "      100.00% [48000/48000 03:26<00:00 Sampling 4 chains, 298 divergences]\n",
       "    </div>\n",
       "    "
      ],
      "text/plain": [
       "<IPython.core.display.HTML object>"
      ]
     },
     "metadata": {},
     "output_type": "display_data"
    },
    {
     "name": "stderr",
     "output_type": "stream",
     "text": [
      "INFO (theano.gof.compilelock): Waiting for existing lock by process '84881' (I am process '84953')\n",
      "INFO (theano.gof.compilelock): To manually release the lock, delete /Users/katiechambe/.theano/compiledir_macOS-10.15.7-x86_64-i386-64bit-i386-3.9.5-64/lock_dir\n",
      "Sampling 4 chains for 4_000 tune and 8_000 draw iterations (16_000 + 32_000 draws total) took 217 seconds.\n",
      "There were 98 divergences after tuning. Increase `target_accept` or reparameterize.\n",
      "There were 67 divergences after tuning. Increase `target_accept` or reparameterize.\n",
      "There were 108 divergences after tuning. Increase `target_accept` or reparameterize.\n",
      "There were 25 divergences after tuning. Increase `target_accept` or reparameterize.\n",
      "The number of effective samples is smaller than 25% for some parameters.\n",
      "optimizing logp for variables: [vtravel_lat, vtravel_lon, vtravel_mag, alpha, ln(1-e), eta, M, r]\n"
     ]
    },
    {
     "data": {
      "text/html": [
       "\n",
       "    <div>\n",
       "        <style>\n",
       "            /* Turns off some styling */\n",
       "            progress {\n",
       "                /* gets rid of default border in Firefox and Opera. */\n",
       "                border: none;\n",
       "                /* Needs to be in here for Safari polyfill so background images work as expected. */\n",
       "                background-size: auto;\n",
       "            }\n",
       "            .progress-bar-interrupted, .progress-bar-interrupted::-webkit-progress-bar {\n",
       "                background: #F44336;\n",
       "            }\n",
       "        </style>\n",
       "      <progress value='154' class='' max='154' style='width:300px; height:20px; vertical-align: middle;'></progress>\n",
       "      100.00% [154/154 00:00<00:00 logp = 4.451e+01]\n",
       "    </div>\n",
       "    "
      ],
      "text/plain": [
       "<IPython.core.display.HTML object>"
      ]
     },
     "metadata": {},
     "output_type": "display_data"
    },
    {
     "name": "stdout",
     "output_type": "stream",
     "text": [
      "\n"
     ]
    },
    {
     "name": "stderr",
     "output_type": "stream",
     "text": [
      "message: Optimization terminated successfully.\n",
      "logp: -37829.55124842908 -> 44.5106393109617\n"
     ]
    },
    {
     "name": "stdout",
     "output_type": "stream",
     "text": [
      "{'r_interval__': array(-2.63049657), 'M_interval__': array(-1.41008971), 'eta_angle__': array([-3.75526332, -2.42857931]), 'ln(1-e)_interval__': array(1.88297929), 'alpha_angle__': array([ 4.40354588, -0.78024594]), 'vtravel_mag': array(66.47629066), 'vtravel_lon': array(0.96541967), 'vtravel_lat': array(-0.60044396), 'r': array(765.29302944), 'M': array(4.3262882), 'eta': array(-2.14485768), 'sineta': array(-0.8397024), 'coseta': array(-0.54304684), 'ln(1-e)': array(-1.32047041), 'e': array(0.73299033), 'a': array(547.40107843), 'vscale': array(188.55535251), 'vrad': array(-83.01190844), 'vtan': array(91.7441371), 'tperi': array(13.80097097), 'sun_m31_dist': array(761.35014517), 'm31_icrs_xyz': array([562.32756499, 106.09746643, 502.18032699]), 'alpha': array(1.74616208), 'model_pmra': array(0.2356109), 'model_pmdec': array(-0.18559756), 'model_rv': array(-307.84420731)}\n"
     ]
    },
    {
     "name": "stderr",
     "output_type": "stream",
     "text": [
      "Multiprocess sampling (4 chains in 4 jobs)\n",
      "NUTS: [vtravel_lat, vtravel_lon, vtravel_mag, alpha, ln(1-e), eta, M, r]\n"
     ]
    },
    {
     "data": {
      "text/html": [
       "\n",
       "    <div>\n",
       "        <style>\n",
       "            /* Turns off some styling */\n",
       "            progress {\n",
       "                /* gets rid of default border in Firefox and Opera. */\n",
       "                border: none;\n",
       "                /* Needs to be in here for Safari polyfill so background images work as expected. */\n",
       "                background-size: auto;\n",
       "            }\n",
       "            .progress-bar-interrupted, .progress-bar-interrupted::-webkit-progress-bar {\n",
       "                background: #F44336;\n",
       "            }\n",
       "        </style>\n",
       "      <progress value='48000' class='' max='48000' style='width:300px; height:20px; vertical-align: middle;'></progress>\n",
       "      100.00% [48000/48000 03:32<00:00 Sampling 4 chains, 693 divergences]\n",
       "    </div>\n",
       "    "
      ],
      "text/plain": [
       "<IPython.core.display.HTML object>"
      ]
     },
     "metadata": {},
     "output_type": "display_data"
    },
    {
     "name": "stderr",
     "output_type": "stream",
     "text": [
      "INFO (theano.gof.compilelock): Waiting for existing lock by process '85801' (I am process '85870')\n",
      "INFO (theano.gof.compilelock): To manually release the lock, delete /Users/katiechambe/.theano/compiledir_macOS-10.15.7-x86_64-i386-64bit-i386-3.9.5-64/lock_dir\n",
      "Sampling 4 chains for 4_000 tune and 8_000 draw iterations (16_000 + 32_000 draws total) took 222 seconds.\n",
      "There were 198 divergences after tuning. Increase `target_accept` or reparameterize.\n",
      "There were 222 divergences after tuning. Increase `target_accept` or reparameterize.\n",
      "There were 112 divergences after tuning. Increase `target_accept` or reparameterize.\n",
      "There were 161 divergences after tuning. Increase `target_accept` or reparameterize.\n",
      "The number of effective samples is smaller than 10% for some parameters.\n",
      "optimizing logp for variables: [vtravel_lat, vtravel_lon, vtravel_mag, alpha, ln(1-e), eta, M, r]\n"
     ]
    },
    {
     "data": {
      "text/html": [
       "\n",
       "    <div>\n",
       "        <style>\n",
       "            /* Turns off some styling */\n",
       "            progress {\n",
       "                /* gets rid of default border in Firefox and Opera. */\n",
       "                border: none;\n",
       "                /* Needs to be in here for Safari polyfill so background images work as expected. */\n",
       "                background-size: auto;\n",
       "            }\n",
       "            .progress-bar-interrupted, .progress-bar-interrupted::-webkit-progress-bar {\n",
       "                background: #F44336;\n",
       "            }\n",
       "        </style>\n",
       "      <progress value='151' class='' max='151' style='width:300px; height:20px; vertical-align: middle;'></progress>\n",
       "      100.00% [151/151 00:00<00:00 logp = 4.451e+01]\n",
       "    </div>\n",
       "    "
      ],
      "text/plain": [
       "<IPython.core.display.HTML object>"
      ]
     },
     "metadata": {},
     "output_type": "display_data"
    },
    {
     "name": "stdout",
     "output_type": "stream",
     "text": [
      "\n"
     ]
    },
    {
     "name": "stderr",
     "output_type": "stream",
     "text": [
      "message: Optimization terminated successfully.\n",
      "logp: -37964.91424587142 -> 44.505891907191945\n"
     ]
    },
    {
     "name": "stdout",
     "output_type": "stream",
     "text": [
      "{'r_interval__': array(-2.63051548), 'M_interval__': array(-1.41793298), 'eta_angle__': array([-3.730608  , -2.46628547]), 'ln(1-e)_interval__': array(1.93618469), 'alpha_angle__': array([ 4.36845183, -0.95740724]), 'vtravel_mag': array(71.58985142), 'vtravel_lon': array(0.96386938), 'vtravel_lat': array(-0.59951102), 'r': array(765.28129703), 'M': array(4.30222373), 'eta': array(-2.15493154), 'sineta': array(-0.83418931), 'coseta': array(-0.5514782), 'ln(1-e)': array(-1.26067607), 'e': array(0.71653768), 'a': array(548.52783293), 'vscale': array(187.83699299), 'vrad': array(-80.47525234), 'vtan': array(93.91458359), 'tperi': array(13.8009693), 'sun_m31_dist': array(761.33841225), 'm31_icrs_xyz': array([562.31889915, 106.09583139, 502.17258805]), 'alpha': array(1.78654906), 'model_pmra': array(0.23537886), 'model_pmdec': array(-0.18475353), 'model_rv': array(-307.84498277)}\n"
     ]
    },
    {
     "name": "stderr",
     "output_type": "stream",
     "text": [
      "Multiprocess sampling (4 chains in 4 jobs)\n",
      "NUTS: [vtravel_lat, vtravel_lon, vtravel_mag, alpha, ln(1-e), eta, M, r]\n"
     ]
    },
    {
     "data": {
      "text/html": [
       "\n",
       "    <div>\n",
       "        <style>\n",
       "            /* Turns off some styling */\n",
       "            progress {\n",
       "                /* gets rid of default border in Firefox and Opera. */\n",
       "                border: none;\n",
       "                /* Needs to be in here for Safari polyfill so background images work as expected. */\n",
       "                background-size: auto;\n",
       "            }\n",
       "            .progress-bar-interrupted, .progress-bar-interrupted::-webkit-progress-bar {\n",
       "                background: #F44336;\n",
       "            }\n",
       "        </style>\n",
       "      <progress value='48000' class='' max='48000' style='width:300px; height:20px; vertical-align: middle;'></progress>\n",
       "      100.00% [48000/48000 04:06<00:00 Sampling 4 chains, 177 divergences]\n",
       "    </div>\n",
       "    "
      ],
      "text/plain": [
       "<IPython.core.display.HTML object>"
      ]
     },
     "metadata": {},
     "output_type": "display_data"
    },
    {
     "name": "stderr",
     "output_type": "stream",
     "text": [
      "INFO (theano.gof.compilelock): Waiting for existing lock by process '86693' (I am process '86762')\n",
      "INFO (theano.gof.compilelock): To manually release the lock, delete /Users/katiechambe/.theano/compiledir_macOS-10.15.7-x86_64-i386-64bit-i386-3.9.5-64/lock_dir\n",
      "Sampling 4 chains for 4_000 tune and 8_000 draw iterations (16_000 + 32_000 draws total) took 257 seconds.\n",
      "There were 28 divergences after tuning. Increase `target_accept` or reparameterize.\n",
      "There were 33 divergences after tuning. Increase `target_accept` or reparameterize.\n",
      "There were 55 divergences after tuning. Increase `target_accept` or reparameterize.\n",
      "There were 61 divergences after tuning. Increase `target_accept` or reparameterize.\n",
      "The number of effective samples is smaller than 25% for some parameters.\n",
      "optimizing logp for variables: [vtravel_lat, vtravel_lon, vtravel_mag, alpha, ln(1-e), eta, M, r]\n"
     ]
    },
    {
     "data": {
      "text/html": [
       "\n",
       "    <div>\n",
       "        <style>\n",
       "            /* Turns off some styling */\n",
       "            progress {\n",
       "                /* gets rid of default border in Firefox and Opera. */\n",
       "                border: none;\n",
       "                /* Needs to be in here for Safari polyfill so background images work as expected. */\n",
       "                background-size: auto;\n",
       "            }\n",
       "            .progress-bar-interrupted, .progress-bar-interrupted::-webkit-progress-bar {\n",
       "                background: #F44336;\n",
       "            }\n",
       "        </style>\n",
       "      <progress value='178' class='' max='178' style='width:300px; height:20px; vertical-align: middle;'></progress>\n",
       "      100.00% [178/178 00:00<00:00 logp = 4.450e+01]\n",
       "    </div>\n",
       "    "
      ],
      "text/plain": [
       "<IPython.core.display.HTML object>"
      ]
     },
     "metadata": {},
     "output_type": "display_data"
    },
    {
     "name": "stdout",
     "output_type": "stream",
     "text": [
      "\n"
     ]
    },
    {
     "name": "stderr",
     "output_type": "stream",
     "text": [
      "message: Optimization terminated successfully.\n",
      "logp: -38107.266199429636 -> 44.49790044848672\n"
     ]
    },
    {
     "name": "stdout",
     "output_type": "stream",
     "text": [
      "{'r_interval__': array(-2.63053246), 'M_interval__': array(-1.42360634), 'eta_angle__': array([-3.70573199, -2.50350763]), 'ln(1-e)_interval__': array(1.99113855), 'alpha_angle__': array([ 4.32935923, -1.12100341]), 'vtravel_mag': array(76.70341218), 'vtravel_lon': array(0.96226604), 'vtravel_lat': array(-0.59842195), 'r': array(765.27075707), 'M': array(4.28488848), 'eta': array(-2.16494234), 'sineta': array(-0.82862686), 'coseta': array(-0.55980132), 'ln(1-e)': array(-1.20136462), 'e': array(0.69921652), 'a': array(549.99171544), 'vscale': array(187.20853904), 'vrad': array(-77.95381514), 'vtan': array(96.18736604), 'tperi': array(13.80096765), 'sun_m31_dist': array(761.32787183), 'm31_icrs_xyz': array([562.31111407, 106.09436254, 502.16563568]), 'alpha': array(1.8241624), 'model_pmra': array(0.23529235), 'model_pmdec': array(-0.18389404), 'model_rv': array(-307.84576847)}\n"
     ]
    },
    {
     "name": "stderr",
     "output_type": "stream",
     "text": [
      "Multiprocess sampling (4 chains in 4 jobs)\n",
      "NUTS: [vtravel_lat, vtravel_lon, vtravel_mag, alpha, ln(1-e), eta, M, r]\n"
     ]
    },
    {
     "data": {
      "text/html": [
       "\n",
       "    <div>\n",
       "        <style>\n",
       "            /* Turns off some styling */\n",
       "            progress {\n",
       "                /* gets rid of default border in Firefox and Opera. */\n",
       "                border: none;\n",
       "                /* Needs to be in here for Safari polyfill so background images work as expected. */\n",
       "                background-size: auto;\n",
       "            }\n",
       "            .progress-bar-interrupted, .progress-bar-interrupted::-webkit-progress-bar {\n",
       "                background: #F44336;\n",
       "            }\n",
       "        </style>\n",
       "      <progress value='48000' class='' max='48000' style='width:300px; height:20px; vertical-align: middle;'></progress>\n",
       "      100.00% [48000/48000 03:16<00:00 Sampling 4 chains, 1,927 divergences]\n",
       "    </div>\n",
       "    "
      ],
      "text/plain": [
       "<IPython.core.display.HTML object>"
      ]
     },
     "metadata": {},
     "output_type": "display_data"
    },
    {
     "name": "stderr",
     "output_type": "stream",
     "text": [
      "Sampling 4 chains for 4_000 tune and 8_000 draw iterations (16_000 + 32_000 draws total) took 207 seconds.\n",
      "There were 1082 divergences after tuning. Increase `target_accept` or reparameterize.\n",
      "The acceptance probability does not match the target. It is 0.7979288082777996, but should be close to 0.9. Try to increase the number of tuning steps.\n",
      "There were 438 divergences after tuning. Increase `target_accept` or reparameterize.\n",
      "There were 201 divergences after tuning. Increase `target_accept` or reparameterize.\n",
      "There were 206 divergences after tuning. Increase `target_accept` or reparameterize.\n",
      "The estimated number of effective samples is smaller than 200 for some parameters.\n",
      "optimizing logp for variables: [vtravel_lat, vtravel_lon, vtravel_mag, alpha, ln(1-e), eta, M, r]\n"
     ]
    },
    {
     "data": {
      "text/html": [
       "\n",
       "    <div>\n",
       "        <style>\n",
       "            /* Turns off some styling */\n",
       "            progress {\n",
       "                /* gets rid of default border in Firefox and Opera. */\n",
       "                border: none;\n",
       "                /* Needs to be in here for Safari polyfill so background images work as expected. */\n",
       "                background-size: auto;\n",
       "            }\n",
       "            .progress-bar-interrupted, .progress-bar-interrupted::-webkit-progress-bar {\n",
       "                background: #F44336;\n",
       "            }\n",
       "        </style>\n",
       "      <progress value='167' class='' max='167' style='width:300px; height:20px; vertical-align: middle;'></progress>\n",
       "      100.00% [167/167 00:00<00:00 logp = 4.449e+01]\n",
       "    </div>\n",
       "    "
      ],
      "text/plain": [
       "<IPython.core.display.HTML object>"
      ]
     },
     "metadata": {},
     "output_type": "display_data"
    },
    {
     "name": "stdout",
     "output_type": "stream",
     "text": [
      "\n"
     ]
    },
    {
     "name": "stderr",
     "output_type": "stream",
     "text": [
      "message: Optimization terminated successfully.\n",
      "logp: -38256.607109103745 -> 44.48635838414328\n"
     ]
    },
    {
     "name": "stdout",
     "output_type": "stream",
     "text": [
      "{'r_interval__': array(-2.63054746), 'M_interval__': array(-1.42713334), 'eta_angle__': array([-3.68063845, -2.54025601]), 'ln(1-e)_interval__': array(2.04768018), 'alpha_angle__': array([ 4.28739969, -1.27208643]), 'vtravel_mag': array(81.81697293), 'vtravel_lon': array(0.96060475), 'vtravel_lat': array(-0.59719113), 'r': array(765.26144806), 'M': array(4.27414186), 'eta': array(-2.17489258), 'sineta': array(-0.82301578), 'coseta': array(-0.56801851), 'ln(1-e)': array(-1.14286996), 'e': array(0.68109753), 'a': array(551.78793519), 'vscale': array(186.66905636), 'vrad': array(-75.44877003), 'vtan': array(98.55078613), 'tperi': array(13.80096601), 'sun_m31_dist': array(761.31856242), 'm31_icrs_xyz': array([562.30423821, 106.09306523, 502.15949527]), 'alpha': array(1.85922606), 'model_pmra': array(0.23533921), 'model_pmdec': array(-0.18302688), 'model_rv': array(-307.84656711)}\n"
     ]
    },
    {
     "name": "stderr",
     "output_type": "stream",
     "text": [
      "Multiprocess sampling (4 chains in 4 jobs)\n",
      "NUTS: [vtravel_lat, vtravel_lon, vtravel_mag, alpha, ln(1-e), eta, M, r]\n"
     ]
    },
    {
     "data": {
      "text/html": [
       "\n",
       "    <div>\n",
       "        <style>\n",
       "            /* Turns off some styling */\n",
       "            progress {\n",
       "                /* gets rid of default border in Firefox and Opera. */\n",
       "                border: none;\n",
       "                /* Needs to be in here for Safari polyfill so background images work as expected. */\n",
       "                background-size: auto;\n",
       "            }\n",
       "            .progress-bar-interrupted, .progress-bar-interrupted::-webkit-progress-bar {\n",
       "                background: #F44336;\n",
       "            }\n",
       "        </style>\n",
       "      <progress value='48000' class='' max='48000' style='width:300px; height:20px; vertical-align: middle;'></progress>\n",
       "      100.00% [48000/48000 03:25<00:00 Sampling 4 chains, 992 divergences]\n",
       "    </div>\n",
       "    "
      ],
      "text/plain": [
       "<IPython.core.display.HTML object>"
      ]
     },
     "metadata": {},
     "output_type": "display_data"
    },
    {
     "name": "stderr",
     "output_type": "stream",
     "text": [
      "INFO (theano.gof.compilelock): Waiting for existing lock by process '88354' (I am process '88423')\n",
      "INFO (theano.gof.compilelock): To manually release the lock, delete /Users/katiechambe/.theano/compiledir_macOS-10.15.7-x86_64-i386-64bit-i386-3.9.5-64/lock_dir\n",
      "Sampling 4 chains for 4_000 tune and 8_000 draw iterations (16_000 + 32_000 draws total) took 216 seconds.\n",
      "There were 369 divergences after tuning. Increase `target_accept` or reparameterize.\n",
      "There were 374 divergences after tuning. Increase `target_accept` or reparameterize.\n",
      "There were 28 divergences after tuning. Increase `target_accept` or reparameterize.\n",
      "There were 221 divergences after tuning. Increase `target_accept` or reparameterize.\n",
      "The number of effective samples is smaller than 10% for some parameters.\n",
      "optimizing logp for variables: [vtravel_lat, vtravel_lon, vtravel_mag, alpha, ln(1-e), eta, M, r]\n"
     ]
    },
    {
     "data": {
      "text/html": [
       "\n",
       "    <div>\n",
       "        <style>\n",
       "            /* Turns off some styling */\n",
       "            progress {\n",
       "                /* gets rid of default border in Firefox and Opera. */\n",
       "                border: none;\n",
       "                /* Needs to be in here for Safari polyfill so background images work as expected. */\n",
       "                background-size: auto;\n",
       "            }\n",
       "            .progress-bar-interrupted, .progress-bar-interrupted::-webkit-progress-bar {\n",
       "                background: #F44336;\n",
       "            }\n",
       "        </style>\n",
       "      <progress value='168' class='' max='168' style='width:300px; height:20px; vertical-align: middle;'></progress>\n",
       "      100.00% [168/168 00:00<00:00 logp = 4.447e+01]\n",
       "    </div>\n",
       "    "
      ],
      "text/plain": [
       "<IPython.core.display.HTML object>"
      ]
     },
     "metadata": {},
     "output_type": "display_data"
    },
    {
     "name": "stdout",
     "output_type": "stream",
     "text": [
      "\n"
     ]
    },
    {
     "name": "stderr",
     "output_type": "stream",
     "text": [
      "message: Optimization terminated successfully.\n",
      "logp: -38412.93697489372 -> 44.47098888631899\n"
     ]
    },
    {
     "name": "stdout",
     "output_type": "stream",
     "text": [
      "{'r_interval__': array(-2.63056049), 'M_interval__': array(-1.4285437), 'eta_angle__': array([-3.65533445, -2.5765345 ]), 'ln(1-e)_interval__': array(2.10566921), 'alpha_angle__': array([ 4.24347149, -1.4117187 ]), 'vtravel_mag': array(86.93053367), 'vtravel_lon': array(0.95887869), 'vtravel_lat': array(-0.59582992), 'r': array(765.25336552), 'M': array(4.26985104), 'eta': array(-2.18478307), 'sineta': array(-0.81735763), 'coseta': array(-0.57613063), 'ln(1-e)': array(-1.08547024), 'e': array(0.66225707), 'a': array(553.91064953), 'vscale': array(186.217491), 'vrad': array(-72.96148504), 'vtan': array(100.9943699), 'tperi': array(13.80096438), 'sun_m31_dist': array(761.31047953), 'm31_icrs_xyz': array([562.29826825, 106.09193885, 502.15416386]), 'alpha': array(1.89195889), 'model_pmra': array(0.23550777), 'model_pmdec': array(-0.18215746), 'model_rv': array(-307.84738163)}\n"
     ]
    },
    {
     "name": "stderr",
     "output_type": "stream",
     "text": [
      "Multiprocess sampling (4 chains in 4 jobs)\n",
      "NUTS: [vtravel_lat, vtravel_lon, vtravel_mag, alpha, ln(1-e), eta, M, r]\n"
     ]
    },
    {
     "data": {
      "text/html": [
       "\n",
       "    <div>\n",
       "        <style>\n",
       "            /* Turns off some styling */\n",
       "            progress {\n",
       "                /* gets rid of default border in Firefox and Opera. */\n",
       "                border: none;\n",
       "                /* Needs to be in here for Safari polyfill so background images work as expected. */\n",
       "                background-size: auto;\n",
       "            }\n",
       "            .progress-bar-interrupted, .progress-bar-interrupted::-webkit-progress-bar {\n",
       "                background: #F44336;\n",
       "            }\n",
       "        </style>\n",
       "      <progress value='48000' class='' max='48000' style='width:300px; height:20px; vertical-align: middle;'></progress>\n",
       "      100.00% [48000/48000 03:23<00:00 Sampling 4 chains, 665 divergences]\n",
       "    </div>\n",
       "    "
      ],
      "text/plain": [
       "<IPython.core.display.HTML object>"
      ]
     },
     "metadata": {},
     "output_type": "display_data"
    },
    {
     "name": "stderr",
     "output_type": "stream",
     "text": [
      "Sampling 4 chains for 4_000 tune and 8_000 draw iterations (16_000 + 32_000 draws total) took 213 seconds.\n",
      "There were 51 divergences after tuning. Increase `target_accept` or reparameterize.\n",
      "There were 300 divergences after tuning. Increase `target_accept` or reparameterize.\n",
      "There were 160 divergences after tuning. Increase `target_accept` or reparameterize.\n",
      "There were 154 divergences after tuning. Increase `target_accept` or reparameterize.\n",
      "The number of effective samples is smaller than 25% for some parameters.\n",
      "optimizing logp for variables: [vtravel_lat, vtravel_lon, vtravel_mag, alpha, ln(1-e), eta, M, r]\n"
     ]
    },
    {
     "data": {
      "text/html": [
       "\n",
       "    <div>\n",
       "        <style>\n",
       "            /* Turns off some styling */\n",
       "            progress {\n",
       "                /* gets rid of default border in Firefox and Opera. */\n",
       "                border: none;\n",
       "                /* Needs to be in here for Safari polyfill so background images work as expected. */\n",
       "                background-size: auto;\n",
       "            }\n",
       "            .progress-bar-interrupted, .progress-bar-interrupted::-webkit-progress-bar {\n",
       "                background: #F44336;\n",
       "            }\n",
       "        </style>\n",
       "      <progress value='175' class='' max='175' style='width:300px; height:20px; vertical-align: middle;'></progress>\n",
       "      100.00% [175/175 00:00<00:00 logp = 4.445e+01]\n",
       "    </div>\n",
       "    "
      ],
      "text/plain": [
       "<IPython.core.display.HTML object>"
      ]
     },
     "metadata": {},
     "output_type": "display_data"
    },
    {
     "name": "stdout",
     "output_type": "stream",
     "text": [
      "\n"
     ]
    },
    {
     "name": "stderr",
     "output_type": "stream",
     "text": [
      "message: Optimization terminated successfully.\n",
      "logp: -38576.25579679958 -> 44.45153876667\n"
     ]
    },
    {
     "name": "stdout",
     "output_type": "stream",
     "text": [
      "{'r_interval__': array(-2.63057158), 'M_interval__': array(-1.42787378), 'eta_angle__': array([-3.62983163, -2.61234   ]), 'ln(1-e)_interval__': array(2.16498273), 'alpha_angle__': array([ 4.19827781, -1.54092839]), 'vtravel_mag': array(92.04409441), 'vtravel_lon': array(0.95707933), 'vtravel_lat': array(-0.5943467), 'r': array(765.24648311), 'M': array(4.2718887), 'eta': array(-2.19461273), 'sineta': array(-0.81165507), 'coseta': array(-0.58413701), 'ln(1-e)': array(-1.02939421), 'e': array(0.6427767), 'a': array(556.35286202), 'vscale': array(185.85265408), 'vrad': array(-70.49355033), 'vtan': array(103.50871259), 'tperi': array(13.80096275), 'sun_m31_dist': array(761.30359682), 'm31_icrs_xyz': array([562.29318473, 106.09097971, 502.14962408]), 'alpha': array(1.9225686), 'model_pmra': array(0.23578741), 'model_pmdec': array(-0.18128928), 'model_rv': array(-307.84821531)}\n"
     ]
    },
    {
     "name": "stderr",
     "output_type": "stream",
     "text": [
      "Multiprocess sampling (4 chains in 4 jobs)\n",
      "NUTS: [vtravel_lat, vtravel_lon, vtravel_mag, alpha, ln(1-e), eta, M, r]\n"
     ]
    },
    {
     "data": {
      "text/html": [
       "\n",
       "    <div>\n",
       "        <style>\n",
       "            /* Turns off some styling */\n",
       "            progress {\n",
       "                /* gets rid of default border in Firefox and Opera. */\n",
       "                border: none;\n",
       "                /* Needs to be in here for Safari polyfill so background images work as expected. */\n",
       "                background-size: auto;\n",
       "            }\n",
       "            .progress-bar-interrupted, .progress-bar-interrupted::-webkit-progress-bar {\n",
       "                background: #F44336;\n",
       "            }\n",
       "        </style>\n",
       "      <progress value='48000' class='' max='48000' style='width:300px; height:20px; vertical-align: middle;'></progress>\n",
       "      100.00% [48000/48000 03:29<00:00 Sampling 4 chains, 1,016 divergences]\n",
       "    </div>\n",
       "    "
      ],
      "text/plain": [
       "<IPython.core.display.HTML object>"
      ]
     },
     "metadata": {},
     "output_type": "display_data"
    },
    {
     "name": "stderr",
     "output_type": "stream",
     "text": [
      "INFO (theano.gof.compilelock): Waiting for existing lock by process '90169' (I am process '90238')\n",
      "INFO (theano.gof.compilelock): To manually release the lock, delete /Users/katiechambe/.theano/compiledir_macOS-10.15.7-x86_64-i386-64bit-i386-3.9.5-64/lock_dir\n",
      "Sampling 4 chains for 4_000 tune and 8_000 draw iterations (16_000 + 32_000 draws total) took 219 seconds.\n",
      "There were 505 divergences after tuning. Increase `target_accept` or reparameterize.\n",
      "There were 333 divergences after tuning. Increase `target_accept` or reparameterize.\n",
      "There were 41 divergences after tuning. Increase `target_accept` or reparameterize.\n",
      "There were 137 divergences after tuning. Increase `target_accept` or reparameterize.\n",
      "The number of effective samples is smaller than 10% for some parameters.\n",
      "optimizing logp for variables: [vtravel_lat, vtravel_lon, vtravel_mag, alpha, ln(1-e), eta, M, r]\n"
     ]
    },
    {
     "data": {
      "text/html": [
       "\n",
       "    <div>\n",
       "        <style>\n",
       "            /* Turns off some styling */\n",
       "            progress {\n",
       "                /* gets rid of default border in Firefox and Opera. */\n",
       "                border: none;\n",
       "                /* Needs to be in here for Safari polyfill so background images work as expected. */\n",
       "                background-size: auto;\n",
       "            }\n",
       "            .progress-bar-interrupted, .progress-bar-interrupted::-webkit-progress-bar {\n",
       "                background: #F44336;\n",
       "            }\n",
       "        </style>\n",
       "      <progress value='141' class='' max='141' style='width:300px; height:20px; vertical-align: middle;'></progress>\n",
       "      100.00% [141/141 00:00<00:00 logp = 4.443e+01]\n",
       "    </div>\n",
       "    "
      ],
      "text/plain": [
       "<IPython.core.display.HTML object>"
      ]
     },
     "metadata": {},
     "output_type": "display_data"
    },
    {
     "name": "stdout",
     "output_type": "stream",
     "text": [
      "\n"
     ]
    },
    {
     "name": "stderr",
     "output_type": "stream",
     "text": [
      "message: Optimization terminated successfully.\n",
      "logp: -38746.56357482133 -> 44.42777246234957\n"
     ]
    },
    {
     "name": "stdout",
     "output_type": "stream",
     "text": [
      "{'r_interval__': array(-2.63058083), 'M_interval__': array(-1.42516675), 'eta_angle__': array([-3.60414836, -2.64766213]), 'ln(1-e)_interval__': array(2.22551256), 'alpha_angle__': array([ 4.15236195, -1.66068968]), 'vtravel_mag': array(97.15765515), 'vtravel_lon': array(0.95519649), 'vtravel_lat': array(-0.59274705), 'r': array(765.24074009), 'M': array(4.28013111), 'eta': array(-2.20437823), 'sineta': array(-0.80591207), 'coseta': array(-0.59203525), 'ln(1-e)': array(-0.97482733), 'e': array(0.62274251), 'a': array(559.10633291), 'vscale': array(185.57321709), 'vrad': array(-68.04681442), 'vtan': array(106.08533863), 'tperi': array(13.80096112), 'sun_m31_dist': array(761.29785355), 'm31_icrs_xyz': array([562.28894279, 106.09017936, 502.14583587]), 'alpha': array(1.95124974), 'model_pmra': array(0.23616872), 'model_pmdec': array(-0.18042428), 'model_rv': array(-307.84907107)}\n"
     ]
    },
    {
     "name": "stderr",
     "output_type": "stream",
     "text": [
      "Multiprocess sampling (4 chains in 4 jobs)\n",
      "NUTS: [vtravel_lat, vtravel_lon, vtravel_mag, alpha, ln(1-e), eta, M, r]\n"
     ]
    },
    {
     "data": {
      "text/html": [
       "\n",
       "    <div>\n",
       "        <style>\n",
       "            /* Turns off some styling */\n",
       "            progress {\n",
       "                /* gets rid of default border in Firefox and Opera. */\n",
       "                border: none;\n",
       "                /* Needs to be in here for Safari polyfill so background images work as expected. */\n",
       "                background-size: auto;\n",
       "            }\n",
       "            .progress-bar-interrupted, .progress-bar-interrupted::-webkit-progress-bar {\n",
       "                background: #F44336;\n",
       "            }\n",
       "        </style>\n",
       "      <progress value='48000' class='' max='48000' style='width:300px; height:20px; vertical-align: middle;'></progress>\n",
       "      100.00% [48000/48000 03:54<00:00 Sampling 4 chains, 1,010 divergences]\n",
       "    </div>\n",
       "    "
      ],
      "text/plain": [
       "<IPython.core.display.HTML object>"
      ]
     },
     "metadata": {},
     "output_type": "display_data"
    },
    {
     "name": "stderr",
     "output_type": "stream",
     "text": [
      "INFO (theano.gof.compilelock): Waiting for existing lock by process '91106' (I am process '91176')\n",
      "INFO (theano.gof.compilelock): To manually release the lock, delete /Users/katiechambe/.theano/compiledir_macOS-10.15.7-x86_64-i386-64bit-i386-3.9.5-64/lock_dir\n",
      "Sampling 4 chains for 4_000 tune and 8_000 draw iterations (16_000 + 32_000 draws total) took 244 seconds.\n",
      "There were 266 divergences after tuning. Increase `target_accept` or reparameterize.\n",
      "There were 172 divergences after tuning. Increase `target_accept` or reparameterize.\n",
      "There were 470 divergences after tuning. Increase `target_accept` or reparameterize.\n",
      "There were 102 divergences after tuning. Increase `target_accept` or reparameterize.\n",
      "The number of effective samples is smaller than 10% for some parameters.\n",
      "optimizing logp for variables: [vtravel_lat, vtravel_lon, vtravel_mag, alpha, ln(1-e), eta, M, r]\n"
     ]
    },
    {
     "data": {
      "text/html": [
       "\n",
       "    <div>\n",
       "        <style>\n",
       "            /* Turns off some styling */\n",
       "            progress {\n",
       "                /* gets rid of default border in Firefox and Opera. */\n",
       "                border: none;\n",
       "                /* Needs to be in here for Safari polyfill so background images work as expected. */\n",
       "                background-size: auto;\n",
       "            }\n",
       "            .progress-bar-interrupted, .progress-bar-interrupted::-webkit-progress-bar {\n",
       "                background: #F44336;\n",
       "            }\n",
       "        </style>\n",
       "      <progress value='194' class='' max='194' style='width:300px; height:20px; vertical-align: middle;'></progress>\n",
       "      100.00% [194/194 00:00<00:00 logp = 4.440e+01]\n",
       "    </div>\n",
       "    "
      ],
      "text/plain": [
       "<IPython.core.display.HTML object>"
      ]
     },
     "metadata": {},
     "output_type": "display_data"
    },
    {
     "name": "stdout",
     "output_type": "stream",
     "text": [
      "\n"
     ]
    },
    {
     "name": "stderr",
     "output_type": "stream",
     "text": [
      "message: Optimization terminated successfully.\n",
      "logp: -38923.86030895896 -> 44.399466403897264\n"
     ]
    },
    {
     "name": "stdout",
     "output_type": "stream",
     "text": [
      "{'r_interval__': array(-2.63058831), 'M_interval__': array(-1.42047256), 'eta_angle__': array([-3.578309  , -2.68248108]), 'ln(1-e)_interval__': array(2.28716232), 'alpha_angle__': array([ 4.10613778, -1.77190081]), 'vtravel_mag': array(102.27121588), 'vtravel_lon': array(0.95321844), 'vtravel_lat': array(-0.59103382), 'r': array(765.2361005), 'M': array(4.29445649), 'eta': array(-2.21407371), 'sineta': array(-0.80013422), 'coseta': array(-0.599821), 'ln(1-e)': array(-0.92191767), 'e': array(0.60224446), 'a': array(562.1615097), 'vscale': array(185.37771141), 'vrad': array(-65.6234149), 'vtan': array(108.71655516), 'tperi': array(13.80095947), 'sun_m31_dist': array(761.29321376), 'm31_icrs_xyz': array([562.28551588, 106.08953279, 502.1427755 ]), 'alpha': array(1.97818064), 'model_pmra': array(0.23664383), 'model_pmdec': array(-0.17956329), 'model_rv': array(-307.84995297)}\n"
     ]
    },
    {
     "name": "stderr",
     "output_type": "stream",
     "text": [
      "Multiprocess sampling (4 chains in 4 jobs)\n",
      "NUTS: [vtravel_lat, vtravel_lon, vtravel_mag, alpha, ln(1-e), eta, M, r]\n"
     ]
    },
    {
     "data": {
      "text/html": [
       "\n",
       "    <div>\n",
       "        <style>\n",
       "            /* Turns off some styling */\n",
       "            progress {\n",
       "                /* gets rid of default border in Firefox and Opera. */\n",
       "                border: none;\n",
       "                /* Needs to be in here for Safari polyfill so background images work as expected. */\n",
       "                background-size: auto;\n",
       "            }\n",
       "            .progress-bar-interrupted, .progress-bar-interrupted::-webkit-progress-bar {\n",
       "                background: #F44336;\n",
       "            }\n",
       "        </style>\n",
       "      <progress value='48000' class='' max='48000' style='width:300px; height:20px; vertical-align: middle;'></progress>\n",
       "      100.00% [48000/48000 04:52<00:00 Sampling 4 chains, 704 divergences]\n",
       "    </div>\n",
       "    "
      ],
      "text/plain": [
       "<IPython.core.display.HTML object>"
      ]
     },
     "metadata": {},
     "output_type": "display_data"
    },
    {
     "name": "stderr",
     "output_type": "stream",
     "text": [
      "INFO (theano.gof.compilelock): Waiting for existing lock by process '92592' (I am process '92664')\n",
      "INFO (theano.gof.compilelock): To manually release the lock, delete /Users/katiechambe/.theano/compiledir_macOS-10.15.7-x86_64-i386-64bit-i386-3.9.5-64/lock_dir\n",
      "Sampling 4 chains for 4_000 tune and 8_000 draw iterations (16_000 + 32_000 draws total) took 306 seconds.\n",
      "There were 40 divergences after tuning. Increase `target_accept` or reparameterize.\n",
      "There were 54 divergences after tuning. Increase `target_accept` or reparameterize.\n",
      "There were 221 divergences after tuning. Increase `target_accept` or reparameterize.\n",
      "There were 389 divergences after tuning. Increase `target_accept` or reparameterize.\n",
      "The number of effective samples is smaller than 25% for some parameters.\n",
      "optimizing logp for variables: [vtravel_lat, vtravel_lon, vtravel_mag, alpha, ln(1-e), eta, M, r]\n"
     ]
    },
    {
     "data": {
      "text/html": [
       "\n",
       "    <div>\n",
       "        <style>\n",
       "            /* Turns off some styling */\n",
       "            progress {\n",
       "                /* gets rid of default border in Firefox and Opera. */\n",
       "                border: none;\n",
       "                /* Needs to be in here for Safari polyfill so background images work as expected. */\n",
       "                background-size: auto;\n",
       "            }\n",
       "            .progress-bar-interrupted, .progress-bar-interrupted::-webkit-progress-bar {\n",
       "                background: #F44336;\n",
       "            }\n",
       "        </style>\n",
       "      <progress value='138' class='' max='138' style='width:300px; height:20px; vertical-align: middle;'></progress>\n",
       "      100.00% [138/138 00:00<00:00 logp = 3.850e+01]\n",
       "    </div>\n",
       "    "
      ],
      "text/plain": [
       "<IPython.core.display.HTML object>"
      ]
     },
     "metadata": {},
     "output_type": "display_data"
    },
    {
     "name": "stdout",
     "output_type": "stream",
     "text": [
      "\n"
     ]
    },
    {
     "name": "stderr",
     "output_type": "stream",
     "text": [
      "message: Optimization terminated successfully.\n",
      "logp: -37117.429949243065 -> 38.49760686496404\n"
     ]
    },
    {
     "name": "stdout",
     "output_type": "stream",
     "text": [
      "{'r_interval__': array(-2.63035545), 'M_interval__': array(-1.30340124), 'eta_angle__': array([-3.91249257, -2.16619524]), 'ln(1-e)_interval__': array(1.59111095), 'alpha_angle__': array([4.40642215, 0.76383503]), 'vtravel_mag': array(32.74757696), 'vtravel_lon': array(0.97417956), 'vtravel_lat': array(-0.60136264), 'r': array(765.38061284), 'M': array(4.66506644), 'eta': array(-2.07644608), 'sineta': array(-0.87485994), 'coseta': array(-0.48437598), 'ln(1-e)': array(-1.69227651), 'e': array(0.81590006), 'a': array(548.58034721), 'vscale': array(195.58824984), 'vrad': array(-100.06473307), 'vtan': array(81.05472651), 'tperi': array(13.80098331), 'sun_m31_dist': array(761.43773236), 'm31_icrs_xyz': array([562.39225624, 106.10967208, 502.23809878]), 'alpha': array(1.3991561), 'model_pmra': array(0.24126095), 'model_pmdec': array(-0.18970668), 'model_rv': array(-307.83916646)}\n"
     ]
    },
    {
     "name": "stderr",
     "output_type": "stream",
     "text": [
      "Multiprocess sampling (4 chains in 4 jobs)\n",
      "NUTS: [vtravel_lat, vtravel_lon, vtravel_mag, alpha, ln(1-e), eta, M, r]\n"
     ]
    },
    {
     "data": {
      "text/html": [
       "\n",
       "    <div>\n",
       "        <style>\n",
       "            /* Turns off some styling */\n",
       "            progress {\n",
       "                /* gets rid of default border in Firefox and Opera. */\n",
       "                border: none;\n",
       "                /* Needs to be in here for Safari polyfill so background images work as expected. */\n",
       "                background-size: auto;\n",
       "            }\n",
       "            .progress-bar-interrupted, .progress-bar-interrupted::-webkit-progress-bar {\n",
       "                background: #F44336;\n",
       "            }\n",
       "        </style>\n",
       "      <progress value='48000' class='' max='48000' style='width:300px; height:20px; vertical-align: middle;'></progress>\n",
       "      100.00% [48000/48000 02:49<00:00 Sampling 4 chains, 231 divergences]\n",
       "    </div>\n",
       "    "
      ],
      "text/plain": [
       "<IPython.core.display.HTML object>"
      ]
     },
     "metadata": {},
     "output_type": "display_data"
    },
    {
     "name": "stderr",
     "output_type": "stream",
     "text": [
      "INFO (theano.gof.compilelock): Waiting for existing lock by process '93808' (I am process '93877')\n",
      "INFO (theano.gof.compilelock): To manually release the lock, delete /Users/katiechambe/.theano/compiledir_macOS-10.15.7-x86_64-i386-64bit-i386-3.9.5-64/lock_dir\n",
      "Sampling 4 chains for 4_000 tune and 8_000 draw iterations (16_000 + 32_000 draws total) took 181 seconds.\n",
      "There were 15 divergences after tuning. Increase `target_accept` or reparameterize.\n",
      "There were 25 divergences after tuning. Increase `target_accept` or reparameterize.\n",
      "There were 118 divergences after tuning. Increase `target_accept` or reparameterize.\n",
      "There were 73 divergences after tuning. Increase `target_accept` or reparameterize.\n",
      "The number of effective samples is smaller than 25% for some parameters.\n"
     ]
    },
    {
     "name": "stdout",
     "output_type": "stream",
     "text": [
      "working on vdm2012\n"
     ]
    },
    {
     "name": "stderr",
     "output_type": "stream",
     "text": [
      "optimizing logp for variables: [alpha, ln(1-e), eta, M, r]\n"
     ]
    },
    {
     "data": {
      "text/html": [
       "\n",
       "    <div>\n",
       "        <style>\n",
       "            /* Turns off some styling */\n",
       "            progress {\n",
       "                /* gets rid of default border in Firefox and Opera. */\n",
       "                border: none;\n",
       "                /* Needs to be in here for Safari polyfill so background images work as expected. */\n",
       "                background-size: auto;\n",
       "            }\n",
       "            .progress-bar-interrupted, .progress-bar-interrupted::-webkit-progress-bar {\n",
       "                background: #F44336;\n",
       "            }\n",
       "        </style>\n",
       "      <progress value='90' class='' max='90' style='width:300px; height:20px; vertical-align: middle;'></progress>\n",
       "      100.00% [90/90 00:00<00:00 logp = 3.547e+01]\n",
       "    </div>\n",
       "    "
      ],
      "text/plain": [
       "<IPython.core.display.HTML object>"
      ]
     },
     "metadata": {},
     "output_type": "display_data"
    },
    {
     "name": "stdout",
     "output_type": "stream",
     "text": [
      "\n"
     ]
    },
    {
     "name": "stderr",
     "output_type": "stream",
     "text": [
      "message: Optimization terminated successfully.\n",
      "logp: -2003.2040158617415 -> 35.46672099918028\n"
     ]
    },
    {
     "name": "stdout",
     "output_type": "stream",
     "text": [
      "{'r_interval__': array(-2.62550619), 'M_interval__': array(-1.35056915), 'eta_angle__': array([-3.93962124, -2.11645521]), 'ln(1-e)_interval__': array(0.95727244), 'alpha_angle__': array([-1.31101814, -4.27565591]), 'r': array(768.39668217), 'M': array(4.51265811), 'eta': array(-2.06377706), 'sineta': array(-0.88092613), 'coseta': array(-0.47325379), 'ln(1-e)': array(-2.77424631), 'e': array(0.93760351), 'a': array(532.23224011), 'vscale': array(195.29880812), 'vrad': array(-111.73108306), 'vtan': array(47.03572205), 'tperi': array(13.74973748), 'sun_m31_dist': array(764.37168129), 'm31_icrs_xyz': array([564.55924914, 106.51853068, 504.1733075 ]), 'alpha': array(-2.84407005), 'model_pmra': array(0.13014405), 'model_pmdec': array(-0.08945152), 'model_rv': array(-307.8352904)}\n"
     ]
    },
    {
     "name": "stderr",
     "output_type": "stream",
     "text": [
      "Multiprocess sampling (4 chains in 4 jobs)\n",
      "NUTS: [alpha, ln(1-e), eta, M, r]\n"
     ]
    },
    {
     "data": {
      "text/html": [
       "\n",
       "    <div>\n",
       "        <style>\n",
       "            /* Turns off some styling */\n",
       "            progress {\n",
       "                /* gets rid of default border in Firefox and Opera. */\n",
       "                border: none;\n",
       "                /* Needs to be in here for Safari polyfill so background images work as expected. */\n",
       "                background-size: auto;\n",
       "            }\n",
       "            .progress-bar-interrupted, .progress-bar-interrupted::-webkit-progress-bar {\n",
       "                background: #F44336;\n",
       "            }\n",
       "        </style>\n",
       "      <progress value='48000' class='' max='48000' style='width:300px; height:20px; vertical-align: middle;'></progress>\n",
       "      100.00% [48000/48000 01:45<00:00 Sampling 4 chains, 94 divergences]\n",
       "    </div>\n",
       "    "
      ],
      "text/plain": [
       "<IPython.core.display.HTML object>"
      ]
     },
     "metadata": {},
     "output_type": "display_data"
    },
    {
     "name": "stderr",
     "output_type": "stream",
     "text": [
      "INFO (theano.gof.compilelock): Waiting for existing lock by process '94616' (I am process '94685')\n",
      "INFO (theano.gof.compilelock): To manually release the lock, delete /Users/katiechambe/.theano/compiledir_macOS-10.15.7-x86_64-i386-64bit-i386-3.9.5-64/lock_dir\n",
      "Sampling 4 chains for 4_000 tune and 8_000 draw iterations (16_000 + 32_000 draws total) took 115 seconds.\n",
      "There were 37 divergences after tuning. Increase `target_accept` or reparameterize.\n",
      "There were 14 divergences after tuning. Increase `target_accept` or reparameterize.\n",
      "There were 40 divergences after tuning. Increase `target_accept` or reparameterize.\n",
      "There were 3 divergences after tuning. Increase `target_accept` or reparameterize.\n",
      "The number of effective samples is smaller than 10% for some parameters.\n",
      "optimizing logp for variables: [vtravel_lat, vtravel_lon, vtravel_mag, alpha, ln(1-e), eta, M, r]\n"
     ]
    },
    {
     "data": {
      "text/html": [
       "\n",
       "    <div>\n",
       "        <style>\n",
       "            /* Turns off some styling */\n",
       "            progress {\n",
       "                /* gets rid of default border in Firefox and Opera. */\n",
       "                border: none;\n",
       "                /* Needs to be in here for Safari polyfill so background images work as expected. */\n",
       "                background-size: auto;\n",
       "            }\n",
       "            .progress-bar-interrupted, .progress-bar-interrupted::-webkit-progress-bar {\n",
       "                background: #F44336;\n",
       "            }\n",
       "        </style>\n",
       "      <progress value='84' class='' max='84' style='width:300px; height:20px; vertical-align: middle;'></progress>\n",
       "      100.00% [84/84 00:00<00:00 logp = 4.104e+01]\n",
       "    </div>\n",
       "    "
      ],
      "text/plain": [
       "<IPython.core.display.HTML object>"
      ]
     },
     "metadata": {},
     "output_type": "display_data"
    },
    {
     "name": "stdout",
     "output_type": "stream",
     "text": [
      "\n"
     ]
    },
    {
     "name": "stderr",
     "output_type": "stream",
     "text": [
      "message: Optimization terminated successfully.\n",
      "logp: -2057.7527615725726 -> 41.03983643902095\n"
     ]
    },
    {
     "name": "stdout",
     "output_type": "stream",
     "text": [
      "{'r_interval__': array(-2.62430272), 'M_interval__': array(-1.37557634), 'eta_angle__': array([-3.91639762, -2.15912712]), 'ln(1-e)_interval__': array(1.00652509), 'alpha_angle__': array([-0.77689389, -4.40413849]), 'vtravel_mag': array(5.11356288), 'vtravel_lon': array(0.97634131), 'vtravel_lat': array(-0.59077203), 'r': array(769.14715798), 'M': array(4.43354778), 'eta': array(-2.07464042), 'sineta': array(-0.87573313), 'coseta': array(-0.4827955), 'ln(1-e)': array(-2.67660446), 'e': array(0.93120364), 'a': array(530.59966831), 'vscale': array(193.87694853), 'vrad': array(-109.0687042), 'vtan': array(48.75065693), 'tperi': array(13.74969576), 'sun_m31_dist': array(765.12219063), 'm31_icrs_xyz': array([565.11356977, 106.62311743, 504.66833732]), 'alpha': array(-2.96698806), 'model_pmra': array(0.13124767), 'model_pmdec': array(-0.09364603), 'model_rv': array(-307.83603671)}\n"
     ]
    },
    {
     "name": "stderr",
     "output_type": "stream",
     "text": [
      "Multiprocess sampling (4 chains in 4 jobs)\n",
      "NUTS: [vtravel_lat, vtravel_lon, vtravel_mag, alpha, ln(1-e), eta, M, r]\n"
     ]
    },
    {
     "data": {
      "text/html": [
       "\n",
       "    <div>\n",
       "        <style>\n",
       "            /* Turns off some styling */\n",
       "            progress {\n",
       "                /* gets rid of default border in Firefox and Opera. */\n",
       "                border: none;\n",
       "                /* Needs to be in here for Safari polyfill so background images work as expected. */\n",
       "                background-size: auto;\n",
       "            }\n",
       "            .progress-bar-interrupted, .progress-bar-interrupted::-webkit-progress-bar {\n",
       "                background: #F44336;\n",
       "            }\n",
       "        </style>\n",
       "      <progress value='48000' class='' max='48000' style='width:300px; height:20px; vertical-align: middle;'></progress>\n",
       "      100.00% [48000/48000 01:48<00:00 Sampling 4 chains, 117 divergences]\n",
       "    </div>\n",
       "    "
      ],
      "text/plain": [
       "<IPython.core.display.HTML object>"
      ]
     },
     "metadata": {},
     "output_type": "display_data"
    },
    {
     "name": "stderr",
     "output_type": "stream",
     "text": [
      "INFO (theano.gof.compilelock): Waiting for existing lock by process '95292' (I am process '95198')\n",
      "INFO (theano.gof.compilelock): To manually release the lock, delete /Users/katiechambe/.theano/compiledir_macOS-10.15.7-x86_64-i386-64bit-i386-3.9.5-64/lock_dir\n",
      "INFO (theano.gof.compilelock): Waiting for existing lock by process '95257' (I am process '95198')\n",
      "INFO (theano.gof.compilelock): To manually release the lock, delete /Users/katiechambe/.theano/compiledir_macOS-10.15.7-x86_64-i386-64bit-i386-3.9.5-64/lock_dir\n",
      "Sampling 4 chains for 4_000 tune and 8_000 draw iterations (16_000 + 32_000 draws total) took 121 seconds.\n",
      "There were 22 divergences after tuning. Increase `target_accept` or reparameterize.\n",
      "There were 28 divergences after tuning. Increase `target_accept` or reparameterize.\n",
      "There were 51 divergences after tuning. Increase `target_accept` or reparameterize.\n",
      "There were 16 divergences after tuning. Increase `target_accept` or reparameterize.\n",
      "The number of effective samples is smaller than 10% for some parameters.\n",
      "optimizing logp for variables: [vtravel_lat, vtravel_lon, vtravel_mag, alpha, ln(1-e), eta, M, r]\n"
     ]
    },
    {
     "data": {
      "text/html": [
       "\n",
       "    <div>\n",
       "        <style>\n",
       "            /* Turns off some styling */\n",
       "            progress {\n",
       "                /* gets rid of default border in Firefox and Opera. */\n",
       "                border: none;\n",
       "                /* Needs to be in here for Safari polyfill so background images work as expected. */\n",
       "                background-size: auto;\n",
       "            }\n",
       "            .progress-bar-interrupted, .progress-bar-interrupted::-webkit-progress-bar {\n",
       "                background: #F44336;\n",
       "            }\n",
       "        </style>\n",
       "      <progress value='78' class='' max='78' style='width:300px; height:20px; vertical-align: middle;'></progress>\n",
       "      100.00% [78/78 00:00<00:00 logp = 4.114e+01]\n",
       "    </div>\n",
       "    "
      ],
      "text/plain": [
       "<IPython.core.display.HTML object>"
      ]
     },
     "metadata": {},
     "output_type": "display_data"
    },
    {
     "name": "stdout",
     "output_type": "stream",
     "text": [
      "\n"
     ]
    },
    {
     "name": "stderr",
     "output_type": "stream",
     "text": [
      "message: Optimization terminated successfully.\n",
      "logp: -2124.8002467189253 -> 41.139836045957416\n"
     ]
    },
    {
     "name": "stdout",
     "output_type": "stream",
     "text": [
      "{'r_interval__': array(-2.62315717), 'M_interval__': array(-1.39927198), 'eta_angle__': array([-3.89271733, -2.20153397]), 'ln(1-e)_interval__': array(1.05917506), 'alpha_angle__': array([-0.35818849, -4.45776861]), 'vtravel_mag': array(10.22712367), 'vtravel_lon': array(0.97509785), 'vtravel_lat': array(-0.5890105), 'r': array(769.8622399), 'M': array(4.35966742), 'eta': array(-2.08550118), 'sineta': array(-0.87043806), 'coseta': array(-0.49227796), 'ln(1-e)': array(-2.57467134), 'e': array(0.92382114), 'a': array(529.19612525), 'vscale': array(192.50956754), 'vrad': array(-106.4098237), 'vtan': array(50.65887299), 'tperi': array(13.74965517), 'sun_m31_dist': array(765.83730443), 'm31_icrs_xyz': array([565.64174751, 106.72277166, 505.14002053]), 'alpha': array(-3.06141339), 'model_pmra': array(0.13305686), 'model_pmdec': array(-0.09664285), 'model_rv': array(-307.8367886)}\n"
     ]
    },
    {
     "name": "stderr",
     "output_type": "stream",
     "text": [
      "Multiprocess sampling (4 chains in 4 jobs)\n",
      "NUTS: [vtravel_lat, vtravel_lon, vtravel_mag, alpha, ln(1-e), eta, M, r]\n"
     ]
    },
    {
     "data": {
      "text/html": [
       "\n",
       "    <div>\n",
       "        <style>\n",
       "            /* Turns off some styling */\n",
       "            progress {\n",
       "                /* gets rid of default border in Firefox and Opera. */\n",
       "                border: none;\n",
       "                /* Needs to be in here for Safari polyfill so background images work as expected. */\n",
       "                background-size: auto;\n",
       "            }\n",
       "            .progress-bar-interrupted, .progress-bar-interrupted::-webkit-progress-bar {\n",
       "                background: #F44336;\n",
       "            }\n",
       "        </style>\n",
       "      <progress value='48000' class='' max='48000' style='width:300px; height:20px; vertical-align: middle;'></progress>\n",
       "      100.00% [48000/48000 02:02<00:00 Sampling 4 chains, 123 divergences]\n",
       "    </div>\n",
       "    "
      ],
      "text/plain": [
       "<IPython.core.display.HTML object>"
      ]
     },
     "metadata": {},
     "output_type": "display_data"
    },
    {
     "name": "stderr",
     "output_type": "stream",
     "text": [
      "INFO (theano.gof.compilelock): Waiting for existing lock by process '95848' (I am process '95917')\n",
      "INFO (theano.gof.compilelock): To manually release the lock, delete /Users/katiechambe/.theano/compiledir_macOS-10.15.7-x86_64-i386-64bit-i386-3.9.5-64/lock_dir\n",
      "Sampling 4 chains for 4_000 tune and 8_000 draw iterations (16_000 + 32_000 draws total) took 132 seconds.\n",
      "There were 18 divergences after tuning. Increase `target_accept` or reparameterize.\n",
      "There were 27 divergences after tuning. Increase `target_accept` or reparameterize.\n",
      "There were 26 divergences after tuning. Increase `target_accept` or reparameterize.\n",
      "There were 52 divergences after tuning. Increase `target_accept` or reparameterize.\n",
      "The number of effective samples is smaller than 10% for some parameters.\n",
      "optimizing logp for variables: [vtravel_lat, vtravel_lon, vtravel_mag, alpha, ln(1-e), eta, M, r]\n"
     ]
    },
    {
     "data": {
      "text/html": [
       "\n",
       "    <div>\n",
       "        <style>\n",
       "            /* Turns off some styling */\n",
       "            progress {\n",
       "                /* gets rid of default border in Firefox and Opera. */\n",
       "                border: none;\n",
       "                /* Needs to be in here for Safari polyfill so background images work as expected. */\n",
       "                background-size: auto;\n",
       "            }\n",
       "            .progress-bar-interrupted, .progress-bar-interrupted::-webkit-progress-bar {\n",
       "                background: #F44336;\n",
       "            }\n",
       "        </style>\n",
       "      <progress value='82' class='' max='82' style='width:300px; height:20px; vertical-align: middle;'></progress>\n",
       "      100.00% [82/82 00:00<00:00 logp = 4.124e+01]\n",
       "    </div>\n",
       "    "
      ],
      "text/plain": [
       "<IPython.core.display.HTML object>"
      ]
     },
     "metadata": {},
     "output_type": "display_data"
    },
    {
     "name": "stdout",
     "output_type": "stream",
     "text": [
      "\n"
     ]
    },
    {
     "name": "stderr",
     "output_type": "stream",
     "text": [
      "message: Optimization terminated successfully.\n",
      "logp: -2198.872637244075 -> 41.23685047454766\n"
     ]
    },
    {
     "name": "stdout",
     "output_type": "stream",
     "text": [
      "{'r_interval__': array(-2.62210943), 'M_interval__': array(-1.42162896), 'eta_angle__': array([-3.86864495, -2.24356547]), 'ln(1-e)_interval__': array(1.11461252), 'alpha_angle__': array([-0.02805404, -4.47204801]), 'vtravel_mag': array(15.34068441), 'vtravel_lon': array(0.97377778), 'vtravel_lat': array(-0.58787885), 'r': array(770.51688832), 'M': array(4.29092365), 'eta': array(-2.09633203), 'sineta': array(-0.86505531), 'coseta': array(-0.50167649), 'ln(1-e)': array(-2.47011972), 'e': array(0.91542527), 'a': array(528.02350136), 'vscale': array(191.19773072), 'vrad': array(-103.75776253), 'vtan': array(52.73594677), 'tperi': array(13.74961559), 'sun_m31_dist': array(766.49198199), 'm31_icrs_xyz': array([566.1252875 , 106.81400384, 505.57184049]), 'alpha': array(-3.13531954), 'model_pmra': array(0.13517906), 'model_pmdec': array(-0.09874233), 'model_rv': array(-307.83754328)}\n"
     ]
    },
    {
     "name": "stderr",
     "output_type": "stream",
     "text": [
      "Multiprocess sampling (4 chains in 4 jobs)\n",
      "NUTS: [vtravel_lat, vtravel_lon, vtravel_mag, alpha, ln(1-e), eta, M, r]\n"
     ]
    },
    {
     "data": {
      "text/html": [
       "\n",
       "    <div>\n",
       "        <style>\n",
       "            /* Turns off some styling */\n",
       "            progress {\n",
       "                /* gets rid of default border in Firefox and Opera. */\n",
       "                border: none;\n",
       "                /* Needs to be in here for Safari polyfill so background images work as expected. */\n",
       "                background-size: auto;\n",
       "            }\n",
       "            .progress-bar-interrupted, .progress-bar-interrupted::-webkit-progress-bar {\n",
       "                background: #F44336;\n",
       "            }\n",
       "        </style>\n",
       "      <progress value='48000' class='' max='48000' style='width:300px; height:20px; vertical-align: middle;'></progress>\n",
       "      100.00% [48000/48000 01:47<00:00 Sampling 4 chains, 344 divergences]\n",
       "    </div>\n",
       "    "
      ],
      "text/plain": [
       "<IPython.core.display.HTML object>"
      ]
     },
     "metadata": {},
     "output_type": "display_data"
    },
    {
     "name": "stderr",
     "output_type": "stream",
     "text": [
      "INFO (theano.gof.compilelock): Waiting for existing lock by process '96505' (I am process '96574')\n",
      "INFO (theano.gof.compilelock): To manually release the lock, delete /Users/katiechambe/.theano/compiledir_macOS-10.15.7-x86_64-i386-64bit-i386-3.9.5-64/lock_dir\n",
      "Sampling 4 chains for 4_000 tune and 8_000 draw iterations (16_000 + 32_000 draws total) took 118 seconds.\n",
      "There were 270 divergences after tuning. Increase `target_accept` or reparameterize.\n",
      "There were 27 divergences after tuning. Increase `target_accept` or reparameterize.\n",
      "There were 14 divergences after tuning. Increase `target_accept` or reparameterize.\n",
      "There were 33 divergences after tuning. Increase `target_accept` or reparameterize.\n",
      "The number of effective samples is smaller than 10% for some parameters.\n",
      "optimizing logp for variables: [vtravel_lat, vtravel_lon, vtravel_mag, alpha, ln(1-e), eta, M, r]\n"
     ]
    },
    {
     "data": {
      "text/html": [
       "\n",
       "    <div>\n",
       "        <style>\n",
       "            /* Turns off some styling */\n",
       "            progress {\n",
       "                /* gets rid of default border in Firefox and Opera. */\n",
       "                border: none;\n",
       "                /* Needs to be in here for Safari polyfill so background images work as expected. */\n",
       "                background-size: auto;\n",
       "            }\n",
       "            .progress-bar-interrupted, .progress-bar-interrupted::-webkit-progress-bar {\n",
       "                background: #F44336;\n",
       "            }\n",
       "        </style>\n",
       "      <progress value='77' class='' max='77' style='width:300px; height:20px; vertical-align: middle;'></progress>\n",
       "      100.00% [77/77 00:00<00:00 logp = 4.133e+01]\n",
       "    </div>\n",
       "    "
      ],
      "text/plain": [
       "<IPython.core.display.HTML object>"
      ]
     },
     "metadata": {},
     "output_type": "display_data"
    },
    {
     "name": "stdout",
     "output_type": "stream",
     "text": [
      "\n"
     ]
    },
    {
     "name": "stderr",
     "output_type": "stream",
     "text": [
      "message: Optimization terminated successfully.\n",
      "logp: -2279.9699331480224 -> 41.32867592250398\n"
     ]
    },
    {
     "name": "stdout",
     "output_type": "stream",
     "text": [
      "{'r_interval__': array(-2.62116381), 'M_interval__': array(-1.44255187), 'eta_angle__': array([-3.844204  , -2.28519065]), 'ln(1-e)_interval__': array(1.17239228), 'alpha_angle__': array([ 0.23522323, -4.46594561]), 'vtravel_mag': array(20.45424512), 'vtravel_lon': array(0.97244303), 'vtravel_lat': array(-0.58718645), 'r': array(771.10824272), 'M': array(4.22743451), 'eta': array(-2.10712564), 'sineta': array(-0.85959013), 'coseta': array(-0.51098415), 'ln(1-e)': array(-2.36422841), 'e': array(0.90597818), 'a': array(527.09474184), 'vscale': array(189.9450886), 'vrad': array(-101.11383128), 'vtan': array(54.96353949), 'tperi': array(13.74957696), 'sun_m31_dist': array(767.08336266), 'm31_icrs_xyz': array([566.56207687, 106.89641531, 505.96191034]), 'alpha': array(3.08897086), 'model_pmra': array(0.1374074), 'model_pmdec': array(-0.10018273), 'model_rv': array(-307.83829897)}\n"
     ]
    },
    {
     "name": "stderr",
     "output_type": "stream",
     "text": [
      "Multiprocess sampling (4 chains in 4 jobs)\n",
      "NUTS: [vtravel_lat, vtravel_lon, vtravel_mag, alpha, ln(1-e), eta, M, r]\n"
     ]
    },
    {
     "data": {
      "text/html": [
       "\n",
       "    <div>\n",
       "        <style>\n",
       "            /* Turns off some styling */\n",
       "            progress {\n",
       "                /* gets rid of default border in Firefox and Opera. */\n",
       "                border: none;\n",
       "                /* Needs to be in here for Safari polyfill so background images work as expected. */\n",
       "                background-size: auto;\n",
       "            }\n",
       "            .progress-bar-interrupted, .progress-bar-interrupted::-webkit-progress-bar {\n",
       "                background: #F44336;\n",
       "            }\n",
       "        </style>\n",
       "      <progress value='48000' class='' max='48000' style='width:300px; height:20px; vertical-align: middle;'></progress>\n",
       "      100.00% [48000/48000 02:14<00:00 Sampling 4 chains, 253 divergences]\n",
       "    </div>\n",
       "    "
      ],
      "text/plain": [
       "<IPython.core.display.HTML object>"
      ]
     },
     "metadata": {},
     "output_type": "display_data"
    },
    {
     "name": "stderr",
     "output_type": "stream",
     "text": [
      "INFO (theano.gof.compilelock): Waiting for existing lock by process '97128' (I am process '97197')\n",
      "INFO (theano.gof.compilelock): To manually release the lock, delete /Users/katiechambe/.theano/compiledir_macOS-10.15.7-x86_64-i386-64bit-i386-3.9.5-64/lock_dir\n",
      "Sampling 4 chains for 4_000 tune and 8_000 draw iterations (16_000 + 32_000 draws total) took 145 seconds.\n",
      "There were 158 divergences after tuning. Increase `target_accept` or reparameterize.\n",
      "There were 2 divergences after tuning. Increase `target_accept` or reparameterize.\n",
      "There were 61 divergences after tuning. Increase `target_accept` or reparameterize.\n",
      "There were 32 divergences after tuning. Increase `target_accept` or reparameterize.\n",
      "The number of effective samples is smaller than 10% for some parameters.\n",
      "optimizing logp for variables: [vtravel_lat, vtravel_lon, vtravel_mag, alpha, ln(1-e), eta, M, r]\n"
     ]
    },
    {
     "data": {
      "text/html": [
       "\n",
       "    <div>\n",
       "        <style>\n",
       "            /* Turns off some styling */\n",
       "            progress {\n",
       "                /* gets rid of default border in Firefox and Opera. */\n",
       "                border: none;\n",
       "                /* Needs to be in here for Safari polyfill so background images work as expected. */\n",
       "                background-size: auto;\n",
       "            }\n",
       "            .progress-bar-interrupted, .progress-bar-interrupted::-webkit-progress-bar {\n",
       "                background: #F44336;\n",
       "            }\n",
       "        </style>\n",
       "      <progress value='79' class='' max='79' style='width:300px; height:20px; vertical-align: middle;'></progress>\n",
       "      100.00% [79/79 00:00<00:00 logp = 4.141e+01]\n",
       "    </div>\n",
       "    "
      ],
      "text/plain": [
       "<IPython.core.display.HTML object>"
      ]
     },
     "metadata": {},
     "output_type": "display_data"
    },
    {
     "name": "stdout",
     "output_type": "stream",
     "text": [
      "\n"
     ]
    },
    {
     "name": "stderr",
     "output_type": "stream",
     "text": [
      "message: Optimization terminated successfully.\n",
      "logp: -2368.092134430769 -> 41.41402555355862\n"
     ]
    },
    {
     "name": "stdout",
     "output_type": "stream",
     "text": [
      "{'r_interval__': array(-2.62031188), 'M_interval__': array(-1.46191785), 'eta_angle__': array([-3.81940197, -2.3264069 ]), 'ln(1-e)_interval__': array(1.23218122), 'alpha_angle__': array([ 0.44801515, -4.44963854]), 'vtravel_mag': array(25.5678058), 'vtravel_lon': array(0.97112153), 'vtravel_lat': array(-0.58679669), 'r': array(771.64141988), 'M': array(4.16939632), 'eta': array(-2.1178819), 'sineta': array(-0.85404423), 'coseta': array(-0.52020039), 'ln(1-e)': array(-2.25799889), 'e': array(0.89544049), 'a': array(526.42717207), 'vscale': array(188.7562787), 'vrad': array(-98.47846389), 'vtan': array(57.32723834), 'tperi': array(13.74953921), 'sun_m31_dist': array(767.61656348), 'm31_icrs_xyz': array([566.95589503, 106.97071917, 506.31360524]), 'alpha': array(3.0412451), 'model_pmra': array(0.13963376), 'model_pmdec': array(-0.10114148), 'model_rv': array(-307.83905427)}\n"
     ]
    },
    {
     "name": "stderr",
     "output_type": "stream",
     "text": [
      "Multiprocess sampling (4 chains in 4 jobs)\n",
      "NUTS: [vtravel_lat, vtravel_lon, vtravel_mag, alpha, ln(1-e), eta, M, r]\n"
     ]
    },
    {
     "data": {
      "text/html": [
       "\n",
       "    <div>\n",
       "        <style>\n",
       "            /* Turns off some styling */\n",
       "            progress {\n",
       "                /* gets rid of default border in Firefox and Opera. */\n",
       "                border: none;\n",
       "                /* Needs to be in here for Safari polyfill so background images work as expected. */\n",
       "                background-size: auto;\n",
       "            }\n",
       "            .progress-bar-interrupted, .progress-bar-interrupted::-webkit-progress-bar {\n",
       "                background: #F44336;\n",
       "            }\n",
       "        </style>\n",
       "      <progress value='48000' class='' max='48000' style='width:300px; height:20px; vertical-align: middle;'></progress>\n",
       "      100.00% [48000/48000 01:58<00:00 Sampling 4 chains, 246 divergences]\n",
       "    </div>\n",
       "    "
      ],
      "text/plain": [
       "<IPython.core.display.HTML object>"
      ]
     },
     "metadata": {},
     "output_type": "display_data"
    },
    {
     "name": "stderr",
     "output_type": "stream",
     "text": [
      "Sampling 4 chains for 4_000 tune and 8_000 draw iterations (16_000 + 32_000 draws total) took 129 seconds.\n",
      "There were 180 divergences after tuning. Increase `target_accept` or reparameterize.\n",
      "The acceptance probability does not match the target. It is 0.831755066842607, but should be close to 0.9. Try to increase the number of tuning steps.\n",
      "There were 18 divergences after tuning. Increase `target_accept` or reparameterize.\n",
      "There were 27 divergences after tuning. Increase `target_accept` or reparameterize.\n",
      "There were 21 divergences after tuning. Increase `target_accept` or reparameterize.\n",
      "The number of effective samples is smaller than 10% for some parameters.\n",
      "optimizing logp for variables: [vtravel_lat, vtravel_lon, vtravel_mag, alpha, ln(1-e), eta, M, r]\n"
     ]
    },
    {
     "data": {
      "text/html": [
       "\n",
       "    <div>\n",
       "        <style>\n",
       "            /* Turns off some styling */\n",
       "            progress {\n",
       "                /* gets rid of default border in Firefox and Opera. */\n",
       "                border: none;\n",
       "                /* Needs to be in here for Safari polyfill so background images work as expected. */\n",
       "                background-size: auto;\n",
       "            }\n",
       "            .progress-bar-interrupted, .progress-bar-interrupted::-webkit-progress-bar {\n",
       "                background: #F44336;\n",
       "            }\n",
       "        </style>\n",
       "      <progress value='83' class='' max='83' style='width:300px; height:20px; vertical-align: middle;'></progress>\n",
       "      100.00% [83/83 00:00<00:00 logp = 4.149e+01]\n",
       "    </div>\n",
       "    "
      ],
      "text/plain": [
       "<IPython.core.display.HTML object>"
      ]
     },
     "metadata": {},
     "output_type": "display_data"
    },
    {
     "name": "stdout",
     "output_type": "stream",
     "text": [
      "\n"
     ]
    },
    {
     "name": "stderr",
     "output_type": "stream",
     "text": [
      "message: Optimization terminated successfully.\n",
      "logp: -2463.2392410923107 -> 41.492175969295815\n"
     ]
    },
    {
     "name": "stdout",
     "output_type": "stream",
     "text": [
      "{'r_interval__': array(-2.61954199), 'M_interval__': array(-1.4795956), 'eta_angle__': array([-3.79424206, -2.36721924]), 'ln(1-e)_interval__': array(1.29372351), 'alpha_angle__': array([ 0.62236327, -4.42861871]), 'vtravel_mag': array(30.68136647), 'vtravel_lon': array(0.96982299), 'vtravel_lat': array(-0.58661376), 'r': array(772.12359133), 'M': array(4.11702594), 'eta': array(-2.12860265), 'sineta': array(-0.84841832), 'coseta': array(-0.52932632), 'ln(1-e)': array(-2.15223235), 'e': array(0.88377559), 'a': array(526.03938261), 'vscale': array(187.6362039), 'vrad': array(-95.85176505), 'vtan': array(59.81516992), 'tperi': array(13.74950233), 'sun_m31_dist': array(768.0987563), 'm31_icrs_xyz': array([567.31203907, 107.03791485, 506.63165568]), 'alpha': array(3.00197484), 'model_pmra': array(0.14180281), 'model_pmdec': array(-0.10174762), 'model_rv': array(-307.83981012)}\n"
     ]
    },
    {
     "name": "stderr",
     "output_type": "stream",
     "text": [
      "Multiprocess sampling (4 chains in 4 jobs)\n",
      "NUTS: [vtravel_lat, vtravel_lon, vtravel_mag, alpha, ln(1-e), eta, M, r]\n"
     ]
    },
    {
     "data": {
      "text/html": [
       "\n",
       "    <div>\n",
       "        <style>\n",
       "            /* Turns off some styling */\n",
       "            progress {\n",
       "                /* gets rid of default border in Firefox and Opera. */\n",
       "                border: none;\n",
       "                /* Needs to be in here for Safari polyfill so background images work as expected. */\n",
       "                background-size: auto;\n",
       "            }\n",
       "            .progress-bar-interrupted, .progress-bar-interrupted::-webkit-progress-bar {\n",
       "                background: #F44336;\n",
       "            }\n",
       "        </style>\n",
       "      <progress value='48000' class='' max='48000' style='width:300px; height:20px; vertical-align: middle;'></progress>\n",
       "      100.00% [48000/48000 02:04<00:00 Sampling 4 chains, 122 divergences]\n",
       "    </div>\n",
       "    "
      ],
      "text/plain": [
       "<IPython.core.display.HTML object>"
      ]
     },
     "metadata": {},
     "output_type": "display_data"
    },
    {
     "name": "stderr",
     "output_type": "stream",
     "text": [
      "INFO (theano.gof.compilelock): Waiting for existing lock by process '98471' (I am process '98541')\n",
      "INFO (theano.gof.compilelock): To manually release the lock, delete /Users/katiechambe/.theano/compiledir_macOS-10.15.7-x86_64-i386-64bit-i386-3.9.5-64/lock_dir\n",
      "Sampling 4 chains for 4_000 tune and 8_000 draw iterations (16_000 + 32_000 draws total) took 135 seconds.\n",
      "There were 22 divergences after tuning. Increase `target_accept` or reparameterize.\n",
      "There were 24 divergences after tuning. Increase `target_accept` or reparameterize.\n",
      "There were 61 divergences after tuning. Increase `target_accept` or reparameterize.\n",
      "There were 15 divergences after tuning. Increase `target_accept` or reparameterize.\n",
      "The number of effective samples is smaller than 10% for some parameters.\n",
      "optimizing logp for variables: [vtravel_lat, vtravel_lon, vtravel_mag, alpha, ln(1-e), eta, M, r]\n"
     ]
    },
    {
     "data": {
      "text/html": [
       "\n",
       "    <div>\n",
       "        <style>\n",
       "            /* Turns off some styling */\n",
       "            progress {\n",
       "                /* gets rid of default border in Firefox and Opera. */\n",
       "                border: none;\n",
       "                /* Needs to be in here for Safari polyfill so background images work as expected. */\n",
       "                background-size: auto;\n",
       "            }\n",
       "            .progress-bar-interrupted, .progress-bar-interrupted::-webkit-progress-bar {\n",
       "                background: #F44336;\n",
       "            }\n",
       "        </style>\n",
       "      <progress value='85' class='' max='85' style='width:300px; height:20px; vertical-align: middle;'></progress>\n",
       "      100.00% [85/85 00:00<00:00 logp = 4.156e+01]\n",
       "    </div>\n",
       "    "
      ],
      "text/plain": [
       "<IPython.core.display.HTML object>"
      ]
     },
     "metadata": {},
     "output_type": "display_data"
    },
    {
     "name": "stdout",
     "output_type": "stream",
     "text": [
      "\n"
     ]
    },
    {
     "name": "stderr",
     "output_type": "stream",
     "text": [
      "message: Optimization terminated successfully.\n",
      "logp: -2565.4112531326523 -> 41.56275271683687\n"
     ]
    },
    {
     "name": "stdout",
     "output_type": "stream",
     "text": [
      "{'r_interval__': array(-2.61884269), 'M_interval__': array(-1.49545354), 'eta_angle__': array([-3.7687276 , -2.40763211]), 'ln(1-e)_interval__': array(1.3568195), 'alpha_angle__': array([ 0.76709026, -4.40585652]), 'vtravel_mag': array(35.79492714), 'vtravel_lon': array(0.96854703), 'vtravel_lat': array(-0.58657095), 'r': array(772.56182927), 'M': array(4.07053954), 'eta': array(-2.13928958), 'sineta': array(-0.84271311), 'coseta': array(-0.5383629), 'ln(1-e)': array(-2.04757704), 'e': array(0.8709528), 'a': array(525.94988373), 'vscale': array(186.58974592), 'vrad': array(-93.23377273), 'vtan': array(62.41724584), 'tperi': array(13.74946623), 'sun_m31_dist': array(768.53701364), 'm31_icrs_xyz': array([567.63573269, 107.09898792, 506.92072663]), 'alpha': array(2.96921363), 'model_pmra': array(0.14388761), 'model_pmdec': array(-0.10209456), 'model_rv': array(-307.84056522)}\n"
     ]
    },
    {
     "name": "stderr",
     "output_type": "stream",
     "text": [
      "Multiprocess sampling (4 chains in 4 jobs)\n",
      "NUTS: [vtravel_lat, vtravel_lon, vtravel_mag, alpha, ln(1-e), eta, M, r]\n"
     ]
    },
    {
     "data": {
      "text/html": [
       "\n",
       "    <div>\n",
       "        <style>\n",
       "            /* Turns off some styling */\n",
       "            progress {\n",
       "                /* gets rid of default border in Firefox and Opera. */\n",
       "                border: none;\n",
       "                /* Needs to be in here for Safari polyfill so background images work as expected. */\n",
       "                background-size: auto;\n",
       "            }\n",
       "            .progress-bar-interrupted, .progress-bar-interrupted::-webkit-progress-bar {\n",
       "                background: #F44336;\n",
       "            }\n",
       "        </style>\n",
       "      <progress value='48000' class='' max='48000' style='width:300px; height:20px; vertical-align: middle;'></progress>\n",
       "      100.00% [48000/48000 02:05<00:00 Sampling 4 chains, 117 divergences]\n",
       "    </div>\n",
       "    "
      ],
      "text/plain": [
       "<IPython.core.display.HTML object>"
      ]
     },
     "metadata": {},
     "output_type": "display_data"
    },
    {
     "name": "stderr",
     "output_type": "stream",
     "text": [
      "Sampling 4 chains for 4_000 tune and 8_000 draw iterations (16_000 + 32_000 draws total) took 135 seconds.\n",
      "There were 11 divergences after tuning. Increase `target_accept` or reparameterize.\n",
      "There were 75 divergences after tuning. Increase `target_accept` or reparameterize.\n",
      "There were 12 divergences after tuning. Increase `target_accept` or reparameterize.\n",
      "There were 19 divergences after tuning. Increase `target_accept` or reparameterize.\n",
      "The number of effective samples is smaller than 10% for some parameters.\n",
      "optimizing logp for variables: [vtravel_lat, vtravel_lon, vtravel_mag, alpha, ln(1-e), eta, M, r]\n"
     ]
    },
    {
     "data": {
      "text/html": [
       "\n",
       "    <div>\n",
       "        <style>\n",
       "            /* Turns off some styling */\n",
       "            progress {\n",
       "                /* gets rid of default border in Firefox and Opera. */\n",
       "                border: none;\n",
       "                /* Needs to be in here for Safari polyfill so background images work as expected. */\n",
       "                background-size: auto;\n",
       "            }\n",
       "            .progress-bar-interrupted, .progress-bar-interrupted::-webkit-progress-bar {\n",
       "                background: #F44336;\n",
       "            }\n",
       "        </style>\n",
       "      <progress value='91' class='' max='91' style='width:300px; height:20px; vertical-align: middle;'></progress>\n",
       "      100.00% [91/91 00:00<00:00 logp = 4.163e+01]\n",
       "    </div>\n",
       "    "
      ],
      "text/plain": [
       "<IPython.core.display.HTML object>"
      ]
     },
     "metadata": {},
     "output_type": "display_data"
    },
    {
     "name": "stdout",
     "output_type": "stream",
     "text": [
      "\n"
     ]
    },
    {
     "name": "stderr",
     "output_type": "stream",
     "text": [
      "message: Optimization terminated successfully.\n",
      "logp: -2674.6081705517868 -> 41.62559835516872\n"
     ]
    },
    {
     "name": "stdout",
     "output_type": "stream",
     "text": [
      "{'r_interval__': array(-2.61820381), 'M_interval__': array(-1.50936565), 'eta_angle__': array([-3.74286283, -2.44764733]), 'ln(1-e)_interval__': array(1.421308), 'alpha_angle__': array([ 0.88869314, -4.38294699]), 'vtravel_mag': array(40.90848781), 'vtravel_lon': array(0.96728795), 'vtravel_lat': array(-0.5866215), 'r': array(772.96243499), 'M': array(4.03014005), 'eta': array(-2.14994375), 'sineta': array(-0.83692958), 'coseta': array(-0.54731059), 'ln(1-e)': array(-1.94456612), 'e': array(0.85695072), 'a': array(526.1762129), 'vscale': array(185.62156512), 'vrad': array(-90.62458287), 'vtan': array(65.12448083), 'tperi': array(13.74943083), 'sun_m31_dist': array(768.93763707), 'm31_icrs_xyz': array([567.93163018, 107.15481655, 507.18497457]), 'alpha': array(2.94154317), 'model_pmra': array(0.14587694), 'model_pmdec': array(-0.10225004), 'model_rv': array(-307.8413214)}\n"
     ]
    },
    {
     "name": "stderr",
     "output_type": "stream",
     "text": [
      "Multiprocess sampling (4 chains in 4 jobs)\n",
      "NUTS: [vtravel_lat, vtravel_lon, vtravel_mag, alpha, ln(1-e), eta, M, r]\n"
     ]
    },
    {
     "data": {
      "text/html": [
       "\n",
       "    <div>\n",
       "        <style>\n",
       "            /* Turns off some styling */\n",
       "            progress {\n",
       "                /* gets rid of default border in Firefox and Opera. */\n",
       "                border: none;\n",
       "                /* Needs to be in here for Safari polyfill so background images work as expected. */\n",
       "                background-size: auto;\n",
       "            }\n",
       "            .progress-bar-interrupted, .progress-bar-interrupted::-webkit-progress-bar {\n",
       "                background: #F44336;\n",
       "            }\n",
       "        </style>\n",
       "      <progress value='48000' class='' max='48000' style='width:300px; height:20px; vertical-align: middle;'></progress>\n",
       "      100.00% [48000/48000 02:22<00:00 Sampling 4 chains, 56 divergences]\n",
       "    </div>\n",
       "    "
      ],
      "text/plain": [
       "<IPython.core.display.HTML object>"
      ]
     },
     "metadata": {},
     "output_type": "display_data"
    },
    {
     "name": "stderr",
     "output_type": "stream",
     "text": [
      "INFO (theano.gof.compilelock): Waiting for existing lock by process '99810' (I am process '99880')\n",
      "INFO (theano.gof.compilelock): To manually release the lock, delete /Users/katiechambe/.theano/compiledir_macOS-10.15.7-x86_64-i386-64bit-i386-3.9.5-64/lock_dir\n",
      "Sampling 4 chains for 4_000 tune and 8_000 draw iterations (16_000 + 32_000 draws total) took 153 seconds.\n",
      "There were 16 divergences after tuning. Increase `target_accept` or reparameterize.\n",
      "There were 19 divergences after tuning. Increase `target_accept` or reparameterize.\n",
      "There were 13 divergences after tuning. Increase `target_accept` or reparameterize.\n",
      "There were 8 divergences after tuning. Increase `target_accept` or reparameterize.\n",
      "The number of effective samples is smaller than 25% for some parameters.\n",
      "optimizing logp for variables: [vtravel_lat, vtravel_lon, vtravel_mag, alpha, ln(1-e), eta, M, r]\n"
     ]
    },
    {
     "data": {
      "text/html": [
       "\n",
       "    <div>\n",
       "        <style>\n",
       "            /* Turns off some styling */\n",
       "            progress {\n",
       "                /* gets rid of default border in Firefox and Opera. */\n",
       "                border: none;\n",
       "                /* Needs to be in here for Safari polyfill so background images work as expected. */\n",
       "                background-size: auto;\n",
       "            }\n",
       "            .progress-bar-interrupted, .progress-bar-interrupted::-webkit-progress-bar {\n",
       "                background: #F44336;\n",
       "            }\n",
       "        </style>\n",
       "      <progress value='95' class='' max='95' style='width:300px; height:20px; vertical-align: middle;'></progress>\n",
       "      100.00% [95/95 00:00<00:00 logp = 4.168e+01]\n",
       "    </div>\n",
       "    "
      ],
      "text/plain": [
       "<IPython.core.display.HTML object>"
      ]
     },
     "metadata": {},
     "output_type": "display_data"
    },
    {
     "name": "stdout",
     "output_type": "stream",
     "text": [
      "\n"
     ]
    },
    {
     "name": "stderr",
     "output_type": "stream",
     "text": [
      "message: Optimization terminated successfully.\n",
      "logp: -2790.829993349723 -> 41.680689631819874\n"
     ]
    },
    {
     "name": "stdout",
     "output_type": "stream",
     "text": [
      "{'r_interval__': array(-2.61761701), 'M_interval__': array(-1.52121621), 'eta_angle__': array([-3.71665406, -2.48726407]), 'ln(1-e)_interval__': array(1.48705591), 'alpha_angle__': array([ 0.99200008, -4.36072652]), 'vtravel_mag': array(46.02204847), 'vtravel_lon': array(0.96603758), 'vtravel_lat': array(-0.5867323), 'r': array(773.33057629), 'M': array(3.99600868), 'eta': array(-2.16056544), 'sineta': array(-0.83106911), 'coseta': array(-0.55616915), 'ln(1-e)': array(-1.84364031), 'e': array(0.84175967), 'a': array(526.73426259), 'vscale': array(184.73593945), 'vrad': array(-88.02439237), 'vtan': array(67.9286296), 'tperi': array(13.74939607), 'sun_m31_dist': array(769.30579462), 'm31_icrs_xyz': array([568.20354862, 107.20612091, 507.42780828]), 'alpha': array(2.91791417), 'model_pmra': array(0.14776835), 'model_pmdec': array(-0.10226335), 'model_rv': array(-307.84207945)}\n"
     ]
    },
    {
     "name": "stderr",
     "output_type": "stream",
     "text": [
      "Multiprocess sampling (4 chains in 4 jobs)\n",
      "NUTS: [vtravel_lat, vtravel_lon, vtravel_mag, alpha, ln(1-e), eta, M, r]\n"
     ]
    },
    {
     "data": {
      "text/html": [
       "\n",
       "    <div>\n",
       "        <style>\n",
       "            /* Turns off some styling */\n",
       "            progress {\n",
       "                /* gets rid of default border in Firefox and Opera. */\n",
       "                border: none;\n",
       "                /* Needs to be in here for Safari polyfill so background images work as expected. */\n",
       "                background-size: auto;\n",
       "            }\n",
       "            .progress-bar-interrupted, .progress-bar-interrupted::-webkit-progress-bar {\n",
       "                background: #F44336;\n",
       "            }\n",
       "        </style>\n",
       "      <progress value='48000' class='' max='48000' style='width:300px; height:20px; vertical-align: middle;'></progress>\n",
       "      100.00% [48000/48000 02:06<00:00 Sampling 4 chains, 1,221 divergences]\n",
       "    </div>\n",
       "    "
      ],
      "text/plain": [
       "<IPython.core.display.HTML object>"
      ]
     },
     "metadata": {},
     "output_type": "display_data"
    },
    {
     "name": "stderr",
     "output_type": "stream",
     "text": [
      "INFO (theano.gof.compilelock): Waiting for existing lock by process '911' (I am process '980')\n",
      "INFO (theano.gof.compilelock): To manually release the lock, delete /Users/katiechambe/.theano/compiledir_macOS-10.15.7-x86_64-i386-64bit-i386-3.9.5-64/lock_dir\n",
      "Sampling 4 chains for 4_000 tune and 8_000 draw iterations (16_000 + 32_000 draws total) took 137 seconds.\n",
      "There were 298 divergences after tuning. Increase `target_accept` or reparameterize.\n",
      "The acceptance probability does not match the target. It is 0.7929124320675028, but should be close to 0.9. Try to increase the number of tuning steps.\n",
      "There were 846 divergences after tuning. Increase `target_accept` or reparameterize.\n",
      "The acceptance probability does not match the target. It is 0.715745530751151, but should be close to 0.9. Try to increase the number of tuning steps.\n",
      "There were 69 divergences after tuning. Increase `target_accept` or reparameterize.\n",
      "There were 8 divergences after tuning. Increase `target_accept` or reparameterize.\n",
      "The estimated number of effective samples is smaller than 200 for some parameters.\n",
      "optimizing logp for variables: [vtravel_lat, vtravel_lon, vtravel_mag, alpha, ln(1-e), eta, M, r]\n"
     ]
    },
    {
     "data": {
      "text/html": [
       "\n",
       "    <div>\n",
       "        <style>\n",
       "            /* Turns off some styling */\n",
       "            progress {\n",
       "                /* gets rid of default border in Firefox and Opera. */\n",
       "                border: none;\n",
       "                /* Needs to be in here for Safari polyfill so background images work as expected. */\n",
       "                background-size: auto;\n",
       "            }\n",
       "            .progress-bar-interrupted, .progress-bar-interrupted::-webkit-progress-bar {\n",
       "                background: #F44336;\n",
       "            }\n",
       "        </style>\n",
       "      <progress value='94' class='' max='94' style='width:300px; height:20px; vertical-align: middle;'></progress>\n",
       "      100.00% [94/94 00:00<00:00 logp = 4.173e+01]\n",
       "    </div>\n",
       "    "
      ],
      "text/plain": [
       "<IPython.core.display.HTML object>"
      ]
     },
     "metadata": {},
     "output_type": "display_data"
    },
    {
     "name": "stdout",
     "output_type": "stream",
     "text": [
      "\n"
     ]
    },
    {
     "name": "stderr",
     "output_type": "stream",
     "text": [
      "message: Optimization terminated successfully.\n",
      "logp: -2914.076721526452 -> 41.72808426885671\n"
     ]
    },
    {
     "name": "stdout",
     "output_type": "stream",
     "text": [
      "{'r_interval__': array(-2.6170752), 'M_interval__': array(-1.53090135), 'eta_angle__': array([-3.6901087 , -2.52647935]), 'ln(1-e)_interval__': array(1.55395153), 'alpha_angle__': array([ 1.0806494 , -4.33960792]), 'vtravel_mag': array(51.13560914), 'vtravel_lon': array(0.96478614), 'vtravel_lat': array(-0.58687994), 'r': array(773.67066438), 'M': array(3.968306), 'eta': array(-2.17115438), 'sineta': array(-0.82513339), 'coseta': array(-0.56493796), 'ln(1-e)': array(-1.74516278), 'e': array(0.82538344), 'a': array(527.63807771), 'vscale': array(183.93673711), 'vrad': array(-85.43353712), 'vtan': array(70.82201009), 'tperi': array(13.74936187), 'sun_m31_dist': array(769.64589772), 'm31_icrs_xyz': array([568.45474624, 107.25351576, 507.6521375 ]), 'alpha': array(2.8975365), 'model_pmra': array(0.14956426), 'model_pmdec': array(-0.10217069), 'model_rv': array(-307.84284052)}\n"
     ]
    },
    {
     "name": "stderr",
     "output_type": "stream",
     "text": [
      "Multiprocess sampling (4 chains in 4 jobs)\n",
      "NUTS: [vtravel_lat, vtravel_lon, vtravel_mag, alpha, ln(1-e), eta, M, r]\n"
     ]
    },
    {
     "data": {
      "text/html": [
       "\n",
       "    <div>\n",
       "        <style>\n",
       "            /* Turns off some styling */\n",
       "            progress {\n",
       "                /* gets rid of default border in Firefox and Opera. */\n",
       "                border: none;\n",
       "                /* Needs to be in here for Safari polyfill so background images work as expected. */\n",
       "                background-size: auto;\n",
       "            }\n",
       "            .progress-bar-interrupted, .progress-bar-interrupted::-webkit-progress-bar {\n",
       "                background: #F44336;\n",
       "            }\n",
       "        </style>\n",
       "      <progress value='48000' class='' max='48000' style='width:300px; height:20px; vertical-align: middle;'></progress>\n",
       "      100.00% [48000/48000 02:18<00:00 Sampling 4 chains, 291 divergences]\n",
       "    </div>\n",
       "    "
      ],
      "text/plain": [
       "<IPython.core.display.HTML object>"
      ]
     },
     "metadata": {},
     "output_type": "display_data"
    },
    {
     "name": "stderr",
     "output_type": "stream",
     "text": [
      "INFO (theano.gof.compilelock): Waiting for existing lock by process '1600' (I am process '1670')\n",
      "INFO (theano.gof.compilelock): To manually release the lock, delete /Users/katiechambe/.theano/compiledir_macOS-10.15.7-x86_64-i386-64bit-i386-3.9.5-64/lock_dir\n",
      "Sampling 4 chains for 4_000 tune and 8_000 draw iterations (16_000 + 32_000 draws total) took 150 seconds.\n",
      "There were 16 divergences after tuning. Increase `target_accept` or reparameterize.\n",
      "There were 12 divergences after tuning. Increase `target_accept` or reparameterize.\n",
      "There were 250 divergences after tuning. Increase `target_accept` or reparameterize.\n",
      "There were 13 divergences after tuning. Increase `target_accept` or reparameterize.\n",
      "The number of effective samples is smaller than 10% for some parameters.\n",
      "optimizing logp for variables: [vtravel_lat, vtravel_lon, vtravel_mag, alpha, ln(1-e), eta, M, r]\n"
     ]
    },
    {
     "data": {
      "text/html": [
       "\n",
       "    <div>\n",
       "        <style>\n",
       "            /* Turns off some styling */\n",
       "            progress {\n",
       "                /* gets rid of default border in Firefox and Opera. */\n",
       "                border: none;\n",
       "                /* Needs to be in here for Safari polyfill so background images work as expected. */\n",
       "                background-size: auto;\n",
       "            }\n",
       "            .progress-bar-interrupted, .progress-bar-interrupted::-webkit-progress-bar {\n",
       "                background: #F44336;\n",
       "            }\n",
       "        </style>\n",
       "      <progress value='95' class='' max='95' style='width:300px; height:20px; vertical-align: middle;'></progress>\n",
       "      100.00% [95/95 00:00<00:00 logp = 4.177e+01]\n",
       "    </div>\n",
       "    "
      ],
      "text/plain": [
       "<IPython.core.display.HTML object>"
      ]
     },
     "metadata": {},
     "output_type": "display_data"
    },
    {
     "name": "stdout",
     "output_type": "stream",
     "text": [
      "\n"
     ]
    },
    {
     "name": "stderr",
     "output_type": "stream",
     "text": [
      "message: Optimization terminated successfully.\n",
      "logp: -3044.34835508198 -> 41.767885944636376\n"
     ]
    },
    {
     "name": "stdout",
     "output_type": "stream",
     "text": [
      "{'r_interval__': array(-2.61657248), 'M_interval__': array(-1.53833264), 'eta_angle__': array([-3.66323515, -2.5652891 ]), 'ln(1-e)_interval__': array(1.62189906), 'alpha_angle__': array([ 1.15741483, -4.3197675 ]), 'vtravel_mag': array(56.24916981), 'vtravel_lon': array(0.96352341), 'vtravel_lat': array(-0.58704757), 'r': array(773.98635538), 'M': array(3.94716693), 'eta': array(-2.18170996), 'sineta': array(-0.81912428), 'coseta': array(-0.57361608), 'ln(1-e)': array(-1.64943133), 'e': array(0.80784085), 'a': array(528.89939784), 'vscale': array(183.22729769), 'vrad': array(-82.85248797), 'vtan': array(73.79731803), 'tperi': array(13.74932812), 'sun_m31_dist': array(769.96160264), 'm31_icrs_xyz': array([568.68792355, 107.29751062, 507.86037388]), 'alpha': array(2.87980696), 'model_pmra': array(0.1512699), 'model_pmdec': array(-0.10199866), 'model_rv': array(-307.84360631)}\n"
     ]
    },
    {
     "name": "stderr",
     "output_type": "stream",
     "text": [
      "Multiprocess sampling (4 chains in 4 jobs)\n",
      "NUTS: [vtravel_lat, vtravel_lon, vtravel_mag, alpha, ln(1-e), eta, M, r]\n"
     ]
    },
    {
     "data": {
      "text/html": [
       "\n",
       "    <div>\n",
       "        <style>\n",
       "            /* Turns off some styling */\n",
       "            progress {\n",
       "                /* gets rid of default border in Firefox and Opera. */\n",
       "                border: none;\n",
       "                /* Needs to be in here for Safari polyfill so background images work as expected. */\n",
       "                background-size: auto;\n",
       "            }\n",
       "            .progress-bar-interrupted, .progress-bar-interrupted::-webkit-progress-bar {\n",
       "                background: #F44336;\n",
       "            }\n",
       "        </style>\n",
       "      <progress value='48000' class='' max='48000' style='width:300px; height:20px; vertical-align: middle;'></progress>\n",
       "      100.00% [48000/48000 02:00<00:00 Sampling 4 chains, 101 divergences]\n",
       "    </div>\n",
       "    "
      ],
      "text/plain": [
       "<IPython.core.display.HTML object>"
      ]
     },
     "metadata": {},
     "output_type": "display_data"
    },
    {
     "name": "stderr",
     "output_type": "stream",
     "text": [
      "INFO (theano.gof.compilelock): Waiting for existing lock by process '2312' (I am process '2343')\n",
      "INFO (theano.gof.compilelock): To manually release the lock, delete /Users/katiechambe/.theano/compiledir_macOS-10.15.7-x86_64-i386-64bit-i386-3.9.5-64/lock_dir\n",
      "Sampling 4 chains for 4_000 tune and 8_000 draw iterations (16_000 + 32_000 draws total) took 131 seconds.\n",
      "There were 10 divergences after tuning. Increase `target_accept` or reparameterize.\n",
      "There were 21 divergences after tuning. Increase `target_accept` or reparameterize.\n",
      "There were 51 divergences after tuning. Increase `target_accept` or reparameterize.\n",
      "There were 19 divergences after tuning. Increase `target_accept` or reparameterize.\n",
      "The number of effective samples is smaller than 10% for some parameters.\n",
      "optimizing logp for variables: [vtravel_lat, vtravel_lon, vtravel_mag, alpha, ln(1-e), eta, M, r]\n"
     ]
    },
    {
     "data": {
      "text/html": [
       "\n",
       "    <div>\n",
       "        <style>\n",
       "            /* Turns off some styling */\n",
       "            progress {\n",
       "                /* gets rid of default border in Firefox and Opera. */\n",
       "                border: none;\n",
       "                /* Needs to be in here for Safari polyfill so background images work as expected. */\n",
       "                background-size: auto;\n",
       "            }\n",
       "            .progress-bar-interrupted, .progress-bar-interrupted::-webkit-progress-bar {\n",
       "                background: #F44336;\n",
       "            }\n",
       "        </style>\n",
       "      <progress value='100' class='' max='100' style='width:300px; height:20px; vertical-align: middle;'></progress>\n",
       "      100.00% [100/100 00:00<00:00 logp = 4.180e+01]\n",
       "    </div>\n",
       "    "
      ],
      "text/plain": [
       "<IPython.core.display.HTML object>"
      ]
     },
     "metadata": {},
     "output_type": "display_data"
    },
    {
     "name": "stdout",
     "output_type": "stream",
     "text": [
      "\n"
     ]
    },
    {
     "name": "stderr",
     "output_type": "stream",
     "text": [
      "message: Optimization terminated successfully.\n",
      "logp: -3181.6448940163114 -> 41.80022069756835\n"
     ]
    },
    {
     "name": "stdout",
     "output_type": "stream",
     "text": [
      "{'r_interval__': array(-2.61610387), 'M_interval__': array(-1.54343922), 'eta_angle__': array([-3.63604238, -2.60368897]), 'ln(1-e)_interval__': array(1.69081494), 'alpha_angle__': array([ 1.22443922, -4.3012497 ]), 'vtravel_mag': array(61.36273049), 'vtravel_lon': array(0.96223896), 'vtravel_lat': array(-0.58722311), 'r': array(774.28075056), 'M': array(3.93269945), 'eta': array(-2.19223141), 'sineta': array(-0.81304378), 'coseta': array(-0.58220255), 'ln(1-e)': array(-1.55668698), 'e': array(0.78916659), 'a': array(530.52739399), 'vscale': array(182.61037067), 'vrad': array(-80.28185772), 'vtan': array(76.8475271), 'tperi': array(13.74929471), 'sun_m31_dist': array(770.25601079), 'm31_icrs_xyz': array([568.90537122, 107.33853768, 508.05456309]), 'alpha': array(2.8642582), 'model_pmra': array(0.15289208), 'model_pmdec': array(-0.10176692), 'model_rv': array(-307.84437851)}\n"
     ]
    },
    {
     "name": "stderr",
     "output_type": "stream",
     "text": [
      "Multiprocess sampling (4 chains in 4 jobs)\n",
      "NUTS: [vtravel_lat, vtravel_lon, vtravel_mag, alpha, ln(1-e), eta, M, r]\n"
     ]
    },
    {
     "data": {
      "text/html": [
       "\n",
       "    <div>\n",
       "        <style>\n",
       "            /* Turns off some styling */\n",
       "            progress {\n",
       "                /* gets rid of default border in Firefox and Opera. */\n",
       "                border: none;\n",
       "                /* Needs to be in here for Safari polyfill so background images work as expected. */\n",
       "                background-size: auto;\n",
       "            }\n",
       "            .progress-bar-interrupted, .progress-bar-interrupted::-webkit-progress-bar {\n",
       "                background: #F44336;\n",
       "            }\n",
       "        </style>\n",
       "      <progress value='48000' class='' max='48000' style='width:300px; height:20px; vertical-align: middle;'></progress>\n",
       "      100.00% [48000/48000 02:08<00:00 Sampling 4 chains, 387 divergences]\n",
       "    </div>\n",
       "    "
      ],
      "text/plain": [
       "<IPython.core.display.HTML object>"
      ]
     },
     "metadata": {},
     "output_type": "display_data"
    },
    {
     "name": "stderr",
     "output_type": "stream",
     "text": [
      "INFO (theano.gof.compilelock): Waiting for existing lock by process '2974' (I am process '3043')\n",
      "INFO (theano.gof.compilelock): To manually release the lock, delete /Users/katiechambe/.theano/compiledir_macOS-10.15.7-x86_64-i386-64bit-i386-3.9.5-64/lock_dir\n",
      "Sampling 4 chains for 4_000 tune and 8_000 draw iterations (16_000 + 32_000 draws total) took 138 seconds.\n",
      "There were 217 divergences after tuning. Increase `target_accept` or reparameterize.\n",
      "There were 147 divergences after tuning. Increase `target_accept` or reparameterize.\n",
      "There were 6 divergences after tuning. Increase `target_accept` or reparameterize.\n",
      "There were 17 divergences after tuning. Increase `target_accept` or reparameterize.\n",
      "The number of effective samples is smaller than 10% for some parameters.\n",
      "optimizing logp for variables: [vtravel_lat, vtravel_lon, vtravel_mag, alpha, ln(1-e), eta, M, r]\n"
     ]
    },
    {
     "data": {
      "text/html": [
       "\n",
       "    <div>\n",
       "        <style>\n",
       "            /* Turns off some styling */\n",
       "            progress {\n",
       "                /* gets rid of default border in Firefox and Opera. */\n",
       "                border: none;\n",
       "                /* Needs to be in here for Safari polyfill so background images work as expected. */\n",
       "                background-size: auto;\n",
       "            }\n",
       "            .progress-bar-interrupted, .progress-bar-interrupted::-webkit-progress-bar {\n",
       "                background: #F44336;\n",
       "            }\n",
       "        </style>\n",
       "      <progress value='88' class='' max='88' style='width:300px; height:20px; vertical-align: middle;'></progress>\n",
       "      100.00% [88/88 00:00<00:00 logp = 4.183e+01]\n",
       "    </div>\n",
       "    "
      ],
      "text/plain": [
       "<IPython.core.display.HTML object>"
      ]
     },
     "metadata": {},
     "output_type": "display_data"
    },
    {
     "name": "stdout",
     "output_type": "stream",
     "text": [
      "\n"
     ]
    },
    {
     "name": "stderr",
     "output_type": "stream",
     "text": [
      "message: Optimization terminated successfully.\n",
      "logp: -3325.9663383294314 -> 41.825220654920386\n"
     ]
    },
    {
     "name": "stdout",
     "output_type": "stream",
     "text": [
      "{'r_interval__': array(-2.61566513), 'M_interval__': array(-1.54616967), 'eta_angle__': array([-3.60853933, -2.64167444]), 'ln(1-e)_interval__': array(1.76062592), 'alpha_angle__': array([ 1.28339806, -4.28402723]), 'vtravel_mag': array(66.47629117), 'vtravel_lon': array(0.96092241), 'vtravel_lat': array(-0.58739766), 'r': array(774.55648392), 'M': array(3.92498342), 'eta': array(-2.20271791), 'sineta': array(-0.80689392), 'coseta': array(-0.59069636), 'ln(1-e)': array(-1.46711965), 'e': array(0.76941129), 'a': array(532.52845143), 'vscale': array(182.08806126), 'vrad': array(-77.72239892), 'vtan': array(79.96585904), 'tperi': array(13.74926154), 'sun_m31_dist': array(770.53175629), 'm31_icrs_xyz': array([569.1090348 , 107.37696402, 508.23644257]), 'alpha': array(2.85052354), 'model_pmra': array(0.15443845), 'model_pmdec': array(-0.1014899), 'model_rv': array(-307.84515939)}\n"
     ]
    },
    {
     "name": "stderr",
     "output_type": "stream",
     "text": [
      "Multiprocess sampling (4 chains in 4 jobs)\n",
      "NUTS: [vtravel_lat, vtravel_lon, vtravel_mag, alpha, ln(1-e), eta, M, r]\n"
     ]
    },
    {
     "data": {
      "text/html": [
       "\n",
       "    <div>\n",
       "        <style>\n",
       "            /* Turns off some styling */\n",
       "            progress {\n",
       "                /* gets rid of default border in Firefox and Opera. */\n",
       "                border: none;\n",
       "                /* Needs to be in here for Safari polyfill so background images work as expected. */\n",
       "                background-size: auto;\n",
       "            }\n",
       "            .progress-bar-interrupted, .progress-bar-interrupted::-webkit-progress-bar {\n",
       "                background: #F44336;\n",
       "            }\n",
       "        </style>\n",
       "      <progress value='48000' class='' max='48000' style='width:300px; height:20px; vertical-align: middle;'></progress>\n",
       "      100.00% [48000/48000 01:58<00:00 Sampling 4 chains, 59 divergences]\n",
       "    </div>\n",
       "    "
      ],
      "text/plain": [
       "<IPython.core.display.HTML object>"
      ]
     },
     "metadata": {},
     "output_type": "display_data"
    },
    {
     "name": "stderr",
     "output_type": "stream",
     "text": [
      "INFO (theano.gof.compilelock): Waiting for existing lock by process '3655' (I am process '3724')\n",
      "INFO (theano.gof.compilelock): To manually release the lock, delete /Users/katiechambe/.theano/compiledir_macOS-10.15.7-x86_64-i386-64bit-i386-3.9.5-64/lock_dir\n",
      "Sampling 4 chains for 4_000 tune and 8_000 draw iterations (16_000 + 32_000 draws total) took 129 seconds.\n",
      "There was 1 divergence after tuning. Increase `target_accept` or reparameterize.\n",
      "There were 7 divergences after tuning. Increase `target_accept` or reparameterize.\n",
      "There were 18 divergences after tuning. Increase `target_accept` or reparameterize.\n",
      "There were 33 divergences after tuning. Increase `target_accept` or reparameterize.\n",
      "The number of effective samples is smaller than 25% for some parameters.\n",
      "optimizing logp for variables: [vtravel_lat, vtravel_lon, vtravel_mag, alpha, ln(1-e), eta, M, r]\n"
     ]
    },
    {
     "data": {
      "text/html": [
       "\n",
       "    <div>\n",
       "        <style>\n",
       "            /* Turns off some styling */\n",
       "            progress {\n",
       "                /* gets rid of default border in Firefox and Opera. */\n",
       "                border: none;\n",
       "                /* Needs to be in here for Safari polyfill so background images work as expected. */\n",
       "                background-size: auto;\n",
       "            }\n",
       "            .progress-bar-interrupted, .progress-bar-interrupted::-webkit-progress-bar {\n",
       "                background: #F44336;\n",
       "            }\n",
       "        </style>\n",
       "      <progress value='100' class='' max='100' style='width:300px; height:20px; vertical-align: middle;'></progress>\n",
       "      100.00% [100/100 00:00<00:00 logp = 4.184e+01]\n",
       "    </div>\n",
       "    "
      ],
      "text/plain": [
       "<IPython.core.display.HTML object>"
      ]
     },
     "metadata": {},
     "output_type": "display_data"
    },
    {
     "name": "stdout",
     "output_type": "stream",
     "text": [
      "\n"
     ]
    },
    {
     "name": "stderr",
     "output_type": "stream",
     "text": [
      "message: Optimization terminated successfully.\n",
      "logp: -3477.3126880213554 -> 41.843012556381176\n"
     ]
    },
    {
     "name": "stdout",
     "output_type": "stream",
     "text": [
      "{'r_interval__': array(-2.61525254), 'M_interval__': array(-1.54649307), 'eta_angle__': array([-3.58073508, -2.67924152]), 'ln(1-e)_interval__': array(1.83126734), 'alpha_angle__': array([ 1.33561828, -4.26803503]), 'vtravel_mag': array(71.58985184), 'vtravel_lon': array(0.95956335), 'vtravel_lat': array(-0.58756475), 'r': array(774.8158856), 'M': array(3.92407043), 'eta': array(-2.21316871), 'sineta': array(-0.80067673), 'coseta': array(-0.59909663), 'ln(1-e)': array(-1.38087366), 'e': array(0.74864115), 'a': array(534.90603877), 'vscale': array(181.6617997), 'vrad': array(-75.17501017), 'vtan': array(83.14574657), 'tperi': array(13.74922849), 'sun_m31_dist': array(770.79116938), 'm31_icrs_xyz': array([569.30063539, 107.41311437, 508.40754932]), 'alpha': array(2.83831138), 'model_pmra': array(0.15591713), 'model_pmdec': array(-0.10117823), 'model_rv': array(-307.84595126)}\n"
     ]
    },
    {
     "name": "stderr",
     "output_type": "stream",
     "text": [
      "Multiprocess sampling (4 chains in 4 jobs)\n",
      "NUTS: [vtravel_lat, vtravel_lon, vtravel_mag, alpha, ln(1-e), eta, M, r]\n"
     ]
    },
    {
     "data": {
      "text/html": [
       "\n",
       "    <div>\n",
       "        <style>\n",
       "            /* Turns off some styling */\n",
       "            progress {\n",
       "                /* gets rid of default border in Firefox and Opera. */\n",
       "                border: none;\n",
       "                /* Needs to be in here for Safari polyfill so background images work as expected. */\n",
       "                background-size: auto;\n",
       "            }\n",
       "            .progress-bar-interrupted, .progress-bar-interrupted::-webkit-progress-bar {\n",
       "                background: #F44336;\n",
       "            }\n",
       "        </style>\n",
       "      <progress value='48000' class='' max='48000' style='width:300px; height:20px; vertical-align: middle;'></progress>\n",
       "      100.00% [48000/48000 02:07<00:00 Sampling 4 chains, 27 divergences]\n",
       "    </div>\n",
       "    "
      ],
      "text/plain": [
       "<IPython.core.display.HTML object>"
      ]
     },
     "metadata": {},
     "output_type": "display_data"
    },
    {
     "name": "stderr",
     "output_type": "stream",
     "text": [
      "INFO (theano.gof.compilelock): Waiting for existing lock by process '4308' (I am process '4339')\n",
      "INFO (theano.gof.compilelock): To manually release the lock, delete /Users/katiechambe/.theano/compiledir_macOS-10.15.7-x86_64-i386-64bit-i386-3.9.5-64/lock_dir\n",
      "Sampling 4 chains for 4_000 tune and 8_000 draw iterations (16_000 + 32_000 draws total) took 138 seconds.\n",
      "There were 3 divergences after tuning. Increase `target_accept` or reparameterize.\n",
      "There were 3 divergences after tuning. Increase `target_accept` or reparameterize.\n",
      "There were 20 divergences after tuning. Increase `target_accept` or reparameterize.\n",
      "There was 1 divergence after tuning. Increase `target_accept` or reparameterize.\n",
      "The number of effective samples is smaller than 25% for some parameters.\n",
      "optimizing logp for variables: [vtravel_lat, vtravel_lon, vtravel_mag, alpha, ln(1-e), eta, M, r]\n"
     ]
    },
    {
     "data": {
      "text/html": [
       "\n",
       "    <div>\n",
       "        <style>\n",
       "            /* Turns off some styling */\n",
       "            progress {\n",
       "                /* gets rid of default border in Firefox and Opera. */\n",
       "                border: none;\n",
       "                /* Needs to be in here for Safari polyfill so background images work as expected. */\n",
       "                background-size: auto;\n",
       "            }\n",
       "            .progress-bar-interrupted, .progress-bar-interrupted::-webkit-progress-bar {\n",
       "                background: #F44336;\n",
       "            }\n",
       "        </style>\n",
       "      <progress value='99' class='' max='99' style='width:300px; height:20px; vertical-align: middle;'></progress>\n",
       "      100.00% [99/99 00:00<00:00 logp = 4.185e+01]\n",
       "    </div>\n",
       "    "
      ],
      "text/plain": [
       "<IPython.core.display.HTML object>"
      ]
     },
     "metadata": {},
     "output_type": "display_data"
    },
    {
     "name": "stdout",
     "output_type": "stream",
     "text": [
      "\n"
     ]
    },
    {
     "name": "stderr",
     "output_type": "stream",
     "text": [
      "message: Optimization terminated successfully.\n",
      "logp: -3635.683943092077 -> 41.85370947674408\n"
     ]
    },
    {
     "name": "stdout",
     "output_type": "stream",
     "text": [
      "{'r_interval__': array(-2.61486279), 'M_interval__': array(-1.5443998), 'eta_angle__': array([-3.552639 , -2.7163865]), 'ln(1-e)_interval__': array(1.90268221), 'alpha_angle__': array([ 1.38216189, -4.25319036]), 'vtravel_mag': array(76.70341253), 'vtravel_lon': array(0.95815128), 'vtravel_lat': array(-0.58771957), 'r': array(775.06100738), 'M': array(3.92998337), 'eta': array(-2.22358302), 'sineta': array(-0.79439424), 'coseta': array(-0.60740249), 'ln(1-e)': array(-1.29805202), 'e': array(0.7269368), 'a': array(537.66060747), 'vscale': array(181.33231808), 'vrad': array(-72.6407445), 'vtan': array(86.38082574), 'tperi': array(13.7491954), 'sun_m31_dist': array(771.03630194), 'm31_icrs_xyz': array([569.48168847, 107.44727466, 508.56923675]), 'alpha': array(2.82738733), 'model_pmra': array(0.15733641), 'model_pmdec': array(-0.10083957), 'model_rv': array(-307.84675692)}\n"
     ]
    },
    {
     "name": "stderr",
     "output_type": "stream",
     "text": [
      "Multiprocess sampling (4 chains in 4 jobs)\n",
      "NUTS: [vtravel_lat, vtravel_lon, vtravel_mag, alpha, ln(1-e), eta, M, r]\n"
     ]
    },
    {
     "data": {
      "text/html": [
       "\n",
       "    <div>\n",
       "        <style>\n",
       "            /* Turns off some styling */\n",
       "            progress {\n",
       "                /* gets rid of default border in Firefox and Opera. */\n",
       "                border: none;\n",
       "                /* Needs to be in here for Safari polyfill so background images work as expected. */\n",
       "                background-size: auto;\n",
       "            }\n",
       "            .progress-bar-interrupted, .progress-bar-interrupted::-webkit-progress-bar {\n",
       "                background: #F44336;\n",
       "            }\n",
       "        </style>\n",
       "      <progress value='48000' class='' max='48000' style='width:300px; height:20px; vertical-align: middle;'></progress>\n",
       "      100.00% [48000/48000 02:20<00:00 Sampling 4 chains, 68 divergences]\n",
       "    </div>\n",
       "    "
      ],
      "text/plain": [
       "<IPython.core.display.HTML object>"
      ]
     },
     "metadata": {},
     "output_type": "display_data"
    },
    {
     "name": "stderr",
     "output_type": "stream",
     "text": [
      "INFO (theano.gof.compilelock): Waiting for existing lock by process '4984' (I am process '5053')\n",
      "INFO (theano.gof.compilelock): To manually release the lock, delete /Users/katiechambe/.theano/compiledir_macOS-10.15.7-x86_64-i386-64bit-i386-3.9.5-64/lock_dir\n",
      "Sampling 4 chains for 4_000 tune and 8_000 draw iterations (16_000 + 32_000 draws total) took 151 seconds.\n",
      "There were 13 divergences after tuning. Increase `target_accept` or reparameterize.\n",
      "There were 54 divergences after tuning. Increase `target_accept` or reparameterize.\n",
      "There was 1 divergence after tuning. Increase `target_accept` or reparameterize.\n",
      "The number of effective samples is smaller than 25% for some parameters.\n",
      "optimizing logp for variables: [vtravel_lat, vtravel_lon, vtravel_mag, alpha, ln(1-e), eta, M, r]\n"
     ]
    },
    {
     "data": {
      "text/html": [
       "\n",
       "    <div>\n",
       "        <style>\n",
       "            /* Turns off some styling */\n",
       "            progress {\n",
       "                /* gets rid of default border in Firefox and Opera. */\n",
       "                border: none;\n",
       "                /* Needs to be in here for Safari polyfill so background images work as expected. */\n",
       "                background-size: auto;\n",
       "            }\n",
       "            .progress-bar-interrupted, .progress-bar-interrupted::-webkit-progress-bar {\n",
       "                background: #F44336;\n",
       "            }\n",
       "        </style>\n",
       "      <progress value='88' class='' max='88' style='width:300px; height:20px; vertical-align: middle;'></progress>\n",
       "      100.00% [88/88 00:00<00:00 logp = 4.186e+01]\n",
       "    </div>\n",
       "    "
      ],
      "text/plain": [
       "<IPython.core.display.HTML object>"
      ]
     },
     "metadata": {},
     "output_type": "display_data"
    },
    {
     "name": "stdout",
     "output_type": "stream",
     "text": [
      "\n"
     ]
    },
    {
     "name": "stderr",
     "output_type": "stream",
     "text": [
      "message: Optimization terminated successfully.\n",
      "logp: -3801.080103541592 -> 41.857404721691424\n"
     ]
    },
    {
     "name": "stdout",
     "output_type": "stream",
     "text": [
      "{'r_interval__': array(-2.61449286), 'M_interval__': array(-1.53990113), 'eta_angle__': array([-3.52426049, -2.75310516]), 'ln(1-e)_interval__': array(1.97482071), 'alpha_angle__': array([ 1.42388646, -4.23940414]), 'vtravel_mag': array(81.81697321), 'vtravel_lon': array(0.95667536), 'vtravel_lat': array(-0.58785837), 'r': array(775.2937402), 'M': array(3.94271814), 'eta': array(-2.23395996), 'sineta': array(-0.7880486), 'coseta': array(-0.61561303), 'ln(1-e)': array(-1.21872037), 'e': array(0.70439181), 'a': array(540.7896322), 'vscale': array(181.09966769), 'vrad': array(-70.1208274), 'vtan': array(89.66494472), 'tperi': array(13.74916214), 'sun_m31_dist': array(771.26904498), 'm31_icrs_xyz': array([569.65359076, 107.47970842, 508.72275216]), 'alpha': array(2.81756131), 'model_pmra': array(0.15870457), 'model_pmdec': array(-0.10047936), 'model_rv': array(-307.84757934)}\n"
     ]
    },
    {
     "name": "stderr",
     "output_type": "stream",
     "text": [
      "Multiprocess sampling (4 chains in 4 jobs)\n",
      "NUTS: [vtravel_lat, vtravel_lon, vtravel_mag, alpha, ln(1-e), eta, M, r]\n"
     ]
    },
    {
     "data": {
      "text/html": [
       "\n",
       "    <div>\n",
       "        <style>\n",
       "            /* Turns off some styling */\n",
       "            progress {\n",
       "                /* gets rid of default border in Firefox and Opera. */\n",
       "                border: none;\n",
       "                /* Needs to be in here for Safari polyfill so background images work as expected. */\n",
       "                background-size: auto;\n",
       "            }\n",
       "            .progress-bar-interrupted, .progress-bar-interrupted::-webkit-progress-bar {\n",
       "                background: #F44336;\n",
       "            }\n",
       "        </style>\n",
       "      <progress value='48000' class='' max='48000' style='width:300px; height:20px; vertical-align: middle;'></progress>\n",
       "      100.00% [48000/48000 02:06<00:00 Sampling 4 chains, 85 divergences]\n",
       "    </div>\n",
       "    "
      ],
      "text/plain": [
       "<IPython.core.display.HTML object>"
      ]
     },
     "metadata": {},
     "output_type": "display_data"
    },
    {
     "name": "stderr",
     "output_type": "stream",
     "text": [
      "INFO (theano.gof.compilelock): Waiting for existing lock by process '5692' (I am process '5761')\n",
      "INFO (theano.gof.compilelock): To manually release the lock, delete /Users/katiechambe/.theano/compiledir_macOS-10.15.7-x86_64-i386-64bit-i386-3.9.5-64/lock_dir\n",
      "Sampling 4 chains for 4_000 tune and 8_000 draw iterations (16_000 + 32_000 draws total) took 136 seconds.\n",
      "There were 13 divergences after tuning. Increase `target_accept` or reparameterize.\n",
      "There were 12 divergences after tuning. Increase `target_accept` or reparameterize.\n",
      "There were 58 divergences after tuning. Increase `target_accept` or reparameterize.\n",
      "There were 2 divergences after tuning. Increase `target_accept` or reparameterize.\n",
      "The number of effective samples is smaller than 25% for some parameters.\n",
      "optimizing logp for variables: [vtravel_lat, vtravel_lon, vtravel_mag, alpha, ln(1-e), eta, M, r]\n"
     ]
    },
    {
     "data": {
      "text/html": [
       "\n",
       "    <div>\n",
       "        <style>\n",
       "            /* Turns off some styling */\n",
       "            progress {\n",
       "                /* gets rid of default border in Firefox and Opera. */\n",
       "                border: none;\n",
       "                /* Needs to be in here for Safari polyfill so background images work as expected. */\n",
       "                background-size: auto;\n",
       "            }\n",
       "            .progress-bar-interrupted, .progress-bar-interrupted::-webkit-progress-bar {\n",
       "                background: #F44336;\n",
       "            }\n",
       "        </style>\n",
       "      <progress value='91' class='' max='91' style='width:300px; height:20px; vertical-align: middle;'></progress>\n",
       "      100.00% [91/91 00:00<00:00 logp = 4.185e+01]\n",
       "    </div>\n",
       "    "
      ],
      "text/plain": [
       "<IPython.core.display.HTML object>"
      ]
     },
     "metadata": {},
     "output_type": "display_data"
    },
    {
     "name": "stdout",
     "output_type": "stream",
     "text": [
      "\n"
     ]
    },
    {
     "name": "stderr",
     "output_type": "stream",
     "text": [
      "message: Optimization terminated successfully.\n",
      "logp: -3973.501169369897 -> 41.8541672254452\n"
     ]
    },
    {
     "name": "stdout",
     "output_type": "stream",
     "text": [
      "{'r_interval__': array(-2.61414002), 'M_interval__': array(-1.5330287), 'eta_angle__': array([-3.4956101 , -2.78939231]), 'ln(1-e)_interval__': array(2.04763986), 'alpha_angle__': array([ 1.46149206, -4.22658751]), 'vtravel_mag': array(86.93053389), 'vtravel_lon': array(0.95512438), 'vtravel_lat': array(-0.58797813), 'r': array(775.51578863), 'M': array(3.96224416), 'eta': array(-2.24429829), 'sineta': array(-0.78164219), 'coseta': array(-0.62372709), 'ln(1-e)': array(-1.14291077), 'e': array(0.68111054), 'a': array(544.28764659), 'vscale': array(180.96323207), 'vrad': array(-67.6166695), 'vtan': array(92.99217233), 'tperi': array(13.74912857), 'sun_m31_dist': array(771.49110316), 'm31_icrs_xyz': array([569.81760128, 107.51065319, 508.86921991]), 'alpha': array(2.80867745), 'model_pmra': array(0.16002986), 'model_pmdec': array(-0.10010132), 'model_rv': array(-307.84842237)}\n"
     ]
    },
    {
     "name": "stderr",
     "output_type": "stream",
     "text": [
      "Multiprocess sampling (4 chains in 4 jobs)\n",
      "NUTS: [vtravel_lat, vtravel_lon, vtravel_mag, alpha, ln(1-e), eta, M, r]\n"
     ]
    },
    {
     "data": {
      "text/html": [
       "\n",
       "    <div>\n",
       "        <style>\n",
       "            /* Turns off some styling */\n",
       "            progress {\n",
       "                /* gets rid of default border in Firefox and Opera. */\n",
       "                border: none;\n",
       "                /* Needs to be in here for Safari polyfill so background images work as expected. */\n",
       "                background-size: auto;\n",
       "            }\n",
       "            .progress-bar-interrupted, .progress-bar-interrupted::-webkit-progress-bar {\n",
       "                background: #F44336;\n",
       "            }\n",
       "        </style>\n",
       "      <progress value='48000' class='' max='48000' style='width:300px; height:20px; vertical-align: middle;'></progress>\n",
       "      100.00% [48000/48000 02:07<00:00 Sampling 4 chains, 52 divergences]\n",
       "    </div>\n",
       "    "
      ],
      "text/plain": [
       "<IPython.core.display.HTML object>"
      ]
     },
     "metadata": {},
     "output_type": "display_data"
    },
    {
     "name": "stderr",
     "output_type": "stream",
     "text": [
      "INFO (theano.gof.compilelock): Waiting for existing lock by process '6365' (I am process '6432')\n",
      "INFO (theano.gof.compilelock): To manually release the lock, delete /Users/katiechambe/.theano/compiledir_macOS-10.15.7-x86_64-i386-64bit-i386-3.9.5-64/lock_dir\n",
      "Sampling 4 chains for 4_000 tune and 8_000 draw iterations (16_000 + 32_000 draws total) took 136 seconds.\n",
      "There were 24 divergences after tuning. Increase `target_accept` or reparameterize.\n",
      "There were 4 divergences after tuning. Increase `target_accept` or reparameterize.\n",
      "There were 7 divergences after tuning. Increase `target_accept` or reparameterize.\n",
      "There were 17 divergences after tuning. Increase `target_accept` or reparameterize.\n",
      "The number of effective samples is smaller than 25% for some parameters.\n",
      "optimizing logp for variables: [vtravel_lat, vtravel_lon, vtravel_mag, alpha, ln(1-e), eta, M, r]\n"
     ]
    },
    {
     "data": {
      "text/html": [
       "\n",
       "    <div>\n",
       "        <style>\n",
       "            /* Turns off some styling */\n",
       "            progress {\n",
       "                /* gets rid of default border in Firefox and Opera. */\n",
       "                border: none;\n",
       "                /* Needs to be in here for Safari polyfill so background images work as expected. */\n",
       "                background-size: auto;\n",
       "            }\n",
       "            .progress-bar-interrupted, .progress-bar-interrupted::-webkit-progress-bar {\n",
       "                background: #F44336;\n",
       "            }\n",
       "        </style>\n",
       "      <progress value='98' class='' max='98' style='width:300px; height:20px; vertical-align: middle;'></progress>\n",
       "      100.00% [98/98 00:00<00:00 logp = 4.184e+01]\n",
       "    </div>\n",
       "    "
      ],
      "text/plain": [
       "<IPython.core.display.HTML object>"
      ]
     },
     "metadata": {},
     "output_type": "display_data"
    },
    {
     "name": "stdout",
     "output_type": "stream",
     "text": [
      "\n"
     ]
    },
    {
     "name": "stderr",
     "output_type": "stream",
     "text": [
      "message: Optimization terminated successfully.\n",
      "logp: -4152.94714057701 -> 41.84403800479616\n"
     ]
    },
    {
     "name": "stdout",
     "output_type": "stream",
     "text": [
      "{'r_interval__': array(-2.61380166), 'M_interval__': array(-1.52383246), 'eta_angle__': array([-3.46670096, -2.82524055]), 'ln(1-e)_interval__': array(2.12110317), 'alpha_angle__': array([ 1.49555503, -4.2146548 ]), 'vtravel_mag': array(92.04409458), 'vtravel_lon': array(0.95348617), 'vtravel_lat': array(-0.58807606), 'r': array(775.72879497), 'M': array(3.98850832), 'eta': array(-2.254596), 'sineta': array(-0.77517791), 'coseta': array(-0.631743), 'ln(1-e)': array(-1.07062562), 'e': array(0.65720601), 'a': array(548.14645066), 'vscale': array(180.92180604), 'vrad': array(-65.12991613), 'vtan': array(96.35681997), 'tperi': array(13.74909449), 'sun_m31_dist': array(771.70411885), 'm31_icrs_xyz': array([569.97493308, 107.54033786, 509.00972332]), 'alpha': array(2.80060688), 'model_pmra': array(0.16132036), 'model_pmdec': array(-0.09970787), 'model_rv': array(-307.84928958)}\n"
     ]
    },
    {
     "name": "stderr",
     "output_type": "stream",
     "text": [
      "Multiprocess sampling (4 chains in 4 jobs)\n",
      "NUTS: [vtravel_lat, vtravel_lon, vtravel_mag, alpha, ln(1-e), eta, M, r]\n"
     ]
    },
    {
     "data": {
      "text/html": [
       "\n",
       "    <div>\n",
       "        <style>\n",
       "            /* Turns off some styling */\n",
       "            progress {\n",
       "                /* gets rid of default border in Firefox and Opera. */\n",
       "                border: none;\n",
       "                /* Needs to be in here for Safari polyfill so background images work as expected. */\n",
       "                background-size: auto;\n",
       "            }\n",
       "            .progress-bar-interrupted, .progress-bar-interrupted::-webkit-progress-bar {\n",
       "                background: #F44336;\n",
       "            }\n",
       "        </style>\n",
       "      <progress value='48000' class='' max='48000' style='width:300px; height:20px; vertical-align: middle;'></progress>\n",
       "      100.00% [48000/48000 01:39<00:00 Sampling 4 chains, 396 divergences]\n",
       "    </div>\n",
       "    "
      ],
      "text/plain": [
       "<IPython.core.display.HTML object>"
      ]
     },
     "metadata": {},
     "output_type": "display_data"
    },
    {
     "name": "stderr",
     "output_type": "stream",
     "text": [
      "INFO (theano.gof.compilelock): Waiting for existing lock by process '7040' (I am process '7109')\n",
      "INFO (theano.gof.compilelock): To manually release the lock, delete /Users/katiechambe/.theano/compiledir_macOS-10.15.7-x86_64-i386-64bit-i386-3.9.5-64/lock_dir\n",
      "Sampling 4 chains for 4_000 tune and 8_000 draw iterations (16_000 + 32_000 draws total) took 110 seconds.\n",
      "There were 42 divergences after tuning. Increase `target_accept` or reparameterize.\n",
      "There were 70 divergences after tuning. Increase `target_accept` or reparameterize.\n",
      "There were 17 divergences after tuning. Increase `target_accept` or reparameterize.\n",
      "There were 267 divergences after tuning. Increase `target_accept` or reparameterize.\n",
      "The acceptance probability does not match the target. It is 0.8392330536251761, but should be close to 0.9. Try to increase the number of tuning steps.\n",
      "The number of effective samples is smaller than 10% for some parameters.\n",
      "optimizing logp for variables: [vtravel_lat, vtravel_lon, vtravel_mag, alpha, ln(1-e), eta, M, r]\n"
     ]
    },
    {
     "data": {
      "text/html": [
       "\n",
       "    <div>\n",
       "        <style>\n",
       "            /* Turns off some styling */\n",
       "            progress {\n",
       "                /* gets rid of default border in Firefox and Opera. */\n",
       "                border: none;\n",
       "                /* Needs to be in here for Safari polyfill so background images work as expected. */\n",
       "                background-size: auto;\n",
       "            }\n",
       "            .progress-bar-interrupted, .progress-bar-interrupted::-webkit-progress-bar {\n",
       "                background: #F44336;\n",
       "            }\n",
       "        </style>\n",
       "      <progress value='100' class='' max='100' style='width:300px; height:20px; vertical-align: middle;'></progress>\n",
       "      100.00% [100/100 00:00<00:00 logp = 4.183e+01]\n",
       "    </div>\n",
       "    "
      ],
      "text/plain": [
       "<IPython.core.display.HTML object>"
      ]
     },
     "metadata": {},
     "output_type": "display_data"
    },
    {
     "name": "stdout",
     "output_type": "stream",
     "text": [
      "\n"
     ]
    },
    {
     "name": "stderr",
     "output_type": "stream",
     "text": [
      "message: Optimization terminated successfully.\n",
      "logp: -4339.418017162917 -> 41.82702737089598\n"
     ]
    },
    {
     "name": "stdout",
     "output_type": "stream",
     "text": [
      "{'r_interval__': array(-2.6134753), 'M_interval__': array(-1.51237877), 'eta_angle__': array([-3.43754991, -2.86063814]), 'ln(1-e)_interval__': array(2.19518045), 'alpha_angle__': array([ 1.52655267, -4.20352674]), 'vtravel_mag': array(97.15765526), 'vtravel_lon': array(0.95174746), 'vtravel_lat': array(-0.58814972), 'r': array(775.93430115), 'M': array(4.02143728), 'eta': array(-2.26484976), 'sineta': array(-0.76865953), 'coseta': array(-0.63965814), 'ln(1-e)': array(-1.00184122), 'e': array(0.63279728), 'a': array(552.35528303), 'vscale': array(180.97365596), 'vrad': array(-62.66247442), 'vtan': array(99.75346721), 'tperi': array(13.74905973), 'sun_m31_dist': array(771.90963404), 'm31_icrs_xyz': array([570.12672508, 107.5689773 , 509.14527946]), 'alpha': array(2.79324247), 'model_pmra': array(0.162584), 'model_pmdec': array(-0.09930033), 'model_rv': array(-307.85018578)}\n"
     ]
    },
    {
     "name": "stderr",
     "output_type": "stream",
     "text": [
      "Multiprocess sampling (4 chains in 4 jobs)\n",
      "NUTS: [vtravel_lat, vtravel_lon, vtravel_mag, alpha, ln(1-e), eta, M, r]\n"
     ]
    },
    {
     "data": {
      "text/html": [
       "\n",
       "    <div>\n",
       "        <style>\n",
       "            /* Turns off some styling */\n",
       "            progress {\n",
       "                /* gets rid of default border in Firefox and Opera. */\n",
       "                border: none;\n",
       "                /* Needs to be in here for Safari polyfill so background images work as expected. */\n",
       "                background-size: auto;\n",
       "            }\n",
       "            .progress-bar-interrupted, .progress-bar-interrupted::-webkit-progress-bar {\n",
       "                background: #F44336;\n",
       "            }\n",
       "        </style>\n",
       "      <progress value='48000' class='' max='48000' style='width:300px; height:20px; vertical-align: middle;'></progress>\n",
       "      100.00% [48000/48000 01:52<00:00 Sampling 4 chains, 202 divergences]\n",
       "    </div>\n",
       "    "
      ],
      "text/plain": [
       "<IPython.core.display.HTML object>"
      ]
     },
     "metadata": {},
     "output_type": "display_data"
    },
    {
     "name": "stderr",
     "output_type": "stream",
     "text": [
      "INFO (theano.gof.compilelock): Waiting for existing lock by process '7641' (I am process '7710')\n",
      "INFO (theano.gof.compilelock): To manually release the lock, delete /Users/katiechambe/.theano/compiledir_macOS-10.15.7-x86_64-i386-64bit-i386-3.9.5-64/lock_dir\n",
      "Sampling 4 chains for 4_000 tune and 8_000 draw iterations (16_000 + 32_000 draws total) took 122 seconds.\n",
      "There were 4 divergences after tuning. Increase `target_accept` or reparameterize.\n",
      "There were 29 divergences after tuning. Increase `target_accept` or reparameterize.\n",
      "There were 126 divergences after tuning. Increase `target_accept` or reparameterize.\n",
      "There were 43 divergences after tuning. Increase `target_accept` or reparameterize.\n",
      "The number of effective samples is smaller than 25% for some parameters.\n",
      "optimizing logp for variables: [vtravel_lat, vtravel_lon, vtravel_mag, alpha, ln(1-e), eta, M, r]\n"
     ]
    },
    {
     "data": {
      "text/html": [
       "\n",
       "    <div>\n",
       "        <style>\n",
       "            /* Turns off some styling */\n",
       "            progress {\n",
       "                /* gets rid of default border in Firefox and Opera. */\n",
       "                border: none;\n",
       "                /* Needs to be in here for Safari polyfill so background images work as expected. */\n",
       "                background-size: auto;\n",
       "            }\n",
       "            .progress-bar-interrupted, .progress-bar-interrupted::-webkit-progress-bar {\n",
       "                background: #F44336;\n",
       "            }\n",
       "        </style>\n",
       "      <progress value='93' class='' max='93' style='width:300px; height:20px; vertical-align: middle;'></progress>\n",
       "      100.00% [93/93 00:00<00:00 logp = 4.180e+01]\n",
       "    </div>\n",
       "    "
      ],
      "text/plain": [
       "<IPython.core.display.HTML object>"
      ]
     },
     "metadata": {},
     "output_type": "display_data"
    },
    {
     "name": "stdout",
     "output_type": "stream",
     "text": [
      "\n"
     ]
    },
    {
     "name": "stderr",
     "output_type": "stream",
     "text": [
      "message: Optimization terminated successfully.\n",
      "logp: -4532.913799127621 -> 41.80311269851773\n"
     ]
    },
    {
     "name": "stdout",
     "output_type": "stream",
     "text": [
      "{'r_interval__': array(-2.61315858), 'M_interval__': array(-1.49874737), 'eta_angle__': array([-3.40818033, -2.89556674]), 'ln(1-e)_interval__': array(2.2698474), 'alpha_angle__': array([ 1.55488347, -4.19312988]), 'vtravel_mag': array(102.27121594), 'vtravel_lon': array(0.94989343), 'vtravel_lat': array(-0.58819636), 'r': array(776.13379518), 'M': array(4.06094226), 'eta': array(-2.27505416), 'sineta': array(-0.76209229), 'coseta': array(-0.64746841), 'ln(1-e)': array(-0.93651164), 'e': array(0.60800713), 'a': array(556.9010962), 'vscale': array(181.11663342), 'vrad': array(-60.2165764), 'vtan': array(103.17699672), 'tperi': array(13.7490241), 'sun_m31_dist': array(772.10913682), 'm31_icrs_xyz': array([570.27407635, 107.59677888, 509.27686986]), 'alpha': array(2.78649438), 'model_pmra': array(0.16382851), 'model_pmdec': array(-0.09887929), 'model_rv': array(-307.85111586)}\n"
     ]
    },
    {
     "name": "stderr",
     "output_type": "stream",
     "text": [
      "Multiprocess sampling (4 chains in 4 jobs)\n",
      "NUTS: [vtravel_lat, vtravel_lon, vtravel_mag, alpha, ln(1-e), eta, M, r]\n"
     ]
    },
    {
     "data": {
      "text/html": [
       "\n",
       "    <div>\n",
       "        <style>\n",
       "            /* Turns off some styling */\n",
       "            progress {\n",
       "                /* gets rid of default border in Firefox and Opera. */\n",
       "                border: none;\n",
       "                /* Needs to be in here for Safari polyfill so background images work as expected. */\n",
       "                background-size: auto;\n",
       "            }\n",
       "            .progress-bar-interrupted, .progress-bar-interrupted::-webkit-progress-bar {\n",
       "                background: #F44336;\n",
       "            }\n",
       "        </style>\n",
       "      <progress value='48000' class='' max='48000' style='width:300px; height:20px; vertical-align: middle;'></progress>\n",
       "      100.00% [48000/48000 02:07<00:00 Sampling 4 chains, 50 divergences]\n",
       "    </div>\n",
       "    "
      ],
      "text/plain": [
       "<IPython.core.display.HTML object>"
      ]
     },
     "metadata": {},
     "output_type": "display_data"
    },
    {
     "name": "stderr",
     "output_type": "stream",
     "text": [
      "INFO (theano.gof.compilelock): Waiting for existing lock by process '8269' (I am process '8337')\n",
      "INFO (theano.gof.compilelock): To manually release the lock, delete /Users/katiechambe/.theano/compiledir_macOS-10.15.7-x86_64-i386-64bit-i386-3.9.5-64/lock_dir\n",
      "Sampling 4 chains for 4_000 tune and 8_000 draw iterations (16_000 + 32_000 draws total) took 137 seconds.\n",
      "There were 13 divergences after tuning. Increase `target_accept` or reparameterize.\n",
      "There were 26 divergences after tuning. Increase `target_accept` or reparameterize.\n",
      "There were 11 divergences after tuning. Increase `target_accept` or reparameterize.\n",
      "The number of effective samples is smaller than 25% for some parameters.\n",
      "optimizing logp for variables: [vtravel_lat, vtravel_lon, vtravel_mag, alpha, ln(1-e), eta, M, r]\n"
     ]
    },
    {
     "data": {
      "text/html": [
       "\n",
       "    <div>\n",
       "        <style>\n",
       "            /* Turns off some styling */\n",
       "            progress {\n",
       "                /* gets rid of default border in Firefox and Opera. */\n",
       "                border: none;\n",
       "                /* Needs to be in here for Safari polyfill so background images work as expected. */\n",
       "                background-size: auto;\n",
       "            }\n",
       "            .progress-bar-interrupted, .progress-bar-interrupted::-webkit-progress-bar {\n",
       "                background: #F44336;\n",
       "            }\n",
       "        </style>\n",
       "      <progress value='94' class='' max='94' style='width:300px; height:20px; vertical-align: middle;'></progress>\n",
       "      100.00% [94/94 00:00<00:00 logp = 3.553e+01]\n",
       "    </div>\n",
       "    "
      ],
      "text/plain": [
       "<IPython.core.display.HTML object>"
      ]
     },
     "metadata": {},
     "output_type": "display_data"
    },
    {
     "name": "stdout",
     "output_type": "stream",
     "text": [
      "\n"
     ]
    },
    {
     "name": "stderr",
     "output_type": "stream",
     "text": [
      "message: Optimization terminated successfully.\n",
      "logp: -2509.2565218100976 -> 35.531484706474224\n"
     ]
    },
    {
     "name": "stdout",
     "output_type": "stream",
     "text": [
      "{'r_interval__': array(-2.61922239), 'M_interval__': array(-1.48689169), 'eta_angle__': array([-3.78292046, -2.38526993]), 'ln(1-e)_interval__': array(1.32164768), 'alpha_angle__': array([ 0.69005802, -4.41857668]), 'vtravel_mag': array(32.95915642), 'vtravel_lon': array(0.96925204), 'vtravel_lat': array(-0.58658059), 'r': array(772.32384358), 'M': array(4.09558015), 'eta': array(-2.13336714), 'sineta': array(-0.84588673), 'coseta': array(-0.53336257), 'ln(1-e)': array(-2.10544294), 'e': array(0.87820828), 'a': array(525.96161787), 'vscale': array(187.16069742), 'vrad': array(-94.68452564), 'vtan': array(60.96070985), 'tperi': array(13.74948615), 'sun_m31_dist': array(768.29901741), 'm31_icrs_xyz': array([567.45995044, 107.06582211, 506.76374627]), 'alpha': array(2.98667204), 'model_pmra': array(0.14274279), 'model_pmdec': array(-0.10192966), 'model_rv': array(-307.84014632)}\n"
     ]
    },
    {
     "name": "stderr",
     "output_type": "stream",
     "text": [
      "Multiprocess sampling (4 chains in 4 jobs)\n",
      "NUTS: [vtravel_lat, vtravel_lon, vtravel_mag, alpha, ln(1-e), eta, M, r]\n"
     ]
    },
    {
     "data": {
      "text/html": [
       "\n",
       "    <div>\n",
       "        <style>\n",
       "            /* Turns off some styling */\n",
       "            progress {\n",
       "                /* gets rid of default border in Firefox and Opera. */\n",
       "                border: none;\n",
       "                /* Needs to be in here for Safari polyfill so background images work as expected. */\n",
       "                background-size: auto;\n",
       "            }\n",
       "            .progress-bar-interrupted, .progress-bar-interrupted::-webkit-progress-bar {\n",
       "                background: #F44336;\n",
       "            }\n",
       "        </style>\n",
       "      <progress value='48000' class='' max='48000' style='width:300px; height:20px; vertical-align: middle;'></progress>\n",
       "      100.00% [48000/48000 02:07<00:00 Sampling 4 chains, 807 divergences]\n",
       "    </div>\n",
       "    "
      ],
      "text/plain": [
       "<IPython.core.display.HTML object>"
      ]
     },
     "metadata": {},
     "output_type": "display_data"
    },
    {
     "name": "stderr",
     "output_type": "stream",
     "text": [
      "INFO (theano.gof.compilelock): Waiting for existing lock by process '8937' (I am process '9004')\n",
      "INFO (theano.gof.compilelock): To manually release the lock, delete /Users/katiechambe/.theano/compiledir_macOS-10.15.7-x86_64-i386-64bit-i386-3.9.5-64/lock_dir\n",
      "Sampling 4 chains for 4_000 tune and 8_000 draw iterations (16_000 + 32_000 draws total) took 136 seconds.\n",
      "There were 97 divergences after tuning. Increase `target_accept` or reparameterize.\n",
      "There were 20 divergences after tuning. Increase `target_accept` or reparameterize.\n",
      "There were 17 divergences after tuning. Increase `target_accept` or reparameterize.\n",
      "There were 673 divergences after tuning. Increase `target_accept` or reparameterize.\n",
      "The acceptance probability does not match the target. It is 0.7468445426795319, but should be close to 0.9. Try to increase the number of tuning steps.\n",
      "The estimated number of effective samples is smaller than 200 for some parameters.\n"
     ]
    },
    {
     "name": "stdout",
     "output_type": "stream",
     "text": [
      "working on Dataset3\n"
     ]
    },
    {
     "name": "stderr",
     "output_type": "stream",
     "text": [
      "optimizing logp for variables: [alpha, ln(1-e), eta, M, r]\n"
     ]
    },
    {
     "data": {
      "text/html": [
       "\n",
       "    <div>\n",
       "        <style>\n",
       "            /* Turns off some styling */\n",
       "            progress {\n",
       "                /* gets rid of default border in Firefox and Opera. */\n",
       "                border: none;\n",
       "                /* Needs to be in here for Safari polyfill so background images work as expected. */\n",
       "                background-size: auto;\n",
       "            }\n",
       "            .progress-bar-interrupted, .progress-bar-interrupted::-webkit-progress-bar {\n",
       "                background: #F44336;\n",
       "            }\n",
       "        </style>\n",
       "      <progress value='147' class='' max='147' style='width:300px; height:20px; vertical-align: middle;'></progress>\n",
       "      100.00% [147/147 00:00<00:00 logp = 3.823e+01]\n",
       "    </div>\n",
       "    "
      ],
      "text/plain": [
       "<IPython.core.display.HTML object>"
      ]
     },
     "metadata": {},
     "output_type": "display_data"
    },
    {
     "name": "stdout",
     "output_type": "stream",
     "text": [
      "\n"
     ]
    },
    {
     "name": "stderr",
     "output_type": "stream",
     "text": [
      "message: Optimization terminated successfully.\n",
      "logp: -36712.21611898304 -> 38.22982866207125\n"
     ]
    },
    {
     "name": "stdout",
     "output_type": "stream",
     "text": [
      "{'r_interval__': array(-2.63172729), 'M_interval__': array(-1.29238817), 'eta_angle__': array([-3.9992793 , -2.00144079]), 'ln(1-e)_interval__': array(0.90994022), 'alpha_angle__': array([-1.09703901, -4.33549366]), 'r': array(764.52967391), 'M': array(4.70125282), 'eta': array(-2.03480416), 'sineta': array(-0.89426603), 'coseta': array(-0.44753576), 'ln(1-e)': array(-2.87012071), 'e': array(0.94330792), 'a': array(537.58192297), 'vscale': array(198.34371415), 'vrad': array(-117.64919682), 'vtan': array(46.29144825), 'tperi': array(13.80099161), 'sun_m31_dist': array(760.58675657), 'm31_icrs_xyz': array([561.76373184, 105.99108489, 501.67680212]), 'alpha': array(-2.89375797), 'model_pmra': array(0.12883016), 'model_pmdec': array(-0.09078017), 'model_rv': array(-307.83387391)}\n"
     ]
    },
    {
     "name": "stderr",
     "output_type": "stream",
     "text": [
      "Multiprocess sampling (4 chains in 4 jobs)\n",
      "NUTS: [alpha, ln(1-e), eta, M, r]\n"
     ]
    },
    {
     "data": {
      "text/html": [
       "\n",
       "    <div>\n",
       "        <style>\n",
       "            /* Turns off some styling */\n",
       "            progress {\n",
       "                /* gets rid of default border in Firefox and Opera. */\n",
       "                border: none;\n",
       "                /* Needs to be in here for Safari polyfill so background images work as expected. */\n",
       "                background-size: auto;\n",
       "            }\n",
       "            .progress-bar-interrupted, .progress-bar-interrupted::-webkit-progress-bar {\n",
       "                background: #F44336;\n",
       "            }\n",
       "        </style>\n",
       "      <progress value='48000' class='' max='48000' style='width:300px; height:20px; vertical-align: middle;'></progress>\n",
       "      100.00% [48000/48000 01:40<00:00 Sampling 4 chains, 1,222 divergences]\n",
       "    </div>\n",
       "    "
      ],
      "text/plain": [
       "<IPython.core.display.HTML object>"
      ]
     },
     "metadata": {},
     "output_type": "display_data"
    },
    {
     "name": "stderr",
     "output_type": "stream",
     "text": [
      "Sampling 4 chains for 4_000 tune and 8_000 draw iterations (16_000 + 32_000 draws total) took 111 seconds.\n",
      "There were 846 divergences after tuning. Increase `target_accept` or reparameterize.\n",
      "The acceptance probability does not match the target. It is 0.7031943304713029, but should be close to 0.9. Try to increase the number of tuning steps.\n",
      "There were 203 divergences after tuning. Increase `target_accept` or reparameterize.\n",
      "The acceptance probability does not match the target. It is 0.8370234431217759, but should be close to 0.9. Try to increase the number of tuning steps.\n",
      "There were 64 divergences after tuning. Increase `target_accept` or reparameterize.\n",
      "There were 109 divergences after tuning. Increase `target_accept` or reparameterize.\n",
      "The number of effective samples is smaller than 10% for some parameters.\n",
      "optimizing logp for variables: [vtravel_lat, vtravel_lon, vtravel_mag, alpha, ln(1-e), eta, M, r]\n"
     ]
    },
    {
     "data": {
      "text/html": [
       "\n",
       "    <div>\n",
       "        <style>\n",
       "            /* Turns off some styling */\n",
       "            progress {\n",
       "                /* gets rid of default border in Firefox and Opera. */\n",
       "                border: none;\n",
       "                /* Needs to be in here for Safari polyfill so background images work as expected. */\n",
       "                background-size: auto;\n",
       "            }\n",
       "            .progress-bar-interrupted, .progress-bar-interrupted::-webkit-progress-bar {\n",
       "                background: #F44336;\n",
       "            }\n",
       "        </style>\n",
       "      <progress value='140' class='' max='140' style='width:300px; height:20px; vertical-align: middle;'></progress>\n",
       "      100.00% [140/140 00:00<00:00 logp = 4.381e+01]\n",
       "    </div>\n",
       "    "
      ],
      "text/plain": [
       "<IPython.core.display.HTML object>"
      ]
     },
     "metadata": {},
     "output_type": "display_data"
    },
    {
     "name": "stdout",
     "output_type": "stream",
     "text": [
      "\n"
     ]
    },
    {
     "name": "stderr",
     "output_type": "stream",
     "text": [
      "message: Optimization terminated successfully.\n",
      "logp: -36751.31937517977 -> 43.813381923861094\n"
     ]
    },
    {
     "name": "stdout",
     "output_type": "stream",
     "text": [
      "{'r_interval__': array(-2.63161172), 'M_interval__': array(-1.31924977), 'eta_angle__': array([-3.97946231, -2.04055878]), 'ln(1-e)_interval__': array(0.96048666), 'alpha_angle__': array([-0.56964617, -4.43570769]), 'vtravel_mag': array(5.11356308), 'vtravel_lon': array(0.97637213), 'vtravel_lat': array(-0.59086658), 'r': array(764.60132181), 'M': array(4.61339121), 'eta': array(-2.04460964), 'sineta': array(-0.88983481), 'coseta': array(-0.45628281), 'ln(1-e)': array(-2.76780767), 'e': array(0.93720047), 'a': array(535.5744451), 'vscale': array(196.84944063), 'vrad': array(-114.99021287), 'vtan': array(48.09328803), 'tperi': array(13.80098945), 'sun_m31_dist': array(760.65840758), 'm31_icrs_xyz': array([561.81665274, 106.00106977, 501.72406253]), 'alpha': array(-3.01386891), 'model_pmra': array(0.13032643), 'model_pmdec': array(-0.09494838), 'model_rv': array(-307.83467875)}\n"
     ]
    },
    {
     "name": "stderr",
     "output_type": "stream",
     "text": [
      "Multiprocess sampling (4 chains in 4 jobs)\n",
      "NUTS: [vtravel_lat, vtravel_lon, vtravel_mag, alpha, ln(1-e), eta, M, r]\n"
     ]
    },
    {
     "data": {
      "text/html": [
       "\n",
       "    <div>\n",
       "        <style>\n",
       "            /* Turns off some styling */\n",
       "            progress {\n",
       "                /* gets rid of default border in Firefox and Opera. */\n",
       "                border: none;\n",
       "                /* Needs to be in here for Safari polyfill so background images work as expected. */\n",
       "                background-size: auto;\n",
       "            }\n",
       "            .progress-bar-interrupted, .progress-bar-interrupted::-webkit-progress-bar {\n",
       "                background: #F44336;\n",
       "            }\n",
       "        </style>\n",
       "      <progress value='48000' class='' max='48000' style='width:300px; height:20px; vertical-align: middle;'></progress>\n",
       "      100.00% [48000/48000 02:11<00:00 Sampling 4 chains, 5,055 divergences]\n",
       "    </div>\n",
       "    "
      ],
      "text/plain": [
       "<IPython.core.display.HTML object>"
      ]
     },
     "metadata": {},
     "output_type": "display_data"
    },
    {
     "name": "stderr",
     "output_type": "stream",
     "text": [
      "INFO (theano.gof.compilelock): Waiting for existing lock by process '10180' (I am process '10249')\n",
      "INFO (theano.gof.compilelock): To manually release the lock, delete /Users/katiechambe/.theano/compiledir_macOS-10.15.7-x86_64-i386-64bit-i386-3.9.5-64/lock_dir\n",
      "Sampling 4 chains for 4_000 tune and 8_000 draw iterations (16_000 + 32_000 draws total) took 142 seconds.\n",
      "There were 1351 divergences after tuning. Increase `target_accept` or reparameterize.\n",
      "The acceptance probability does not match the target. It is 0.7126258023194346, but should be close to 0.9. Try to increase the number of tuning steps.\n",
      "There were 75 divergences after tuning. Increase `target_accept` or reparameterize.\n",
      "There were 3361 divergences after tuning. Increase `target_accept` or reparameterize.\n",
      "The acceptance probability does not match the target. It is 0.4007048770154134, but should be close to 0.9. Try to increase the number of tuning steps.\n",
      "There were 268 divergences after tuning. Increase `target_accept` or reparameterize.\n",
      "The rhat statistic is larger than 1.2 for some parameters.\n",
      "The estimated number of effective samples is smaller than 200 for some parameters.\n",
      "optimizing logp for variables: [vtravel_lat, vtravel_lon, vtravel_mag, alpha, ln(1-e), eta, M, r]\n"
     ]
    },
    {
     "data": {
      "text/html": [
       "\n",
       "    <div>\n",
       "        <style>\n",
       "            /* Turns off some styling */\n",
       "            progress {\n",
       "                /* gets rid of default border in Firefox and Opera. */\n",
       "                border: none;\n",
       "                /* Needs to be in here for Safari polyfill so background images work as expected. */\n",
       "                background-size: auto;\n",
       "            }\n",
       "            .progress-bar-interrupted, .progress-bar-interrupted::-webkit-progress-bar {\n",
       "                background: #F44336;\n",
       "            }\n",
       "        </style>\n",
       "      <progress value='160' class='' max='160' style='width:300px; height:20px; vertical-align: middle;'></progress>\n",
       "      100.00% [160/160 00:00<00:00 logp = 4.392e+01]\n",
       "    </div>\n",
       "    "
      ],
      "text/plain": [
       "<IPython.core.display.HTML object>"
      ]
     },
     "metadata": {},
     "output_type": "display_data"
    },
    {
     "name": "stdout",
     "output_type": "stream",
     "text": [
      "\n"
     ]
    },
    {
     "name": "stderr",
     "output_type": "stream",
     "text": [
      "message: Optimization terminated successfully.\n",
      "logp: -36802.8916327254 -> 43.922472069733814\n"
     ]
    },
    {
     "name": "stdout",
     "output_type": "stream",
     "text": [
      "{'r_interval__': array(-2.63150538), 'M_interval__': array(-1.34477461), 'eta_angle__': array([-3.95927286, -2.07946115]), 'ln(1-e)_interval__': array(1.01417129), 'alpha_angle__': array([-0.16926735, -4.46893141]), 'vtravel_mag': array(10.22712385), 'vtravel_lon': array(0.97518057), 'vtravel_lat': array(-0.58920458), 'r': array(764.66725109), 'M': array(4.53115646), 'eta': array(-2.05441021), 'sineta': array(-0.88532032), 'coseta': array(-0.46498165), 'ln(1-e)': array(-2.66164317), 'e': array(0.93016662), 'a': array(533.79525058), 'vscale': array(195.41196092), 'vrad': array(-112.33485795), 'vtan': array(50.08207188), 'tperi': array(13.80098737), 'sun_m31_dist': array(760.72433972), 'm31_icrs_xyz': array([561.86534973, 106.01025771, 501.76755083]), 'alpha': array(-3.10373428), 'model_pmra': array(0.1324312), 'model_pmdec': array(-0.09779871), 'model_rv': array(-307.83548168)}\n"
     ]
    },
    {
     "name": "stderr",
     "output_type": "stream",
     "text": [
      "Multiprocess sampling (4 chains in 4 jobs)\n",
      "NUTS: [vtravel_lat, vtravel_lon, vtravel_mag, alpha, ln(1-e), eta, M, r]\n"
     ]
    },
    {
     "data": {
      "text/html": [
       "\n",
       "    <div>\n",
       "        <style>\n",
       "            /* Turns off some styling */\n",
       "            progress {\n",
       "                /* gets rid of default border in Firefox and Opera. */\n",
       "                border: none;\n",
       "                /* Needs to be in here for Safari polyfill so background images work as expected. */\n",
       "                background-size: auto;\n",
       "            }\n",
       "            .progress-bar-interrupted, .progress-bar-interrupted::-webkit-progress-bar {\n",
       "                background: #F44336;\n",
       "            }\n",
       "        </style>\n",
       "      <progress value='48000' class='' max='48000' style='width:300px; height:20px; vertical-align: middle;'></progress>\n",
       "      100.00% [48000/48000 02:20<00:00 Sampling 4 chains, 641 divergences]\n",
       "    </div>\n",
       "    "
      ],
      "text/plain": [
       "<IPython.core.display.HTML object>"
      ]
     },
     "metadata": {},
     "output_type": "display_data"
    },
    {
     "name": "stderr",
     "output_type": "stream",
     "text": [
      "INFO (theano.gof.compilelock): Waiting for existing lock by process '10885' (I am process '10959')\n",
      "INFO (theano.gof.compilelock): To manually release the lock, delete /Users/katiechambe/.theano/compiledir_macOS-10.15.7-x86_64-i386-64bit-i386-3.9.5-64/lock_dir\n",
      "Sampling 4 chains for 4_000 tune and 8_000 draw iterations (16_000 + 32_000 draws total) took 152 seconds.\n",
      "There were 174 divergences after tuning. Increase `target_accept` or reparameterize.\n",
      "There were 296 divergences after tuning. Increase `target_accept` or reparameterize.\n",
      "The acceptance probability does not match the target. It is 0.8318219993821175, but should be close to 0.9. Try to increase the number of tuning steps.\n",
      "There were 85 divergences after tuning. Increase `target_accept` or reparameterize.\n",
      "There were 86 divergences after tuning. Increase `target_accept` or reparameterize.\n",
      "The number of effective samples is smaller than 10% for some parameters.\n",
      "optimizing logp for variables: [vtravel_lat, vtravel_lon, vtravel_mag, alpha, ln(1-e), eta, M, r]\n"
     ]
    },
    {
     "data": {
      "text/html": [
       "\n",
       "    <div>\n",
       "        <style>\n",
       "            /* Turns off some styling */\n",
       "            progress {\n",
       "                /* gets rid of default border in Firefox and Opera. */\n",
       "                border: none;\n",
       "                /* Needs to be in here for Safari polyfill so background images work as expected. */\n",
       "                background-size: auto;\n",
       "            }\n",
       "            .progress-bar-interrupted, .progress-bar-interrupted::-webkit-progress-bar {\n",
       "                background: #F44336;\n",
       "            }\n",
       "        </style>\n",
       "      <progress value='143' class='' max='143' style='width:300px; height:20px; vertical-align: middle;'></progress>\n",
       "      100.00% [143/143 00:00<00:00 logp = 4.403e+01]\n",
       "    </div>\n",
       "    "
      ],
      "text/plain": [
       "<IPython.core.display.HTML object>"
      ]
     },
     "metadata": {},
     "output_type": "display_data"
    },
    {
     "name": "stdout",
     "output_type": "stream",
     "text": [
      "\n"
     ]
    },
    {
     "name": "stderr",
     "output_type": "stream",
     "text": [
      "message: Optimization terminated successfully.\n",
      "logp: -36861.45905756318 -> 44.027390048319326\n"
     ]
    },
    {
     "name": "stdout",
     "output_type": "stream",
     "text": [
      "{'r_interval__': array(-2.63141011), 'M_interval__': array(-1.36886243), 'eta_angle__': array([-3.93874002, -2.11809514]), 'ln(1-e)_interval__': array(1.07038568), 'alpha_angle__': array([ 0.13966649, -4.46995451]), 'vtravel_mag': array(15.34068456), 'vtravel_lon': array(0.97392971), 'vtravel_lat': array(-0.58815098), 'r': array(764.72632352), 'M': array(4.45467215), 'eta': array(-2.06419335), 'sineta': array(-0.88072904), 'coseta': array(-0.47362047), 'ln(1-e)': array(-2.55329746), 'e': array(0.92217538), 'a': array(532.25710427), 'vscale': array(194.03546068), 'vrad': array(-109.68629707), 'vtan': array(52.23379014), 'tperi': array(13.80098536), 'sun_m31_dist': array(760.78341471), 'm31_icrs_xyz': array([561.90898208, 106.01849006, 501.80651622]), 'alpha': array(3.1103572), 'model_pmra': array(0.13475956), 'model_pmdec': array(-0.09972136), 'model_rv': array(-307.83627855)}\n"
     ]
    },
    {
     "name": "stderr",
     "output_type": "stream",
     "text": [
      "Multiprocess sampling (4 chains in 4 jobs)\n",
      "NUTS: [vtravel_lat, vtravel_lon, vtravel_mag, alpha, ln(1-e), eta, M, r]\n"
     ]
    },
    {
     "data": {
      "text/html": [
       "\n",
       "    <div>\n",
       "        <style>\n",
       "            /* Turns off some styling */\n",
       "            progress {\n",
       "                /* gets rid of default border in Firefox and Opera. */\n",
       "                border: none;\n",
       "                /* Needs to be in here for Safari polyfill so background images work as expected. */\n",
       "                background-size: auto;\n",
       "            }\n",
       "            .progress-bar-interrupted, .progress-bar-interrupted::-webkit-progress-bar {\n",
       "                background: #F44336;\n",
       "            }\n",
       "        </style>\n",
       "      <progress value='48000' class='' max='48000' style='width:300px; height:20px; vertical-align: middle;'></progress>\n",
       "      100.00% [48000/48000 02:42<00:00 Sampling 4 chains, 1,109 divergences]\n",
       "    </div>\n",
       "    "
      ],
      "text/plain": [
       "<IPython.core.display.HTML object>"
      ]
     },
     "metadata": {},
     "output_type": "display_data"
    },
    {
     "name": "stderr",
     "output_type": "stream",
     "text": [
      "INFO (theano.gof.compilelock): Waiting for existing lock by process '11666' (I am process '11577')\n",
      "INFO (theano.gof.compilelock): To manually release the lock, delete /Users/katiechambe/.theano/compiledir_macOS-10.15.7-x86_64-i386-64bit-i386-3.9.5-64/lock_dir\n",
      "INFO (theano.gof.compilelock): Waiting for existing lock by process '11633' (I am process '11577')\n",
      "INFO (theano.gof.compilelock): To manually release the lock, delete /Users/katiechambe/.theano/compiledir_macOS-10.15.7-x86_64-i386-64bit-i386-3.9.5-64/lock_dir\n",
      "Sampling 4 chains for 4_000 tune and 8_000 draw iterations (16_000 + 32_000 draws total) took 172 seconds.\n",
      "There were 287 divergences after tuning. Increase `target_accept` or reparameterize.\n",
      "There were 412 divergences after tuning. Increase `target_accept` or reparameterize.\n",
      "There were 257 divergences after tuning. Increase `target_accept` or reparameterize.\n",
      "There were 153 divergences after tuning. Increase `target_accept` or reparameterize.\n",
      "The number of effective samples is smaller than 10% for some parameters.\n",
      "optimizing logp for variables: [vtravel_lat, vtravel_lon, vtravel_mag, alpha, ln(1-e), eta, M, r]\n"
     ]
    },
    {
     "data": {
      "text/html": [
       "\n",
       "    <div>\n",
       "        <style>\n",
       "            /* Turns off some styling */\n",
       "            progress {\n",
       "                /* gets rid of default border in Firefox and Opera. */\n",
       "                border: none;\n",
       "                /* Needs to be in here for Safari polyfill so background images work as expected. */\n",
       "                background-size: auto;\n",
       "            }\n",
       "            .progress-bar-interrupted, .progress-bar-interrupted::-webkit-progress-bar {\n",
       "                background: #F44336;\n",
       "            }\n",
       "        </style>\n",
       "      <progress value='129' class='' max='129' style='width:300px; height:20px; vertical-align: middle;'></progress>\n",
       "      100.00% [129/129 00:00<00:00 logp = 4.413e+01]\n",
       "    </div>\n",
       "    "
      ],
      "text/plain": [
       "<IPython.core.display.HTML object>"
      ]
     },
     "metadata": {},
     "output_type": "display_data"
    },
    {
     "name": "stdout",
     "output_type": "stream",
     "text": [
      "\n"
     ]
    },
    {
     "name": "stderr",
     "output_type": "stream",
     "text": [
      "message: Optimization terminated successfully.\n",
      "logp: -36927.021649693124 -> 44.12616029103236\n"
     ]
    },
    {
     "name": "stdout",
     "output_type": "stream",
     "text": [
      "{'r_interval__': array(-2.63132517), 'M_interval__': array(-1.3914112), 'eta_angle__': array([-3.91788266, -2.15643118]), 'ln(1-e)_interval__': array(1.12870798), 'alpha_angle__': array([ 0.38254921, -4.45574417]), 'vtravel_mag': array(20.45424525), 'vtravel_lon': array(0.97267567), 'vtravel_lat': array(-0.58751131), 'r': array(764.77900014), 'M': array(4.38405996), 'eta': array(-2.07395218), 'sineta': array(-0.8760652), 'coseta': array(-0.48219267), 'ln(1-e)': array(-2.44399618), 'e': array(0.91318676), 'a': array(530.97412215), 'vscale': array(192.72388025), 'vrad': array(-107.04563626), 'vtan': array(54.53114156), 'tperi': array(13.80098343), 'sun_m31_dist': array(760.83609361), 'm31_icrs_xyz': array([561.94789032, 106.0258311 , 501.84126278]), 'alpha': array(3.05594739), 'model_pmra': array(0.13712761), 'model_pmdec': array(-0.10099236), 'model_rv': array(-307.83706816)}\n"
     ]
    },
    {
     "name": "stderr",
     "output_type": "stream",
     "text": [
      "Multiprocess sampling (4 chains in 4 jobs)\n",
      "NUTS: [vtravel_lat, vtravel_lon, vtravel_mag, alpha, ln(1-e), eta, M, r]\n"
     ]
    },
    {
     "data": {
      "text/html": [
       "\n",
       "    <div>\n",
       "        <style>\n",
       "            /* Turns off some styling */\n",
       "            progress {\n",
       "                /* gets rid of default border in Firefox and Opera. */\n",
       "                border: none;\n",
       "                /* Needs to be in here for Safari polyfill so background images work as expected. */\n",
       "                background-size: auto;\n",
       "            }\n",
       "            .progress-bar-interrupted, .progress-bar-interrupted::-webkit-progress-bar {\n",
       "                background: #F44336;\n",
       "            }\n",
       "        </style>\n",
       "      <progress value='48000' class='' max='48000' style='width:300px; height:20px; vertical-align: middle;'></progress>\n",
       "      100.00% [48000/48000 03:02<00:00 Sampling 4 chains, 1,491 divergences]\n",
       "    </div>\n",
       "    "
      ],
      "text/plain": [
       "<IPython.core.display.HTML object>"
      ]
     },
     "metadata": {},
     "output_type": "display_data"
    },
    {
     "name": "stderr",
     "output_type": "stream",
     "text": [
      "INFO (theano.gof.compilelock): Waiting for existing lock by process '12394' (I am process '12463')\n",
      "INFO (theano.gof.compilelock): To manually release the lock, delete /Users/katiechambe/.theano/compiledir_macOS-10.15.7-x86_64-i386-64bit-i386-3.9.5-64/lock_dir\n",
      "Sampling 4 chains for 4_000 tune and 8_000 draw iterations (16_000 + 32_000 draws total) took 193 seconds.\n",
      "There were 75 divergences after tuning. Increase `target_accept` or reparameterize.\n",
      "There were 717 divergences after tuning. Increase `target_accept` or reparameterize.\n",
      "The acceptance probability does not match the target. It is 0.8111420138580904, but should be close to 0.9. Try to increase the number of tuning steps.\n",
      "There were 628 divergences after tuning. Increase `target_accept` or reparameterize.\n",
      "The acceptance probability does not match the target. It is 0.7745521230423152, but should be close to 0.9. Try to increase the number of tuning steps.\n",
      "There were 71 divergences after tuning. Increase `target_accept` or reparameterize.\n",
      "The estimated number of effective samples is smaller than 200 for some parameters.\n",
      "optimizing logp for variables: [vtravel_lat, vtravel_lon, vtravel_mag, alpha, ln(1-e), eta, M, r]\n"
     ]
    },
    {
     "data": {
      "text/html": [
       "\n",
       "    <div>\n",
       "        <style>\n",
       "            /* Turns off some styling */\n",
       "            progress {\n",
       "                /* gets rid of default border in Firefox and Opera. */\n",
       "                border: none;\n",
       "                /* Needs to be in here for Safari polyfill so background images work as expected. */\n",
       "                background-size: auto;\n",
       "            }\n",
       "            .progress-bar-interrupted, .progress-bar-interrupted::-webkit-progress-bar {\n",
       "                background: #F44336;\n",
       "            }\n",
       "        </style>\n",
       "      <progress value='150' class='' max='150' style='width:300px; height:20px; vertical-align: middle;'></progress>\n",
       "      100.00% [150/150 00:00<00:00 logp = 4.422e+01]\n",
       "    </div>\n",
       "    "
      ],
      "text/plain": [
       "<IPython.core.display.HTML object>"
      ]
     },
     "metadata": {},
     "output_type": "display_data"
    },
    {
     "name": "stdout",
     "output_type": "stream",
     "text": [
      "\n"
     ]
    },
    {
     "name": "stderr",
     "output_type": "stream",
     "text": [
      "message: Optimization terminated successfully.\n",
      "logp: -36999.57940911524 -> 44.21770345872059\n"
     ]
    },
    {
     "name": "stdout",
     "output_type": "stream",
     "text": [
      "{'r_interval__': array(-2.63124917), 'M_interval__': array(-1.41231528), 'eta_angle__': array([-3.89671692, -2.19444681]), 'ln(1-e)_interval__': array(1.18883238), 'alpha_angle__': array([ 0.5770541 , -4.43475005]), 'vtravel_mag': array(25.56780592), 'vtravel_lon': array(0.97144224), 'vtravel_lat': array(-0.58715288), 'r': array(764.82613263), 'M': array(4.31944809), 'eta': array(-2.0836815), 'sineta': array(-0.8713324), 'coseta': array(-0.49069323), 'ln(1-e)': array(-2.33467829), 'e': array(0.90315837), 'a': array(529.96124788), 'vscale': array(191.48115516), 'vrad': array(-104.41315251), 'vtan': array(56.96078296), 'tperi': array(13.80098156), 'sun_m31_dist': array(760.88322814), 'm31_icrs_xyz': array([561.98270354, 106.0323995 , 501.87235234]), 'alpha': array(3.01219866), 'model_pmra': array(0.13944735), 'model_pmdec': array(-0.10180244), 'model_rv': array(-307.83785013)}\n"
     ]
    },
    {
     "name": "stderr",
     "output_type": "stream",
     "text": [
      "Multiprocess sampling (4 chains in 4 jobs)\n",
      "NUTS: [vtravel_lat, vtravel_lon, vtravel_mag, alpha, ln(1-e), eta, M, r]\n"
     ]
    },
    {
     "data": {
      "text/html": [
       "\n",
       "    <div>\n",
       "        <style>\n",
       "            /* Turns off some styling */\n",
       "            progress {\n",
       "                /* gets rid of default border in Firefox and Opera. */\n",
       "                border: none;\n",
       "                /* Needs to be in here for Safari polyfill so background images work as expected. */\n",
       "                background-size: auto;\n",
       "            }\n",
       "            .progress-bar-interrupted, .progress-bar-interrupted::-webkit-progress-bar {\n",
       "                background: #F44336;\n",
       "            }\n",
       "        </style>\n",
       "      <progress value='48000' class='' max='48000' style='width:300px; height:20px; vertical-align: middle;'></progress>\n",
       "      100.00% [48000/48000 03:47<00:00 Sampling 4 chains, 1,124 divergences]\n",
       "    </div>\n",
       "    "
      ],
      "text/plain": [
       "<IPython.core.display.HTML object>"
      ]
     },
     "metadata": {},
     "output_type": "display_data"
    },
    {
     "name": "stderr",
     "output_type": "stream",
     "text": [
      "INFO (theano.gof.compilelock): Waiting for existing lock by process '13236' (I am process '13303')\n",
      "INFO (theano.gof.compilelock): To manually release the lock, delete /Users/katiechambe/.theano/compiledir_macOS-10.15.7-x86_64-i386-64bit-i386-3.9.5-64/lock_dir\n",
      "Sampling 4 chains for 4_000 tune and 8_000 draw iterations (16_000 + 32_000 draws total) took 238 seconds.\n",
      "There were 692 divergences after tuning. Increase `target_accept` or reparameterize.\n",
      "The acceptance probability does not match the target. It is 0.8399638393883053, but should be close to 0.9. Try to increase the number of tuning steps.\n",
      "The acceptance probability does not match the target. It is 0.9656062890175429, but should be close to 0.9. Try to increase the number of tuning steps.\n",
      "There were 70 divergences after tuning. Increase `target_accept` or reparameterize.\n",
      "There were 362 divergences after tuning. Increase `target_accept` or reparameterize.\n",
      "The estimated number of effective samples is smaller than 200 for some parameters.\n",
      "optimizing logp for variables: [vtravel_lat, vtravel_lon, vtravel_mag, alpha, ln(1-e), eta, M, r]\n"
     ]
    },
    {
     "data": {
      "text/html": [
       "\n",
       "    <div>\n",
       "        <style>\n",
       "            /* Turns off some styling */\n",
       "            progress {\n",
       "                /* gets rid of default border in Firefox and Opera. */\n",
       "                border: none;\n",
       "                /* Needs to be in here for Safari polyfill so background images work as expected. */\n",
       "                background-size: auto;\n",
       "            }\n",
       "            .progress-bar-interrupted, .progress-bar-interrupted::-webkit-progress-bar {\n",
       "                background: #F44336;\n",
       "            }\n",
       "        </style>\n",
       "      <progress value='143' class='' max='143' style='width:300px; height:20px; vertical-align: middle;'></progress>\n",
       "      100.00% [143/143 00:00<00:00 logp = 4.430e+01]\n",
       "    </div>\n",
       "    "
      ],
      "text/plain": [
       "<IPython.core.display.HTML object>"
      ]
     },
     "metadata": {},
     "output_type": "display_data"
    },
    {
     "name": "stdout",
     "output_type": "stream",
     "text": [
      "\n"
     ]
    },
    {
     "name": "stderr",
     "output_type": "stream",
     "text": [
      "message: Optimization terminated successfully.\n",
      "logp: -37079.13233582952 -> 44.301464738898105\n"
     ]
    },
    {
     "name": "stdout",
     "output_type": "stream",
     "text": [
      "{'r_interval__': array(-2.63118073), 'M_interval__': array(-1.431466), 'eta_angle__': array([-3.87525966, -2.23212063]), 'ln(1-e)_interval__': array(1.25052915), 'alpha_angle__': array([ 0.73549325, -4.41124129]), 'vtravel_mag': array(30.68136658), 'vtravel_lon': array(0.97023607), 'vtravel_lat': array(-0.58698537), 'r': array(764.86857481), 'M': array(4.26097215), 'eta': array(-2.0933762), 'sineta': array(-0.8665344), 'coseta': array(-0.49911735), 'ln(1-e)': array(-2.22608554), 'e': array(0.89204983), 'a': array(529.23381215), 'vscale': array(190.31127661), 'vrad': array(-101.78885101), 'vtan': array(59.5118211), 'tperi': array(13.80097976), 'sun_m31_dist': array(760.92567216), 'm31_icrs_xyz': array([562.01405238, 106.03831426, 501.90034807]), 'alpha': array(2.97638081), 'model_pmra': array(0.14167783), 'model_pmdec': array(-0.1022834), 'model_rv': array(-307.83862573)}\n"
     ]
    },
    {
     "name": "stderr",
     "output_type": "stream",
     "text": [
      "Multiprocess sampling (4 chains in 4 jobs)\n",
      "NUTS: [vtravel_lat, vtravel_lon, vtravel_mag, alpha, ln(1-e), eta, M, r]\n"
     ]
    },
    {
     "data": {
      "text/html": [
       "\n",
       "    <div>\n",
       "        <style>\n",
       "            /* Turns off some styling */\n",
       "            progress {\n",
       "                /* gets rid of default border in Firefox and Opera. */\n",
       "                border: none;\n",
       "                /* Needs to be in here for Safari polyfill so background images work as expected. */\n",
       "                background-size: auto;\n",
       "            }\n",
       "            .progress-bar-interrupted, .progress-bar-interrupted::-webkit-progress-bar {\n",
       "                background: #F44336;\n",
       "            }\n",
       "        </style>\n",
       "      <progress value='48000' class='' max='48000' style='width:300px; height:20px; vertical-align: middle;'></progress>\n",
       "      100.00% [48000/48000 03:05<00:00 Sampling 4 chains, 3,037 divergences]\n",
       "    </div>\n",
       "    "
      ],
      "text/plain": [
       "<IPython.core.display.HTML object>"
      ]
     },
     "metadata": {},
     "output_type": "display_data"
    },
    {
     "name": "stderr",
     "output_type": "stream",
     "text": [
      "INFO (theano.gof.compilelock): Waiting for existing lock by process '14223' (I am process '14292')\n",
      "INFO (theano.gof.compilelock): To manually release the lock, delete /Users/katiechambe/.theano/compiledir_macOS-10.15.7-x86_64-i386-64bit-i386-3.9.5-64/lock_dir\n",
      "Sampling 4 chains for 4_000 tune and 8_000 draw iterations (16_000 + 32_000 draws total) took 196 seconds.\n",
      "There were 291 divergences after tuning. Increase `target_accept` or reparameterize.\n",
      "There were 1092 divergences after tuning. Increase `target_accept` or reparameterize.\n",
      "The acceptance probability does not match the target. It is 0.7879787562829733, but should be close to 0.9. Try to increase the number of tuning steps.\n",
      "There were 1152 divergences after tuning. Increase `target_accept` or reparameterize.\n",
      "The acceptance probability does not match the target. It is 0.7889557661917672, but should be close to 0.9. Try to increase the number of tuning steps.\n",
      "There were 502 divergences after tuning. Increase `target_accept` or reparameterize.\n",
      "The acceptance probability does not match the target. It is 0.8197754893622063, but should be close to 0.9. Try to increase the number of tuning steps.\n",
      "The rhat statistic is larger than 1.05 for some parameters. This indicates slight problems during sampling.\n",
      "The estimated number of effective samples is smaller than 200 for some parameters.\n",
      "optimizing logp for variables: [vtravel_lat, vtravel_lon, vtravel_mag, alpha, ln(1-e), eta, M, r]\n"
     ]
    },
    {
     "data": {
      "text/html": [
       "\n",
       "    <div>\n",
       "        <style>\n",
       "            /* Turns off some styling */\n",
       "            progress {\n",
       "                /* gets rid of default border in Firefox and Opera. */\n",
       "                border: none;\n",
       "                /* Needs to be in here for Safari polyfill so background images work as expected. */\n",
       "                background-size: auto;\n",
       "            }\n",
       "            .progress-bar-interrupted, .progress-bar-interrupted::-webkit-progress-bar {\n",
       "                background: #F44336;\n",
       "            }\n",
       "        </style>\n",
       "      <progress value='171' class='' max='171' style='width:300px; height:20px; vertical-align: middle;'></progress>\n",
       "      100.00% [171/171 00:00<00:00 logp = 4.438e+01]\n",
       "    </div>\n",
       "    "
      ],
      "text/plain": [
       "<IPython.core.display.HTML object>"
      ]
     },
     "metadata": {},
     "output_type": "display_data"
    },
    {
     "name": "stdout",
     "output_type": "stream",
     "text": [
      "\n"
     ]
    },
    {
     "name": "stderr",
     "output_type": "stream",
     "text": [
      "message: Optimization terminated successfully.\n",
      "logp: -37165.68042983596 -> 44.377202243363875\n"
     ]
    },
    {
     "name": "stdout",
     "output_type": "stream",
     "text": [
      "{'r_interval__': array(-2.6311187), 'M_interval__': array(-1.44875478), 'eta_angle__': array([-3.85352878, -2.26943075]), 'ln(1-e)_interval__': array(1.31361905), 'alpha_angle__': array([ 0.86655377, -4.38737789]), 'vtravel_mag': array(35.79492724), 'vtravel_lon': array(0.96905565), 'vtravel_lat': array(-0.58694706), 'r': array(764.90704776), 'M': array(4.20876899), 'eta': array(-2.10303097), 'sineta': array(-0.86167523), 'coseta': array(-0.50746014), 'ln(1-e)': array(-2.11881877), 'e': array(0.8798265), 'a': array(528.80696355), 'vscale': array(189.21820913), 'vrad': array(-99.17268693), 'vtan': array(62.17483846), 'tperi': array(13.80097802), 'sun_m31_dist': array(760.96414678), 'm31_icrs_xyz': array([562.04246945, 106.04367587, 501.92572561]), 'alpha': array(2.94659186), 'model_pmra': array(0.14380193), 'model_pmdec': array(-0.10252728), 'model_rv': array(-307.83939532)}\n"
     ]
    },
    {
     "name": "stderr",
     "output_type": "stream",
     "text": [
      "Multiprocess sampling (4 chains in 4 jobs)\n",
      "NUTS: [vtravel_lat, vtravel_lon, vtravel_mag, alpha, ln(1-e), eta, M, r]\n"
     ]
    },
    {
     "data": {
      "text/html": [
       "\n",
       "    <div>\n",
       "        <style>\n",
       "            /* Turns off some styling */\n",
       "            progress {\n",
       "                /* gets rid of default border in Firefox and Opera. */\n",
       "                border: none;\n",
       "                /* Needs to be in here for Safari polyfill so background images work as expected. */\n",
       "                background-size: auto;\n",
       "            }\n",
       "            .progress-bar-interrupted, .progress-bar-interrupted::-webkit-progress-bar {\n",
       "                background: #F44336;\n",
       "            }\n",
       "        </style>\n",
       "      <progress value='48000' class='' max='48000' style='width:300px; height:20px; vertical-align: middle;'></progress>\n",
       "      100.00% [48000/48000 03:34<00:00 Sampling 4 chains, 183 divergences]\n",
       "    </div>\n",
       "    "
      ],
      "text/plain": [
       "<IPython.core.display.HTML object>"
      ]
     },
     "metadata": {},
     "output_type": "display_data"
    },
    {
     "name": "stderr",
     "output_type": "stream",
     "text": [
      "INFO (theano.gof.compilelock): Waiting for existing lock by process '15078' (I am process '15109')\n",
      "INFO (theano.gof.compilelock): To manually release the lock, delete /Users/katiechambe/.theano/compiledir_macOS-10.15.7-x86_64-i386-64bit-i386-3.9.5-64/lock_dir\n",
      "Sampling 4 chains for 4_000 tune and 8_000 draw iterations (16_000 + 32_000 draws total) took 225 seconds.\n",
      "There were 3 divergences after tuning. Increase `target_accept` or reparameterize.\n",
      "There were 30 divergences after tuning. Increase `target_accept` or reparameterize.\n",
      "There was 1 divergence after tuning. Increase `target_accept` or reparameterize.\n",
      "There were 149 divergences after tuning. Increase `target_accept` or reparameterize.\n",
      "The number of effective samples is smaller than 25% for some parameters.\n",
      "optimizing logp for variables: [vtravel_lat, vtravel_lon, vtravel_mag, alpha, ln(1-e), eta, M, r]\n"
     ]
    },
    {
     "data": {
      "text/html": [
       "\n",
       "    <div>\n",
       "        <style>\n",
       "            /* Turns off some styling */\n",
       "            progress {\n",
       "                /* gets rid of default border in Firefox and Opera. */\n",
       "                border: none;\n",
       "                /* Needs to be in here for Safari polyfill so background images work as expected. */\n",
       "                background-size: auto;\n",
       "            }\n",
       "            .progress-bar-interrupted, .progress-bar-interrupted::-webkit-progress-bar {\n",
       "                background: #F44336;\n",
       "            }\n",
       "        </style>\n",
       "      <progress value='151' class='' max='151' style='width:300px; height:20px; vertical-align: middle;'></progress>\n",
       "      100.00% [151/151 00:00<00:00 logp = 4.444e+01]\n",
       "    </div>\n",
       "    "
      ],
      "text/plain": [
       "<IPython.core.display.HTML object>"
      ]
     },
     "metadata": {},
     "output_type": "display_data"
    },
    {
     "name": "stdout",
     "output_type": "stream",
     "text": [
      "\n"
     ]
    },
    {
     "name": "stderr",
     "output_type": "stream",
     "text": [
      "message: Optimization terminated successfully.\n",
      "logp: -37259.22369113456 -> 44.44486250515178\n"
     ]
    },
    {
     "name": "stdout",
     "output_type": "stream",
     "text": [
      "{'r_interval__': array(-2.63106212), 'M_interval__': array(-1.46407536), 'eta_angle__': array([-3.83154406, -2.30635427]), 'ln(1-e)_interval__': array(1.3779585), 'alpha_angle__': array([ 0.97646002, -4.36423256]), 'vtravel_mag': array(40.9084879), 'vtravel_lon': array(0.96789461), 'vtravel_lat': array(-0.58699506), 'r': array(764.94214733), 'M': array(4.16297361), 'eta': array(-2.11264005), 'sineta': array(-0.8567593), 'coseta': array(-0.51571649), 'ln(1-e)': array(-2.01337073), 'e': array(0.8664622), 'a': array(528.69527276), 'vscale': array(188.20583402), 'vrad': array(-96.56469411), 'vtan': array(64.94139583), 'tperi': array(13.80097634), 'sun_m31_dist': array(760.99924786), 'm31_icrs_xyz': array([562.06839485, 106.04856736, 501.948878  ]), 'alpha': array(2.92147637), 'model_pmra': array(0.14581488), 'model_pmdec': array(-0.10259904), 'model_rv': array(-307.8401605)}\n"
     ]
    },
    {
     "name": "stderr",
     "output_type": "stream",
     "text": [
      "Multiprocess sampling (4 chains in 4 jobs)\n",
      "NUTS: [vtravel_lat, vtravel_lon, vtravel_mag, alpha, ln(1-e), eta, M, r]\n"
     ]
    },
    {
     "data": {
      "text/html": [
       "\n",
       "    <div>\n",
       "        <style>\n",
       "            /* Turns off some styling */\n",
       "            progress {\n",
       "                /* gets rid of default border in Firefox and Opera. */\n",
       "                border: none;\n",
       "                /* Needs to be in here for Safari polyfill so background images work as expected. */\n",
       "                background-size: auto;\n",
       "            }\n",
       "            .progress-bar-interrupted, .progress-bar-interrupted::-webkit-progress-bar {\n",
       "                background: #F44336;\n",
       "            }\n",
       "        </style>\n",
       "      <progress value='48000' class='' max='48000' style='width:300px; height:20px; vertical-align: middle;'></progress>\n",
       "      100.00% [48000/48000 03:19<00:00 Sampling 4 chains, 955 divergences]\n",
       "    </div>\n",
       "    "
      ],
      "text/plain": [
       "<IPython.core.display.HTML object>"
      ]
     },
     "metadata": {},
     "output_type": "display_data"
    },
    {
     "name": "stderr",
     "output_type": "stream",
     "text": [
      "INFO (theano.gof.compilelock): Waiting for existing lock by process '16016' (I am process '16047')\n",
      "INFO (theano.gof.compilelock): To manually release the lock, delete /Users/katiechambe/.theano/compiledir_macOS-10.15.7-x86_64-i386-64bit-i386-3.9.5-64/lock_dir\n",
      "Sampling 4 chains for 4_000 tune and 8_000 draw iterations (16_000 + 32_000 draws total) took 209 seconds.\n",
      "There were 5 divergences after tuning. Increase `target_accept` or reparameterize.\n",
      "There were 83 divergences after tuning. Increase `target_accept` or reparameterize.\n",
      "There were 847 divergences after tuning. Increase `target_accept` or reparameterize.\n",
      "The acceptance probability does not match the target. It is 0.7920879172965363, but should be close to 0.9. Try to increase the number of tuning steps.\n",
      "There were 20 divergences after tuning. Increase `target_accept` or reparameterize.\n",
      "The estimated number of effective samples is smaller than 200 for some parameters.\n",
      "optimizing logp for variables: [vtravel_lat, vtravel_lon, vtravel_mag, alpha, ln(1-e), eta, M, r]\n"
     ]
    },
    {
     "data": {
      "text/html": [
       "\n",
       "    <div>\n",
       "        <style>\n",
       "            /* Turns off some styling */\n",
       "            progress {\n",
       "                /* gets rid of default border in Firefox and Opera. */\n",
       "                border: none;\n",
       "                /* Needs to be in here for Safari polyfill so background images work as expected. */\n",
       "                background-size: auto;\n",
       "            }\n",
       "            .progress-bar-interrupted, .progress-bar-interrupted::-webkit-progress-bar {\n",
       "                background: #F44336;\n",
       "            }\n",
       "        </style>\n",
       "      <progress value='163' class='' max='163' style='width:300px; height:20px; vertical-align: middle;'></progress>\n",
       "      100.00% [163/163 00:00<00:00 logp = 4.450e+01]\n",
       "    </div>\n",
       "    "
      ],
      "text/plain": [
       "<IPython.core.display.HTML object>"
      ]
     },
     "metadata": {},
     "output_type": "display_data"
    },
    {
     "name": "stdout",
     "output_type": "stream",
     "text": [
      "\n"
     ]
    },
    {
     "name": "stderr",
     "output_type": "stream",
     "text": [
      "message: Optimization terminated successfully.\n",
      "logp: -37359.762119725325 -> 44.50450471685673\n"
     ]
    },
    {
     "name": "stdout",
     "output_type": "stream",
     "text": [
      "{'r_interval__': array(-2.6310102), 'M_interval__': array(-1.47732735), 'eta_angle__': array([-3.80932673, -2.34286786]), 'ln(1-e)_interval__': array(1.44342916), 'alpha_angle__': array([ 1.06975295, -4.34230683]), 'vtravel_mag': array(46.02204857), 'vtravel_lon': array(0.96674439), 'vtravel_lat': array(-0.58709926), 'r': array(764.97435344), 'M': array(4.12371321), 'eta': array(-2.12219742), 'sineta': array(-0.85179135), 'coseta': array(-0.52388118), 'ln(1-e)': array(-1.91014885), 'e': array(0.85194165), 'a': array(528.91224872), 'vscale': array(187.27783537), 'vrad': array(-93.96501984), 'vtan': array(67.80367407), 'tperi': array(13.8009747), 'sun_m31_dist': array(761.03145538), 'm31_icrs_xyz': array([562.09218308, 106.05305561, 501.97012181]), 'alpha': array(2.90004665), 'model_pmra': array(0.14771844), 'model_pmdec': array(-0.1025451), 'model_rv': array(-307.84092267)}\n"
     ]
    },
    {
     "name": "stderr",
     "output_type": "stream",
     "text": [
      "Multiprocess sampling (4 chains in 4 jobs)\n",
      "NUTS: [vtravel_lat, vtravel_lon, vtravel_mag, alpha, ln(1-e), eta, M, r]\n"
     ]
    },
    {
     "data": {
      "text/html": [
       "\n",
       "    <div>\n",
       "        <style>\n",
       "            /* Turns off some styling */\n",
       "            progress {\n",
       "                /* gets rid of default border in Firefox and Opera. */\n",
       "                border: none;\n",
       "                /* Needs to be in here for Safari polyfill so background images work as expected. */\n",
       "                background-size: auto;\n",
       "            }\n",
       "            .progress-bar-interrupted, .progress-bar-interrupted::-webkit-progress-bar {\n",
       "                background: #F44336;\n",
       "            }\n",
       "        </style>\n",
       "      <progress value='48000' class='' max='48000' style='width:300px; height:20px; vertical-align: middle;'></progress>\n",
       "      100.00% [48000/48000 03:48<00:00 Sampling 4 chains, 1,556 divergences]\n",
       "    </div>\n",
       "    "
      ],
      "text/plain": [
       "<IPython.core.display.HTML object>"
      ]
     },
     "metadata": {},
     "output_type": "display_data"
    },
    {
     "name": "stderr",
     "output_type": "stream",
     "text": [
      "INFO (theano.gof.compilelock): Waiting for existing lock by process '16968' (I am process '16879')\n",
      "INFO (theano.gof.compilelock): To manually release the lock, delete /Users/katiechambe/.theano/compiledir_macOS-10.15.7-x86_64-i386-64bit-i386-3.9.5-64/lock_dir\n",
      "INFO (theano.gof.compilelock): Waiting for existing lock by process '16935' (I am process '16879')\n",
      "INFO (theano.gof.compilelock): To manually release the lock, delete /Users/katiechambe/.theano/compiledir_macOS-10.15.7-x86_64-i386-64bit-i386-3.9.5-64/lock_dir\n",
      "Sampling 4 chains for 4_000 tune and 8_000 draw iterations (16_000 + 32_000 draws total) took 238 seconds.\n",
      "There were 6 divergences after tuning. Increase `target_accept` or reparameterize.\n",
      "There were 1529 divergences after tuning. Increase `target_accept` or reparameterize.\n",
      "The acceptance probability does not match the target. It is 0.7126626631666755, but should be close to 0.9. Try to increase the number of tuning steps.\n",
      "There were 19 divergences after tuning. Increase `target_accept` or reparameterize.\n",
      "There were 2 divergences after tuning. Increase `target_accept` or reparameterize.\n",
      "The estimated number of effective samples is smaller than 200 for some parameters.\n",
      "optimizing logp for variables: [vtravel_lat, vtravel_lon, vtravel_mag, alpha, ln(1-e), eta, M, r]\n"
     ]
    },
    {
     "data": {
      "text/html": [
       "\n",
       "    <div>\n",
       "        <style>\n",
       "            /* Turns off some styling */\n",
       "            progress {\n",
       "                /* gets rid of default border in Firefox and Opera. */\n",
       "                border: none;\n",
       "                /* Needs to be in here for Safari polyfill so background images work as expected. */\n",
       "                background-size: auto;\n",
       "            }\n",
       "            .progress-bar-interrupted, .progress-bar-interrupted::-webkit-progress-bar {\n",
       "                background: #F44336;\n",
       "            }\n",
       "        </style>\n",
       "      <progress value='160' class='' max='160' style='width:300px; height:20px; vertical-align: middle;'></progress>\n",
       "      100.00% [160/160 00:00<00:00 logp = 4.456e+01]\n",
       "    </div>\n",
       "    "
      ],
      "text/plain": [
       "<IPython.core.display.HTML object>"
      ]
     },
     "metadata": {},
     "output_type": "display_data"
    },
    {
     "name": "stdout",
     "output_type": "stream",
     "text": [
      "\n"
     ]
    },
    {
     "name": "stderr",
     "output_type": "stream",
     "text": [
      "message: Optimization terminated successfully.\n",
      "logp: -37467.295715608256 -> 44.556253127012255\n"
     ]
    },
    {
     "name": "stdout",
     "output_type": "stream",
     "text": [
      "{'r_interval__': array(-2.63096232), 'M_interval__': array(-1.48841914), 'eta_angle__': array([-3.78689919, -2.37894819]), 'ln(1-e)_interval__': array(1.50993133), 'alpha_angle__': array([ 1.1498029 , -4.32179978]), 'vtravel_mag': array(51.13560923), 'vtravel_lon': array(0.96559542), 'vtravel_lat': array(-0.58723828), 'r': array(765.00405432), 'M': array(4.09110291), 'eta': array(-2.13169689), 'sineta': array(-0.8467764), 'coseta': array(-0.53194899), 'ln(1-e)': array(-1.8094897), 'e': array(0.83626233), 'a': array(529.46993627), 'vscale': array(186.4376052), 'vrad': array(-91.37394272), 'vtan': array(70.75428575), 'tperi': array(13.80097311), 'sun_m31_dist': array(761.06115754), 'm31_icrs_xyz': array([562.11412088, 106.05719474, 501.98971311]), 'alpha': array(2.88156865), 'model_pmra': array(0.14951788), 'model_pmdec': array(-0.10239895), 'model_rv': array(-307.84168353)}\n"
     ]
    },
    {
     "name": "stderr",
     "output_type": "stream",
     "text": [
      "Multiprocess sampling (4 chains in 4 jobs)\n",
      "NUTS: [vtravel_lat, vtravel_lon, vtravel_mag, alpha, ln(1-e), eta, M, r]\n"
     ]
    },
    {
     "data": {
      "text/html": [
       "\n",
       "    <div>\n",
       "        <style>\n",
       "            /* Turns off some styling */\n",
       "            progress {\n",
       "                /* gets rid of default border in Firefox and Opera. */\n",
       "                border: none;\n",
       "                /* Needs to be in here for Safari polyfill so background images work as expected. */\n",
       "                background-size: auto;\n",
       "            }\n",
       "            .progress-bar-interrupted, .progress-bar-interrupted::-webkit-progress-bar {\n",
       "                background: #F44336;\n",
       "            }\n",
       "        </style>\n",
       "      <progress value='48000' class='' max='48000' style='width:300px; height:20px; vertical-align: middle;'></progress>\n",
       "      100.00% [48000/48000 03:34<00:00 Sampling 4 chains, 91 divergences]\n",
       "    </div>\n",
       "    "
      ],
      "text/plain": [
       "<IPython.core.display.HTML object>"
      ]
     },
     "metadata": {},
     "output_type": "display_data"
    },
    {
     "name": "stderr",
     "output_type": "stream",
     "text": [
      "INFO (theano.gof.compilelock): Waiting for existing lock by process '17887' (I am process '17956')\n",
      "INFO (theano.gof.compilelock): To manually release the lock, delete /Users/katiechambe/.theano/compiledir_macOS-10.15.7-x86_64-i386-64bit-i386-3.9.5-64/lock_dir\n",
      "Sampling 4 chains for 4_000 tune and 8_000 draw iterations (16_000 + 32_000 draws total) took 225 seconds.\n",
      "There were 10 divergences after tuning. Increase `target_accept` or reparameterize.\n",
      "There were 5 divergences after tuning. Increase `target_accept` or reparameterize.\n",
      "There were 76 divergences after tuning. Increase `target_accept` or reparameterize.\n",
      "The number of effective samples is smaller than 25% for some parameters.\n",
      "optimizing logp for variables: [vtravel_lat, vtravel_lon, vtravel_mag, alpha, ln(1-e), eta, M, r]\n"
     ]
    },
    {
     "data": {
      "text/html": [
       "\n",
       "    <div>\n",
       "        <style>\n",
       "            /* Turns off some styling */\n",
       "            progress {\n",
       "                /* gets rid of default border in Firefox and Opera. */\n",
       "                border: none;\n",
       "                /* Needs to be in here for Safari polyfill so background images work as expected. */\n",
       "                background-size: auto;\n",
       "            }\n",
       "            .progress-bar-interrupted, .progress-bar-interrupted::-webkit-progress-bar {\n",
       "                background: #F44336;\n",
       "            }\n",
       "        </style>\n",
       "      <progress value='169' class='' max='169' style='width:300px; height:20px; vertical-align: middle;'></progress>\n",
       "      100.00% [169/169 00:00<00:00 logp = 4.460e+01]\n",
       "    </div>\n",
       "    "
      ],
      "text/plain": [
       "<IPython.core.display.HTML object>"
      ]
     },
     "metadata": {},
     "output_type": "display_data"
    },
    {
     "name": "stdout",
     "output_type": "stream",
     "text": [
      "\n"
     ]
    },
    {
     "name": "stderr",
     "output_type": "stream",
     "text": [
      "message: Optimization terminated successfully.\n",
      "logp: -37581.824478783354 -> 44.600266234700456\n"
     ]
    },
    {
     "name": "stdout",
     "output_type": "stream",
     "text": [
      "{'r_interval__': array(-2.63091797), 'M_interval__': array(-1.49727081), 'eta_angle__': array([-3.76428484, -2.41457238]), 'ln(1-e)_interval__': array(1.57737959), 'alpha_angle__': array([ 1.21915306, -4.30275096]), 'vtravel_mag': array(56.2491699), 'vtravel_lon': array(0.96443779), 'vtravel_lat': array(-0.58739678), 'r': array(765.03156586), 'M': array(4.06524206), 'eta': array(-2.14113221), 'sineta': array(-0.84171968), 'coseta': array(-0.5399148), 'ln(1-e)': array(-1.71166915), 'e': array(0.81943585), 'a': array(530.37854985), 'vscale': array(185.68815262), 'vrad': array(-88.79187579), 'vtan': array(73.78616378), 'tperi': array(13.80097156), 'sun_m31_dist': array(761.08867027), 'm31_icrs_xyz': array([562.13444158, 106.06102876, 502.00786029]), 'alpha': array(2.86548697), 'model_pmra': array(0.15122032), 'model_pmdec': array(-0.10218493), 'model_rv': array(-307.84244488)}\n"
     ]
    },
    {
     "name": "stderr",
     "output_type": "stream",
     "text": [
      "Multiprocess sampling (4 chains in 4 jobs)\n",
      "NUTS: [vtravel_lat, vtravel_lon, vtravel_mag, alpha, ln(1-e), eta, M, r]\n"
     ]
    },
    {
     "data": {
      "text/html": [
       "\n",
       "    <div>\n",
       "        <style>\n",
       "            /* Turns off some styling */\n",
       "            progress {\n",
       "                /* gets rid of default border in Firefox and Opera. */\n",
       "                border: none;\n",
       "                /* Needs to be in here for Safari polyfill so background images work as expected. */\n",
       "                background-size: auto;\n",
       "            }\n",
       "            .progress-bar-interrupted, .progress-bar-interrupted::-webkit-progress-bar {\n",
       "                background: #F44336;\n",
       "            }\n",
       "        </style>\n",
       "      <progress value='48000' class='' max='48000' style='width:300px; height:20px; vertical-align: middle;'></progress>\n",
       "      100.00% [48000/48000 03:41<00:00 Sampling 4 chains, 350 divergences]\n",
       "    </div>\n",
       "    "
      ],
      "text/plain": [
       "<IPython.core.display.HTML object>"
      ]
     },
     "metadata": {},
     "output_type": "display_data"
    },
    {
     "name": "stderr",
     "output_type": "stream",
     "text": [
      "INFO (theano.gof.compilelock): Waiting for existing lock by process '18825' (I am process '18856')\n",
      "INFO (theano.gof.compilelock): To manually release the lock, delete /Users/katiechambe/.theano/compiledir_macOS-10.15.7-x86_64-i386-64bit-i386-3.9.5-64/lock_dir\n",
      "Sampling 4 chains for 4_000 tune and 8_000 draw iterations (16_000 + 32_000 draws total) took 231 seconds.\n",
      "There were 271 divergences after tuning. Increase `target_accept` or reparameterize.\n",
      "There were 9 divergences after tuning. Increase `target_accept` or reparameterize.\n",
      "There were 10 divergences after tuning. Increase `target_accept` or reparameterize.\n",
      "There were 60 divergences after tuning. Increase `target_accept` or reparameterize.\n",
      "The number of effective samples is smaller than 25% for some parameters.\n",
      "optimizing logp for variables: [vtravel_lat, vtravel_lon, vtravel_mag, alpha, ln(1-e), eta, M, r]\n"
     ]
    },
    {
     "data": {
      "text/html": [
       "\n",
       "    <div>\n",
       "        <style>\n",
       "            /* Turns off some styling */\n",
       "            progress {\n",
       "                /* gets rid of default border in Firefox and Opera. */\n",
       "                border: none;\n",
       "                /* Needs to be in here for Safari polyfill so background images work as expected. */\n",
       "                background-size: auto;\n",
       "            }\n",
       "            .progress-bar-interrupted, .progress-bar-interrupted::-webkit-progress-bar {\n",
       "                background: #F44336;\n",
       "            }\n",
       "        </style>\n",
       "      <progress value='150' class='' max='150' style='width:300px; height:20px; vertical-align: middle;'></progress>\n",
       "      100.00% [150/150 00:00<00:00 logp = 4.464e+01]\n",
       "    </div>\n",
       "    "
      ],
      "text/plain": [
       "<IPython.core.display.HTML object>"
      ]
     },
     "metadata": {},
     "output_type": "display_data"
    },
    {
     "name": "stdout",
     "output_type": "stream",
     "text": [
      "\n"
     ]
    },
    {
     "name": "stderr",
     "output_type": "stream",
     "text": [
      "message: Optimization terminated successfully.\n",
      "logp: -37703.34840925061 -> 44.636716316648766\n"
     ]
    },
    {
     "name": "stdout",
     "output_type": "stream",
     "text": [
      "{'r_interval__': array(-2.63087673), 'M_interval__': array(-1.50381654), 'eta_angle__': array([-3.74150775, -2.44971831]), 'ln(1-e)_interval__': array(1.6456998), 'alpha_angle__': array([ 1.27975272, -4.28511761]), 'vtravel_mag': array(61.36273057), 'vtravel_lon': array(0.96326157), 'vtravel_lat': array(-0.58756367), 'r': array(765.05715137), 'M': array(4.04621132), 'eta': array(-2.15049715), 'sineta': array(-0.83662657), 'coseta': array(-0.54777367), 'ln(1-e)': array(-1.61690981), 'e': array(0.80148881), 'a': array(531.64616307), 'vscale': array(185.03202621), 'vrad': array(-86.21936579), 'vtan': array(76.89250148), 'tperi': array(13.80097004), 'sun_m31_dist': array(761.11425689), 'm31_icrs_xyz': array([562.15333966, 106.06459436, 502.02473701]), 'alpha': array(2.85137435), 'model_pmra': array(0.15283384), 'model_pmdec': array(-0.10192077), 'model_rv': array(-307.84320871)}\n"
     ]
    },
    {
     "name": "stderr",
     "output_type": "stream",
     "text": [
      "Multiprocess sampling (4 chains in 4 jobs)\n",
      "NUTS: [vtravel_lat, vtravel_lon, vtravel_mag, alpha, ln(1-e), eta, M, r]\n"
     ]
    },
    {
     "data": {
      "text/html": [
       "\n",
       "    <div>\n",
       "        <style>\n",
       "            /* Turns off some styling */\n",
       "            progress {\n",
       "                /* gets rid of default border in Firefox and Opera. */\n",
       "                border: none;\n",
       "                /* Needs to be in here for Safari polyfill so background images work as expected. */\n",
       "                background-size: auto;\n",
       "            }\n",
       "            .progress-bar-interrupted, .progress-bar-interrupted::-webkit-progress-bar {\n",
       "                background: #F44336;\n",
       "            }\n",
       "        </style>\n",
       "      <progress value='48000' class='' max='48000' style='width:300px; height:20px; vertical-align: middle;'></progress>\n",
       "      100.00% [48000/48000 03:34<00:00 Sampling 4 chains, 294 divergences]\n",
       "    </div>\n",
       "    "
      ],
      "text/plain": [
       "<IPython.core.display.HTML object>"
      ]
     },
     "metadata": {},
     "output_type": "display_data"
    },
    {
     "name": "stderr",
     "output_type": "stream",
     "text": [
      "INFO (theano.gof.compilelock): Waiting for existing lock by process '19783' (I am process '19814')\n",
      "INFO (theano.gof.compilelock): To manually release the lock, delete /Users/katiechambe/.theano/compiledir_macOS-10.15.7-x86_64-i386-64bit-i386-3.9.5-64/lock_dir\n",
      "Sampling 4 chains for 4_000 tune and 8_000 draw iterations (16_000 + 32_000 draws total) took 225 seconds.\n",
      "There were 108 divergences after tuning. Increase `target_accept` or reparameterize.\n",
      "There were 15 divergences after tuning. Increase `target_accept` or reparameterize.\n",
      "There were 28 divergences after tuning. Increase `target_accept` or reparameterize.\n",
      "There were 143 divergences after tuning. Increase `target_accept` or reparameterize.\n",
      "The number of effective samples is smaller than 25% for some parameters.\n",
      "optimizing logp for variables: [vtravel_lat, vtravel_lon, vtravel_mag, alpha, ln(1-e), eta, M, r]\n"
     ]
    },
    {
     "data": {
      "text/html": [
       "\n",
       "    <div>\n",
       "        <style>\n",
       "            /* Turns off some styling */\n",
       "            progress {\n",
       "                /* gets rid of default border in Firefox and Opera. */\n",
       "                border: none;\n",
       "                /* Needs to be in here for Safari polyfill so background images work as expected. */\n",
       "                background-size: auto;\n",
       "            }\n",
       "            .progress-bar-interrupted, .progress-bar-interrupted::-webkit-progress-bar {\n",
       "                background: #F44336;\n",
       "            }\n",
       "        </style>\n",
       "      <progress value='152' class='' max='152' style='width:300px; height:20px; vertical-align: middle;'></progress>\n",
       "      100.00% [152/152 00:00<00:00 logp = 4.467e+01]\n",
       "    </div>\n",
       "    "
      ],
      "text/plain": [
       "<IPython.core.display.HTML object>"
      ]
     },
     "metadata": {},
     "output_type": "display_data"
    },
    {
     "name": "stdout",
     "output_type": "stream",
     "text": [
      "\n"
     ]
    },
    {
     "name": "stderr",
     "output_type": "stream",
     "text": [
      "message: Optimization terminated successfully.\n",
      "logp: -37831.86750701002 -> 44.665775489665286\n"
     ]
    },
    {
     "name": "stdout",
     "output_type": "stream",
     "text": [
      "{'r_interval__': array(-2.63083823), 'M_interval__': array(-1.50800669), 'eta_angle__': array([-3.71859269, -2.48436478]), 'ln(1-e)_interval__': array(1.71482711), 'alpha_angle__': array([ 1.33311727, -4.26881697]), 'vtravel_mag': array(66.47629125), 'vtravel_lon': array(0.96205693), 'vtravel_lat': array(-0.58773086), 'r': array(765.08103354), 'M': array(4.0340706), 'eta': array(-2.15978556), 'sineta': array(-0.8315026), 'coseta': array(-0.55552085), 'ln(1-e)': array(-1.52538664), 'e': array(0.78246307), 'a': array(533.27845845), 'vscale': array(184.471251), 'vrad': array(-83.65709131), 'vtan': array(80.0667254), 'tperi': array(13.80096854), 'sun_m31_dist': array(761.13814009), 'm31_icrs_xyz': array([562.17097962, 106.06792259, 502.04049017]), 'alpha': array(2.83889732), 'model_pmra': array(0.15436694), 'model_pmdec': array(-0.1016194), 'model_rv': array(-307.84397719)}\n"
     ]
    },
    {
     "name": "stderr",
     "output_type": "stream",
     "text": [
      "Multiprocess sampling (4 chains in 4 jobs)\n",
      "NUTS: [vtravel_lat, vtravel_lon, vtravel_mag, alpha, ln(1-e), eta, M, r]\n"
     ]
    },
    {
     "data": {
      "text/html": [
       "\n",
       "    <div>\n",
       "        <style>\n",
       "            /* Turns off some styling */\n",
       "            progress {\n",
       "                /* gets rid of default border in Firefox and Opera. */\n",
       "                border: none;\n",
       "                /* Needs to be in here for Safari polyfill so background images work as expected. */\n",
       "                background-size: auto;\n",
       "            }\n",
       "            .progress-bar-interrupted, .progress-bar-interrupted::-webkit-progress-bar {\n",
       "                background: #F44336;\n",
       "            }\n",
       "        </style>\n",
       "      <progress value='48000' class='' max='48000' style='width:300px; height:20px; vertical-align: middle;'></progress>\n",
       "      100.00% [48000/48000 04:00<00:00 Sampling 4 chains, 173 divergences]\n",
       "    </div>\n",
       "    "
      ],
      "text/plain": [
       "<IPython.core.display.HTML object>"
      ]
     },
     "metadata": {},
     "output_type": "display_data"
    },
    {
     "name": "stderr",
     "output_type": "stream",
     "text": [
      "INFO (theano.gof.compilelock): Waiting for existing lock by process '20718' (I am process '20791')\n",
      "INFO (theano.gof.compilelock): To manually release the lock, delete /Users/katiechambe/.theano/compiledir_macOS-10.15.7-x86_64-i386-64bit-i386-3.9.5-64/lock_dir\n",
      "Sampling 4 chains for 4_000 tune and 8_000 draw iterations (16_000 + 32_000 draws total) took 252 seconds.\n",
      "There were 12 divergences after tuning. Increase `target_accept` or reparameterize.\n",
      "There were 23 divergences after tuning. Increase `target_accept` or reparameterize.\n",
      "There were 131 divergences after tuning. Increase `target_accept` or reparameterize.\n",
      "There were 7 divergences after tuning. Increase `target_accept` or reparameterize.\n",
      "The number of effective samples is smaller than 25% for some parameters.\n",
      "optimizing logp for variables: [vtravel_lat, vtravel_lon, vtravel_mag, alpha, ln(1-e), eta, M, r]\n"
     ]
    },
    {
     "data": {
      "text/html": [
       "\n",
       "    <div>\n",
       "        <style>\n",
       "            /* Turns off some styling */\n",
       "            progress {\n",
       "                /* gets rid of default border in Firefox and Opera. */\n",
       "                border: none;\n",
       "                /* Needs to be in here for Safari polyfill so background images work as expected. */\n",
       "                background-size: auto;\n",
       "            }\n",
       "            .progress-bar-interrupted, .progress-bar-interrupted::-webkit-progress-bar {\n",
       "                background: #F44336;\n",
       "            }\n",
       "        </style>\n",
       "      <progress value='160' class='' max='160' style='width:300px; height:20px; vertical-align: middle;'></progress>\n",
       "      100.00% [160/160 00:00<00:00 logp = 4.469e+01]\n",
       "    </div>\n",
       "    "
      ],
      "text/plain": [
       "<IPython.core.display.HTML object>"
      ]
     },
     "metadata": {},
     "output_type": "display_data"
    },
    {
     "name": "stdout",
     "output_type": "stream",
     "text": [
      "\n"
     ]
    },
    {
     "name": "stderr",
     "output_type": "stream",
     "text": [
      "message: Optimization terminated successfully.\n",
      "logp: -37967.381772061606 -> 44.68760601003749\n"
     ]
    },
    {
     "name": "stdout",
     "output_type": "stream",
     "text": [
      "{'r_interval__': array(-2.63080217), 'M_interval__': array(-1.50980929), 'eta_angle__': array([-3.69556503, -2.51849145]), 'ln(1-e)_interval__': array(1.78470464), 'alpha_angle__': array([ 1.38044039, -4.25374944]), 'vtravel_mag': array(71.58985193), 'vtravel_lon': array(0.96081418), 'vtravel_lat': array(-0.5878924), 'r': array(765.10340517), 'M': array(4.02885764), 'eta': array(-2.16899131), 'sineta': array(-0.82635346), 'coseta': array(-0.56315181), 'ln(1-e)': array(-1.43723178), 'e': array(0.76241546), 'a': array(535.27854122), 'vscale': array(184.00728211), 'vrad': array(-81.10586411), 'vtan': array(83.30248201), 'tperi': array(13.80096708), 'sun_m31_dist': array(761.16051269), 'm31_icrs_xyz': array([562.18750385, 106.07104031, 502.05524696]), 'alpha': array(2.82779206), 'model_pmra': array(0.15582825), 'model_pmdec': array(-0.1012902), 'model_rv': array(-307.84475272)}\n"
     ]
    },
    {
     "name": "stderr",
     "output_type": "stream",
     "text": [
      "Multiprocess sampling (4 chains in 4 jobs)\n",
      "NUTS: [vtravel_lat, vtravel_lon, vtravel_mag, alpha, ln(1-e), eta, M, r]\n"
     ]
    },
    {
     "data": {
      "text/html": [
       "\n",
       "    <div>\n",
       "        <style>\n",
       "            /* Turns off some styling */\n",
       "            progress {\n",
       "                /* gets rid of default border in Firefox and Opera. */\n",
       "                border: none;\n",
       "                /* Needs to be in here for Safari polyfill so background images work as expected. */\n",
       "                background-size: auto;\n",
       "            }\n",
       "            .progress-bar-interrupted, .progress-bar-interrupted::-webkit-progress-bar {\n",
       "                background: #F44336;\n",
       "            }\n",
       "        </style>\n",
       "      <progress value='48000' class='' max='48000' style='width:300px; height:20px; vertical-align: middle;'></progress>\n",
       "      100.00% [48000/48000 03:45<00:00 Sampling 4 chains, 869 divergences]\n",
       "    </div>\n",
       "    "
      ],
      "text/plain": [
       "<IPython.core.display.HTML object>"
      ]
     },
     "metadata": {},
     "output_type": "display_data"
    },
    {
     "name": "stderr",
     "output_type": "stream",
     "text": [
      "INFO (theano.gof.compilelock): Waiting for existing lock by process '21738' (I am process '21769')\n",
      "INFO (theano.gof.compilelock): To manually release the lock, delete /Users/katiechambe/.theano/compiledir_macOS-10.15.7-x86_64-i386-64bit-i386-3.9.5-64/lock_dir\n",
      "Sampling 4 chains for 4_000 tune and 8_000 draw iterations (16_000 + 32_000 draws total) took 235 seconds.\n",
      "There were 452 divergences after tuning. Increase `target_accept` or reparameterize.\n",
      "The acceptance probability does not match the target. It is 0.8392204706026126, but should be close to 0.9. Try to increase the number of tuning steps.\n",
      "There were 237 divergences after tuning. Increase `target_accept` or reparameterize.\n",
      "There were 177 divergences after tuning. Increase `target_accept` or reparameterize.\n",
      "There were 3 divergences after tuning. Increase `target_accept` or reparameterize.\n",
      "The number of effective samples is smaller than 25% for some parameters.\n",
      "optimizing logp for variables: [vtravel_lat, vtravel_lon, vtravel_mag, alpha, ln(1-e), eta, M, r]\n"
     ]
    },
    {
     "data": {
      "text/html": [
       "\n",
       "    <div>\n",
       "        <style>\n",
       "            /* Turns off some styling */\n",
       "            progress {\n",
       "                /* gets rid of default border in Firefox and Opera. */\n",
       "                border: none;\n",
       "                /* Needs to be in here for Safari polyfill so background images work as expected. */\n",
       "                background-size: auto;\n",
       "            }\n",
       "            .progress-bar-interrupted, .progress-bar-interrupted::-webkit-progress-bar {\n",
       "                background: #F44336;\n",
       "            }\n",
       "        </style>\n",
       "      <progress value='157' class='' max='157' style='width:300px; height:20px; vertical-align: middle;'></progress>\n",
       "      100.00% [157/157 00:00<00:00 logp = 4.470e+01]\n",
       "    </div>\n",
       "    "
      ],
      "text/plain": [
       "<IPython.core.display.HTML object>"
      ]
     },
     "metadata": {},
     "output_type": "display_data"
    },
    {
     "name": "stdout",
     "output_type": "stream",
     "text": [
      "\n"
     ]
    },
    {
     "name": "stderr",
     "output_type": "stream",
     "text": [
      "message: Desired error not necessarily achieved due to precision loss.\n",
      "logp: -38109.89120440536 -> 44.70235337933894\n"
     ]
    },
    {
     "name": "stdout",
     "output_type": "stream",
     "text": [
      "{'r_interval__': array(-2.63076827), 'M_interval__': array(-1.5092109), 'eta_angle__': array([-3.67245087, -2.5520785 ]), 'ln(1-e)_interval__': array(1.85528257), 'alpha_angle__': array([ 1.42267426, -4.23981102]), 'vtravel_mag': array(76.70341261), 'vtravel_lon': array(0.95952366), 'vtravel_lat': array(-0.58804384), 'r': array(765.12443631), 'M': array(4.03058746), 'eta': array(-2.17810823), 'sineta': array(-0.82118498), 'coseta': array(-0.5706621), 'ln(1-e)': array(-1.35253855), 'e': array(0.741417), 'a': array(537.64682677), 'vscale': array(183.64097826), 'vrad': array(-78.566634), 'vtan': array(86.59363836), 'tperi': array(13.80096563), 'sun_m31_dist': array(761.18154474), 'm31_icrs_xyz': array([562.20303797, 106.07397122, 502.06911952]), 'alpha': array(2.81784723), 'model_pmra': array(0.15722637), 'model_pmdec': array(-0.10093986), 'model_rv': array(-307.84553796)}\n"
     ]
    },
    {
     "name": "stderr",
     "output_type": "stream",
     "text": [
      "Multiprocess sampling (4 chains in 4 jobs)\n",
      "NUTS: [vtravel_lat, vtravel_lon, vtravel_mag, alpha, ln(1-e), eta, M, r]\n"
     ]
    },
    {
     "data": {
      "text/html": [
       "\n",
       "    <div>\n",
       "        <style>\n",
       "            /* Turns off some styling */\n",
       "            progress {\n",
       "                /* gets rid of default border in Firefox and Opera. */\n",
       "                border: none;\n",
       "                /* Needs to be in here for Safari polyfill so background images work as expected. */\n",
       "                background-size: auto;\n",
       "            }\n",
       "            .progress-bar-interrupted, .progress-bar-interrupted::-webkit-progress-bar {\n",
       "                background: #F44336;\n",
       "            }\n",
       "        </style>\n",
       "      <progress value='48000' class='' max='48000' style='width:300px; height:20px; vertical-align: middle;'></progress>\n",
       "      100.00% [48000/48000 03:40<00:00 Sampling 4 chains, 416 divergences]\n",
       "    </div>\n",
       "    "
      ],
      "text/plain": [
       "<IPython.core.display.HTML object>"
      ]
     },
     "metadata": {},
     "output_type": "display_data"
    },
    {
     "name": "stderr",
     "output_type": "stream",
     "text": [
      "Sampling 4 chains for 4_000 tune and 8_000 draw iterations (16_000 + 32_000 draws total) took 230 seconds.\n",
      "There were 3 divergences after tuning. Increase `target_accept` or reparameterize.\n",
      "There were 42 divergences after tuning. Increase `target_accept` or reparameterize.\n",
      "There were 301 divergences after tuning. Increase `target_accept` or reparameterize.\n",
      "There were 70 divergences after tuning. Increase `target_accept` or reparameterize.\n",
      "The number of effective samples is smaller than 25% for some parameters.\n",
      "optimizing logp for variables: [vtravel_lat, vtravel_lon, vtravel_mag, alpha, ln(1-e), eta, M, r]\n"
     ]
    },
    {
     "data": {
      "text/html": [
       "\n",
       "    <div>\n",
       "        <style>\n",
       "            /* Turns off some styling */\n",
       "            progress {\n",
       "                /* gets rid of default border in Firefox and Opera. */\n",
       "                border: none;\n",
       "                /* Needs to be in here for Safari polyfill so background images work as expected. */\n",
       "                background-size: auto;\n",
       "            }\n",
       "            .progress-bar-interrupted, .progress-bar-interrupted::-webkit-progress-bar {\n",
       "                background: #F44336;\n",
       "            }\n",
       "        </style>\n",
       "      <progress value='161' class='' max='161' style='width:300px; height:20px; vertical-align: middle;'></progress>\n",
       "      100.00% [161/161 00:00<00:00 logp = 4.471e+01]\n",
       "    </div>\n",
       "    "
      ],
      "text/plain": [
       "<IPython.core.display.HTML object>"
      ]
     },
     "metadata": {},
     "output_type": "display_data"
    },
    {
     "name": "stdout",
     "output_type": "stream",
     "text": [
      "\n"
     ]
    },
    {
     "name": "stderr",
     "output_type": "stream",
     "text": [
      "message: Optimization terminated successfully.\n",
      "logp: -38259.39580404127 -> 44.71014134408129\n"
     ]
    },
    {
     "name": "stdout",
     "output_type": "stream",
     "text": [
      "{'r_interval__': array(-2.63073629), 'M_interval__': array(-1.50621683), 'eta_angle__': array([-3.64927752, -2.58510609]), 'ln(1-e)_interval__': array(1.92651763), 'alpha_angle__': array([ 1.46058571, -4.22690068]), 'vtravel_mag': array(81.81697329), 'vtravel_lon': array(0.95817554), 'vtravel_lat': array(-0.58818173), 'r': array(765.14427883), 'M': array(4.03925265), 'eta': array(-2.18712997), 'sineta': array(-0.81600326), 'coseta': array(-0.5780473), 'ln(1-e)': array(-1.27136527), 'e': array(0.71955153), 'a': array(540.38100509), 'vscale': array(183.37259815), 'vrad': array(-76.04050147), 'vtan': array(89.93429077), 'tperi': array(13.80096419), 'sun_m31_dist': array(761.20138812), 'm31_icrs_xyz': array([562.21769414, 106.07673648, 502.08220805]), 'alpha': array(2.80889188), 'model_pmra': array(0.15856973), 'model_pmdec': array(-0.10057306), 'model_rv': array(-307.84633584)}\n"
     ]
    },
    {
     "name": "stderr",
     "output_type": "stream",
     "text": [
      "Multiprocess sampling (4 chains in 4 jobs)\n",
      "NUTS: [vtravel_lat, vtravel_lon, vtravel_mag, alpha, ln(1-e), eta, M, r]\n"
     ]
    },
    {
     "data": {
      "text/html": [
       "\n",
       "    <div>\n",
       "        <style>\n",
       "            /* Turns off some styling */\n",
       "            progress {\n",
       "                /* gets rid of default border in Firefox and Opera. */\n",
       "                border: none;\n",
       "                /* Needs to be in here for Safari polyfill so background images work as expected. */\n",
       "                background-size: auto;\n",
       "            }\n",
       "            .progress-bar-interrupted, .progress-bar-interrupted::-webkit-progress-bar {\n",
       "                background: #F44336;\n",
       "            }\n",
       "        </style>\n",
       "      <progress value='48000' class='' max='48000' style='width:300px; height:20px; vertical-align: middle;'></progress>\n",
       "      100.00% [48000/48000 03:39<00:00 Sampling 4 chains, 1,146 divergences]\n",
       "    </div>\n",
       "    "
      ],
      "text/plain": [
       "<IPython.core.display.HTML object>"
      ]
     },
     "metadata": {},
     "output_type": "display_data"
    },
    {
     "name": "stderr",
     "output_type": "stream",
     "text": [
      "INFO (theano.gof.compilelock): Waiting for existing lock by process '23682' (I am process '23713')\n",
      "INFO (theano.gof.compilelock): To manually release the lock, delete /Users/katiechambe/.theano/compiledir_macOS-10.15.7-x86_64-i386-64bit-i386-3.9.5-64/lock_dir\n",
      "Sampling 4 chains for 4_000 tune and 8_000 draw iterations (16_000 + 32_000 draws total) took 230 seconds.\n",
      "There were 924 divergences after tuning. Increase `target_accept` or reparameterize.\n",
      "The acceptance probability does not match the target. It is 0.7861519049547447, but should be close to 0.9. Try to increase the number of tuning steps.\n",
      "There were 68 divergences after tuning. Increase `target_accept` or reparameterize.\n",
      "There were 19 divergences after tuning. Increase `target_accept` or reparameterize.\n",
      "There were 135 divergences after tuning. Increase `target_accept` or reparameterize.\n",
      "The number of effective samples is smaller than 10% for some parameters.\n",
      "optimizing logp for variables: [vtravel_lat, vtravel_lon, vtravel_mag, alpha, ln(1-e), eta, M, r]\n"
     ]
    },
    {
     "data": {
      "text/html": [
       "\n",
       "    <div>\n",
       "        <style>\n",
       "            /* Turns off some styling */\n",
       "            progress {\n",
       "                /* gets rid of default border in Firefox and Opera. */\n",
       "                border: none;\n",
       "                /* Needs to be in here for Safari polyfill so background images work as expected. */\n",
       "                background-size: auto;\n",
       "            }\n",
       "            .progress-bar-interrupted, .progress-bar-interrupted::-webkit-progress-bar {\n",
       "                background: #F44336;\n",
       "            }\n",
       "        </style>\n",
       "      <progress value='157' class='' max='157' style='width:300px; height:20px; vertical-align: middle;'></progress>\n",
       "      100.00% [157/157 00:00<00:00 logp = 4.471e+01]\n",
       "    </div>\n",
       "    "
      ],
      "text/plain": [
       "<IPython.core.display.HTML object>"
      ]
     },
     "metadata": {},
     "output_type": "display_data"
    },
    {
     "name": "stdout",
     "output_type": "stream",
     "text": [
      "\n"
     ]
    },
    {
     "name": "stderr",
     "output_type": "stream",
     "text": [
      "message: Optimization terminated successfully.\n",
      "logp: -38415.89557096934 -> 44.71106819502435\n"
     ]
    },
    {
     "name": "stdout",
     "output_type": "stream",
     "text": [
      "{'r_interval__': array(-2.630706), 'M_interval__': array(-1.50085062), 'eta_angle__': array([-3.62607411, -2.61755356]), 'ln(1-e)_interval__': array(1.9983728), 'alpha_angle__': array([ 1.49480005, -4.21492263]), 'vtravel_mag': array(86.93053398), 'vtravel_lon': array(0.95675968), 'vtravel_lat': array(-0.58830338), 'r': array(765.16307261), 'M': array(4.05482449), 'eta': array(-2.19604975), 'sineta': array(-0.81081482), 'coseta': array(-0.58530277), 'ln(1-e)': array(-1.19373874), 'e': array(0.69691402), 'a': array(543.47608012), 'vscale': array(183.20181818), 'vrad': array(-73.52873373), 'vtan': array(93.31878092), 'tperi': array(13.80096275), 'sun_m31_dist': array(761.22018271), 'm31_icrs_xyz': array([562.23157569, 106.07935559, 502.09460482]), 'alpha': array(2.80078601), 'model_pmra': array(0.15986661), 'model_pmdec': array(-0.10019297), 'model_rv': array(-307.84714968)}\n"
     ]
    },
    {
     "name": "stderr",
     "output_type": "stream",
     "text": [
      "Multiprocess sampling (4 chains in 4 jobs)\n",
      "NUTS: [vtravel_lat, vtravel_lon, vtravel_mag, alpha, ln(1-e), eta, M, r]\n"
     ]
    },
    {
     "data": {
      "text/html": [
       "\n",
       "    <div>\n",
       "        <style>\n",
       "            /* Turns off some styling */\n",
       "            progress {\n",
       "                /* gets rid of default border in Firefox and Opera. */\n",
       "                border: none;\n",
       "                /* Needs to be in here for Safari polyfill so background images work as expected. */\n",
       "                background-size: auto;\n",
       "            }\n",
       "            .progress-bar-interrupted, .progress-bar-interrupted::-webkit-progress-bar {\n",
       "                background: #F44336;\n",
       "            }\n",
       "        </style>\n",
       "      <progress value='48000' class='' max='48000' style='width:300px; height:20px; vertical-align: middle;'></progress>\n",
       "      100.00% [48000/48000 03:30<00:00 Sampling 4 chains, 693 divergences]\n",
       "    </div>\n",
       "    "
      ],
      "text/plain": [
       "<IPython.core.display.HTML object>"
      ]
     },
     "metadata": {},
     "output_type": "display_data"
    },
    {
     "name": "stderr",
     "output_type": "stream",
     "text": [
      "Sampling 4 chains for 4_000 tune and 8_000 draw iterations (16_000 + 32_000 draws total) took 221 seconds.\n",
      "There were 111 divergences after tuning. Increase `target_accept` or reparameterize.\n",
      "There were 129 divergences after tuning. Increase `target_accept` or reparameterize.\n",
      "There were 298 divergences after tuning. Increase `target_accept` or reparameterize.\n",
      "There were 155 divergences after tuning. Increase `target_accept` or reparameterize.\n",
      "The number of effective samples is smaller than 25% for some parameters.\n",
      "optimizing logp for variables: [vtravel_lat, vtravel_lon, vtravel_mag, alpha, ln(1-e), eta, M, r]\n"
     ]
    },
    {
     "data": {
      "text/html": [
       "\n",
       "    <div>\n",
       "        <style>\n",
       "            /* Turns off some styling */\n",
       "            progress {\n",
       "                /* gets rid of default border in Firefox and Opera. */\n",
       "                border: none;\n",
       "                /* Needs to be in here for Safari polyfill so background images work as expected. */\n",
       "                background-size: auto;\n",
       "            }\n",
       "            .progress-bar-interrupted, .progress-bar-interrupted::-webkit-progress-bar {\n",
       "                background: #F44336;\n",
       "            }\n",
       "        </style>\n",
       "      <progress value='167' class='' max='167' style='width:300px; height:20px; vertical-align: middle;'></progress>\n",
       "      100.00% [167/167 00:00<00:00 logp = 4.471e+01]\n",
       "    </div>\n",
       "    "
      ],
      "text/plain": [
       "<IPython.core.display.HTML object>"
      ]
     },
     "metadata": {},
     "output_type": "display_data"
    },
    {
     "name": "stdout",
     "output_type": "stream",
     "text": [
      "\n"
     ]
    },
    {
     "name": "stderr",
     "output_type": "stream",
     "text": [
      "message: Optimization terminated successfully.\n",
      "logp: -38579.39050518958 -> 44.70520397310256\n"
     ]
    },
    {
     "name": "stdout",
     "output_type": "stream",
     "text": [
      "{'r_interval__': array(-2.63067719), 'M_interval__': array(-1.49315294), 'eta_angle__': array([-3.60287249, -2.64939801]), 'ln(1-e)_interval__': array(2.07081698), 'alpha_angle__': array([ 1.52582988, -4.20378917]), 'vtravel_mag': array(92.04409467), 'vtravel_lon': array(0.95526532), 'vtravel_lat': array(-0.58840642), 'r': array(765.18094713), 'M': array(4.07725473), 'eta': array(-2.20485995), 'sineta': array(-0.80562678), 'coseta': array(-0.59242341), 'ln(1-e)': array(-1.11965781), 'e': array(0.67360854), 'a': array(546.92446863), 'vscale': array(183.12777216), 'vrad': array(-71.0327935), 'vtan': array(96.74170896), 'tperi': array(13.80096132), 'sun_m31_dist': array(761.23805801), 'm31_icrs_xyz': array([562.24477825, 106.08184659, 502.10639521]), 'alpha': array(2.79341441), 'model_pmra': array(0.16112501), 'model_pmdec': array(-0.09980152), 'model_rv': array(-307.84798311)}\n"
     ]
    },
    {
     "name": "stderr",
     "output_type": "stream",
     "text": [
      "Multiprocess sampling (4 chains in 4 jobs)\n",
      "NUTS: [vtravel_lat, vtravel_lon, vtravel_mag, alpha, ln(1-e), eta, M, r]\n"
     ]
    },
    {
     "data": {
      "text/html": [
       "\n",
       "    <div>\n",
       "        <style>\n",
       "            /* Turns off some styling */\n",
       "            progress {\n",
       "                /* gets rid of default border in Firefox and Opera. */\n",
       "                border: none;\n",
       "                /* Needs to be in here for Safari polyfill so background images work as expected. */\n",
       "                background-size: auto;\n",
       "            }\n",
       "            .progress-bar-interrupted, .progress-bar-interrupted::-webkit-progress-bar {\n",
       "                background: #F44336;\n",
       "            }\n",
       "        </style>\n",
       "      <progress value='48000' class='' max='48000' style='width:300px; height:20px; vertical-align: middle;'></progress>\n",
       "      100.00% [48000/48000 03:40<00:00 Sampling 4 chains, 1,930 divergences]\n",
       "    </div>\n",
       "    "
      ],
      "text/plain": [
       "<IPython.core.display.HTML object>"
      ]
     },
     "metadata": {},
     "output_type": "display_data"
    },
    {
     "name": "stderr",
     "output_type": "stream",
     "text": [
      "Sampling 4 chains for 4_000 tune and 8_000 draw iterations (16_000 + 32_000 draws total) took 230 seconds.\n",
      "There were 450 divergences after tuning. Increase `target_accept` or reparameterize.\n",
      "There were 1028 divergences after tuning. Increase `target_accept` or reparameterize.\n",
      "The acceptance probability does not match the target. It is 0.8006299177738736, but should be close to 0.9. Try to increase the number of tuning steps.\n",
      "There were 330 divergences after tuning. Increase `target_accept` or reparameterize.\n",
      "There were 122 divergences after tuning. Increase `target_accept` or reparameterize.\n",
      "The number of effective samples is smaller than 10% for some parameters.\n",
      "optimizing logp for variables: [vtravel_lat, vtravel_lon, vtravel_mag, alpha, ln(1-e), eta, M, r]\n"
     ]
    },
    {
     "data": {
      "text/html": [
       "\n",
       "    <div>\n",
       "        <style>\n",
       "            /* Turns off some styling */\n",
       "            progress {\n",
       "                /* gets rid of default border in Firefox and Opera. */\n",
       "                border: none;\n",
       "                /* Needs to be in here for Safari polyfill so background images work as expected. */\n",
       "                background-size: auto;\n",
       "            }\n",
       "            .progress-bar-interrupted, .progress-bar-interrupted::-webkit-progress-bar {\n",
       "                background: #F44336;\n",
       "            }\n",
       "        </style>\n",
       "      <progress value='197' class='' max='197' style='width:300px; height:20px; vertical-align: middle;'></progress>\n",
       "      100.00% [197/197 00:00<00:00 logp = 4.469e+01]\n",
       "    </div>\n",
       "    "
      ],
      "text/plain": [
       "<IPython.core.display.HTML object>"
      ]
     },
     "metadata": {},
     "output_type": "display_data"
    },
    {
     "name": "stdout",
     "output_type": "stream",
     "text": [
      "\n"
     ]
    },
    {
     "name": "stderr",
     "output_type": "stream",
     "text": [
      "message: Optimization terminated successfully.\n",
      "logp: -38749.88060670198 -> 44.692588319399185\n"
     ]
    },
    {
     "name": "stdout",
     "output_type": "stream",
     "text": [
      "{'r_interval__': array(-2.63064967), 'M_interval__': array(-1.48317982), 'eta_angle__': array([-3.57970878, -2.68061282]), 'ln(1-e)_interval__': array(2.14382486), 'alpha_angle__': array([ 1.5541004 , -4.19342006]), 'vtravel_mag': array(97.15765535), 'vtravel_lon': array(0.95368079), 'vtravel_lat': array(-0.58848867), 'r': array(765.19802417), 'M': array(4.10647834), 'eta': array(-2.2135517), 'sineta': array(-0.80044722), 'coseta': array(-0.59940325), 'ln(1-e)': array(-1.04909678), 'e': array(0.64974604), 'a': array(550.71616818), 'vscale': array(183.14911359), 'vrad': array(-68.55437039), 'vtan': array(100.19796088), 'tperi': array(13.80095987), 'sun_m31_dist': array(761.25513578), 'm31_icrs_xyz': array([562.25739177, 106.08422645, 502.11765958]), 'alpha': array(2.78668112), 'model_pmra': array(0.1623527), 'model_pmdec': array(-0.0993998), 'model_rv': array(-307.84884018)}\n"
     ]
    },
    {
     "name": "stderr",
     "output_type": "stream",
     "text": [
      "Multiprocess sampling (4 chains in 4 jobs)\n",
      "NUTS: [vtravel_lat, vtravel_lon, vtravel_mag, alpha, ln(1-e), eta, M, r]\n"
     ]
    },
    {
     "data": {
      "text/html": [
       "\n",
       "    <div>\n",
       "        <style>\n",
       "            /* Turns off some styling */\n",
       "            progress {\n",
       "                /* gets rid of default border in Firefox and Opera. */\n",
       "                border: none;\n",
       "                /* Needs to be in here for Safari polyfill so background images work as expected. */\n",
       "                background-size: auto;\n",
       "            }\n",
       "            .progress-bar-interrupted, .progress-bar-interrupted::-webkit-progress-bar {\n",
       "                background: #F44336;\n",
       "            }\n",
       "        </style>\n",
       "      <progress value='48000' class='' max='48000' style='width:300px; height:20px; vertical-align: middle;'></progress>\n",
       "      100.00% [48000/48000 03:07<00:00 Sampling 4 chains, 2,405 divergences]\n",
       "    </div>\n",
       "    "
      ],
      "text/plain": [
       "<IPython.core.display.HTML object>"
      ]
     },
     "metadata": {},
     "output_type": "display_data"
    },
    {
     "name": "stderr",
     "output_type": "stream",
     "text": [
      "INFO (theano.gof.compilelock): Waiting for existing lock by process '26602' (I am process '26510')\n",
      "INFO (theano.gof.compilelock): To manually release the lock, delete /Users/katiechambe/.theano/compiledir_macOS-10.15.7-x86_64-i386-64bit-i386-3.9.5-64/lock_dir\n",
      "INFO (theano.gof.compilelock): Waiting for existing lock by process '26569' (I am process '26510')\n",
      "INFO (theano.gof.compilelock): To manually release the lock, delete /Users/katiechambe/.theano/compiledir_macOS-10.15.7-x86_64-i386-64bit-i386-3.9.5-64/lock_dir\n",
      "Sampling 4 chains for 4_000 tune and 8_000 draw iterations (16_000 + 32_000 draws total) took 198 seconds.\n",
      "There were 675 divergences after tuning. Increase `target_accept` or reparameterize.\n",
      "The acceptance probability does not match the target. It is 0.8305207370705491, but should be close to 0.9. Try to increase the number of tuning steps.\n",
      "There were 496 divergences after tuning. Increase `target_accept` or reparameterize.\n",
      "There were 933 divergences after tuning. Increase `target_accept` or reparameterize.\n",
      "The acceptance probability does not match the target. It is 0.8171633133998562, but should be close to 0.9. Try to increase the number of tuning steps.\n",
      "There were 301 divergences after tuning. Increase `target_accept` or reparameterize.\n",
      "The estimated number of effective samples is smaller than 200 for some parameters.\n",
      "optimizing logp for variables: [vtravel_lat, vtravel_lon, vtravel_mag, alpha, ln(1-e), eta, M, r]\n"
     ]
    },
    {
     "data": {
      "text/html": [
       "\n",
       "    <div>\n",
       "        <style>\n",
       "            /* Turns off some styling */\n",
       "            progress {\n",
       "                /* gets rid of default border in Firefox and Opera. */\n",
       "                border: none;\n",
       "                /* Needs to be in here for Safari polyfill so background images work as expected. */\n",
       "                background-size: auto;\n",
       "            }\n",
       "            .progress-bar-interrupted, .progress-bar-interrupted::-webkit-progress-bar {\n",
       "                background: #F44336;\n",
       "            }\n",
       "        </style>\n",
       "      <progress value='175' class='' max='175' style='width:300px; height:20px; vertical-align: middle;'></progress>\n",
       "      100.00% [175/175 00:00<00:00 logp = 4.467e+01]\n",
       "    </div>\n",
       "    "
      ],
      "text/plain": [
       "<IPython.core.display.HTML object>"
      ]
     },
     "metadata": {},
     "output_type": "display_data"
    },
    {
     "name": "stdout",
     "output_type": "stream",
     "text": [
      "\n"
     ]
    },
    {
     "name": "stderr",
     "output_type": "stream",
     "text": [
      "message: Optimization terminated successfully.\n",
      "logp: -38927.36587550654 -> 44.6732287937104\n"
     ]
    },
    {
     "name": "stdout",
     "output_type": "stream",
     "text": [
      "{'r_interval__': array(-2.63062325), 'M_interval__': array(-1.47100031), 'eta_angle__': array([-3.5566252 , -2.71116528]), 'ln(1-e)_interval__': array(2.21737654), 'alpha_angle__': array([ 1.57996541, -4.18374346]), 'vtravel_mag': array(102.27121604), 'vtravel_lon': array(0.95199321), 'vtravel_lat': array(-0.58854785), 'r': array(765.21441768), 'M': array(4.14241709), 'eta': array(-2.22211416), 'sineta': array(-0.79528557), 'coseta': array(-0.60623499), 'ln(1-e)': array(-0.98200886), 'e': array(0.62544209), 'a': array(554.83896763), 'vscale': array(183.26410112), 'vrad': array(-66.09542836), 'vtan': array(103.68273576), 'tperi': array(13.80095842), 'sun_m31_dist': array(761.27153001), 'm31_icrs_xyz': array([562.26950042, 106.08651106, 502.12847307]), 'alpha': array(2.78050602), 'model_pmra': array(0.16355719), 'model_pmdec': array(-0.09898814), 'model_rv': array(-307.84972541)}\n"
     ]
    },
    {
     "name": "stderr",
     "output_type": "stream",
     "text": [
      "Multiprocess sampling (4 chains in 4 jobs)\n",
      "NUTS: [vtravel_lat, vtravel_lon, vtravel_mag, alpha, ln(1-e), eta, M, r]\n"
     ]
    },
    {
     "data": {
      "text/html": [
       "\n",
       "    <div>\n",
       "        <style>\n",
       "            /* Turns off some styling */\n",
       "            progress {\n",
       "                /* gets rid of default border in Firefox and Opera. */\n",
       "                border: none;\n",
       "                /* Needs to be in here for Safari polyfill so background images work as expected. */\n",
       "                background-size: auto;\n",
       "            }\n",
       "            .progress-bar-interrupted, .progress-bar-interrupted::-webkit-progress-bar {\n",
       "                background: #F44336;\n",
       "            }\n",
       "        </style>\n",
       "      <progress value='48000' class='' max='48000' style='width:300px; height:20px; vertical-align: middle;'></progress>\n",
       "      100.00% [48000/48000 03:44<00:00 Sampling 4 chains, 1,451 divergences]\n",
       "    </div>\n",
       "    "
      ],
      "text/plain": [
       "<IPython.core.display.HTML object>"
      ]
     },
     "metadata": {},
     "output_type": "display_data"
    },
    {
     "name": "stderr",
     "output_type": "stream",
     "text": [
      "INFO (theano.gof.compilelock): Waiting for existing lock by process '27422' (I am process '27453')\n",
      "INFO (theano.gof.compilelock): To manually release the lock, delete /Users/katiechambe/.theano/compiledir_macOS-10.15.7-x86_64-i386-64bit-i386-3.9.5-64/lock_dir\n",
      "Sampling 4 chains for 4_000 tune and 8_000 draw iterations (16_000 + 32_000 draws total) took 235 seconds.\n",
      "There were 533 divergences after tuning. Increase `target_accept` or reparameterize.\n",
      "There were 622 divergences after tuning. Increase `target_accept` or reparameterize.\n",
      "There were 202 divergences after tuning. Increase `target_accept` or reparameterize.\n",
      "There were 94 divergences after tuning. Increase `target_accept` or reparameterize.\n",
      "The number of effective samples is smaller than 10% for some parameters.\n",
      "optimizing logp for variables: [vtravel_lat, vtravel_lon, vtravel_mag, alpha, ln(1-e), eta, M, r]\n"
     ]
    },
    {
     "data": {
      "text/html": [
       "\n",
       "    <div>\n",
       "        <style>\n",
       "            /* Turns off some styling */\n",
       "            progress {\n",
       "                /* gets rid of default border in Firefox and Opera. */\n",
       "                border: none;\n",
       "                /* Needs to be in here for Safari polyfill so background images work as expected. */\n",
       "                background-size: auto;\n",
       "            }\n",
       "            .progress-bar-interrupted, .progress-bar-interrupted::-webkit-progress-bar {\n",
       "                background: #F44336;\n",
       "            }\n",
       "        </style>\n",
       "      <progress value='132' class='' max='132' style='width:300px; height:20px; vertical-align: middle;'></progress>\n",
       "      100.00% [132/132 00:00<00:00 logp = 3.834e+01]\n",
       "    </div>\n",
       "    "
      ],
      "text/plain": [
       "<IPython.core.display.HTML object>"
      ]
     },
     "metadata": {},
     "output_type": "display_data"
    },
    {
     "name": "stdout",
     "output_type": "stream",
     "text": [
      "\n"
     ]
    },
    {
     "name": "stderr",
     "output_type": "stream",
     "text": [
      "message: Optimization terminated successfully.\n",
      "logp: -37118.903617904136 -> 38.34312965593742\n"
     ]
    },
    {
     "name": "stdout",
     "output_type": "stream",
     "text": [
      "{'r_interval__': array(-2.63115217), 'M_interval__': array(-1.43946087), 'eta_angle__': array([-3.86554089, -2.24890943]), 'ln(1-e)_interval__': array(1.27867693), 'alpha_angle__': array([ 0.79727308, -4.40049493]), 'vtravel_mag': array(32.9760154), 'vtravel_lon': array(0.9697035), 'vtravel_lat': array(-0.58695512), 'r': array(764.88629105), 'M': array(4.23676256), 'eta': array(-2.09771394), 'sineta': array(-0.86436122), 'coseta': array(-0.50287144), 'ln(1-e)': array(-2.17775523), 'e': array(0.88670443), 'a': array(529.00420046), 'vscale': array(189.81103996), 'vrad': array(-100.61387257), 'vtan': array(60.69348933), 'tperi': array(13.80097898), 'sun_m31_dist': array(760.94338917), 'm31_icrs_xyz': array([562.02713803, 106.0407832 , 501.91203406]), 'alpha': array(2.96235887), 'model_pmra': array(0.14264464), 'model_pmdec': array(-0.10241777), 'model_rv': array(-307.83897173)}\n"
     ]
    },
    {
     "name": "stderr",
     "output_type": "stream",
     "text": [
      "Multiprocess sampling (4 chains in 4 jobs)\n",
      "NUTS: [vtravel_lat, vtravel_lon, vtravel_mag, alpha, ln(1-e), eta, M, r]\n"
     ]
    },
    {
     "data": {
      "text/html": [
       "\n",
       "    <div>\n",
       "        <style>\n",
       "            /* Turns off some styling */\n",
       "            progress {\n",
       "                /* gets rid of default border in Firefox and Opera. */\n",
       "                border: none;\n",
       "                /* Needs to be in here for Safari polyfill so background images work as expected. */\n",
       "                background-size: auto;\n",
       "            }\n",
       "            .progress-bar-interrupted, .progress-bar-interrupted::-webkit-progress-bar {\n",
       "                background: #F44336;\n",
       "            }\n",
       "        </style>\n",
       "      <progress value='48000' class='' max='48000' style='width:300px; height:20px; vertical-align: middle;'></progress>\n",
       "      100.00% [48000/48000 03:23<00:00 Sampling 4 chains, 612 divergences]\n",
       "    </div>\n",
       "    "
      ],
      "text/plain": [
       "<IPython.core.display.HTML object>"
      ]
     },
     "metadata": {},
     "output_type": "display_data"
    },
    {
     "name": "stderr",
     "output_type": "stream",
     "text": [
      "INFO (theano.gof.compilelock): Waiting for existing lock by process '28397' (I am process '28466')\n",
      "INFO (theano.gof.compilelock): To manually release the lock, delete /Users/katiechambe/.theano/compiledir_macOS-10.15.7-x86_64-i386-64bit-i386-3.9.5-64/lock_dir\n",
      "Sampling 4 chains for 4_000 tune and 8_000 draw iterations (16_000 + 32_000 draws total) took 214 seconds.\n",
      "There were 61 divergences after tuning. Increase `target_accept` or reparameterize.\n",
      "There were 187 divergences after tuning. Increase `target_accept` or reparameterize.\n",
      "There were 263 divergences after tuning. Increase `target_accept` or reparameterize.\n",
      "There were 101 divergences after tuning. Increase `target_accept` or reparameterize.\n",
      "The number of effective samples is smaller than 10% for some parameters.\n"
     ]
    },
    {
     "name": "stdout",
     "output_type": "stream",
     "text": [
      "ALL. DAMN. DONE.\n"
     ]
    }
   ],
   "source": [
    "# ------------------------------------------- #\n",
    "# this bit of the code runs pymc3 for various #\n",
    "# values of the travel velocity of the disk   #\n",
    "# ------------------------------------------- #\n",
    "# includes ~1% error on velocity measure      #\n",
    "# ------------------------------------------- #\n",
    "\n",
    "modelChoices = [\"fiducial2021\",\"vdm2012\",\"Dataset3\"]\n",
    "\n",
    "# travel velocities of MW disk wrt halo:\n",
    "vtravels = np.concatenate( (np.arange(0,105,5), np.array([32])) )\n",
    "vtravel_err = 1e-2\n",
    "\n",
    "for dataset in modelChoices:\n",
    "    \n",
    "#     if dataset==\"vdm2012\":\n",
    "#         continue\n",
    "    for vel in vtravels:\n",
    "        print(f'working on {dataset} travel velocity {vel}')\n",
    "        if vel == 0:\n",
    "            model = TimingArgumentModelPymc3.from_dataset(f\"../datasets/{dataset}.ecsv\", \n",
    "                                                      include_vtravel=False)\n",
    "        elif vel == 32:\n",
    "            model = TimingArgumentModelPymc3.from_dataset(f\"../datasets/{dataset}.ecsv\", \n",
    "                                                      include_vtravel=True)\n",
    "            \n",
    "        else:\n",
    "            model = TimingArgumentModelPymc3.from_dataset(f\"../datasets/{dataset}.ecsv\", \n",
    "                                                      include_vtravel=True,\n",
    "                                                      vtravel_mag=vel,\n",
    "                                                      vtravel_mag_err=vtravel_err)\n",
    "        with model.pymc3_model:\n",
    "            start = {\n",
    "            'r': 770.,  \n",
    "            'M': 4.2, \n",
    "            'eta': 4.5,\n",
    "            'ln(1-e)': -3,\n",
    "            'alpha': 0.5\n",
    "            }\n",
    "            res = pmx.optimize(start=start)\n",
    "            print(repr(res))\n",
    "\n",
    "            samples = pmx.sample(return_inferencedata=True, \n",
    "                                 start=res, chains=4, tune=4000, draws=8000)\n",
    "\n",
    "        samples.to_json(f\"../pymc3-data/{dataset}_vtravel_{vel}.json\")\n",
    "print(\"ALL. DAMN. DONE.\")"
   ]
  },
  {
   "cell_type": "markdown",
   "id": "f221b3f2",
   "metadata": {},
   "source": [
    "---\n",
    "# Mass error vs. pm error"
   ]
  },
  {
   "cell_type": "code",
   "execution_count": 6,
   "id": "ef9ad83a",
   "metadata": {
    "scrolled": false
   },
   "outputs": [
    {
     "name": "stdout",
     "output_type": "stream",
     "text": [
      "working on fiducial2021 and error 1\n"
     ]
    },
    {
     "name": "stderr",
     "output_type": "stream",
     "text": [
      "optimizing logp for variables: [vtravel_lat, vtravel_lon, vtravel_mag, alpha, ln(1-e), eta, M, r]\n"
     ]
    },
    {
     "data": {
      "text/html": [
       "\n",
       "    <div>\n",
       "        <style>\n",
       "            /* Turns off some styling */\n",
       "            progress {\n",
       "                /* gets rid of default border in Firefox and Opera. */\n",
       "                border: none;\n",
       "                /* Needs to be in here for Safari polyfill so background images work as expected. */\n",
       "                background-size: auto;\n",
       "            }\n",
       "            .progress-bar-interrupted, .progress-bar-interrupted::-webkit-progress-bar {\n",
       "                background: #F44336;\n",
       "            }\n",
       "        </style>\n",
       "      <progress value='138' class='' max='138' style='width:300px; height:20px; vertical-align: middle;'></progress>\n",
       "      100.00% [138/138 00:00<00:00 logp = 3.850e+01]\n",
       "    </div>\n",
       "    "
      ],
      "text/plain": [
       "<IPython.core.display.HTML object>"
      ]
     },
     "metadata": {},
     "output_type": "display_data"
    },
    {
     "name": "stdout",
     "output_type": "stream",
     "text": [
      "\n"
     ]
    },
    {
     "name": "stderr",
     "output_type": "stream",
     "text": [
      "message: Optimization terminated successfully.\n",
      "logp: -37117.429949243065 -> 38.49760686496404\n"
     ]
    },
    {
     "name": "stdout",
     "output_type": "stream",
     "text": [
      "{'r_interval__': array(-2.63035545), 'M_interval__': array(-1.30340124), 'eta_angle__': array([-3.91249257, -2.16619524]), 'ln(1-e)_interval__': array(1.59111095), 'alpha_angle__': array([4.40642215, 0.76383503]), 'vtravel_mag': array(32.74757696), 'vtravel_lon': array(0.97417956), 'vtravel_lat': array(-0.60136264), 'r': array(765.38061284), 'M': array(4.66506644), 'eta': array(-2.07644608), 'sineta': array(-0.87485994), 'coseta': array(-0.48437598), 'ln(1-e)': array(-1.69227651), 'e': array(0.81590006), 'a': array(548.58034721), 'vscale': array(195.58824984), 'vrad': array(-100.06473307), 'vtan': array(81.05472651), 'tperi': array(13.80098331), 'sun_m31_dist': array(761.43773236), 'm31_icrs_xyz': array([562.39225624, 106.10967208, 502.23809878]), 'alpha': array(1.3991561), 'model_pmra': array(0.24126095), 'model_pmdec': array(-0.18970668), 'model_rv': array(-307.83916646)}\n"
     ]
    },
    {
     "name": "stderr",
     "output_type": "stream",
     "text": [
      "Multiprocess sampling (4 chains in 4 jobs)\n",
      "NUTS: [vtravel_lat, vtravel_lon, vtravel_mag, alpha, ln(1-e), eta, M, r]\n"
     ]
    },
    {
     "data": {
      "text/html": [
       "\n",
       "    <div>\n",
       "        <style>\n",
       "            /* Turns off some styling */\n",
       "            progress {\n",
       "                /* gets rid of default border in Firefox and Opera. */\n",
       "                border: none;\n",
       "                /* Needs to be in here for Safari polyfill so background images work as expected. */\n",
       "                background-size: auto;\n",
       "            }\n",
       "            .progress-bar-interrupted, .progress-bar-interrupted::-webkit-progress-bar {\n",
       "                background: #F44336;\n",
       "            }\n",
       "        </style>\n",
       "      <progress value='48000' class='' max='48000' style='width:300px; height:20px; vertical-align: middle;'></progress>\n",
       "      100.00% [48000/48000 02:56<00:00 Sampling 4 chains, 491 divergences]\n",
       "    </div>\n",
       "    "
      ],
      "text/plain": [
       "<IPython.core.display.HTML object>"
      ]
     },
     "metadata": {},
     "output_type": "display_data"
    },
    {
     "name": "stderr",
     "output_type": "stream",
     "text": [
      "INFO (theano.gof.compilelock): Waiting for existing lock by process '30100' (I am process '30131')\n",
      "INFO (theano.gof.compilelock): To manually release the lock, delete /Users/katiechambe/.theano/compiledir_macOS-10.15.7-x86_64-i386-64bit-i386-3.9.5-64/lock_dir\n",
      "Sampling 4 chains for 4_000 tune and 8_000 draw iterations (16_000 + 32_000 draws total) took 187 seconds.\n",
      "There were 89 divergences after tuning. Increase `target_accept` or reparameterize.\n",
      "There were 143 divergences after tuning. Increase `target_accept` or reparameterize.\n",
      "There were 83 divergences after tuning. Increase `target_accept` or reparameterize.\n",
      "There were 176 divergences after tuning. Increase `target_accept` or reparameterize.\n",
      "The number of effective samples is smaller than 10% for some parameters.\n"
     ]
    },
    {
     "name": "stdout",
     "output_type": "stream",
     "text": [
      "1 <xarray.DataArray 'M' ()>\n",
      "array(0.67603633)\n",
      "working on fiducial2021 and error 2\n"
     ]
    },
    {
     "name": "stderr",
     "output_type": "stream",
     "text": [
      "optimizing logp for variables: [vtravel_lat, vtravel_lon, vtravel_mag, alpha, ln(1-e), eta, M, r]\n"
     ]
    },
    {
     "data": {
      "text/html": [
       "\n",
       "    <div>\n",
       "        <style>\n",
       "            /* Turns off some styling */\n",
       "            progress {\n",
       "                /* gets rid of default border in Firefox and Opera. */\n",
       "                border: none;\n",
       "                /* Needs to be in here for Safari polyfill so background images work as expected. */\n",
       "                background-size: auto;\n",
       "            }\n",
       "            .progress-bar-interrupted, .progress-bar-interrupted::-webkit-progress-bar {\n",
       "                background: #F44336;\n",
       "            }\n",
       "        </style>\n",
       "      <progress value='128' class='' max='128' style='width:300px; height:20px; vertical-align: middle;'></progress>\n",
       "      100.00% [128/128 00:00<00:00 logp = 3.984e+01]\n",
       "    </div>\n",
       "    "
      ],
      "text/plain": [
       "<IPython.core.display.HTML object>"
      ]
     },
     "metadata": {},
     "output_type": "display_data"
    },
    {
     "name": "stdout",
     "output_type": "stream",
     "text": [
      "\n"
     ]
    },
    {
     "name": "stderr",
     "output_type": "stream",
     "text": [
      "message: Optimization terminated successfully.\n",
      "logp: -37121.10902458546 -> 39.84336568781607\n"
     ]
    },
    {
     "name": "stdout",
     "output_type": "stream",
     "text": [
      "{'r_interval__': array(-2.63023251), 'M_interval__': array(-1.34719348), 'eta_angle__': array([-3.89537373, -2.19683034]), 'ln(1-e)_interval__': array(1.50670482), 'alpha_angle__': array([4.41439079, 0.71634764]), 'vtravel_mag': array(32.76051033), 'vtravel_lon': array(0.97365865), 'vtravel_lat': array(-0.60342512), 'r': array(765.45691994), 'M': array(4.52342686), 'eta': array(-2.08429327), 'sineta': array(-0.87103204), 'coseta': array(-0.4912262), 'ln(1-e)': array(-1.81427652), 'e': array(0.83704424), 'a': array(542.42405175), 'vscale': array(193.68602362), 'vrad': array(-100.06887383), 'vtan': array(75.09501971), 'tperi': array(13.80098166), 'sun_m31_dist': array(761.51404276), 'm31_icrs_xyz': array([562.44861854, 106.12030627, 502.2884325 ]), 'alpha': array(1.40992312), 'model_pmra': array(0.23859677), 'model_pmdec': array(-0.18214045), 'model_rv': array(-307.83925027)}\n"
     ]
    },
    {
     "name": "stderr",
     "output_type": "stream",
     "text": [
      "Multiprocess sampling (4 chains in 4 jobs)\n",
      "NUTS: [vtravel_lat, vtravel_lon, vtravel_mag, alpha, ln(1-e), eta, M, r]\n"
     ]
    },
    {
     "data": {
      "text/html": [
       "\n",
       "    <div>\n",
       "        <style>\n",
       "            /* Turns off some styling */\n",
       "            progress {\n",
       "                /* gets rid of default border in Firefox and Opera. */\n",
       "                border: none;\n",
       "                /* Needs to be in here for Safari polyfill so background images work as expected. */\n",
       "                background-size: auto;\n",
       "            }\n",
       "            .progress-bar-interrupted, .progress-bar-interrupted::-webkit-progress-bar {\n",
       "                background: #F44336;\n",
       "            }\n",
       "        </style>\n",
       "      <progress value='48000' class='' max='48000' style='width:300px; height:20px; vertical-align: middle;'></progress>\n",
       "      100.00% [48000/48000 02:24<00:00 Sampling 4 chains, 136 divergences]\n",
       "    </div>\n",
       "    "
      ],
      "text/plain": [
       "<IPython.core.display.HTML object>"
      ]
     },
     "metadata": {},
     "output_type": "display_data"
    },
    {
     "name": "stderr",
     "output_type": "stream",
     "text": [
      "Sampling 4 chains for 4_000 tune and 8_000 draw iterations (16_000 + 32_000 draws total) took 156 seconds.\n",
      "There were 94 divergences after tuning. Increase `target_accept` or reparameterize.\n",
      "There were 2 divergences after tuning. Increase `target_accept` or reparameterize.\n",
      "The acceptance probability does not match the target. It is 0.9704381761604784, but should be close to 0.9. Try to increase the number of tuning steps.\n",
      "There were 4 divergences after tuning. Increase `target_accept` or reparameterize.\n",
      "The acceptance probability does not match the target. It is 0.960499908385669, but should be close to 0.9. Try to increase the number of tuning steps.\n",
      "There were 36 divergences after tuning. Increase `target_accept` or reparameterize.\n",
      "The number of effective samples is smaller than 10% for some parameters.\n"
     ]
    },
    {
     "name": "stdout",
     "output_type": "stream",
     "text": [
      "2 <xarray.DataArray 'M' ()>\n",
      "array(0.43000267)\n",
      "working on fiducial2021 and error 4\n"
     ]
    },
    {
     "name": "stderr",
     "output_type": "stream",
     "text": [
      "optimizing logp for variables: [vtravel_lat, vtravel_lon, vtravel_mag, alpha, ln(1-e), eta, M, r]\n"
     ]
    },
    {
     "data": {
      "text/html": [
       "\n",
       "    <div>\n",
       "        <style>\n",
       "            /* Turns off some styling */\n",
       "            progress {\n",
       "                /* gets rid of default border in Firefox and Opera. */\n",
       "                border: none;\n",
       "                /* Needs to be in here for Safari polyfill so background images work as expected. */\n",
       "                background-size: auto;\n",
       "            }\n",
       "            .progress-bar-interrupted, .progress-bar-interrupted::-webkit-progress-bar {\n",
       "                background: #F44336;\n",
       "            }\n",
       "        </style>\n",
       "      <progress value='96' class='' max='96' style='width:300px; height:20px; vertical-align: middle;'></progress>\n",
       "      100.00% [96/96 00:00<00:00 logp = 4.122e+01]\n",
       "    </div>\n",
       "    "
      ],
      "text/plain": [
       "<IPython.core.display.HTML object>"
      ]
     },
     "metadata": {},
     "output_type": "display_data"
    },
    {
     "name": "stdout",
     "output_type": "stream",
     "text": [
      "\n"
     ]
    },
    {
     "name": "stderr",
     "output_type": "stream",
     "text": [
      "message: Optimization terminated successfully.\n",
      "logp: -37139.984209038346 -> 41.21594570511813\n"
     ]
    },
    {
     "name": "stdout",
     "output_type": "stream",
     "text": [
      "{'r_interval__': array(-2.63019179), 'M_interval__': array(-1.36141365), 'eta_angle__': array([-3.88987672, -2.20654917]), 'ln(1-e)_interval__': array(1.47742989), 'alpha_angle__': array([4.41679125, 0.70139495]), 'vtravel_mag': array(32.76538471), 'vtravel_lon': array(0.97347646), 'vtravel_lat': array(-0.60416299), 'r': array(765.48219461), 'M': array(4.47820755), 'eta': array(-2.08679), 'sineta': array(-0.86980287), 'coseta': array(-0.49339939), 'ln(1-e)': array(-1.85815933), 'e': array(0.84404056), 'a': array(540.42336854), 'vscale': array(193.07187543), 'vrad': array(-100.0696083), 'vtan': array(73.09860758), 'tperi': array(13.80098116), 'sun_m31_dist': array(761.53931852), 'm31_icrs_xyz': array([562.46728702, 106.12382856, 502.30510418]), 'alpha': array(1.41330945), 'model_pmra': array(0.23776128), 'model_pmdec': array(-0.17959045), 'model_rv': array(-307.83926807)}\n"
     ]
    },
    {
     "name": "stderr",
     "output_type": "stream",
     "text": [
      "Multiprocess sampling (4 chains in 4 jobs)\n",
      "NUTS: [vtravel_lat, vtravel_lon, vtravel_mag, alpha, ln(1-e), eta, M, r]\n"
     ]
    },
    {
     "data": {
      "text/html": [
       "\n",
       "    <div>\n",
       "        <style>\n",
       "            /* Turns off some styling */\n",
       "            progress {\n",
       "                /* gets rid of default border in Firefox and Opera. */\n",
       "                border: none;\n",
       "                /* Needs to be in here for Safari polyfill so background images work as expected. */\n",
       "                background-size: auto;\n",
       "            }\n",
       "            .progress-bar-interrupted, .progress-bar-interrupted::-webkit-progress-bar {\n",
       "                background: #F44336;\n",
       "            }\n",
       "        </style>\n",
       "      <progress value='48000' class='' max='48000' style='width:300px; height:20px; vertical-align: middle;'></progress>\n",
       "      100.00% [48000/48000 01:40<00:00 Sampling 4 chains, 150 divergences]\n",
       "    </div>\n",
       "    "
      ],
      "text/plain": [
       "<IPython.core.display.HTML object>"
      ]
     },
     "metadata": {},
     "output_type": "display_data"
    },
    {
     "name": "stderr",
     "output_type": "stream",
     "text": [
      "Sampling 4 chains for 4_000 tune and 8_000 draw iterations (16_000 + 32_000 draws total) took 111 seconds.\n",
      "There were 42 divergences after tuning. Increase `target_accept` or reparameterize.\n",
      "There were 38 divergences after tuning. Increase `target_accept` or reparameterize.\n",
      "There were 18 divergences after tuning. Increase `target_accept` or reparameterize.\n",
      "There were 52 divergences after tuning. Increase `target_accept` or reparameterize.\n"
     ]
    },
    {
     "name": "stdout",
     "output_type": "stream",
     "text": [
      "4 <xarray.DataArray 'M' ()>\n",
      "array(0.30878489)\n",
      "working on fiducial2021 and error 8\n"
     ]
    },
    {
     "name": "stderr",
     "output_type": "stream",
     "text": [
      "optimizing logp for variables: [vtravel_lat, vtravel_lon, vtravel_mag, alpha, ln(1-e), eta, M, r]\n"
     ]
    },
    {
     "data": {
      "text/html": [
       "\n",
       "    <div>\n",
       "        <style>\n",
       "            /* Turns off some styling */\n",
       "            progress {\n",
       "                /* gets rid of default border in Firefox and Opera. */\n",
       "                border: none;\n",
       "                /* Needs to be in here for Safari polyfill so background images work as expected. */\n",
       "                background-size: auto;\n",
       "            }\n",
       "            .progress-bar-interrupted, .progress-bar-interrupted::-webkit-progress-bar {\n",
       "                background: #F44336;\n",
       "            }\n",
       "        </style>\n",
       "      <progress value='90' class='' max='90' style='width:300px; height:20px; vertical-align: middle;'></progress>\n",
       "      100.00% [90/90 00:00<00:00 logp = 4.260e+01]\n",
       "    </div>\n",
       "    "
      ],
      "text/plain": [
       "<IPython.core.display.HTML object>"
      ]
     },
     "metadata": {},
     "output_type": "display_data"
    },
    {
     "name": "stdout",
     "output_type": "stream",
     "text": [
      "\n"
     ]
    },
    {
     "name": "stderr",
     "output_type": "stream",
     "text": [
      "message: Optimization terminated successfully.\n",
      "logp: -37219.643829933266 -> 42.5984879168072\n"
     ]
    },
    {
     "name": "stdout",
     "output_type": "stream",
     "text": [
      "{'r_interval__': array(-2.63018069), 'M_interval__': array(-1.36525735), 'eta_angle__': array([-3.88839618, -2.20915715]), 'ln(1-e)_interval__': array(1.46933919), 'alpha_angle__': array([4.41742539, 0.69739026]), 'vtravel_mag': array(32.76676881), 'vtravel_lon': array(0.97342588), 'vtravel_lat': array(-0.60436933), 'r': array(765.48908864), 'M': array(4.46604989), 'eta': array(-2.08746058), 'sineta': array(-0.86947181), 'coseta': array(-0.49398255), 'ln(1-e)': array(-1.87043074), 'e': array(0.84594271), 'a': array(539.88248673), 'vscale': array(192.90617572), 'vrad': array(-100.06975286), 'vtan': array(72.55320484), 'tperi': array(13.80098102), 'sun_m31_dist': array(761.54621285), 'm31_icrs_xyz': array([562.47237913, 106.12478931, 502.30965163]), 'alpha': array(1.41421609), 'model_pmra': array(0.23753771), 'model_pmdec': array(-0.17889254), 'model_rv': array(-307.83927201)}\n"
     ]
    },
    {
     "name": "stderr",
     "output_type": "stream",
     "text": [
      "Multiprocess sampling (4 chains in 4 jobs)\n",
      "NUTS: [vtravel_lat, vtravel_lon, vtravel_mag, alpha, ln(1-e), eta, M, r]\n"
     ]
    },
    {
     "data": {
      "text/html": [
       "\n",
       "    <div>\n",
       "        <style>\n",
       "            /* Turns off some styling */\n",
       "            progress {\n",
       "                /* gets rid of default border in Firefox and Opera. */\n",
       "                border: none;\n",
       "                /* Needs to be in here for Safari polyfill so background images work as expected. */\n",
       "                background-size: auto;\n",
       "            }\n",
       "            .progress-bar-interrupted, .progress-bar-interrupted::-webkit-progress-bar {\n",
       "                background: #F44336;\n",
       "            }\n",
       "        </style>\n",
       "      <progress value='48000' class='' max='48000' style='width:300px; height:20px; vertical-align: middle;'></progress>\n",
       "      100.00% [48000/48000 01:35<00:00 Sampling 4 chains, 240 divergences]\n",
       "    </div>\n",
       "    "
      ],
      "text/plain": [
       "<IPython.core.display.HTML object>"
      ]
     },
     "metadata": {},
     "output_type": "display_data"
    },
    {
     "name": "stderr",
     "output_type": "stream",
     "text": [
      "INFO (theano.gof.compilelock): Waiting for existing lock by process '32345' (I am process '32256')\n",
      "INFO (theano.gof.compilelock): To manually release the lock, delete /Users/katiechambe/.theano/compiledir_macOS-10.15.7-x86_64-i386-64bit-i386-3.9.5-64/lock_dir\n",
      "INFO (theano.gof.compilelock): Waiting for existing lock by process '32312' (I am process '32256')\n",
      "INFO (theano.gof.compilelock): To manually release the lock, delete /Users/katiechambe/.theano/compiledir_macOS-10.15.7-x86_64-i386-64bit-i386-3.9.5-64/lock_dir\n",
      "Sampling 4 chains for 4_000 tune and 8_000 draw iterations (16_000 + 32_000 draws total) took 105 seconds.\n",
      "There were 24 divergences after tuning. Increase `target_accept` or reparameterize.\n",
      "There were 21 divergences after tuning. Increase `target_accept` or reparameterize.\n",
      "There were 118 divergences after tuning. Increase `target_accept` or reparameterize.\n",
      "There were 77 divergences after tuning. Increase `target_accept` or reparameterize.\n"
     ]
    },
    {
     "name": "stdout",
     "output_type": "stream",
     "text": [
      "8 <xarray.DataArray 'M' ()>\n",
      "array(0.27030038)\n",
      "working on fiducial2021 and error 16\n"
     ]
    },
    {
     "name": "stderr",
     "output_type": "stream",
     "text": [
      "optimizing logp for variables: [vtravel_lat, vtravel_lon, vtravel_mag, alpha, ln(1-e), eta, M, r]\n"
     ]
    },
    {
     "data": {
      "text/html": [
       "\n",
       "    <div>\n",
       "        <style>\n",
       "            /* Turns off some styling */\n",
       "            progress {\n",
       "                /* gets rid of default border in Firefox and Opera. */\n",
       "                border: none;\n",
       "                /* Needs to be in here for Safari polyfill so background images work as expected. */\n",
       "                background-size: auto;\n",
       "            }\n",
       "            .progress-bar-interrupted, .progress-bar-interrupted::-webkit-progress-bar {\n",
       "                background: #F44336;\n",
       "            }\n",
       "        </style>\n",
       "      <progress value='103' class='' max='103' style='width:300px; height:20px; vertical-align: middle;'></progress>\n",
       "      100.00% [103/103 00:00<00:00 logp = 4.398e+01]\n",
       "    </div>\n",
       "    "
      ],
      "text/plain": [
       "<IPython.core.display.HTML object>"
      ]
     },
     "metadata": {},
     "output_type": "display_data"
    },
    {
     "name": "stdout",
     "output_type": "stream",
     "text": [
      "\n"
     ]
    },
    {
     "name": "stderr",
     "output_type": "stream",
     "text": [
      "message: Optimization terminated successfully.\n",
      "logp: -37542.44119659632 -> 43.98382163214444\n"
     ]
    },
    {
     "name": "stdout",
     "output_type": "stream",
     "text": [
      "{'r_interval__': array(-2.63017785), 'M_interval__': array(-1.36623834), 'eta_angle__': array([-3.88801868, -2.20982148]), 'ln(1-e)_interval__': array(1.46726167), 'alpha_angle__': array([4.41758624, 0.69637066]), 'vtravel_mag': array(32.76712692), 'vtravel_lon': array(0.97341288), 'vtravel_lat': array(-0.6044225), 'r': array(765.49085361), 'M': array(4.46295144), 'eta': array(-2.08763144), 'sineta': array(-0.8693874), 'coseta': array(-0.4941311), 'ln(1-e)': array(-1.87359183), 'e': array(0.84642893), 'a': array(539.74443693), 'vscale': array(192.86390659), 'vrad': array(-100.06978575), 'vtan': array(72.41359847), 'tperi': array(13.80098099), 'sun_m31_dist': array(761.5479779), 'm31_icrs_xyz': array([562.47368278, 106.12503528, 502.31081584]), 'alpha': array(1.4144469), 'model_pmra': array(0.2374808), 'model_pmdec': array(-0.17871381), 'model_rv': array(-307.83927297)}\n"
     ]
    },
    {
     "name": "stderr",
     "output_type": "stream",
     "text": [
      "Multiprocess sampling (4 chains in 4 jobs)\n",
      "NUTS: [vtravel_lat, vtravel_lon, vtravel_mag, alpha, ln(1-e), eta, M, r]\n"
     ]
    },
    {
     "data": {
      "text/html": [
       "\n",
       "    <div>\n",
       "        <style>\n",
       "            /* Turns off some styling */\n",
       "            progress {\n",
       "                /* gets rid of default border in Firefox and Opera. */\n",
       "                border: none;\n",
       "                /* Needs to be in here for Safari polyfill so background images work as expected. */\n",
       "                background-size: auto;\n",
       "            }\n",
       "            .progress-bar-interrupted, .progress-bar-interrupted::-webkit-progress-bar {\n",
       "                background: #F44336;\n",
       "            }\n",
       "        </style>\n",
       "      <progress value='48000' class='' max='48000' style='width:300px; height:20px; vertical-align: middle;'></progress>\n",
       "      100.00% [48000/48000 01:34<00:00 Sampling 4 chains, 645 divergences]\n",
       "    </div>\n",
       "    "
      ],
      "text/plain": [
       "<IPython.core.display.HTML object>"
      ]
     },
     "metadata": {},
     "output_type": "display_data"
    },
    {
     "name": "stderr",
     "output_type": "stream",
     "text": [
      "INFO (theano.gof.compilelock): Waiting for existing lock by process '32858' (I am process '32927')\n",
      "INFO (theano.gof.compilelock): To manually release the lock, delete /Users/katiechambe/.theano/compiledir_macOS-10.15.7-x86_64-i386-64bit-i386-3.9.5-64/lock_dir\n",
      "Sampling 4 chains for 4_000 tune and 8_000 draw iterations (16_000 + 32_000 draws total) took 104 seconds.\n",
      "There were 83 divergences after tuning. Increase `target_accept` or reparameterize.\n",
      "There were 167 divergences after tuning. Increase `target_accept` or reparameterize.\n",
      "There were 284 divergences after tuning. Increase `target_accept` or reparameterize.\n",
      "There were 111 divergences after tuning. Increase `target_accept` or reparameterize.\n"
     ]
    },
    {
     "name": "stdout",
     "output_type": "stream",
     "text": [
      "16 <xarray.DataArray 'M' ()>\n",
      "array(0.26196621)\n",
      "working on vdm2012 and error 1\n"
     ]
    },
    {
     "name": "stderr",
     "output_type": "stream",
     "text": [
      "optimizing logp for variables: [vtravel_lat, vtravel_lon, vtravel_mag, alpha, ln(1-e), eta, M, r]\n"
     ]
    },
    {
     "data": {
      "text/html": [
       "\n",
       "    <div>\n",
       "        <style>\n",
       "            /* Turns off some styling */\n",
       "            progress {\n",
       "                /* gets rid of default border in Firefox and Opera. */\n",
       "                border: none;\n",
       "                /* Needs to be in here for Safari polyfill so background images work as expected. */\n",
       "                background-size: auto;\n",
       "            }\n",
       "            .progress-bar-interrupted, .progress-bar-interrupted::-webkit-progress-bar {\n",
       "                background: #F44336;\n",
       "            }\n",
       "        </style>\n",
       "      <progress value='94' class='' max='94' style='width:300px; height:20px; vertical-align: middle;'></progress>\n",
       "      100.00% [94/94 00:00<00:00 logp = 3.553e+01]\n",
       "    </div>\n",
       "    "
      ],
      "text/plain": [
       "<IPython.core.display.HTML object>"
      ]
     },
     "metadata": {},
     "output_type": "display_data"
    },
    {
     "name": "stdout",
     "output_type": "stream",
     "text": [
      "\n"
     ]
    },
    {
     "name": "stderr",
     "output_type": "stream",
     "text": [
      "message: Optimization terminated successfully.\n",
      "logp: -2509.2565218100976 -> 35.531484706474224\n"
     ]
    },
    {
     "name": "stdout",
     "output_type": "stream",
     "text": [
      "{'r_interval__': array(-2.61922239), 'M_interval__': array(-1.48689169), 'eta_angle__': array([-3.78292046, -2.38526993]), 'ln(1-e)_interval__': array(1.32164768), 'alpha_angle__': array([ 0.69005802, -4.41857668]), 'vtravel_mag': array(32.95915642), 'vtravel_lon': array(0.96925204), 'vtravel_lat': array(-0.58658059), 'r': array(772.32384358), 'M': array(4.09558015), 'eta': array(-2.13336714), 'sineta': array(-0.84588673), 'coseta': array(-0.53336257), 'ln(1-e)': array(-2.10544294), 'e': array(0.87820828), 'a': array(525.96161787), 'vscale': array(187.16069742), 'vrad': array(-94.68452564), 'vtan': array(60.96070985), 'tperi': array(13.74948615), 'sun_m31_dist': array(768.29901741), 'm31_icrs_xyz': array([567.45995044, 107.06582211, 506.76374627]), 'alpha': array(2.98667204), 'model_pmra': array(0.14274279), 'model_pmdec': array(-0.10192966), 'model_rv': array(-307.84014632)}\n"
     ]
    },
    {
     "name": "stderr",
     "output_type": "stream",
     "text": [
      "Multiprocess sampling (4 chains in 4 jobs)\n",
      "NUTS: [vtravel_lat, vtravel_lon, vtravel_mag, alpha, ln(1-e), eta, M, r]\n"
     ]
    },
    {
     "data": {
      "text/html": [
       "\n",
       "    <div>\n",
       "        <style>\n",
       "            /* Turns off some styling */\n",
       "            progress {\n",
       "                /* gets rid of default border in Firefox and Opera. */\n",
       "                border: none;\n",
       "                /* Needs to be in here for Safari polyfill so background images work as expected. */\n",
       "                background-size: auto;\n",
       "            }\n",
       "            .progress-bar-interrupted, .progress-bar-interrupted::-webkit-progress-bar {\n",
       "                background: #F44336;\n",
       "            }\n",
       "        </style>\n",
       "      <progress value='48000' class='' max='48000' style='width:300px; height:20px; vertical-align: middle;'></progress>\n",
       "      100.00% [48000/48000 02:22<00:00 Sampling 4 chains, 375 divergences]\n",
       "    </div>\n",
       "    "
      ],
      "text/plain": [
       "<IPython.core.display.HTML object>"
      ]
     },
     "metadata": {},
     "output_type": "display_data"
    },
    {
     "name": "stderr",
     "output_type": "stream",
     "text": [
      "INFO (theano.gof.compilelock): Waiting for existing lock by process '33443' (I am process '33512')\n",
      "INFO (theano.gof.compilelock): To manually release the lock, delete /Users/katiechambe/.theano/compiledir_macOS-10.15.7-x86_64-i386-64bit-i386-3.9.5-64/lock_dir\n",
      "Sampling 4 chains for 4_000 tune and 8_000 draw iterations (16_000 + 32_000 draws total) took 153 seconds.\n",
      "There were 159 divergences after tuning. Increase `target_accept` or reparameterize.\n",
      "The acceptance probability does not match the target. It is 0.8182161633893444, but should be close to 0.9. Try to increase the number of tuning steps.\n",
      "There were 200 divergences after tuning. Increase `target_accept` or reparameterize.\n",
      "The acceptance probability does not match the target. It is 0.8209954157518267, but should be close to 0.9. Try to increase the number of tuning steps.\n",
      "There were 7 divergences after tuning. Increase `target_accept` or reparameterize.\n",
      "There were 9 divergences after tuning. Increase `target_accept` or reparameterize.\n",
      "The number of effective samples is smaller than 10% for some parameters.\n"
     ]
    },
    {
     "name": "stdout",
     "output_type": "stream",
     "text": [
      "1 <xarray.DataArray 'M' ()>\n",
      "array(0.53599289)\n",
      "working on vdm2012 and error 2\n"
     ]
    },
    {
     "name": "stderr",
     "output_type": "stream",
     "text": [
      "optimizing logp for variables: [vtravel_lat, vtravel_lon, vtravel_mag, alpha, ln(1-e), eta, M, r]\n"
     ]
    },
    {
     "data": {
      "text/html": [
       "\n",
       "    <div>\n",
       "        <style>\n",
       "            /* Turns off some styling */\n",
       "            progress {\n",
       "                /* gets rid of default border in Firefox and Opera. */\n",
       "                border: none;\n",
       "                /* Needs to be in here for Safari polyfill so background images work as expected. */\n",
       "                background-size: auto;\n",
       "            }\n",
       "            .progress-bar-interrupted, .progress-bar-interrupted::-webkit-progress-bar {\n",
       "                background: #F44336;\n",
       "            }\n",
       "        </style>\n",
       "      <progress value='82' class='' max='82' style='width:300px; height:20px; vertical-align: middle;'></progress>\n",
       "      100.00% [82/82 00:00<00:00 logp = 3.673e+01]\n",
       "    </div>\n",
       "    "
      ],
      "text/plain": [
       "<IPython.core.display.HTML object>"
      ]
     },
     "metadata": {},
     "output_type": "display_data"
    },
    {
     "name": "stdout",
     "output_type": "stream",
     "text": [
      "\n"
     ]
    },
    {
     "name": "stderr",
     "output_type": "stream",
     "text": [
      "message: Optimization terminated successfully.\n",
      "logp: -2518.683277158779 -> 36.72911451594157\n"
     ]
    },
    {
     "name": "stdout",
     "output_type": "stream",
     "text": [
      "{'r_interval__': array(-2.62193394), 'M_interval__': array(-1.56415202), 'eta_angle__': array([-3.75884428, -2.42303308]), 'ln(1-e)_interval__': array(1.11615225), 'alpha_angle__': array([ 0.6922872 , -4.41822792]), 'vtravel_mag': array(33.07555608), 'vtravel_lon': array(0.96673087), 'vtravel_lat': array(-0.58379719), 'r': array(770.62659692), 'M': array(3.8745075), 'eta': array(-2.14338147), 'sineta': array(-0.84050314), 'coseta': array(-0.54180667), 'ln(1-e)': array(-2.46725698), 'e': array(0.9151828), 'a': array(515.17564501), 'vscale': array(183.93507659), 'vrad': array(-94.58517659), 'vtan': array(49.55904824), 'tperi': array(13.74945166), 'sun_m31_dist': array(766.60169546), 'm31_icrs_xyz': array([566.20632105, 106.82929289, 505.6442066 ]), 'alpha': array(2.98616752), 'model_pmra': array(0.15788819), 'model_pmdec': array(-0.09941913), 'model_rv': array(-307.83995306)}\n"
     ]
    },
    {
     "name": "stderr",
     "output_type": "stream",
     "text": [
      "Multiprocess sampling (4 chains in 4 jobs)\n",
      "NUTS: [vtravel_lat, vtravel_lon, vtravel_mag, alpha, ln(1-e), eta, M, r]\n"
     ]
    },
    {
     "data": {
      "text/html": [
       "\n",
       "    <div>\n",
       "        <style>\n",
       "            /* Turns off some styling */\n",
       "            progress {\n",
       "                /* gets rid of default border in Firefox and Opera. */\n",
       "                border: none;\n",
       "                /* Needs to be in here for Safari polyfill so background images work as expected. */\n",
       "                background-size: auto;\n",
       "            }\n",
       "            .progress-bar-interrupted, .progress-bar-interrupted::-webkit-progress-bar {\n",
       "                background: #F44336;\n",
       "            }\n",
       "        </style>\n",
       "      <progress value='48000' class='' max='48000' style='width:300px; height:20px; vertical-align: middle;'></progress>\n",
       "      100.00% [48000/48000 01:35<00:00 Sampling 4 chains, 15 divergences]\n",
       "    </div>\n",
       "    "
      ],
      "text/plain": [
       "<IPython.core.display.HTML object>"
      ]
     },
     "metadata": {},
     "output_type": "display_data"
    },
    {
     "name": "stderr",
     "output_type": "stream",
     "text": [
      "INFO (theano.gof.compilelock): Waiting for existing lock by process '34179' (I am process '34248')\n",
      "INFO (theano.gof.compilelock): To manually release the lock, delete /Users/katiechambe/.theano/compiledir_macOS-10.15.7-x86_64-i386-64bit-i386-3.9.5-64/lock_dir\n",
      "Sampling 4 chains for 4_000 tune and 8_000 draw iterations (16_000 + 32_000 draws total) took 106 seconds.\n",
      "There were 2 divergences after tuning. Increase `target_accept` or reparameterize.\n",
      "There were 4 divergences after tuning. Increase `target_accept` or reparameterize.\n",
      "There were 5 divergences after tuning. Increase `target_accept` or reparameterize.\n",
      "There were 4 divergences after tuning. Increase `target_accept` or reparameterize.\n",
      "The number of effective samples is smaller than 25% for some parameters.\n"
     ]
    },
    {
     "name": "stdout",
     "output_type": "stream",
     "text": [
      "2 <xarray.DataArray 'M' ()>\n",
      "array(0.39408855)\n",
      "working on vdm2012 and error 4\n"
     ]
    },
    {
     "name": "stderr",
     "output_type": "stream",
     "text": [
      "optimizing logp for variables: [vtravel_lat, vtravel_lon, vtravel_mag, alpha, ln(1-e), eta, M, r]\n"
     ]
    },
    {
     "data": {
      "text/html": [
       "\n",
       "    <div>\n",
       "        <style>\n",
       "            /* Turns off some styling */\n",
       "            progress {\n",
       "                /* gets rid of default border in Firefox and Opera. */\n",
       "                border: none;\n",
       "                /* Needs to be in here for Safari polyfill so background images work as expected. */\n",
       "                background-size: auto;\n",
       "            }\n",
       "            .progress-bar-interrupted, .progress-bar-interrupted::-webkit-progress-bar {\n",
       "                background: #F44336;\n",
       "            }\n",
       "        </style>\n",
       "      <progress value='75' class='' max='75' style='width:300px; height:20px; vertical-align: middle;'></progress>\n",
       "      100.00% [75/75 00:00<00:00 logp = 3.804e+01]\n",
       "    </div>\n",
       "    "
      ],
      "text/plain": [
       "<IPython.core.display.HTML object>"
      ]
     },
     "metadata": {},
     "output_type": "display_data"
    },
    {
     "name": "stdout",
     "output_type": "stream",
     "text": [
      "\n"
     ]
    },
    {
     "name": "stderr",
     "output_type": "stream",
     "text": [
      "message: Optimization terminated successfully.\n",
      "logp: -2560.549181636865 -> 38.0369174744408\n"
     ]
    },
    {
     "name": "stdout",
     "output_type": "stream",
     "text": [
      "{'r_interval__': array(-2.62350909), 'M_interval__': array(-1.59228644), 'eta_angle__': array([-3.75134702, -2.43462425]), 'ln(1-e)_interval__': array(1.02743444), 'alpha_angle__': array([ 0.68861994, -4.41880088]), 'vtravel_mag': array(33.1354502), 'vtravel_lon': array(0.96546063), 'vtravel_lat': array(-0.58235093), 'r': array(769.64248598), 'M': array(3.79671786), 'eta': array(-2.14646824), 'sineta': array(-0.8388267), 'coseta': array(-0.54439854), 'ln(1-e)': array(-2.63581794), 'e': array(0.92833967), 'a': array(511.25897232), 'vscale': array(182.77536398), 'vrad': array(-94.54721074), 'vtan': array(45.13367948), 'tperi': array(13.74944223), 'sun_m31_dist': array(765.61754072), 'm31_icrs_xyz': array([565.47943166, 106.69214663, 504.99506618]), 'alpha': array(2.98699749), 'model_pmra': array(0.16386887), 'model_pmdec': array(-0.09842207), 'model_rv': array(-307.83982602)}\n"
     ]
    },
    {
     "name": "stderr",
     "output_type": "stream",
     "text": [
      "Multiprocess sampling (4 chains in 4 jobs)\n",
      "NUTS: [vtravel_lat, vtravel_lon, vtravel_mag, alpha, ln(1-e), eta, M, r]\n"
     ]
    },
    {
     "data": {
      "text/html": [
       "\n",
       "    <div>\n",
       "        <style>\n",
       "            /* Turns off some styling */\n",
       "            progress {\n",
       "                /* gets rid of default border in Firefox and Opera. */\n",
       "                border: none;\n",
       "                /* Needs to be in here for Safari polyfill so background images work as expected. */\n",
       "                background-size: auto;\n",
       "            }\n",
       "            .progress-bar-interrupted, .progress-bar-interrupted::-webkit-progress-bar {\n",
       "                background: #F44336;\n",
       "            }\n",
       "        </style>\n",
       "      <progress value='48000' class='' max='48000' style='width:300px; height:20px; vertical-align: middle;'></progress>\n",
       "      100.00% [48000/48000 01:22<00:00 Sampling 4 chains, 2 divergences]\n",
       "    </div>\n",
       "    "
      ],
      "text/plain": [
       "<IPython.core.display.HTML object>"
      ]
     },
     "metadata": {},
     "output_type": "display_data"
    },
    {
     "name": "stderr",
     "output_type": "stream",
     "text": [
      "INFO (theano.gof.compilelock): Waiting for existing lock by process '34761' (I am process '34792')\n",
      "INFO (theano.gof.compilelock): To manually release the lock, delete /Users/katiechambe/.theano/compiledir_macOS-10.15.7-x86_64-i386-64bit-i386-3.9.5-64/lock_dir\n",
      "Sampling 4 chains for 4_000 tune and 8_000 draw iterations (16_000 + 32_000 draws total) took 92 seconds.\n",
      "There was 1 divergence after tuning. Increase `target_accept` or reparameterize.\n",
      "There was 1 divergence after tuning. Increase `target_accept` or reparameterize.\n"
     ]
    },
    {
     "name": "stdout",
     "output_type": "stream",
     "text": [
      "4 <xarray.DataArray 'M' ()>\n",
      "array(0.34175112)\n",
      "working on vdm2012 and error 8\n"
     ]
    },
    {
     "name": "stderr",
     "output_type": "stream",
     "text": [
      "optimizing logp for variables: [vtravel_lat, vtravel_lon, vtravel_mag, alpha, ln(1-e), eta, M, r]\n"
     ]
    },
    {
     "data": {
      "text/html": [
       "\n",
       "    <div>\n",
       "        <style>\n",
       "            /* Turns off some styling */\n",
       "            progress {\n",
       "                /* gets rid of default border in Firefox and Opera. */\n",
       "                border: none;\n",
       "                /* Needs to be in here for Safari polyfill so background images work as expected. */\n",
       "                background-size: auto;\n",
       "            }\n",
       "            .progress-bar-interrupted, .progress-bar-interrupted::-webkit-progress-bar {\n",
       "                background: #F44336;\n",
       "            }\n",
       "        </style>\n",
       "      <progress value='74' class='' max='74' style='width:300px; height:20px; vertical-align: middle;'></progress>\n",
       "      100.00% [74/74 00:00<00:00 logp = 3.940e+01]\n",
       "    </div>\n",
       "    "
      ],
      "text/plain": [
       "<IPython.core.display.HTML object>"
      ]
     },
     "metadata": {},
     "output_type": "display_data"
    },
    {
     "name": "stdout",
     "output_type": "stream",
     "text": [
      "\n"
     ]
    },
    {
     "name": "stderr",
     "output_type": "stream",
     "text": [
      "message: Optimization terminated successfully.\n",
      "logp: -2732.171682632566 -> 39.399525690500845\n"
     ]
    },
    {
     "name": "stdout",
     "output_type": "stream",
     "text": [
      "{'r_interval__': array(-2.6240544), 'M_interval__': array(-1.60044789), 'eta_angle__': array([-3.74934859, -2.43770077]), 'ln(1-e)_interval__': array(0.99993936), 'alpha_angle__': array([ 0.68683074, -4.4190795 ]), 'vtravel_mag': array(33.15543799), 'vtravel_lon': array(0.96503878), 'vtravel_lat': array(-0.58186432), 'r': array(769.30210515), 'M': array(3.77442098), 'eta': array(-2.14728857), 'sineta': array(-0.83837983), 'coseta': array(-0.54508646), 'ln(1-e)': array(-2.68953344), 'e': array(0.93208738), 'a': array(510.12420883), 'vscale': array(182.44046402), 'vrad': array(-94.53608967), 'vtan': array(43.82165725), 'tperi': array(13.74943981), 'sun_m31_dist': array(765.27714471), 'm31_icrs_xyz': array([565.2280177 , 106.64471096, 504.77054376]), 'alpha': array(2.98740239), 'model_pmra': array(0.16565826), 'model_pmdec': array(-0.09812545), 'model_rv': array(-307.83978204)}\n"
     ]
    },
    {
     "name": "stderr",
     "output_type": "stream",
     "text": [
      "Multiprocess sampling (4 chains in 4 jobs)\n",
      "NUTS: [vtravel_lat, vtravel_lon, vtravel_mag, alpha, ln(1-e), eta, M, r]\n"
     ]
    },
    {
     "data": {
      "text/html": [
       "\n",
       "    <div>\n",
       "        <style>\n",
       "            /* Turns off some styling */\n",
       "            progress {\n",
       "                /* gets rid of default border in Firefox and Opera. */\n",
       "                border: none;\n",
       "                /* Needs to be in here for Safari polyfill so background images work as expected. */\n",
       "                background-size: auto;\n",
       "            }\n",
       "            .progress-bar-interrupted, .progress-bar-interrupted::-webkit-progress-bar {\n",
       "                background: #F44336;\n",
       "            }\n",
       "        </style>\n",
       "      <progress value='48000' class='' max='48000' style='width:300px; height:20px; vertical-align: middle;'></progress>\n",
       "      100.00% [48000/48000 01:14<00:00 Sampling 4 chains, 3 divergences]\n",
       "    </div>\n",
       "    "
      ],
      "text/plain": [
       "<IPython.core.display.HTML object>"
      ]
     },
     "metadata": {},
     "output_type": "display_data"
    },
    {
     "name": "stderr",
     "output_type": "stream",
     "text": [
      "INFO (theano.gof.compilelock): Waiting for existing lock by process '35298' (I am process '35329')\n",
      "INFO (theano.gof.compilelock): To manually release the lock, delete /Users/katiechambe/.theano/compiledir_macOS-10.15.7-x86_64-i386-64bit-i386-3.9.5-64/lock_dir\n",
      "Sampling 4 chains for 4_000 tune and 8_000 draw iterations (16_000 + 32_000 draws total) took 84 seconds.\n",
      "There was 1 divergence after tuning. Increase `target_accept` or reparameterize.\n",
      "There was 1 divergence after tuning. Increase `target_accept` or reparameterize.\n",
      "There was 1 divergence after tuning. Increase `target_accept` or reparameterize.\n"
     ]
    },
    {
     "name": "stdout",
     "output_type": "stream",
     "text": [
      "8 <xarray.DataArray 'M' ()>\n",
      "array(0.33134477)\n",
      "working on vdm2012 and error 16\n"
     ]
    },
    {
     "name": "stderr",
     "output_type": "stream",
     "text": [
      "optimizing logp for variables: [vtravel_lat, vtravel_lon, vtravel_mag, alpha, ln(1-e), eta, M, r]\n"
     ]
    },
    {
     "data": {
      "text/html": [
       "\n",
       "    <div>\n",
       "        <style>\n",
       "            /* Turns off some styling */\n",
       "            progress {\n",
       "                /* gets rid of default border in Firefox and Opera. */\n",
       "                border: none;\n",
       "                /* Needs to be in here for Safari polyfill so background images work as expected. */\n",
       "                background-size: auto;\n",
       "            }\n",
       "            .progress-bar-interrupted, .progress-bar-interrupted::-webkit-progress-bar {\n",
       "                background: #F44336;\n",
       "            }\n",
       "        </style>\n",
       "      <progress value='100' class='' max='100' style='width:300px; height:20px; vertical-align: middle;'></progress>\n",
       "      100.00% [100/100 00:00<00:00 logp = 4.078e+01]\n",
       "    </div>\n",
       "    "
      ],
      "text/plain": [
       "<IPython.core.display.HTML object>"
      ]
     },
     "metadata": {},
     "output_type": "display_data"
    },
    {
     "name": "stdout",
     "output_type": "stream",
     "text": [
      "\n"
     ]
    },
    {
     "name": "stderr",
     "output_type": "stream",
     "text": [
      "message: Optimization terminated successfully.\n",
      "logp: -3422.820569698731 -> 40.779564396970905\n"
     ]
    },
    {
     "name": "stdout",
     "output_type": "stream",
     "text": [
      "{'r_interval__': array(-2.62420469), 'M_interval__': array(-1.60258265), 'eta_angle__': array([-3.74884079, -2.43848163]), 'ln(1-e)_interval__': array(0.99260644), 'alpha_angle__': array([ 0.68629831, -4.41916223]), 'vtravel_mag': array(33.16089121), 'vtravel_lon': array(0.96492383), 'vtravel_lat': array(-0.58173117), 'r': array(769.20832474), 'M': array(3.76860878), 'eta': array(-2.14749685), 'sineta': array(-0.83826629), 'coseta': array(-0.54526107), 'ln(1-e)': array(-2.70397564), 'e': array(0.93306114), 'a': array(509.82750579), 'vscale': array(182.352979), 'vrad': array(-94.53317661), 'vtan': array(43.47645205), 'tperi': array(13.74943921), 'sun_m31_dist': array(765.18336012), 'm31_icrs_xyz': array([565.1587491 , 106.63164166, 504.70868421]), 'alpha': array(2.98752287), 'model_pmra': array(0.1661305), 'model_pmdec': array(-0.09804738), 'model_rv': array(-307.83977009)}\n"
     ]
    },
    {
     "name": "stderr",
     "output_type": "stream",
     "text": [
      "Multiprocess sampling (4 chains in 4 jobs)\n",
      "NUTS: [vtravel_lat, vtravel_lon, vtravel_mag, alpha, ln(1-e), eta, M, r]\n"
     ]
    },
    {
     "data": {
      "text/html": [
       "\n",
       "    <div>\n",
       "        <style>\n",
       "            /* Turns off some styling */\n",
       "            progress {\n",
       "                /* gets rid of default border in Firefox and Opera. */\n",
       "                border: none;\n",
       "                /* Needs to be in here for Safari polyfill so background images work as expected. */\n",
       "                background-size: auto;\n",
       "            }\n",
       "            .progress-bar-interrupted, .progress-bar-interrupted::-webkit-progress-bar {\n",
       "                background: #F44336;\n",
       "            }\n",
       "        </style>\n",
       "      <progress value='48000' class='' max='48000' style='width:300px; height:20px; vertical-align: middle;'></progress>\n",
       "      100.00% [48000/48000 01:15<00:00 Sampling 4 chains, 15 divergences]\n",
       "    </div>\n",
       "    "
      ],
      "text/plain": [
       "<IPython.core.display.HTML object>"
      ]
     },
     "metadata": {},
     "output_type": "display_data"
    },
    {
     "name": "stderr",
     "output_type": "stream",
     "text": [
      "INFO (theano.gof.compilelock): Waiting for existing lock by process '35828' (I am process '35899')\n",
      "INFO (theano.gof.compilelock): To manually release the lock, delete /Users/katiechambe/.theano/compiledir_macOS-10.15.7-x86_64-i386-64bit-i386-3.9.5-64/lock_dir\n",
      "Sampling 4 chains for 4_000 tune and 8_000 draw iterations (16_000 + 32_000 draws total) took 86 seconds.\n",
      "There were 4 divergences after tuning. Increase `target_accept` or reparameterize.\n",
      "There were 5 divergences after tuning. Increase `target_accept` or reparameterize.\n",
      "There were 6 divergences after tuning. Increase `target_accept` or reparameterize.\n"
     ]
    },
    {
     "name": "stdout",
     "output_type": "stream",
     "text": [
      "16 <xarray.DataArray 'M' ()>\n",
      "array(0.32383847)\n",
      "working on Dataset3 and error 1\n"
     ]
    },
    {
     "name": "stderr",
     "output_type": "stream",
     "text": [
      "optimizing logp for variables: [vtravel_lat, vtravel_lon, vtravel_mag, alpha, ln(1-e), eta, M, r]\n"
     ]
    },
    {
     "data": {
      "text/html": [
       "\n",
       "    <div>\n",
       "        <style>\n",
       "            /* Turns off some styling */\n",
       "            progress {\n",
       "                /* gets rid of default border in Firefox and Opera. */\n",
       "                border: none;\n",
       "                /* Needs to be in here for Safari polyfill so background images work as expected. */\n",
       "                background-size: auto;\n",
       "            }\n",
       "            .progress-bar-interrupted, .progress-bar-interrupted::-webkit-progress-bar {\n",
       "                background: #F44336;\n",
       "            }\n",
       "        </style>\n",
       "      <progress value='132' class='' max='132' style='width:300px; height:20px; vertical-align: middle;'></progress>\n",
       "      100.00% [132/132 00:00<00:00 logp = 3.834e+01]\n",
       "    </div>\n",
       "    "
      ],
      "text/plain": [
       "<IPython.core.display.HTML object>"
      ]
     },
     "metadata": {},
     "output_type": "display_data"
    },
    {
     "name": "stdout",
     "output_type": "stream",
     "text": [
      "\n"
     ]
    },
    {
     "name": "stderr",
     "output_type": "stream",
     "text": [
      "message: Optimization terminated successfully.\n",
      "logp: -37118.903617904136 -> 38.34312965593742\n"
     ]
    },
    {
     "name": "stdout",
     "output_type": "stream",
     "text": [
      "{'r_interval__': array(-2.63115217), 'M_interval__': array(-1.43946087), 'eta_angle__': array([-3.86554089, -2.24890943]), 'ln(1-e)_interval__': array(1.27867693), 'alpha_angle__': array([ 0.79727308, -4.40049493]), 'vtravel_mag': array(32.9760154), 'vtravel_lon': array(0.9697035), 'vtravel_lat': array(-0.58695512), 'r': array(764.88629105), 'M': array(4.23676256), 'eta': array(-2.09771394), 'sineta': array(-0.86436122), 'coseta': array(-0.50287144), 'ln(1-e)': array(-2.17775523), 'e': array(0.88670443), 'a': array(529.00420046), 'vscale': array(189.81103996), 'vrad': array(-100.61387257), 'vtan': array(60.69348933), 'tperi': array(13.80097898), 'sun_m31_dist': array(760.94338917), 'm31_icrs_xyz': array([562.02713803, 106.0407832 , 501.91203406]), 'alpha': array(2.96235887), 'model_pmra': array(0.14264464), 'model_pmdec': array(-0.10241777), 'model_rv': array(-307.83897173)}\n"
     ]
    },
    {
     "name": "stderr",
     "output_type": "stream",
     "text": [
      "Multiprocess sampling (4 chains in 4 jobs)\n",
      "NUTS: [vtravel_lat, vtravel_lon, vtravel_mag, alpha, ln(1-e), eta, M, r]\n"
     ]
    },
    {
     "data": {
      "text/html": [
       "\n",
       "    <div>\n",
       "        <style>\n",
       "            /* Turns off some styling */\n",
       "            progress {\n",
       "                /* gets rid of default border in Firefox and Opera. */\n",
       "                border: none;\n",
       "                /* Needs to be in here for Safari polyfill so background images work as expected. */\n",
       "                background-size: auto;\n",
       "            }\n",
       "            .progress-bar-interrupted, .progress-bar-interrupted::-webkit-progress-bar {\n",
       "                background: #F44336;\n",
       "            }\n",
       "        </style>\n",
       "      <progress value='48000' class='' max='48000' style='width:300px; height:20px; vertical-align: middle;'></progress>\n",
       "      100.00% [48000/48000 03:53<00:00 Sampling 4 chains, 318 divergences]\n",
       "    </div>\n",
       "    "
      ],
      "text/plain": [
       "<IPython.core.display.HTML object>"
      ]
     },
     "metadata": {},
     "output_type": "display_data"
    },
    {
     "name": "stderr",
     "output_type": "stream",
     "text": [
      "INFO (theano.gof.compilelock): Waiting for existing lock by process '36348' (I am process '36418')\n",
      "INFO (theano.gof.compilelock): To manually release the lock, delete /Users/katiechambe/.theano/compiledir_macOS-10.15.7-x86_64-i386-64bit-i386-3.9.5-64/lock_dir\n",
      "Sampling 4 chains for 4_000 tune and 8_000 draw iterations (16_000 + 32_000 draws total) took 243 seconds.\n",
      "There were 55 divergences after tuning. Increase `target_accept` or reparameterize.\n",
      "There were 72 divergences after tuning. Increase `target_accept` or reparameterize.\n",
      "There were 87 divergences after tuning. Increase `target_accept` or reparameterize.\n",
      "There were 104 divergences after tuning. Increase `target_accept` or reparameterize.\n",
      "The number of effective samples is smaller than 10% for some parameters.\n"
     ]
    },
    {
     "name": "stdout",
     "output_type": "stream",
     "text": [
      "1 <xarray.DataArray 'M' ()>\n",
      "array(0.44025869)\n",
      "working on Dataset3 and error 2\n"
     ]
    },
    {
     "name": "stderr",
     "output_type": "stream",
     "text": [
      "optimizing logp for variables: [vtravel_lat, vtravel_lon, vtravel_mag, alpha, ln(1-e), eta, M, r]\n"
     ]
    },
    {
     "data": {
      "text/html": [
       "\n",
       "    <div>\n",
       "        <style>\n",
       "            /* Turns off some styling */\n",
       "            progress {\n",
       "                /* gets rid of default border in Firefox and Opera. */\n",
       "                border: none;\n",
       "                /* Needs to be in here for Safari polyfill so background images work as expected. */\n",
       "                background-size: auto;\n",
       "            }\n",
       "            .progress-bar-interrupted, .progress-bar-interrupted::-webkit-progress-bar {\n",
       "                background: #F44336;\n",
       "            }\n",
       "        </style>\n",
       "      <progress value='120' class='' max='120' style='width:300px; height:20px; vertical-align: middle;'></progress>\n",
       "      100.00% [120/120 00:00<00:00 logp = 3.954e+01]\n",
       "    </div>\n",
       "    "
      ],
      "text/plain": [
       "<IPython.core.display.HTML object>"
      ]
     },
     "metadata": {},
     "output_type": "display_data"
    },
    {
     "name": "stdout",
     "output_type": "stream",
     "text": [
      "\n"
     ]
    },
    {
     "name": "stderr",
     "output_type": "stream",
     "text": [
      "message: Optimization terminated successfully.\n",
      "logp: -37127.84172279478 -> 39.53702295559726\n"
     ]
    },
    {
     "name": "stdout",
     "output_type": "stream",
     "text": [
      "{'r_interval__': array(-2.63139038), 'M_interval__': array(-1.50830029), 'eta_angle__': array([-3.84060219, -2.2912387 ]), 'ln(1-e)_interval__': array(1.07139329), 'alpha_angle__': array([ 0.82299876, -4.39575625]), 'vtravel_mag': array(33.09750297), 'vtravel_lon': array(0.96707391), 'vtravel_lat': array(-0.58439636), 'r': array(764.73855927), 'M': array(4.03322112), 'eta': array(-2.10869968), 'sineta': array(-0.85878476), 'coseta': array(-0.51233655), 'ln(1-e)': array(-2.55138208), 'e': array(0.92202617), 'a': array(519.38667703), 'vscale': array(186.90227172), 'vrad': array(-100.51247677), 'vtan': array(49.14128009), 'tperi': array(13.80097741), 'sun_m31_dist': array(760.79565098), 'm31_icrs_xyz': array([561.91801971, 106.02019524, 501.81458716]), 'alpha': array(2.95650965), 'model_pmra': array(0.15782064), 'model_pmdec': array(-0.09964099), 'model_rv': array(-307.83873754)}\n"
     ]
    },
    {
     "name": "stderr",
     "output_type": "stream",
     "text": [
      "Multiprocess sampling (4 chains in 4 jobs)\n",
      "NUTS: [vtravel_lat, vtravel_lon, vtravel_mag, alpha, ln(1-e), eta, M, r]\n"
     ]
    },
    {
     "data": {
      "text/html": [
       "\n",
       "    <div>\n",
       "        <style>\n",
       "            /* Turns off some styling */\n",
       "            progress {\n",
       "                /* gets rid of default border in Firefox and Opera. */\n",
       "                border: none;\n",
       "                /* Needs to be in here for Safari polyfill so background images work as expected. */\n",
       "                background-size: auto;\n",
       "            }\n",
       "            .progress-bar-interrupted, .progress-bar-interrupted::-webkit-progress-bar {\n",
       "                background: #F44336;\n",
       "            }\n",
       "        </style>\n",
       "      <progress value='48000' class='' max='48000' style='width:300px; height:20px; vertical-align: middle;'></progress>\n",
       "      100.00% [48000/48000 02:33<00:00 Sampling 4 chains, 243 divergences]\n",
       "    </div>\n",
       "    "
      ],
      "text/plain": [
       "<IPython.core.display.HTML object>"
      ]
     },
     "metadata": {},
     "output_type": "display_data"
    },
    {
     "name": "stderr",
     "output_type": "stream",
     "text": [
      "INFO (theano.gof.compilelock): Waiting for existing lock by process '37360' (I am process '37429')\n",
      "INFO (theano.gof.compilelock): To manually release the lock, delete /Users/katiechambe/.theano/compiledir_macOS-10.15.7-x86_64-i386-64bit-i386-3.9.5-64/lock_dir\n",
      "Sampling 4 chains for 4_000 tune and 8_000 draw iterations (16_000 + 32_000 draws total) took 162 seconds.\n",
      "There were 28 divergences after tuning. Increase `target_accept` or reparameterize.\n",
      "There were 180 divergences after tuning. Increase `target_accept` or reparameterize.\n",
      "There were 6 divergences after tuning. Increase `target_accept` or reparameterize.\n",
      "There were 29 divergences after tuning. Increase `target_accept` or reparameterize.\n",
      "The number of effective samples is smaller than 10% for some parameters.\n"
     ]
    },
    {
     "name": "stdout",
     "output_type": "stream",
     "text": [
      "2 <xarray.DataArray 'M' ()>\n",
      "array(0.30255914)\n",
      "working on Dataset3 and error 4\n"
     ]
    },
    {
     "name": "stderr",
     "output_type": "stream",
     "text": [
      "optimizing logp for variables: [vtravel_lat, vtravel_lon, vtravel_mag, alpha, ln(1-e), eta, M, r]\n"
     ]
    },
    {
     "data": {
      "text/html": [
       "\n",
       "    <div>\n",
       "        <style>\n",
       "            /* Turns off some styling */\n",
       "            progress {\n",
       "                /* gets rid of default border in Firefox and Opera. */\n",
       "                border: none;\n",
       "                /* Needs to be in here for Safari polyfill so background images work as expected. */\n",
       "                background-size: auto;\n",
       "            }\n",
       "            .progress-bar-interrupted, .progress-bar-interrupted::-webkit-progress-bar {\n",
       "                background: #F44336;\n",
       "            }\n",
       "        </style>\n",
       "      <progress value='105' class='' max='105' style='width:300px; height:20px; vertical-align: middle;'></progress>\n",
       "      100.00% [105/105 00:00<00:00 logp = 4.084e+01]\n",
       "    </div>\n",
       "    "
      ],
      "text/plain": [
       "<IPython.core.display.HTML object>"
      ]
     },
     "metadata": {},
     "output_type": "display_data"
    },
    {
     "name": "stdout",
     "output_type": "stream",
     "text": [
      "\n"
     ]
    },
    {
     "name": "stderr",
     "output_type": "stream",
     "text": [
      "message: Optimization terminated successfully.\n",
      "logp: -37167.75302544069 -> 40.842370384814856\n"
     ]
    },
    {
     "name": "stdout",
     "output_type": "stream",
     "text": [
      "{'r_interval__': array(-2.63153134), 'M_interval__': array(-1.53253558), 'eta_angle__': array([-3.83209115, -2.30544521]), 'ln(1-e)_interval__': array(0.97992702), 'alpha_angle__': array([ 0.83284964, -4.39390048]), 'vtravel_mag': array(33.16186736), 'vtravel_lon': array(0.96571001), 'vtravel_lat': array(-0.58306829), 'r': array(764.65115861), 'M': array(3.96364856), 'eta': array(-2.11240281), 'sineta': array(-0.85688163), 'coseta': array(-0.51551322), 'ln(1-e)': array(-2.72906265), 'e': array(0.93471955), 'a': array(516.00759335), 'vscale': array(185.88891394), 'vrad': array(-100.47277273), 'vtan': array(44.58069311), 'tperi': array(13.80097702), 'sun_m31_dist': array(760.70824654), 'm31_icrs_xyz': array([561.85346343, 106.00801505, 501.7569359 ]), 'alpha': array(2.95426818), 'model_pmra': array(0.16383734), 'model_pmdec': array(-0.09849519), 'model_rv': array(-307.83857824)}\n"
     ]
    },
    {
     "name": "stderr",
     "output_type": "stream",
     "text": [
      "Multiprocess sampling (4 chains in 4 jobs)\n",
      "NUTS: [vtravel_lat, vtravel_lon, vtravel_mag, alpha, ln(1-e), eta, M, r]\n"
     ]
    },
    {
     "data": {
      "text/html": [
       "\n",
       "    <div>\n",
       "        <style>\n",
       "            /* Turns off some styling */\n",
       "            progress {\n",
       "                /* gets rid of default border in Firefox and Opera. */\n",
       "                border: none;\n",
       "                /* Needs to be in here for Safari polyfill so background images work as expected. */\n",
       "                background-size: auto;\n",
       "            }\n",
       "            .progress-bar-interrupted, .progress-bar-interrupted::-webkit-progress-bar {\n",
       "                background: #F44336;\n",
       "            }\n",
       "        </style>\n",
       "      <progress value='48000' class='' max='48000' style='width:300px; height:20px; vertical-align: middle;'></progress>\n",
       "      100.00% [48000/48000 01:58<00:00 Sampling 4 chains, 234 divergences]\n",
       "    </div>\n",
       "    "
      ],
      "text/plain": [
       "<IPython.core.display.HTML object>"
      ]
     },
     "metadata": {},
     "output_type": "display_data"
    },
    {
     "name": "stderr",
     "output_type": "stream",
     "text": [
      "INFO (theano.gof.compilelock): Waiting for existing lock by process '38212' (I am process '38118')\n",
      "INFO (theano.gof.compilelock): To manually release the lock, delete /Users/katiechambe/.theano/compiledir_macOS-10.15.7-x86_64-i386-64bit-i386-3.9.5-64/lock_dir\n",
      "INFO (theano.gof.compilelock): Waiting for existing lock by process '38177' (I am process '38118')\n",
      "INFO (theano.gof.compilelock): To manually release the lock, delete /Users/katiechambe/.theano/compiledir_macOS-10.15.7-x86_64-i386-64bit-i386-3.9.5-64/lock_dir\n",
      "Sampling 4 chains for 4_000 tune and 8_000 draw iterations (16_000 + 32_000 draws total) took 130 seconds.\n",
      "There were 52 divergences after tuning. Increase `target_accept` or reparameterize.\n",
      "There were 147 divergences after tuning. Increase `target_accept` or reparameterize.\n",
      "There were 33 divergences after tuning. Increase `target_accept` or reparameterize.\n",
      "There were 2 divergences after tuning. Increase `target_accept` or reparameterize.\n"
     ]
    },
    {
     "name": "stdout",
     "output_type": "stream",
     "text": [
      "4 <xarray.DataArray 'M' ()>\n",
      "array(0.22998565)\n",
      "working on Dataset3 and error 8\n"
     ]
    },
    {
     "name": "stderr",
     "output_type": "stream",
     "text": [
      "optimizing logp for variables: [vtravel_lat, vtravel_lon, vtravel_mag, alpha, ln(1-e), eta, M, r]\n"
     ]
    },
    {
     "data": {
      "text/html": [
       "\n",
       "    <div>\n",
       "        <style>\n",
       "            /* Turns off some styling */\n",
       "            progress {\n",
       "                /* gets rid of default border in Firefox and Opera. */\n",
       "                border: none;\n",
       "                /* Needs to be in here for Safari polyfill so background images work as expected. */\n",
       "                background-size: auto;\n",
       "            }\n",
       "            .progress-bar-interrupted, .progress-bar-interrupted::-webkit-progress-bar {\n",
       "                background: #F44336;\n",
       "            }\n",
       "        </style>\n",
       "      <progress value='92' class='' max='92' style='width:300px; height:20px; vertical-align: middle;'></progress>\n",
       "      100.00% [92/92 00:00<00:00 logp = 4.220e+01]\n",
       "    </div>\n",
       "    "
      ],
      "text/plain": [
       "<IPython.core.display.HTML object>"
      ]
     },
     "metadata": {},
     "output_type": "display_data"
    },
    {
     "name": "stdout",
     "output_type": "stream",
     "text": [
      "\n"
     ]
    },
    {
     "name": "stderr",
     "output_type": "stream",
     "text": [
      "message: Optimization terminated successfully.\n",
      "logp: -37331.55711910772 -> 42.20403205973892\n"
     ]
    },
    {
     "name": "stdout",
     "output_type": "stream",
     "text": [
      "{'r_interval__': array(-2.63158086), 'M_interval__': array(-1.53946498), 'eta_angle__': array([-3.82969037, -2.30943326]), 'ln(1-e)_interval__': array(0.95112953), 'alpha_angle__': array([ 0.83573606, -4.39335288]), 'vtravel_mag': array(33.18378195), 'vtravel_lon': array(0.96524751), 'vtravel_lat': array(-0.58261835), 'r': array(764.62045492), 'M': array(3.94395476), 'eta': array(-2.11344368), 'sineta': array(-0.85634458), 'coseta': array(-0.51640484), 'ln(1-e)': array(-2.78657722), 'e': array(0.93836819), 'a': array(515.0423329), 'vscale': array(185.60021097), 'vrad': array(-100.46095724), 'vtan': array(43.2111737), 'tperi': array(13.80097693), 'sun_m31_dist': array(760.67754152), 'm31_icrs_xyz': array([561.83078493, 106.00373617, 501.73668312]), 'alpha': array(2.95361125), 'model_pmra': array(0.1656486), 'model_pmdec': array(-0.09814543), 'model_rv': array(-307.83852222)}\n"
     ]
    },
    {
     "name": "stderr",
     "output_type": "stream",
     "text": [
      "Multiprocess sampling (4 chains in 4 jobs)\n",
      "NUTS: [vtravel_lat, vtravel_lon, vtravel_mag, alpha, ln(1-e), eta, M, r]\n"
     ]
    },
    {
     "data": {
      "text/html": [
       "\n",
       "    <div>\n",
       "        <style>\n",
       "            /* Turns off some styling */\n",
       "            progress {\n",
       "                /* gets rid of default border in Firefox and Opera. */\n",
       "                border: none;\n",
       "                /* Needs to be in here for Safari polyfill so background images work as expected. */\n",
       "                background-size: auto;\n",
       "            }\n",
       "            .progress-bar-interrupted, .progress-bar-interrupted::-webkit-progress-bar {\n",
       "                background: #F44336;\n",
       "            }\n",
       "        </style>\n",
       "      <progress value='48000' class='' max='48000' style='width:300px; height:20px; vertical-align: middle;'></progress>\n",
       "      100.00% [48000/48000 01:48<00:00 Sampling 4 chains, 215 divergences]\n",
       "    </div>\n",
       "    "
      ],
      "text/plain": [
       "<IPython.core.display.HTML object>"
      ]
     },
     "metadata": {},
     "output_type": "display_data"
    },
    {
     "name": "stderr",
     "output_type": "stream",
     "text": [
      "Sampling 4 chains for 4_000 tune and 8_000 draw iterations (16_000 + 32_000 draws total) took 121 seconds.\n",
      "There were 94 divergences after tuning. Increase `target_accept` or reparameterize.\n",
      "There were 16 divergences after tuning. Increase `target_accept` or reparameterize.\n",
      "There were 69 divergences after tuning. Increase `target_accept` or reparameterize.\n",
      "There were 36 divergences after tuning. Increase `target_accept` or reparameterize.\n"
     ]
    },
    {
     "name": "stdout",
     "output_type": "stream",
     "text": [
      "8 <xarray.DataArray 'M' ()>\n",
      "array(0.20556126)\n",
      "working on Dataset3 and error 16\n"
     ]
    },
    {
     "name": "stderr",
     "output_type": "stream",
     "text": [
      "optimizing logp for variables: [vtravel_lat, vtravel_lon, vtravel_mag, alpha, ln(1-e), eta, M, r]\n"
     ]
    },
    {
     "data": {
      "text/html": [
       "\n",
       "    <div>\n",
       "        <style>\n",
       "            /* Turns off some styling */\n",
       "            progress {\n",
       "                /* gets rid of default border in Firefox and Opera. */\n",
       "                border: none;\n",
       "                /* Needs to be in here for Safari polyfill so background images work as expected. */\n",
       "                background-size: auto;\n",
       "            }\n",
       "            .progress-bar-interrupted, .progress-bar-interrupted::-webkit-progress-bar {\n",
       "                background: #F44336;\n",
       "            }\n",
       "        </style>\n",
       "      <progress value='118' class='' max='118' style='width:300px; height:20px; vertical-align: middle;'></progress>\n",
       "      100.00% [118/118 00:00<00:00 logp = 4.358e+01]\n",
       "    </div>\n",
       "    "
      ],
      "text/plain": [
       "<IPython.core.display.HTML object>"
      ]
     },
     "metadata": {},
     "output_type": "display_data"
    },
    {
     "name": "stdout",
     "output_type": "stream",
     "text": [
      "\n"
     ]
    },
    {
     "name": "stderr",
     "output_type": "stream",
     "text": [
      "message: Optimization terminated successfully.\n",
      "logp: -37990.93237685918 -> 43.58379990822316\n"
     ]
    },
    {
     "name": "stdout",
     "output_type": "stream",
     "text": [
      "{'r_interval__': array(-2.63159459), 'M_interval__': array(-1.54126985), 'eta_angle__': array([-3.82906633, -2.31046551]), 'ln(1-e)_interval__': array(0.94340234), 'alpha_angle__': array([ 0.83649245, -4.39320844]), 'vtravel_mag': array(33.18981151), 'vtravel_lon': array(0.96512059), 'vtravel_lat': array(-0.58249496), 'r': array(764.61194209), 'M': array(3.93883966), 'eta': array(-2.1137134), 'sineta': array(-0.85620526), 'coseta': array(-0.5166358), 'ln(1-e)': array(-2.80213599), 'e': array(0.93931969), 'a': array(514.79099084), 'vscale': array(185.52508894), 'vrad': array(-100.45783826), 'vtan': array(42.84904169), 'tperi': array(13.80097691), 'sun_m31_dist': array(760.66902832), 'm31_icrs_xyz': array([561.82449714, 106.00254982, 501.73106789]), 'alpha': array(2.95343906), 'model_pmra': array(0.16612795), 'model_pmdec': array(-0.0980525), 'model_rv': array(-307.83850651)}\n"
     ]
    },
    {
     "name": "stderr",
     "output_type": "stream",
     "text": [
      "Multiprocess sampling (4 chains in 4 jobs)\n",
      "NUTS: [vtravel_lat, vtravel_lon, vtravel_mag, alpha, ln(1-e), eta, M, r]\n"
     ]
    },
    {
     "data": {
      "text/html": [
       "\n",
       "    <div>\n",
       "        <style>\n",
       "            /* Turns off some styling */\n",
       "            progress {\n",
       "                /* gets rid of default border in Firefox and Opera. */\n",
       "                border: none;\n",
       "                /* Needs to be in here for Safari polyfill so background images work as expected. */\n",
       "                background-size: auto;\n",
       "            }\n",
       "            .progress-bar-interrupted, .progress-bar-interrupted::-webkit-progress-bar {\n",
       "                background: #F44336;\n",
       "            }\n",
       "        </style>\n",
       "      <progress value='48000' class='' max='48000' style='width:300px; height:20px; vertical-align: middle;'></progress>\n",
       "      100.00% [48000/48000 01:40<00:00 Sampling 4 chains, 224 divergences]\n",
       "    </div>\n",
       "    "
      ],
      "text/plain": [
       "<IPython.core.display.HTML object>"
      ]
     },
     "metadata": {},
     "output_type": "display_data"
    },
    {
     "name": "stderr",
     "output_type": "stream",
     "text": [
      "INFO (theano.gof.compilelock): Waiting for existing lock by process '39439' (I am process '39470')\n",
      "INFO (theano.gof.compilelock): To manually release the lock, delete /Users/katiechambe/.theano/compiledir_macOS-10.15.7-x86_64-i386-64bit-i386-3.9.5-64/lock_dir\n",
      "Sampling 4 chains for 4_000 tune and 8_000 draw iterations (16_000 + 32_000 draws total) took 111 seconds.\n",
      "There were 28 divergences after tuning. Increase `target_accept` or reparameterize.\n",
      "There were 149 divergences after tuning. Increase `target_accept` or reparameterize.\n",
      "There were 9 divergences after tuning. Increase `target_accept` or reparameterize.\n",
      "There were 38 divergences after tuning. Increase `target_accept` or reparameterize.\n"
     ]
    },
    {
     "name": "stdout",
     "output_type": "stream",
     "text": [
      "16 <xarray.DataArray 'M' ()>\n",
      "array(0.20297175)\n",
      "ALL. DAMN. DONE.\n"
     ]
    }
   ],
   "source": [
    "# ------------------------------------------- #\n",
    "# this bit of the code runs pymc3 for various #\n",
    "# values of the travel velocity of the disk   #\n",
    "# ------------------------------------------- #\n",
    "# includes ~0.1% error on velocity measure    #\n",
    "# ------------------------------------------- #\n",
    "\n",
    "modelChoices = [\"fiducial2021\",\"vdm2012\",\"Dataset3\"]\n",
    "pm_errs = np.array([1,2,4,8,16])\n",
    "\n",
    "for dataset in modelChoices:\n",
    "#     if dataset == \"fiducial2021\":\n",
    "#         continue\n",
    "    for improv in pm_errs:\n",
    "        print(f'working on {dataset} and error {improv}')\n",
    "        model = (TimingArgumentModelPymc3.from_dataset(f\"../datasets/{dataset}.ecsv\", \n",
    "                                                      include_vtravel=True))\n",
    "        \n",
    "#         params = model_default.__dict__\n",
    "#         print(params[\"pm_err\"])\n",
    "#         params[\"pm_err\"] /= improv\n",
    "#         print(params[\"pm_err\"])\n",
    "        \n",
    "#         model = TimingArgumentModelPymc3(**params)\n",
    "        \n",
    "        with model.pymc3_model:\n",
    "            pm.set_data({\n",
    "            'obs_pmra_err':model.pm_err[0].to_value(model.units['angular speed'])/improv,\n",
    "            'obs_pmdec_err':model.pm_err[1].to_value(model.units['angular speed'])/improv\n",
    "            })\n",
    "            start = {\n",
    "            'r': 770.,  \n",
    "            'M': 4.2, \n",
    "            'eta': 4.5,\n",
    "            'ln(1-e)': -3,\n",
    "            'alpha': 0.5\n",
    "            }\n",
    "            res = pmx.optimize(start=start)\n",
    "            print(repr(res))\n",
    "\n",
    "            samples = pmx.sample(return_inferencedata=True, \n",
    "                                 start=res, chains=4, tune=4000, draws=8000)\n",
    "\n",
    "        samples.to_json(f\"../pymc3-data/{dataset}_pmimprov_{improv}.json\")\n",
    "        print(improv,np.std(samples.posterior.M))\n",
    "print(\"ALL. DAMN. DONE.\")"
   ]
  },
  {
   "cell_type": "code",
   "execution_count": null,
   "id": "769deb91",
   "metadata": {},
   "outputs": [],
   "source": []
  },
  {
   "cell_type": "code",
   "execution_count": 24,
   "id": "b7385cf0",
   "metadata": {},
   "outputs": [
    {
     "name": "stderr",
     "output_type": "stream",
     "text": [
      "optimizing logp for variables: [vtravel_lat, vtravel_lon, vtravel_mag, alpha, ln(1-e), eta, M, r]\n"
     ]
    },
    {
     "data": {
      "text/html": [
       "\n",
       "    <div>\n",
       "        <style>\n",
       "            /* Turns off some styling */\n",
       "            progress {\n",
       "                /* gets rid of default border in Firefox and Opera. */\n",
       "                border: none;\n",
       "                /* Needs to be in here for Safari polyfill so background images work as expected. */\n",
       "                background-size: auto;\n",
       "            }\n",
       "            .progress-bar-interrupted, .progress-bar-interrupted::-webkit-progress-bar {\n",
       "                background: #F44336;\n",
       "            }\n",
       "        </style>\n",
       "      <progress value='72' class='' max='72' style='width:300px; height:20px; vertical-align: middle;'></progress>\n",
       "      100.00% [72/72 00:00<00:00 logp = 4.507e+01]\n",
       "    </div>\n",
       "    "
      ],
      "text/plain": [
       "<IPython.core.display.HTML object>"
      ]
     },
     "metadata": {},
     "output_type": "display_data"
    },
    {
     "name": "stdout",
     "output_type": "stream",
     "text": [
      "\n"
     ]
    },
    {
     "name": "stderr",
     "output_type": "stream",
     "text": [
      "message: Optimization terminated successfully.\n",
      "logp: -2260.4941670852018 -> 45.072829861027785\n"
     ]
    },
    {
     "name": "stdout",
     "output_type": "stream",
     "text": [
      "{'r_interval__': array(-2.63133102), 'M_interval__': array(-1.29030243), 'eta_angle__': array([-3.91867302, -2.1549946 ]), 'ln(1-e)_interval__': array(1.58026439), 'alpha_angle__': array([4.40737222, 0.75833377]), 'vtravel_mag': array(32.72678928), 'vtravel_lon': array(0.97436866), 'vtravel_lat': array(-0.60140203), 'r': array(764.77537367), 'M': array(4.70813169), 'eta': array(-2.07358555), 'sineta': array(-0.87624193), 'coseta': array(-0.48187144), 'ln(1-e)': array(-1.70758042), 'e': array(0.81869606), 'a': array(548.42018359), 'vscale': array(196.51764549), 'vrad': array(-101.09456679), 'vtan': array(80.9216582), 'tperi': array(13.74967037), 'sun_m31_dist': array(760.83246699), 'm31_icrs_xyz': array([561.94521173, 106.02532571, 501.8388707 ]), 'alpha': array(1.40040443), 'model_pmra': array(0.24125054), 'model_pmdec': array(-0.18972886), 'model_rv': array(-308.86151893)}\n"
     ]
    },
    {
     "name": "stderr",
     "output_type": "stream",
     "text": [
      "Multiprocess sampling (4 chains in 4 jobs)\n",
      "NUTS: [vtravel_lat, vtravel_lon, vtravel_mag, alpha, ln(1-e), eta, M, r]\n"
     ]
    },
    {
     "data": {
      "text/html": [
       "\n",
       "    <div>\n",
       "        <style>\n",
       "            /* Turns off some styling */\n",
       "            progress {\n",
       "                /* gets rid of default border in Firefox and Opera. */\n",
       "                border: none;\n",
       "                /* Needs to be in here for Safari polyfill so background images work as expected. */\n",
       "                background-size: auto;\n",
       "            }\n",
       "            .progress-bar-interrupted, .progress-bar-interrupted::-webkit-progress-bar {\n",
       "                background: #F44336;\n",
       "            }\n",
       "        </style>\n",
       "      <progress value='24000' class='' max='24000' style='width:300px; height:20px; vertical-align: middle;'></progress>\n",
       "      100.00% [24000/24000 01:14<00:00 Sampling 4 chains, 40 divergences]\n",
       "    </div>\n",
       "    "
      ],
      "text/plain": [
       "<IPython.core.display.HTML object>"
      ]
     },
     "metadata": {},
     "output_type": "display_data"
    },
    {
     "name": "stderr",
     "output_type": "stream",
     "text": [
      "INFO (theano.gof.compilelock): Waiting for existing lock by process '18098' (I am process '18123')\n",
      "INFO (theano.gof.compilelock): To manually release the lock, delete /Users/katiechambe/.theano/compiledir_macOS-10.15.7-x86_64-i386-64bit-i386-3.9.5-64/lock_dir\n",
      "Sampling 4 chains for 4_000 tune and 2_000 draw iterations (16_000 + 8_000 draws total) took 84 seconds.\n",
      "There were 29 divergences after tuning. Increase `target_accept` or reparameterize.\n",
      "There were 8 divergences after tuning. Increase `target_accept` or reparameterize.\n",
      "There was 1 divergence after tuning. Increase `target_accept` or reparameterize.\n",
      "There were 2 divergences after tuning. Increase `target_accept` or reparameterize.\n",
      "The number of effective samples is smaller than 10% for some parameters.\n"
     ]
    },
    {
     "name": "stdout",
     "output_type": "stream",
     "text": [
      "M: 4.70 +/- 0.67\n",
      "r: 764.58 +/- 10.89\n"
     ]
    }
   ],
   "source": [
    "model = TimingArgumentModelPymc3.from_dataset(f\"../datasets/{dataset}.ecsv\", \n",
    "                                                      include_vtravel=True,\n",
    "                                                      vtravel_mag=32,\n",
    "                                                      vtravel_mag_err=1e-3)\n",
    "with model.pymc3_model:\n",
    "    start = {\n",
    "    'r': 770.,  \n",
    "    'M': 4.2, \n",
    "    'eta': 4.5,\n",
    "    'ln(1-e)': -3,\n",
    "    'alpha': 0.5\n",
    "    }\n",
    "    res = pmx.optimize(start=start)\n",
    "    print(repr(res))\n",
    "\n",
    "    samples = pmx.sample(return_inferencedata=True, \n",
    "                         start=res, tune=4000, draws=2000);\n",
    "    \n",
    "for name in ['M', 'r']:\n",
    "    chain = np.asarray(getattr(samples.posterior, name)).ravel()\n",
    "    print(f\"{name}: {chain.mean():.2f} +/- {chain.std():.2f}\")"
   ]
  },
  {
   "cell_type": "code",
   "execution_count": 25,
   "id": "5a3e160e",
   "metadata": {},
   "outputs": [
    {
     "name": "stderr",
     "output_type": "stream",
     "text": [
      "optimizing logp for variables: [vtravel_lat, vtravel_lon, vtravel_mag, alpha, ln(1-e), eta, M, r]\n"
     ]
    },
    {
     "data": {
      "text/html": [
       "\n",
       "    <div>\n",
       "        <style>\n",
       "            /* Turns off some styling */\n",
       "            progress {\n",
       "                /* gets rid of default border in Firefox and Opera. */\n",
       "                border: none;\n",
       "                /* Needs to be in here for Safari polyfill so background images work as expected. */\n",
       "                background-size: auto;\n",
       "            }\n",
       "            .progress-bar-interrupted, .progress-bar-interrupted::-webkit-progress-bar {\n",
       "                background: #F44336;\n",
       "            }\n",
       "        </style>\n",
       "      <progress value='90' class='' max='90' style='width:300px; height:20px; vertical-align: middle;'></progress>\n",
       "      100.00% [90/90 00:00<00:00 logp = 3.678e+01]\n",
       "    </div>\n",
       "    "
      ],
      "text/plain": [
       "<IPython.core.display.HTML object>"
      ]
     },
     "metadata": {},
     "output_type": "display_data"
    },
    {
     "name": "stdout",
     "output_type": "stream",
     "text": [
      "\n"
     ]
    },
    {
     "name": "stderr",
     "output_type": "stream",
     "text": [
      "message: Optimization terminated successfully.\n",
      "logp: -2268.7882167253038 -> 36.77879750386076\n"
     ]
    },
    {
     "name": "stdout",
     "output_type": "stream",
     "text": [
      "{'r_interval__': array(-2.63133109), 'M_interval__': array(-1.29041216), 'eta_angle__': array([-3.91856573, -2.15518963]), 'ln(1-e)_interval__': array(1.58042578), 'alpha_angle__': array([4.40759734, 0.75702452]), 'vtravel_mag': array(32.75084106), 'vtravel_lon': array(0.97436383), 'vtravel_lat': array(-0.60140522), 'r': array(764.77532903), 'M': array(4.70776959), 'eta': array(-2.07363532), 'sineta': array(-0.87621794), 'coseta': array(-0.48191506), 'ln(1-e)': array(-1.70735189), 'e': array(0.81865462), 'a': array(548.41396286), 'vscale': array(196.51120286), 'vrad': array(-101.0822282), 'vtan': array(80.92641658), 'tperi': array(13.74967015), 'sun_m31_dist': array(760.83242234), 'm31_icrs_xyz': array([561.94517875, 106.02531949, 501.83884125]), 'alpha': array(1.40070148), 'model_pmra': array(0.24124424), 'model_pmdec': array(-0.18972762), 'model_rv': array(-308.8615226)}\n"
     ]
    },
    {
     "name": "stderr",
     "output_type": "stream",
     "text": [
      "Multiprocess sampling (4 chains in 4 jobs)\n",
      "NUTS: [vtravel_lat, vtravel_lon, vtravel_mag, alpha, ln(1-e), eta, M, r]\n"
     ]
    },
    {
     "data": {
      "text/html": [
       "\n",
       "    <div>\n",
       "        <style>\n",
       "            /* Turns off some styling */\n",
       "            progress {\n",
       "                /* gets rid of default border in Firefox and Opera. */\n",
       "                border: none;\n",
       "                /* Needs to be in here for Safari polyfill so background images work as expected. */\n",
       "                background-size: auto;\n",
       "            }\n",
       "            .progress-bar-interrupted, .progress-bar-interrupted::-webkit-progress-bar {\n",
       "                background: #F44336;\n",
       "            }\n",
       "        </style>\n",
       "      <progress value='24000' class='' max='24000' style='width:300px; height:20px; vertical-align: middle;'></progress>\n",
       "      100.00% [24000/24000 01:09<00:00 Sampling 4 chains, 49 divergences]\n",
       "    </div>\n",
       "    "
      ],
      "text/plain": [
       "<IPython.core.display.HTML object>"
      ]
     },
     "metadata": {},
     "output_type": "display_data"
    },
    {
     "name": "stderr",
     "output_type": "stream",
     "text": [
      "INFO (theano.gof.compilelock): Waiting for existing lock by process '18261' (I am process '18286')\n",
      "INFO (theano.gof.compilelock): To manually release the lock, delete /Users/katiechambe/.theano/compiledir_macOS-10.15.7-x86_64-i386-64bit-i386-3.9.5-64/lock_dir\n",
      "Sampling 4 chains for 4_000 tune and 2_000 draw iterations (16_000 + 8_000 draws total) took 81 seconds.\n",
      "There were 8 divergences after tuning. Increase `target_accept` or reparameterize.\n",
      "There were 34 divergences after tuning. Increase `target_accept` or reparameterize.\n",
      "There were 7 divergences after tuning. Increase `target_accept` or reparameterize.\n",
      "The number of effective samples is smaller than 25% for some parameters.\n"
     ]
    },
    {
     "name": "stdout",
     "output_type": "stream",
     "text": [
      "M: 4.66 +/- 0.64\n",
      "r: 764.47 +/- 10.78\n"
     ]
    }
   ],
   "source": [
    "model = TimingArgumentModelPymc3.from_dataset(f\"../datasets/{dataset}.ecsv\", \n",
    "                                                      include_vtravel=True,\n",
    "                                                      vtravel_mag=32,\n",
    "                                                      vtravel_mag_err=4)\n",
    "with model.pymc3_model:\n",
    "    start = {\n",
    "    'r': 770.,  \n",
    "    'M': 4.2, \n",
    "    'eta': 4.5,\n",
    "    'ln(1-e)': -3,\n",
    "    'alpha': 0.5\n",
    "    }\n",
    "    res = pmx.optimize(start=start)\n",
    "    print(repr(res))\n",
    "\n",
    "    samples = pmx.sample(return_inferencedata=True, \n",
    "                         start=res, tune=4000, draws=2000);\n",
    "    \n",
    "for name in ['M', 'r']:\n",
    "    chain = np.asarray(getattr(samples.posterior, name)).ravel()\n",
    "    print(f\"{name}: {chain.mean():.2f} +/- {chain.std():.2f}\")"
   ]
  },
  {
   "cell_type": "markdown",
   "id": "79fb6801",
   "metadata": {},
   "source": [
    "___"
   ]
  },
  {
   "cell_type": "code",
   "execution_count": null,
   "id": "0a129dda",
   "metadata": {},
   "outputs": [],
   "source": []
  },
  {
   "cell_type": "code",
   "execution_count": null,
   "id": "1a9b5789",
   "metadata": {},
   "outputs": [],
   "source": []
  },
  {
   "cell_type": "markdown",
   "id": "193fd68d",
   "metadata": {},
   "source": [
    "___\n",
    "# Graveyard ⚰️☠️"
   ]
  },
  {
   "cell_type": "code",
   "execution_count": 6,
   "id": "086cb09c",
   "metadata": {},
   "outputs": [],
   "source": [
    "# truths = simulated_truths.copy()\n",
    "# for k in list(samples.posterior.data_vars):\n",
    "#     truths.setdefault(k, np.nan)\n",
    "# truths = None    "
   ]
  },
  {
   "cell_type": "code",
   "execution_count": 7,
   "id": "eaac15d4",
   "metadata": {},
   "outputs": [],
   "source": [
    "# for name in ['M', 'r']:\n",
    "#     chain = np.asarray(getattr(samples.posterior, name)).ravel()\n",
    "#     print(f\"{name}: {chain.mean():.2f} +/- {chain.std():.2f}\")"
   ]
  },
  {
   "cell_type": "code",
   "execution_count": 8,
   "id": "a2e8ea92",
   "metadata": {},
   "outputs": [],
   "source": [
    "# pcl = np.percentile(np.ravel(samples.posterior.M), [16, 50, 84])\n",
    "# err1, err2 = np.diff(pcl)\n",
    "# print(f\"{pcl[1]:.3f} +{err1:.3f} -{err2:.3f}\")"
   ]
  },
  {
   "cell_type": "code",
   "execution_count": 9,
   "id": "c4e5a58a",
   "metadata": {},
   "outputs": [],
   "source": [
    "# for name in ['M', 'r','e']:\n",
    "#     chain = np.asarray(getattr(samples.posterior, name)).ravel()\n",
    "#     print(f\"{name}: {chain.mean():.2f} +/- {chain.std():.2f}\")"
   ]
  },
  {
   "cell_type": "code",
   "execution_count": null,
   "id": "d4778cb0",
   "metadata": {},
   "outputs": [],
   "source": []
  }
 ],
 "metadata": {
  "kernelspec": {
   "display_name": "Python 3 (ipykernel)",
   "language": "python",
   "name": "python3"
  },
  "language_info": {
   "codemirror_mode": {
    "name": "ipython",
    "version": 3
   },
   "file_extension": ".py",
   "mimetype": "text/x-python",
   "name": "python",
   "nbconvert_exporter": "python",
   "pygments_lexer": "ipython3",
   "version": "3.9.5"
  },
  "toc": {
   "base_numbering": 1,
   "nav_menu": {},
   "number_sections": true,
   "sideBar": true,
   "skip_h1_title": false,
   "title_cell": "Table of Contents",
   "title_sidebar": "Contents",
   "toc_cell": false,
   "toc_position": {},
   "toc_section_display": true,
   "toc_window_display": true
  }
 },
 "nbformat": 4,
 "nbformat_minor": 5
}
