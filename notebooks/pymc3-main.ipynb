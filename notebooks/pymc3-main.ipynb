{
 "cells": [
  {
   "cell_type": "code",
   "execution_count": 1,
   "id": "33a9c0c1",
   "metadata": {},
   "outputs": [],
   "source": [
    "import warnings\n",
    "warnings.filterwarnings('ignore')\n",
    "    \n",
    "import arviz as az\n",
    "import astropy.coordinates as coord\n",
    "import astropy.table as at\n",
    "import astropy.units as u\n",
    "from gala.units import UnitSystem\n",
    "import matplotlib.pyplot as plt\n",
    "%matplotlib inline\n",
    "import numpy as np\n",
    "import pymc3 as pm\n",
    "import pymc3_ext as pmx\n",
    "from tqdm.notebook import tqdm\n",
    "import astropy.table as at\n",
    "from aesara_theano_fallback import tensor as tt\n",
    "import exoplanet.units as xu\n",
    "import json\n",
    "\n",
    "from yellowcard.model_pymc3 import TimingArgumentModelPymc3"
   ]
  },
  {
   "cell_type": "code",
   "execution_count": 2,
   "id": "13bb868f",
   "metadata": {},
   "outputs": [],
   "source": [
    "plt.rcParams.update({\"text.usetex\":False})"
   ]
  },
  {
   "cell_type": "markdown",
   "id": "0076f3f0",
   "metadata": {},
   "source": [
    "### To get mass as a function of travel velocity"
   ]
  },
  {
   "cell_type": "code",
   "execution_count": 35,
   "id": "4c0beed4",
   "metadata": {},
   "outputs": [
    {
     "name": "stderr",
     "output_type": "stream",
     "text": [
      "optimizing logp for variables: [vtravel_lat, vtravel_lon, vtravel_mag, alpha, ln(1-e), eta, M, r]\n"
     ]
    },
    {
     "data": {
      "text/html": [
       "\n",
       "    <div>\n",
       "        <style>\n",
       "            /* Turns off some styling */\n",
       "            progress {\n",
       "                /* gets rid of default border in Firefox and Opera. */\n",
       "                border: none;\n",
       "                /* Needs to be in here for Safari polyfill so background images work as expected. */\n",
       "                background-size: auto;\n",
       "            }\n",
       "            .progress-bar-interrupted, .progress-bar-interrupted::-webkit-progress-bar {\n",
       "                background: #F44336;\n",
       "            }\n",
       "        </style>\n",
       "      <progress value='103' class='' max='103' style='width:300px; height:20px; vertical-align: middle;'></progress>\n",
       "      100.00% [103/103 00:00<00:00 logp = 4.510e+01]\n",
       "    </div>\n",
       "    "
      ],
      "text/plain": [
       "<IPython.core.display.HTML object>"
      ]
     },
     "metadata": {},
     "output_type": "display_data"
    },
    {
     "name": "stdout",
     "output_type": "stream",
     "text": [
      "\n"
     ]
    },
    {
     "name": "stderr",
     "output_type": "stream",
     "text": [
      "message: Optimization terminated successfully.\n",
      "logp: -3093.899065450101 -> 45.09710149881158\n"
     ]
    },
    {
     "name": "stdout",
     "output_type": "stream",
     "text": [
      "{'r_interval__': array(-2.63148973), 'M_interval__': array(-1.40578006), 'eta_angle__': array([-3.73934671, -2.45301572]), 'ln(1-e)_interval__': array(1.92396008), 'alpha_angle__': array([ 4.36693298, -0.96431133]), 'vtravel_mag': array(71.58985155), 'vtravel_lon': array(0.96429555), 'vtravel_lat': array(-0.59958543), 'r': array(764.67695625), 'M': array(4.33955984), 'eta': array(-2.15137872), 'sineta': array(-0.83614334), 'coseta': array(-0.54851099), 'ln(1-e)': array(-1.27420616), 'e': array(0.72034712), 'a': array(548.10903786), 'vscale': array(188.72234554), 'vrad': array(-81.4769659), 'vtan': array(93.82746352), 'tperi': array(13.74937331), 'sun_m31_dist': array(760.7340453), 'm31_icrs_xyz': array([561.8725182 , 106.01161022, 501.77395255]), 'alpha': array(1.78812977), 'model_pmra': array(0.23536552), 'model_pmdec': array(-0.18476058), 'model_rv': array(-308.86732915)}\n"
     ]
    },
    {
     "name": "stderr",
     "output_type": "stream",
     "text": [
      "Multiprocess sampling (4 chains in 4 jobs)\n",
      "NUTS: [vtravel_lat, vtravel_lon, vtravel_mag, alpha, ln(1-e), eta, M, r]\n"
     ]
    },
    {
     "data": {
      "text/html": [
       "\n",
       "    <div>\n",
       "        <style>\n",
       "            /* Turns off some styling */\n",
       "            progress {\n",
       "                /* gets rid of default border in Firefox and Opera. */\n",
       "                border: none;\n",
       "                /* Needs to be in here for Safari polyfill so background images work as expected. */\n",
       "                background-size: auto;\n",
       "            }\n",
       "            .progress-bar-interrupted, .progress-bar-interrupted::-webkit-progress-bar {\n",
       "                background: #F44336;\n",
       "            }\n",
       "        </style>\n",
       "      <progress value='24000' class='' max='24000' style='width:300px; height:20px; vertical-align: middle;'></progress>\n",
       "      100.00% [24000/24000 01:06<00:00 Sampling 4 chains, 32 divergences]\n",
       "    </div>\n",
       "    "
      ],
      "text/plain": [
       "<IPython.core.display.HTML object>"
      ]
     },
     "metadata": {},
     "output_type": "display_data"
    },
    {
     "name": "stderr",
     "output_type": "stream",
     "text": [
      "Sampling 4 chains for 4_000 tune and 2_000 draw iterations (16_000 + 8_000 draws total) took 76 seconds.\n",
      "There was 1 divergence after tuning. Increase `target_accept` or reparameterize.\n",
      "There were 6 divergences after tuning. Increase `target_accept` or reparameterize.\n",
      "There were 25 divergences after tuning. Increase `target_accept` or reparameterize.\n",
      "The number of effective samples is smaller than 25% for some parameters.\n"
     ]
    },
    {
     "name": "stdout",
     "output_type": "stream",
     "text": [
      "exported to ../pymc3-data/fiducial2021_vtravel_100.json\n",
      "ALL. DAMN. DONE.\n"
     ]
    }
   ],
   "source": [
    "# # ------------------------------------------- #\n",
    "# # this bit of the code runs pymc3 for various #\n",
    "# # values of the travel velocity of the disk   #\n",
    "# # ------------------------------------------- #\n",
    "# # includes ~0.1% error on velocity measure    #\n",
    "# # ------------------------------------------- #\n",
    "\n",
    "# # modelChoice = \"vdm2012\"\n",
    "# modelChoice = \"fiducial2021\"\n",
    "\n",
    "# vtravel = 70\n",
    "# vtravel_err = 1e-3\n",
    "\n",
    "# if vtravel == 0:\n",
    "#     model = TimingArgumentModelPymc3.from_dataset(f\"../datasets/{modelChoice}.ecsv\", \n",
    "#                                               include_vtravel=False)\n",
    "# else:\n",
    "#     model = TimingArgumentModelPymc3.from_dataset(f\"../datasets/{modelChoice}.ecsv\", \n",
    "#                                               include_vtravel=True,\n",
    "#                                               vtravel_mag=vtravel,\n",
    "#                                               vtravel_mag_err=vtravel_err)\n",
    "# with model.pymc3_model:\n",
    "#     start = {\n",
    "#     'r': 770.,  \n",
    "#     'M': 4.2, \n",
    "#     'eta': 4.5,\n",
    "#     'ln(1-e)': -3,\n",
    "#     'alpha': 0.5\n",
    "#     }\n",
    "#     res = pmx.optimize(start=start)\n",
    "#     print(repr(res))\n",
    "\n",
    "#     samples = pmx.sample(return_inferencedata=True, \n",
    "#                          start=res, tune=4000, draws=2000)\n",
    "\n",
    "# samples.to_json(f\"../pymc3-data/{modelChoice}_vtravel_{vtravel}.json\")\n",
    "# print(f\"exported to ../pymc3-data/{modelChoice}_vtravel_{vtravel}.json\")\n",
    "# print(\"ALL. DAMN. DONE.\")"
   ]
  },
  {
   "cell_type": "code",
   "execution_count": 64,
   "id": "ecc45616",
   "metadata": {},
   "outputs": [
    {
     "data": {
      "text/plain": [
       "array([ 32,   0,   5,  10,  15,  20,  25,  30,  35,  40,  45,  50,  55,\n",
       "        60,  65,  70,  75,  80,  85,  90,  95, 100])"
      ]
     },
     "execution_count": 64,
     "metadata": {},
     "output_type": "execute_result"
    }
   ],
   "source": [
    "np.concatenate((np.array([32]),np.arange(0,105,5)))"
   ]
  },
  {
   "cell_type": "code",
   "execution_count": 59,
   "id": "2473a26f",
   "metadata": {},
   "outputs": [
    {
     "data": {
      "text/plain": [
       "[32, 4, 3]"
      ]
     },
     "execution_count": 59,
     "metadata": {},
     "output_type": "execute_result"
    }
   ],
   "source": [
    "x"
   ]
  },
  {
   "cell_type": "markdown",
   "id": "5bc14483",
   "metadata": {},
   "source": [
    "----\n",
    "# Mass vs. vtravel"
   ]
  },
  {
   "cell_type": "code",
   "execution_count": 4,
   "id": "89f2f82b",
   "metadata": {
    "scrolled": true
   },
   "outputs": [
    {
     "name": "stdout",
     "output_type": "stream",
     "text": [
      "working on fiducial2021\n"
     ]
    },
    {
     "name": "stderr",
     "output_type": "stream",
     "text": [
      "optimizing logp for variables: [alpha, ln(1-e), eta, M, r]\n"
     ]
    },
    {
     "data": {
      "text/html": [
       "\n",
       "    <div>\n",
       "        <style>\n",
       "            /* Turns off some styling */\n",
       "            progress {\n",
       "                /* gets rid of default border in Firefox and Opera. */\n",
       "                border: none;\n",
       "                /* Needs to be in here for Safari polyfill so background images work as expected. */\n",
       "                background-size: auto;\n",
       "            }\n",
       "            .progress-bar-interrupted, .progress-bar-interrupted::-webkit-progress-bar {\n",
       "                background: #F44336;\n",
       "            }\n",
       "        </style>\n",
       "      <progress value='127' class='' max='127' style='width:300px; height:20px; vertical-align: middle;'></progress>\n",
       "      100.00% [127/127 00:00<00:00 logp = 3.879e+01]\n",
       "    </div>\n",
       "    "
      ],
      "text/plain": [
       "<IPython.core.display.HTML object>"
      ]
     },
     "metadata": {},
     "output_type": "display_data"
    },
    {
     "name": "stdout",
     "output_type": "stream",
     "text": [
      "\n"
     ]
    },
    {
     "name": "stderr",
     "output_type": "stream",
     "text": [
      "message: Optimization terminated successfully.\n",
      "logp: -36696.53165378691 -> 38.786484623869995\n"
     ]
    },
    {
     "name": "stdout",
     "output_type": "stream",
     "text": [
      "{'r_interval__': array(-2.63140118), 'M_interval__': array(-1.10862233), 'eta_angle__': array([-4.06223444, -1.87036129]), 'ln(1-e)_interval__': array(1.43361303), 'alpha_angle__': array([3.70109314, 2.51036045]), 'r': array(764.73186284), 'M': array(5.33849244), 'eta': array(-2.00228721), 'sineta': array(-0.90834323), 'coseta': array(-0.4182255), 'ln(1-e)': array(-1.92536356), 'e': array(0.85417727), 'a': array(563.44683879), 'vscale': array(206.45091363), 'vrad': array(-118.02080314), 'vtan': array(79.09496011), 'tperi': array(13.80100018), 'sun_m31_dist': array(760.78895427), 'm31_icrs_xyz': array([561.91307356, 106.01926203, 501.81017007]), 'alpha': array(0.9747999), 'model_pmra': array(0.24914964), 'model_pmdec': array(-0.1881097), 'model_rv': array(-308.85633316)}\n"
     ]
    },
    {
     "name": "stderr",
     "output_type": "stream",
     "text": [
      "Multiprocess sampling (4 chains in 4 jobs)\n",
      "NUTS: [alpha, ln(1-e), eta, M, r]\n"
     ]
    },
    {
     "data": {
      "text/html": [
       "\n",
       "    <div>\n",
       "        <style>\n",
       "            /* Turns off some styling */\n",
       "            progress {\n",
       "                /* gets rid of default border in Firefox and Opera. */\n",
       "                border: none;\n",
       "                /* Needs to be in here for Safari polyfill so background images work as expected. */\n",
       "                background-size: auto;\n",
       "            }\n",
       "            .progress-bar-interrupted, .progress-bar-interrupted::-webkit-progress-bar {\n",
       "                background: #F44336;\n",
       "            }\n",
       "        </style>\n",
       "      <progress value='24000' class='' max='24000' style='width:300px; height:20px; vertical-align: middle;'></progress>\n",
       "      100.00% [24000/24000 01:15<00:00 Sampling 4 chains, 86 divergences]\n",
       "    </div>\n",
       "    "
      ],
      "text/plain": [
       "<IPython.core.display.HTML object>"
      ]
     },
     "metadata": {},
     "output_type": "display_data"
    },
    {
     "name": "stderr",
     "output_type": "stream",
     "text": [
      "INFO (theano.gof.compilelock): Waiting for existing lock by process '37964' (I am process '37893')\n",
      "INFO (theano.gof.compilelock): To manually release the lock, delete /Users/katiechambe/.theano/compiledir_macOS-10.15.7-x86_64-i386-64bit-i386-3.9.5-64/lock_dir\n",
      "INFO (theano.gof.compilelock): Waiting for existing lock by process '37912' (I am process '37937')\n",
      "INFO (theano.gof.compilelock): To manually release the lock, delete /Users/katiechambe/.theano/compiledir_macOS-10.15.7-x86_64-i386-64bit-i386-3.9.5-64/lock_dir\n",
      "Sampling 4 chains for 4_000 tune and 2_000 draw iterations (16_000 + 8_000 draws total) took 84 seconds.\n",
      "There were 42 divergences after tuning. Increase `target_accept` or reparameterize.\n",
      "There were 18 divergences after tuning. Increase `target_accept` or reparameterize.\n",
      "There were 25 divergences after tuning. Increase `target_accept` or reparameterize.\n",
      "There was 1 divergence after tuning. Increase `target_accept` or reparameterize.\n",
      "The number of effective samples is smaller than 10% for some parameters.\n",
      "optimizing logp for variables: [vtravel_lat, vtravel_lon, vtravel_mag, alpha, ln(1-e), eta, M, r]\n"
     ]
    },
    {
     "data": {
      "text/html": [
       "\n",
       "    <div>\n",
       "        <style>\n",
       "            /* Turns off some styling */\n",
       "            progress {\n",
       "                /* gets rid of default border in Firefox and Opera. */\n",
       "                border: none;\n",
       "                /* Needs to be in here for Safari polyfill so background images work as expected. */\n",
       "                background-size: auto;\n",
       "            }\n",
       "            .progress-bar-interrupted, .progress-bar-interrupted::-webkit-progress-bar {\n",
       "                background: #F44336;\n",
       "            }\n",
       "        </style>\n",
       "      <progress value='138' class='' max='138' style='width:300px; height:20px; vertical-align: middle;'></progress>\n",
       "      100.00% [138/138 00:00<00:00 logp = 4.657e+01]\n",
       "    </div>\n",
       "    "
      ],
      "text/plain": [
       "<IPython.core.display.HTML object>"
      ]
     },
     "metadata": {},
     "output_type": "display_data"
    },
    {
     "name": "stdout",
     "output_type": "stream",
     "text": [
      "\n"
     ]
    },
    {
     "name": "stderr",
     "output_type": "stream",
     "text": [
      "message: Optimization terminated successfully.\n",
      "logp: -36730.62089957167 -> 46.56530729909019\n"
     ]
    },
    {
     "name": "stdout",
     "output_type": "stream",
     "text": [
      "{'r_interval__': array(-2.63136083), 'M_interval__': array(-1.14153902), 'eta_angle__': array([-4.04159394, -1.91455437]), 'ln(1-e)_interval__': array(1.44781058), 'alpha_angle__': array([3.85742316, 2.26280503]), 'vtravel_mag': array(5.11356083), 'vtravel_lon': array(0.97745965), 'vtravel_lat': array(-0.59488359), 'r': array(764.75688443), 'M': array(5.21973917), 'eta': array(-2.01319382), 'sineta': array(-0.90372788), 'coseta': array(-0.42810737), 'ln(1-e)': array(-1.90338748), 'e': array(0.85093718), 'a': array(560.55200411), 'vscale': array(204.66822004), 'vrad': array(-115.36607269), 'vtan': array(78.7994938), 'tperi': array(13.80099731), 'sun_m31_dist': array(760.81397694), 'm31_icrs_xyz': array([561.93155512, 106.02274904, 501.82667482]), 'alpha': array(1.04028021), 'model_pmra': array(0.24828608), 'model_pmdec': array(-0.18875404), 'model_rv': array(-308.85720794)}\n"
     ]
    },
    {
     "name": "stderr",
     "output_type": "stream",
     "text": [
      "Multiprocess sampling (4 chains in 4 jobs)\n",
      "NUTS: [vtravel_lat, vtravel_lon, vtravel_mag, alpha, ln(1-e), eta, M, r]\n"
     ]
    },
    {
     "data": {
      "text/html": [
       "\n",
       "    <div>\n",
       "        <style>\n",
       "            /* Turns off some styling */\n",
       "            progress {\n",
       "                /* gets rid of default border in Firefox and Opera. */\n",
       "                border: none;\n",
       "                /* Needs to be in here for Safari polyfill so background images work as expected. */\n",
       "                background-size: auto;\n",
       "            }\n",
       "            .progress-bar-interrupted, .progress-bar-interrupted::-webkit-progress-bar {\n",
       "                background: #F44336;\n",
       "            }\n",
       "        </style>\n",
       "      <progress value='24000' class='' max='24000' style='width:300px; height:20px; vertical-align: middle;'></progress>\n",
       "      100.00% [24000/24000 01:28<00:00 Sampling 4 chains, 22 divergences]\n",
       "    </div>\n",
       "    "
      ],
      "text/plain": [
       "<IPython.core.display.HTML object>"
      ]
     },
     "metadata": {},
     "output_type": "display_data"
    },
    {
     "name": "stderr",
     "output_type": "stream",
     "text": [
      "INFO (theano.gof.compilelock): Waiting for existing lock by process '38105' (I am process '38132')\n",
      "INFO (theano.gof.compilelock): To manually release the lock, delete /Users/katiechambe/.theano/compiledir_macOS-10.15.7-x86_64-i386-64bit-i386-3.9.5-64/lock_dir\n",
      "Sampling 4 chains for 4_000 tune and 2_000 draw iterations (16_000 + 8_000 draws total) took 98 seconds.\n",
      "The acceptance probability does not match the target. It is 0.9603633323800816, but should be close to 0.9. Try to increase the number of tuning steps.\n",
      "There were 9 divergences after tuning. Increase `target_accept` or reparameterize.\n",
      "There were 13 divergences after tuning. Increase `target_accept` or reparameterize.\n",
      "The number of effective samples is smaller than 25% for some parameters.\n",
      "optimizing logp for variables: [vtravel_lat, vtravel_lon, vtravel_mag, alpha, ln(1-e), eta, M, r]\n"
     ]
    },
    {
     "data": {
      "text/html": [
       "\n",
       "    <div>\n",
       "        <style>\n",
       "            /* Turns off some styling */\n",
       "            progress {\n",
       "                /* gets rid of default border in Firefox and Opera. */\n",
       "                border: none;\n",
       "                /* Needs to be in here for Safari polyfill so background images work as expected. */\n",
       "                background-size: auto;\n",
       "            }\n",
       "            .progress-bar-interrupted, .progress-bar-interrupted::-webkit-progress-bar {\n",
       "                background: #F44336;\n",
       "            }\n",
       "        </style>\n",
       "      <progress value='171' class='' max='171' style='width:300px; height:20px; vertical-align: middle;'></progress>\n",
       "      100.00% [171/171 00:00<00:00 logp = 4.657e+01]\n",
       "    </div>\n",
       "    "
      ],
      "text/plain": [
       "<IPython.core.display.HTML object>"
      ]
     },
     "metadata": {},
     "output_type": "display_data"
    },
    {
     "name": "stdout",
     "output_type": "stream",
     "text": [
      "\n"
     ]
    },
    {
     "name": "stderr",
     "output_type": "stream",
     "text": [
      "message: Optimization terminated successfully.\n",
      "logp: -36779.47552062205 -> 46.56852521914958\n"
     ]
    },
    {
     "name": "stdout",
     "output_type": "stream",
     "text": [
      "{'r_interval__': array(-2.63133212), 'M_interval__': array(-1.17327295), 'eta_angle__': array([-4.02047525, -1.95851442]), 'ln(1-e)_interval__': array(1.46503637), 'alpha_angle__': array([4.00016618, 1.99966761]), 'vtravel_mag': array(10.22712165), 'vtravel_lon': array(0.97731094), 'vtravel_lat': array(-0.59636097), 'r': array(764.7746904), 'M': array(5.10714591), 'eta': array(-2.02409911), 'sineta': array(-0.8990056), 'coseta': array(-0.43793714), 'ln(1-e)': array(-1.87698234), 'e': array(0.84694873), 'a': array(557.85902841), 'vscale': array(202.9368271), 'vrad': array(-112.71230826), 'vtan': array(78.70416374), 'tperi': array(13.80099459), 'sun_m31_dist': array(760.83178368), 'm31_icrs_xyz': array([561.94470705, 106.02523049, 501.83842   ]), 'alpha': array(1.10723181), 'model_pmra': array(0.24721288), 'model_pmdec': array(-0.18928367), 'model_rv': array(-308.85806094)}\n"
     ]
    },
    {
     "name": "stderr",
     "output_type": "stream",
     "text": [
      "Multiprocess sampling (4 chains in 4 jobs)\n",
      "NUTS: [vtravel_lat, vtravel_lon, vtravel_mag, alpha, ln(1-e), eta, M, r]\n"
     ]
    },
    {
     "data": {
      "text/html": [
       "\n",
       "    <div>\n",
       "        <style>\n",
       "            /* Turns off some styling */\n",
       "            progress {\n",
       "                /* gets rid of default border in Firefox and Opera. */\n",
       "                border: none;\n",
       "                /* Needs to be in here for Safari polyfill so background images work as expected. */\n",
       "                background-size: auto;\n",
       "            }\n",
       "            .progress-bar-interrupted, .progress-bar-interrupted::-webkit-progress-bar {\n",
       "                background: #F44336;\n",
       "            }\n",
       "        </style>\n",
       "      <progress value='24000' class='' max='24000' style='width:300px; height:20px; vertical-align: middle;'></progress>\n",
       "      100.00% [24000/24000 01:19<00:00 Sampling 4 chains, 188 divergences]\n",
       "    </div>\n",
       "    "
      ],
      "text/plain": [
       "<IPython.core.display.HTML object>"
      ]
     },
     "metadata": {},
     "output_type": "display_data"
    },
    {
     "name": "stderr",
     "output_type": "stream",
     "text": [
      "INFO (theano.gof.compilelock): Waiting for existing lock by process '38232' (I am process '38251')\n",
      "INFO (theano.gof.compilelock): To manually release the lock, delete /Users/katiechambe/.theano/compiledir_macOS-10.15.7-x86_64-i386-64bit-i386-3.9.5-64/lock_dir\n",
      "Sampling 4 chains for 4_000 tune and 2_000 draw iterations (16_000 + 8_000 draws total) took 88 seconds.\n",
      "There were 37 divergences after tuning. Increase `target_accept` or reparameterize.\n",
      "There were 49 divergences after tuning. Increase `target_accept` or reparameterize.\n",
      "There were 102 divergences after tuning. Increase `target_accept` or reparameterize.\n",
      "The number of effective samples is smaller than 10% for some parameters.\n",
      "optimizing logp for variables: [vtravel_lat, vtravel_lon, vtravel_mag, alpha, ln(1-e), eta, M, r]\n"
     ]
    },
    {
     "data": {
      "text/html": [
       "\n",
       "    <div>\n",
       "        <style>\n",
       "            /* Turns off some styling */\n",
       "            progress {\n",
       "                /* gets rid of default border in Firefox and Opera. */\n",
       "                border: none;\n",
       "                /* Needs to be in here for Safari polyfill so background images work as expected. */\n",
       "                background-size: auto;\n",
       "            }\n",
       "            .progress-bar-interrupted, .progress-bar-interrupted::-webkit-progress-bar {\n",
       "                background: #F44336;\n",
       "            }\n",
       "        </style>\n",
       "      <progress value='140' class='' max='140' style='width:300px; height:20px; vertical-align: middle;'></progress>\n",
       "      100.00% [140/140 00:00<00:00 logp = 4.657e+01]\n",
       "    </div>\n",
       "    "
      ],
      "text/plain": [
       "<IPython.core.display.HTML object>"
      ]
     },
     "metadata": {},
     "output_type": "display_data"
    },
    {
     "name": "stdout",
     "output_type": "stream",
     "text": [
      "\n"
     ]
    },
    {
     "name": "stderr",
     "output_type": "stream",
     "text": [
      "message: Optimization terminated successfully.\n",
      "logp: -36835.3190977883 -> 46.57273927100746\n"
     ]
    },
    {
     "name": "stdout",
     "output_type": "stream",
     "text": [
      "{'r_interval__': array(-2.63131477), 'M_interval__': array(-1.2036268), 'eta_angle__': array([-3.99893613, -2.00212633]), 'ln(1-e)_interval__': array(1.48554599), 'alpha_angle__': array([4.12635633, 1.72429216]), 'vtravel_mag': array(15.34068248), 'vtravel_lon': array(0.9769459), 'vtravel_lat': array(-0.59778179), 'r': array(764.78544938), 'M': array(5.00119783), 'eta': array(-2.03497559), 'sineta': array(-0.8941893), 'coseta': array(-0.44768906), 'ln(1-e)': array(-1.84591191), 'e': array(0.84211872), 'a': array(555.39678679), 'vscale': array(201.26548387), 'vrad': array(-110.06160411), 'vtan': array(78.82376556), 'tperi': array(13.800992), 'sun_m31_dist': array(760.84254313), 'm31_icrs_xyz': array([561.95265389, 106.02672987, 501.84551683]), 'alpha': array(1.17497792), 'model_pmra': array(0.24597105), 'model_pmdec': array(-0.18967268), 'model_rv': array(-308.85889383)}\n"
     ]
    },
    {
     "name": "stderr",
     "output_type": "stream",
     "text": [
      "Multiprocess sampling (4 chains in 4 jobs)\n",
      "NUTS: [vtravel_lat, vtravel_lon, vtravel_mag, alpha, ln(1-e), eta, M, r]\n"
     ]
    },
    {
     "data": {
      "text/html": [
       "\n",
       "    <div>\n",
       "        <style>\n",
       "            /* Turns off some styling */\n",
       "            progress {\n",
       "                /* gets rid of default border in Firefox and Opera. */\n",
       "                border: none;\n",
       "                /* Needs to be in here for Safari polyfill so background images work as expected. */\n",
       "                background-size: auto;\n",
       "            }\n",
       "            .progress-bar-interrupted, .progress-bar-interrupted::-webkit-progress-bar {\n",
       "                background: #F44336;\n",
       "            }\n",
       "        </style>\n",
       "      <progress value='24000' class='' max='24000' style='width:300px; height:20px; vertical-align: middle;'></progress>\n",
       "      100.00% [24000/24000 01:22<00:00 Sampling 4 chains, 122 divergences]\n",
       "    </div>\n",
       "    "
      ],
      "text/plain": [
       "<IPython.core.display.HTML object>"
      ]
     },
     "metadata": {},
     "output_type": "display_data"
    },
    {
     "name": "stderr",
     "output_type": "stream",
     "text": [
      "Sampling 4 chains for 4_000 tune and 2_000 draw iterations (16_000 + 8_000 draws total) took 92 seconds.\n",
      "There were 4 divergences after tuning. Increase `target_accept` or reparameterize.\n",
      "There were 63 divergences after tuning. Increase `target_accept` or reparameterize.\n",
      "There were 55 divergences after tuning. Increase `target_accept` or reparameterize.\n",
      "The number of effective samples is smaller than 25% for some parameters.\n",
      "optimizing logp for variables: [vtravel_lat, vtravel_lon, vtravel_mag, alpha, ln(1-e), eta, M, r]\n"
     ]
    },
    {
     "data": {
      "text/html": [
       "\n",
       "    <div>\n",
       "        <style>\n",
       "            /* Turns off some styling */\n",
       "            progress {\n",
       "                /* gets rid of default border in Firefox and Opera. */\n",
       "                border: none;\n",
       "                /* Needs to be in here for Safari polyfill so background images work as expected. */\n",
       "                background-size: auto;\n",
       "            }\n",
       "            .progress-bar-interrupted, .progress-bar-interrupted::-webkit-progress-bar {\n",
       "                background: #F44336;\n",
       "            }\n",
       "        </style>\n",
       "      <progress value='178' class='' max='178' style='width:300px; height:20px; vertical-align: middle;'></progress>\n",
       "      100.00% [178/178 00:00<00:00 logp = 4.658e+01]\n",
       "    </div>\n",
       "    "
      ],
      "text/plain": [
       "<IPython.core.display.HTML object>"
      ]
     },
     "metadata": {},
     "output_type": "display_data"
    },
    {
     "name": "stdout",
     "output_type": "stream",
     "text": [
      "\n"
     ]
    },
    {
     "name": "stderr",
     "output_type": "stream",
     "text": [
      "message: Desired error not necessarily achieved due to precision loss.\n",
      "logp: -36898.151631070425 -> 46.57798810923583\n"
     ]
    },
    {
     "name": "stdout",
     "output_type": "stream",
     "text": [
      "{'r_interval__': array(-2.63130799), 'M_interval__': array(-1.23240789), 'eta_angle__': array([-3.97703487, -2.04528563]), 'ln(1-e)_interval__': array(1.50953358), 'alpha_angle__': array([4.23362088, 1.44099083]), 'vtravel_mag': array(20.4542433), 'vtravel_lon': array(0.97637865), 'vtravel_lat': array(-0.59908368), 'r': array(764.78965057), 'M': array(4.9023252), 'eta': array(-2.04579782), 'sineta': array(-0.88929204), 'coseta': array(-0.45733977), 'ln(1-e)': array(-1.81007926), 'e': array(0.83635883), 'a': array(553.19317305), 'vscale': array(199.66255245), 'vrad': array(-107.41587769), 'vtan': array(79.16924169), 'tperi': array(13.80098953), 'sun_m31_dist': array(760.8467445), 'm31_icrs_xyz': array([561.955757  , 106.02731535, 501.84828803]), 'alpha': array(1.24272762), 'model_pmra': array(0.24461409), 'model_pmdec': array(-0.18990123), 'model_rv': array(-308.85970864)}\n"
     ]
    },
    {
     "name": "stderr",
     "output_type": "stream",
     "text": [
      "Multiprocess sampling (4 chains in 4 jobs)\n",
      "NUTS: [vtravel_lat, vtravel_lon, vtravel_mag, alpha, ln(1-e), eta, M, r]\n"
     ]
    },
    {
     "data": {
      "text/html": [
       "\n",
       "    <div>\n",
       "        <style>\n",
       "            /* Turns off some styling */\n",
       "            progress {\n",
       "                /* gets rid of default border in Firefox and Opera. */\n",
       "                border: none;\n",
       "                /* Needs to be in here for Safari polyfill so background images work as expected. */\n",
       "                background-size: auto;\n",
       "            }\n",
       "            .progress-bar-interrupted, .progress-bar-interrupted::-webkit-progress-bar {\n",
       "                background: #F44336;\n",
       "            }\n",
       "        </style>\n",
       "      <progress value='24000' class='' max='24000' style='width:300px; height:20px; vertical-align: middle;'></progress>\n",
       "      100.00% [24000/24000 01:28<00:00 Sampling 4 chains, 71 divergences]\n",
       "    </div>\n",
       "    "
      ],
      "text/plain": [
       "<IPython.core.display.HTML object>"
      ]
     },
     "metadata": {},
     "output_type": "display_data"
    },
    {
     "name": "stderr",
     "output_type": "stream",
     "text": [
      "Sampling 4 chains for 4_000 tune and 2_000 draw iterations (16_000 + 8_000 draws total) took 98 seconds.\n",
      "There were 6 divergences after tuning. Increase `target_accept` or reparameterize.\n",
      "There were 58 divergences after tuning. Increase `target_accept` or reparameterize.\n",
      "There were 7 divergences after tuning. Increase `target_accept` or reparameterize.\n",
      "The number of effective samples is smaller than 10% for some parameters.\n",
      "optimizing logp for variables: [vtravel_lat, vtravel_lon, vtravel_mag, alpha, ln(1-e), eta, M, r]\n"
     ]
    },
    {
     "data": {
      "text/html": [
       "\n",
       "    <div>\n",
       "        <style>\n",
       "            /* Turns off some styling */\n",
       "            progress {\n",
       "                /* gets rid of default border in Firefox and Opera. */\n",
       "                border: none;\n",
       "                /* Needs to be in here for Safari polyfill so background images work as expected. */\n",
       "                background-size: auto;\n",
       "            }\n",
       "            .progress-bar-interrupted, .progress-bar-interrupted::-webkit-progress-bar {\n",
       "                background: #F44336;\n",
       "            }\n",
       "        </style>\n",
       "      <progress value='143' class='' max='143' style='width:300px; height:20px; vertical-align: middle;'></progress>\n",
       "      100.00% [143/143 00:00<00:00 logp = 4.658e+01]\n",
       "    </div>\n",
       "    "
      ],
      "text/plain": [
       "<IPython.core.display.HTML object>"
      ]
     },
     "metadata": {},
     "output_type": "display_data"
    },
    {
     "name": "stdout",
     "output_type": "stream",
     "text": [
      "\n"
     ]
    },
    {
     "name": "stderr",
     "output_type": "stream",
     "text": [
      "message: Optimization terminated successfully.\n",
      "logp: -36967.97312046844 -> 46.584160817216045\n"
     ]
    },
    {
     "name": "stdout",
     "output_type": "stream",
     "text": [
      "{'r_interval__': array(-2.63131051), 'M_interval__': array(-1.25944064), 'eta_angle__': array([-3.95482543, -2.08790706]), 'ln(1-e)_interval__': array(1.53710796), 'alpha_angle__': array([4.32049473, 1.1546971 ]), 'vtravel_mag': array(25.56780413), 'vtravel_lon': array(0.97562902), 'vtravel_lat': array(-0.60021046), 'r': array(764.78808993), 'M': array(4.81086885), 'eta': array(-2.0565446), 'sineta': array(-0.88432585), 'coseta': array(-0.46687021), 'ln(1-e)': array(-1.76956085), 'e': array(0.82959219), 'a': array(551.2733652), 'vscale': array(198.13546564), 'vrad': array(-104.77679013), 'vtan': array(79.74620172), 'tperi': array(13.80098719), 'sun_m31_dist': array(760.8451838), 'm31_icrs_xyz': array([561.95460427, 106.02709786, 501.8472586 ]), 'alpha': array(1.30963971), 'model_pmra': array(0.24320341), 'model_pmdec': array(-0.18995838), 'model_rv': array(-308.86050779)}\n"
     ]
    },
    {
     "name": "stderr",
     "output_type": "stream",
     "text": [
      "Multiprocess sampling (4 chains in 4 jobs)\n",
      "NUTS: [vtravel_lat, vtravel_lon, vtravel_mag, alpha, ln(1-e), eta, M, r]\n"
     ]
    },
    {
     "data": {
      "text/html": [
       "\n",
       "    <div>\n",
       "        <style>\n",
       "            /* Turns off some styling */\n",
       "            progress {\n",
       "                /* gets rid of default border in Firefox and Opera. */\n",
       "                border: none;\n",
       "                /* Needs to be in here for Safari polyfill so background images work as expected. */\n",
       "                background-size: auto;\n",
       "            }\n",
       "            .progress-bar-interrupted, .progress-bar-interrupted::-webkit-progress-bar {\n",
       "                background: #F44336;\n",
       "            }\n",
       "        </style>\n",
       "      <progress value='24000' class='' max='24000' style='width:300px; height:20px; vertical-align: middle;'></progress>\n",
       "      100.00% [24000/24000 01:23<00:00 Sampling 4 chains, 86 divergences]\n",
       "    </div>\n",
       "    "
      ],
      "text/plain": [
       "<IPython.core.display.HTML object>"
      ]
     },
     "metadata": {},
     "output_type": "display_data"
    },
    {
     "name": "stderr",
     "output_type": "stream",
     "text": [
      "INFO (theano.gof.compilelock): Waiting for existing lock by process '38729' (I am process '38748')\n",
      "INFO (theano.gof.compilelock): To manually release the lock, delete /Users/katiechambe/.theano/compiledir_macOS-10.15.7-x86_64-i386-64bit-i386-3.9.5-64/lock_dir\n",
      "Sampling 4 chains for 4_000 tune and 2_000 draw iterations (16_000 + 8_000 draws total) took 92 seconds.\n",
      "There were 32 divergences after tuning. Increase `target_accept` or reparameterize.\n",
      "There were 20 divergences after tuning. Increase `target_accept` or reparameterize.\n",
      "There were 2 divergences after tuning. Increase `target_accept` or reparameterize.\n",
      "There were 32 divergences after tuning. Increase `target_accept` or reparameterize.\n",
      "The number of effective samples is smaller than 10% for some parameters.\n",
      "optimizing logp for variables: [vtravel_lat, vtravel_lon, vtravel_mag, alpha, ln(1-e), eta, M, r]\n"
     ]
    },
    {
     "data": {
      "text/html": [
       "\n",
       "    <div>\n",
       "        <style>\n",
       "            /* Turns off some styling */\n",
       "            progress {\n",
       "                /* gets rid of default border in Firefox and Opera. */\n",
       "                border: none;\n",
       "                /* Needs to be in here for Safari polyfill so background images work as expected. */\n",
       "                background-size: auto;\n",
       "            }\n",
       "            .progress-bar-interrupted, .progress-bar-interrupted::-webkit-progress-bar {\n",
       "                background: #F44336;\n",
       "            }\n",
       "        </style>\n",
       "      <progress value='146' class='' max='146' style='width:300px; height:20px; vertical-align: middle;'></progress>\n",
       "      100.00% [146/146 00:00<00:00 logp = 4.659e+01]\n",
       "    </div>\n",
       "    "
      ],
      "text/plain": [
       "<IPython.core.display.HTML object>"
      ]
     },
     "metadata": {},
     "output_type": "display_data"
    },
    {
     "name": "stdout",
     "output_type": "stream",
     "text": [
      "\n"
     ]
    },
    {
     "name": "stderr",
     "output_type": "stream",
     "text": [
      "message: Optimization terminated successfully.\n",
      "logp: -37044.78356598234 -> 46.59100622236412\n"
     ]
    },
    {
     "name": "stdout",
     "output_type": "stream",
     "text": [
      "{'r_interval__': array(-2.63132067), 'M_interval__': array(-1.28457702), 'eta_angle__': array([-3.9323526 , -2.12993029]), 'ln(1-e)_interval__': array(1.56827942), 'alpha_angle__': array([4.38660308, 0.87046733]), 'vtravel_mag': array(30.68136495), 'vtravel_lon': array(0.97472073), 'vtravel_lat': array(-0.60111763), 'r': array(764.78178835), 'M': array(4.72705636), 'eta': array(-2.06720059), 'sineta': array(-0.87930077), 'coseta': array(-0.47626689), 'ln(1-e)': array(-1.72461812), 'e': array(0.82175889), 'a': array(549.65838412), 'vscale': array(196.69029331), 'vrad': array(-102.14570615), 'vtan': array(80.55409637), 'tperi': array(13.80098496), 'sun_m31_dist': array(760.83888194), 'm31_icrs_xyz': array([561.94994977, 106.02621966, 501.84310195]), 'alpha': array(1.37490345), 'model_pmra': array(0.24180193), 'model_pmdec': array(-0.18984351), 'model_rv': array(-308.86129376)}\n"
     ]
    },
    {
     "name": "stderr",
     "output_type": "stream",
     "text": [
      "Multiprocess sampling (4 chains in 4 jobs)\n",
      "NUTS: [vtravel_lat, vtravel_lon, vtravel_mag, alpha, ln(1-e), eta, M, r]\n"
     ]
    },
    {
     "data": {
      "text/html": [
       "\n",
       "    <div>\n",
       "        <style>\n",
       "            /* Turns off some styling */\n",
       "            progress {\n",
       "                /* gets rid of default border in Firefox and Opera. */\n",
       "                border: none;\n",
       "                /* Needs to be in here for Safari polyfill so background images work as expected. */\n",
       "                background-size: auto;\n",
       "            }\n",
       "            .progress-bar-interrupted, .progress-bar-interrupted::-webkit-progress-bar {\n",
       "                background: #F44336;\n",
       "            }\n",
       "        </style>\n",
       "      <progress value='24000' class='' max='24000' style='width:300px; height:20px; vertical-align: middle;'></progress>\n",
       "      100.00% [24000/24000 01:32<00:00 Sampling 4 chains, 49 divergences]\n",
       "    </div>\n",
       "    "
      ],
      "text/plain": [
       "<IPython.core.display.HTML object>"
      ]
     },
     "metadata": {},
     "output_type": "display_data"
    },
    {
     "name": "stderr",
     "output_type": "stream",
     "text": [
      "INFO (theano.gof.compilelock): Waiting for existing lock by process '38910' (I am process '38935')\n",
      "INFO (theano.gof.compilelock): To manually release the lock, delete /Users/katiechambe/.theano/compiledir_macOS-10.15.7-x86_64-i386-64bit-i386-3.9.5-64/lock_dir\n",
      "Sampling 4 chains for 4_000 tune and 2_000 draw iterations (16_000 + 8_000 draws total) took 101 seconds.\n",
      "There were 23 divergences after tuning. Increase `target_accept` or reparameterize.\n",
      "There were 18 divergences after tuning. Increase `target_accept` or reparameterize.\n",
      "There were 5 divergences after tuning. Increase `target_accept` or reparameterize.\n",
      "There were 3 divergences after tuning. Increase `target_accept` or reparameterize.\n",
      "The number of effective samples is smaller than 25% for some parameters.\n",
      "optimizing logp for variables: [vtravel_lat, vtravel_lon, vtravel_mag, alpha, ln(1-e), eta, M, r]\n"
     ]
    },
    {
     "data": {
      "text/html": [
       "\n",
       "    <div>\n",
       "        <style>\n",
       "            /* Turns off some styling */\n",
       "            progress {\n",
       "                /* gets rid of default border in Firefox and Opera. */\n",
       "                border: none;\n",
       "                /* Needs to be in here for Safari polyfill so background images work as expected. */\n",
       "                background-size: auto;\n",
       "            }\n",
       "            .progress-bar-interrupted, .progress-bar-interrupted::-webkit-progress-bar {\n",
       "                background: #F44336;\n",
       "            }\n",
       "        </style>\n",
       "      <progress value='136' class='' max='136' style='width:300px; height:20px; vertical-align: middle;'></progress>\n",
       "      100.00% [136/136 00:00<00:00 logp = 4.660e+01]\n",
       "    </div>\n",
       "    "
      ],
      "text/plain": [
       "<IPython.core.display.HTML object>"
      ]
     },
     "metadata": {},
     "output_type": "display_data"
    },
    {
     "name": "stdout",
     "output_type": "stream",
     "text": [
      "\n"
     ]
    },
    {
     "name": "stderr",
     "output_type": "stream",
     "text": [
      "message: Optimization terminated successfully.\n",
      "logp: -37128.582967612114 -> 46.59815705142137\n"
     ]
    },
    {
     "name": "stdout",
     "output_type": "stream",
     "text": [
      "{'r_interval__': array(-2.63133663), 'M_interval__': array(-1.30770231), 'eta_angle__': array([-3.9096497 , -2.17132199]), 'ln(1-e)_interval__': array(1.60296147), 'alpha_angle__': array([4.43265237, 0.59295278]), 'vtravel_mag': array(35.79492578), 'vtravel_lon': array(0.97367894), 'vtravel_lat': array(-0.601776), 'r': array(764.77189226), 'M': array(4.65099591), 'eta': array(-2.07775691), 'sineta': array(-0.87422425), 'coseta': array(-0.48552236), 'ln(1-e)': array(-1.67568116), 'e': array(0.81281936), 'a': array(548.36431616), 'vscale': array(195.33153001), 'vrad': array(-99.5236994), 'vtan': array(81.58632015), 'tperi': array(13.80098284), 'sun_m31_dist': array(760.82898542), 'm31_icrs_xyz': array([561.94264027, 106.02484054, 501.83657428]), 'alpha': array(1.43781647), 'model_pmra': array(0.24046722), 'model_pmdec': array(-0.18956597), 'model_rv': array(-308.86206904)}\n"
     ]
    },
    {
     "name": "stderr",
     "output_type": "stream",
     "text": [
      "Multiprocess sampling (4 chains in 4 jobs)\n",
      "NUTS: [vtravel_lat, vtravel_lon, vtravel_mag, alpha, ln(1-e), eta, M, r]\n"
     ]
    },
    {
     "data": {
      "text/html": [
       "\n",
       "    <div>\n",
       "        <style>\n",
       "            /* Turns off some styling */\n",
       "            progress {\n",
       "                /* gets rid of default border in Firefox and Opera. */\n",
       "                border: none;\n",
       "                /* Needs to be in here for Safari polyfill so background images work as expected. */\n",
       "                background-size: auto;\n",
       "            }\n",
       "            .progress-bar-interrupted, .progress-bar-interrupted::-webkit-progress-bar {\n",
       "                background: #F44336;\n",
       "            }\n",
       "        </style>\n",
       "      <progress value='24000' class='' max='24000' style='width:300px; height:20px; vertical-align: middle;'></progress>\n",
       "      100.00% [24000/24000 01:31<00:00 Sampling 4 chains, 88 divergences]\n",
       "    </div>\n",
       "    "
      ],
      "text/plain": [
       "<IPython.core.display.HTML object>"
      ]
     },
     "metadata": {},
     "output_type": "display_data"
    },
    {
     "name": "stderr",
     "output_type": "stream",
     "text": [
      "INFO (theano.gof.compilelock): Waiting for existing lock by process '39138' (I am process '39067')\n",
      "INFO (theano.gof.compilelock): To manually release the lock, delete /Users/katiechambe/.theano/compiledir_macOS-10.15.7-x86_64-i386-64bit-i386-3.9.5-64/lock_dir\n",
      "INFO (theano.gof.compilelock): Waiting for existing lock by process '39111' (I am process '39067')\n",
      "INFO (theano.gof.compilelock): To manually release the lock, delete /Users/katiechambe/.theano/compiledir_macOS-10.15.7-x86_64-i386-64bit-i386-3.9.5-64/lock_dir\n",
      "Sampling 4 chains for 4_000 tune and 2_000 draw iterations (16_000 + 8_000 draws total) took 101 seconds.\n",
      "There were 22 divergences after tuning. Increase `target_accept` or reparameterize.\n",
      "There were 18 divergences after tuning. Increase `target_accept` or reparameterize.\n",
      "There were 45 divergences after tuning. Increase `target_accept` or reparameterize.\n",
      "There were 3 divergences after tuning. Increase `target_accept` or reparameterize.\n",
      "The number of effective samples is smaller than 25% for some parameters.\n",
      "optimizing logp for variables: [vtravel_lat, vtravel_lon, vtravel_mag, alpha, ln(1-e), eta, M, r]\n"
     ]
    },
    {
     "data": {
      "text/html": [
       "\n",
       "    <div>\n",
       "        <style>\n",
       "            /* Turns off some styling */\n",
       "            progress {\n",
       "                /* gets rid of default border in Firefox and Opera. */\n",
       "                border: none;\n",
       "                /* Needs to be in here for Safari polyfill so background images work as expected. */\n",
       "                background-size: auto;\n",
       "            }\n",
       "            .progress-bar-interrupted, .progress-bar-interrupted::-webkit-progress-bar {\n",
       "                background: #F44336;\n",
       "            }\n",
       "        </style>\n",
       "      <progress value='124' class='' max='124' style='width:300px; height:20px; vertical-align: middle;'></progress>\n",
       "      100.00% [124/124 00:00<00:00 logp = 4.661e+01]\n",
       "    </div>\n",
       "    "
      ],
      "text/plain": [
       "<IPython.core.display.HTML object>"
      ]
     },
     "metadata": {},
     "output_type": "display_data"
    },
    {
     "name": "stdout",
     "output_type": "stream",
     "text": [
      "\n"
     ]
    },
    {
     "name": "stderr",
     "output_type": "stream",
     "text": [
      "message: Optimization terminated successfully.\n",
      "logp: -37219.37132535778 -> 46.60516398104389\n"
     ]
    },
    {
     "name": "stdout",
     "output_type": "stream",
     "text": [
      "{'r_interval__': array(-2.63135655), 'M_interval__': array(-1.32873545), 'eta_angle__': array([-3.88673802, -2.21207313]), 'ln(1-e)_interval__': array(1.64098668), 'alpha_angle__': array([4.4602395 , 0.32598101]), 'vtravel_mag': array(40.9084866), 'vtravel_lon': array(0.97252769), 'vtravel_lat': array(-0.60217219), 'r': array(764.75953758), 'M': array(4.58268797), 'eta': array(-2.08821066), 'sineta': array(-0.86910104), 'coseta': array(-0.49463459), 'ln(1-e)': array(-1.6233085), 'e': array(0.80275497), 'a': array(547.40230142), 'vscale': array(194.06213292), 'vrad': array(-96.91160586), 'vtan': array(82.83119093), 'tperi': array(13.80098082), 'sun_m31_dist': array(760.81663021), 'm31_icrs_xyz': array([561.93351481, 106.02311879, 501.82842489]), 'alpha': array(1.49784006), 'model_pmra': array(0.23924616), 'model_pmdec': array(-0.18914294), 'model_rv': array(-308.86283635)}\n"
     ]
    },
    {
     "name": "stderr",
     "output_type": "stream",
     "text": [
      "Multiprocess sampling (4 chains in 4 jobs)\n",
      "NUTS: [vtravel_lat, vtravel_lon, vtravel_mag, alpha, ln(1-e), eta, M, r]\n"
     ]
    },
    {
     "data": {
      "text/html": [
       "\n",
       "    <div>\n",
       "        <style>\n",
       "            /* Turns off some styling */\n",
       "            progress {\n",
       "                /* gets rid of default border in Firefox and Opera. */\n",
       "                border: none;\n",
       "                /* Needs to be in here for Safari polyfill so background images work as expected. */\n",
       "                background-size: auto;\n",
       "            }\n",
       "            .progress-bar-interrupted, .progress-bar-interrupted::-webkit-progress-bar {\n",
       "                background: #F44336;\n",
       "            }\n",
       "        </style>\n",
       "      <progress value='24000' class='' max='24000' style='width:300px; height:20px; vertical-align: middle;'></progress>\n",
       "      100.00% [24000/24000 01:30<00:00 Sampling 4 chains, 41 divergences]\n",
       "    </div>\n",
       "    "
      ],
      "text/plain": [
       "<IPython.core.display.HTML object>"
      ]
     },
     "metadata": {},
     "output_type": "display_data"
    },
    {
     "name": "stderr",
     "output_type": "stream",
     "text": [
      "INFO (theano.gof.compilelock): Waiting for existing lock by process '39228' (I am process '39247')\n",
      "INFO (theano.gof.compilelock): To manually release the lock, delete /Users/katiechambe/.theano/compiledir_macOS-10.15.7-x86_64-i386-64bit-i386-3.9.5-64/lock_dir\n",
      "Sampling 4 chains for 4_000 tune and 2_000 draw iterations (16_000 + 8_000 draws total) took 100 seconds.\n",
      "There were 3 divergences after tuning. Increase `target_accept` or reparameterize.\n",
      "There were 16 divergences after tuning. Increase `target_accept` or reparameterize.\n",
      "There were 9 divergences after tuning. Increase `target_accept` or reparameterize.\n",
      "There were 13 divergences after tuning. Increase `target_accept` or reparameterize.\n",
      "The number of effective samples is smaller than 25% for some parameters.\n",
      "optimizing logp for variables: [vtravel_lat, vtravel_lon, vtravel_mag, alpha, ln(1-e), eta, M, r]\n"
     ]
    },
    {
     "data": {
      "text/html": [
       "\n",
       "    <div>\n",
       "        <style>\n",
       "            /* Turns off some styling */\n",
       "            progress {\n",
       "                /* gets rid of default border in Firefox and Opera. */\n",
       "                border: none;\n",
       "                /* Needs to be in here for Safari polyfill so background images work as expected. */\n",
       "                background-size: auto;\n",
       "            }\n",
       "            .progress-bar-interrupted, .progress-bar-interrupted::-webkit-progress-bar {\n",
       "                background: #F44336;\n",
       "            }\n",
       "        </style>\n",
       "      <progress value='125' class='' max='125' style='width:300px; height:20px; vertical-align: middle;'></progress>\n",
       "      100.00% [125/125 00:00<00:00 logp = 4.661e+01]\n",
       "    </div>\n",
       "    "
      ],
      "text/plain": [
       "<IPython.core.display.HTML object>"
      ]
     },
     "metadata": {},
     "output_type": "display_data"
    },
    {
     "name": "stdout",
     "output_type": "stream",
     "text": [
      "\n"
     ]
    },
    {
     "name": "stderr",
     "output_type": "stream",
     "text": [
      "message: Optimization terminated successfully.\n",
      "logp: -37317.14863921932 -> 46.61153256204284\n"
     ]
    },
    {
     "name": "stdout",
     "output_type": "stream",
     "text": [
      "{'r_interval__': array(-2.63137878), 'M_interval__': array(-1.34762473), 'eta_angle__': array([-3.86362848, -2.25219337]), 'ln(1-e)_interval__': array(1.68213156), 'alpha_angle__': array([4.47155096, 0.07233251]), 'vtravel_mag': array(46.02204743), 'vtravel_lon': array(0.97128784), 'vtravel_lat': array(-0.6023067), 'r': array(764.74575344), 'M': array(4.52204993), 'eta': array(-2.09856369), 'sineta': array(-0.86393359), 'coseta': array(-0.50360575), 'ln(1-e)': array(-1.56813422), 'e': array(0.79156629), 'a': array(546.77916556), 'vscale': array(192.88376031), 'vrad': array(-94.31009847), 'vtan': array(84.27348821), 'tperi': array(13.80097888), 'sun_m31_dist': array(760.80284547), 'm31_icrs_xyz': array([561.9233335 , 106.02119782, 501.81933259]), 'alpha': array(1.55462158), 'model_pmra': array(0.23817223), 'model_pmdec': array(-0.18859642), 'model_rv': array(-308.86359824)}\n"
     ]
    },
    {
     "name": "stderr",
     "output_type": "stream",
     "text": [
      "Multiprocess sampling (4 chains in 4 jobs)\n",
      "NUTS: [vtravel_lat, vtravel_lon, vtravel_mag, alpha, ln(1-e), eta, M, r]\n"
     ]
    },
    {
     "data": {
      "text/html": [
       "\n",
       "    <div>\n",
       "        <style>\n",
       "            /* Turns off some styling */\n",
       "            progress {\n",
       "                /* gets rid of default border in Firefox and Opera. */\n",
       "                border: none;\n",
       "                /* Needs to be in here for Safari polyfill so background images work as expected. */\n",
       "                background-size: auto;\n",
       "            }\n",
       "            .progress-bar-interrupted, .progress-bar-interrupted::-webkit-progress-bar {\n",
       "                background: #F44336;\n",
       "            }\n",
       "        </style>\n",
       "      <progress value='24000' class='' max='24000' style='width:300px; height:20px; vertical-align: middle;'></progress>\n",
       "      100.00% [24000/24000 01:38<00:00 Sampling 4 chains, 164 divergences]\n",
       "    </div>\n",
       "    "
      ],
      "text/plain": [
       "<IPython.core.display.HTML object>"
      ]
     },
     "metadata": {},
     "output_type": "display_data"
    },
    {
     "name": "stderr",
     "output_type": "stream",
     "text": [
      "Sampling 4 chains for 4_000 tune and 2_000 draw iterations (16_000 + 8_000 draws total) took 107 seconds.\n",
      "There were 19 divergences after tuning. Increase `target_accept` or reparameterize.\n",
      "There were 138 divergences after tuning. Increase `target_accept` or reparameterize.\n",
      "There were 4 divergences after tuning. Increase `target_accept` or reparameterize.\n",
      "There were 3 divergences after tuning. Increase `target_accept` or reparameterize.\n",
      "The estimated number of effective samples is smaller than 200 for some parameters.\n",
      "optimizing logp for variables: [vtravel_lat, vtravel_lon, vtravel_mag, alpha, ln(1-e), eta, M, r]\n"
     ]
    },
    {
     "data": {
      "text/html": [
       "\n",
       "    <div>\n",
       "        <style>\n",
       "            /* Turns off some styling */\n",
       "            progress {\n",
       "                /* gets rid of default border in Firefox and Opera. */\n",
       "                border: none;\n",
       "                /* Needs to be in here for Safari polyfill so background images work as expected. */\n",
       "                background-size: auto;\n",
       "            }\n",
       "            .progress-bar-interrupted, .progress-bar-interrupted::-webkit-progress-bar {\n",
       "                background: #F44336;\n",
       "            }\n",
       "        </style>\n",
       "      <progress value='188' class='' max='188' style='width:300px; height:20px; vertical-align: middle;'></progress>\n",
       "      100.00% [188/188 00:00<00:00 logp = 4.662e+01]\n",
       "    </div>\n",
       "    "
      ],
      "text/plain": [
       "<IPython.core.display.HTML object>"
      ]
     },
     "metadata": {},
     "output_type": "display_data"
    },
    {
     "name": "stdout",
     "output_type": "stream",
     "text": [
      "\n"
     ]
    },
    {
     "name": "stderr",
     "output_type": "stream",
     "text": [
      "message: Desired error not necessarily achieved due to precision loss.\n",
      "logp: -37421.914909196734 -> 46.616756560772444\n"
     ]
    },
    {
     "name": "stdout",
     "output_type": "stream",
     "text": [
      "{'r_interval__': array(-2.63140193), 'M_interval__': array(-1.36434123), 'eta_angle__': array([-3.84032445, -2.29170432]), 'ln(1-e)_interval__': array(1.72614311), 'alpha_angle__': array([ 4.46904367, -0.16627866]), 'vtravel_mag': array(51.13560825), 'vtravel_lon': array(0.96997597), 'vtravel_lat': array(-0.60219044), 'r': array(764.73139823), 'M': array(4.46894506), 'eta': array(-2.10882091), 'sineta': array(-0.85872264), 'coseta': array(-0.51244066), 'ln(1-e)': array(-1.51081583), 'e': array(0.77927017), 'a': array(546.49836103), 'vscale': array(191.79710249), 'vrad': array(-91.71976878), 'vtan': array(85.89609974), 'tperi': array(13.80097702), 'sun_m31_dist': array(760.78848964), 'm31_icrs_xyz': array([561.91273039, 106.01919728, 501.80986359]), 'alpha': array(1.60798594), 'model_pmra': array(0.23726534), 'model_pmdec': array(-0.18795009), 'model_rv': array(-308.86435723)}\n"
     ]
    },
    {
     "name": "stderr",
     "output_type": "stream",
     "text": [
      "Multiprocess sampling (4 chains in 4 jobs)\n",
      "NUTS: [vtravel_lat, vtravel_lon, vtravel_mag, alpha, ln(1-e), eta, M, r]\n"
     ]
    },
    {
     "data": {
      "text/html": [
       "\n",
       "    <div>\n",
       "        <style>\n",
       "            /* Turns off some styling */\n",
       "            progress {\n",
       "                /* gets rid of default border in Firefox and Opera. */\n",
       "                border: none;\n",
       "                /* Needs to be in here for Safari polyfill so background images work as expected. */\n",
       "                background-size: auto;\n",
       "            }\n",
       "            .progress-bar-interrupted, .progress-bar-interrupted::-webkit-progress-bar {\n",
       "                background: #F44336;\n",
       "            }\n",
       "        </style>\n",
       "      <progress value='24000' class='' max='24000' style='width:300px; height:20px; vertical-align: middle;'></progress>\n",
       "      100.00% [24000/24000 01:33<00:00 Sampling 4 chains, 146 divergences]\n",
       "    </div>\n",
       "    "
      ],
      "text/plain": [
       "<IPython.core.display.HTML object>"
      ]
     },
     "metadata": {},
     "output_type": "display_data"
    },
    {
     "name": "stderr",
     "output_type": "stream",
     "text": [
      "INFO (theano.gof.compilelock): Waiting for existing lock by process '39637' (I am process '39566')\n",
      "INFO (theano.gof.compilelock): To manually release the lock, delete /Users/katiechambe/.theano/compiledir_macOS-10.15.7-x86_64-i386-64bit-i386-3.9.5-64/lock_dir\n",
      "INFO (theano.gof.compilelock): Waiting for existing lock by process '39585' (I am process '39610')\n",
      "INFO (theano.gof.compilelock): To manually release the lock, delete /Users/katiechambe/.theano/compiledir_macOS-10.15.7-x86_64-i386-64bit-i386-3.9.5-64/lock_dir\n",
      "Sampling 4 chains for 4_000 tune and 2_000 draw iterations (16_000 + 8_000 draws total) took 102 seconds.\n",
      "There were 30 divergences after tuning. Increase `target_accept` or reparameterize.\n",
      "There were 84 divergences after tuning. Increase `target_accept` or reparameterize.\n",
      "There were 7 divergences after tuning. Increase `target_accept` or reparameterize.\n",
      "There were 25 divergences after tuning. Increase `target_accept` or reparameterize.\n",
      "The number of effective samples is smaller than 25% for some parameters.\n",
      "optimizing logp for variables: [vtravel_lat, vtravel_lon, vtravel_mag, alpha, ln(1-e), eta, M, r]\n"
     ]
    },
    {
     "data": {
      "text/html": [
       "\n",
       "    <div>\n",
       "        <style>\n",
       "            /* Turns off some styling */\n",
       "            progress {\n",
       "                /* gets rid of default border in Firefox and Opera. */\n",
       "                border: none;\n",
       "                /* Needs to be in here for Safari polyfill so background images work as expected. */\n",
       "                background-size: auto;\n",
       "            }\n",
       "            .progress-bar-interrupted, .progress-bar-interrupted::-webkit-progress-bar {\n",
       "                background: #F44336;\n",
       "            }\n",
       "        </style>\n",
       "      <progress value='155' class='' max='155' style='width:300px; height:20px; vertical-align: middle;'></progress>\n",
       "      100.00% [155/155 00:00<00:00 logp = 4.662e+01]\n",
       "    </div>\n",
       "    "
      ],
      "text/plain": [
       "<IPython.core.display.HTML object>"
      ]
     },
     "metadata": {},
     "output_type": "display_data"
    },
    {
     "name": "stdout",
     "output_type": "stream",
     "text": [
      "\n"
     ]
    },
    {
     "name": "stderr",
     "output_type": "stream",
     "text": [
      "message: Optimization terminated successfully.\n",
      "logp: -37533.67013529005 -> 46.62034367377241\n"
     ]
    },
    {
     "name": "stdout",
     "output_type": "stream",
     "text": [
      "{'r_interval__': array(-2.63142493), 'M_interval__': array(-1.37887217), 'eta_angle__': array([-3.81682456, -2.33063303]), 'ln(1-e)_interval__': array(1.77276178), 'alpha_angle__': array([ 4.4551791, -0.3890748]), 'vtravel_mag': array(56.24916908), 'vtravel_lon': array(0.968604), 'vtravel_lat': array(-0.60184087), 'r': array(764.71713358), 'M': array(4.42320879), 'eta': array(-2.11898877), 'sineta': array(-0.85346792), 'coseta': array(-0.52114539), 'ln(1-e)': array(-1.45199211), 'e': array(0.76589654), 'a': array(546.56092245), 'vscale': array(190.80220865), 'vrad': array(-89.14119668), 'vtan': array(87.68144557), 'tperi': array(13.80097522), 'sun_m31_dist': array(760.77422437), 'm31_icrs_xyz': array([561.90219417, 106.01720935, 501.80045434]), 'alpha': array(1.65790622), 'model_pmra': array(0.23653377), 'model_pmdec': array(-0.1872268), 'model_rv': array(-308.86511583)}\n"
     ]
    },
    {
     "name": "stderr",
     "output_type": "stream",
     "text": [
      "Multiprocess sampling (4 chains in 4 jobs)\n",
      "NUTS: [vtravel_lat, vtravel_lon, vtravel_mag, alpha, ln(1-e), eta, M, r]\n"
     ]
    },
    {
     "data": {
      "text/html": [
       "\n",
       "    <div>\n",
       "        <style>\n",
       "            /* Turns off some styling */\n",
       "            progress {\n",
       "                /* gets rid of default border in Firefox and Opera. */\n",
       "                border: none;\n",
       "                /* Needs to be in here for Safari polyfill so background images work as expected. */\n",
       "                background-size: auto;\n",
       "            }\n",
       "            .progress-bar-interrupted, .progress-bar-interrupted::-webkit-progress-bar {\n",
       "                background: #F44336;\n",
       "            }\n",
       "        </style>\n",
       "      <progress value='24000' class='' max='24000' style='width:300px; height:20px; vertical-align: middle;'></progress>\n",
       "      100.00% [24000/24000 01:35<00:00 Sampling 4 chains, 99 divergences]\n",
       "    </div>\n",
       "    "
      ],
      "text/plain": [
       "<IPython.core.display.HTML object>"
      ]
     },
     "metadata": {},
     "output_type": "display_data"
    },
    {
     "name": "stderr",
     "output_type": "stream",
     "text": [
      "INFO (theano.gof.compilelock): Waiting for existing lock by process '39815' (I am process '39738')\n",
      "INFO (theano.gof.compilelock): To manually release the lock, delete /Users/katiechambe/.theano/compiledir_macOS-10.15.7-x86_64-i386-64bit-i386-3.9.5-64/lock_dir\n",
      "INFO (theano.gof.compilelock): Waiting for existing lock by process '39787' (I am process '39738')\n",
      "INFO (theano.gof.compilelock): To manually release the lock, delete /Users/katiechambe/.theano/compiledir_macOS-10.15.7-x86_64-i386-64bit-i386-3.9.5-64/lock_dir\n",
      "Sampling 4 chains for 4_000 tune and 2_000 draw iterations (16_000 + 8_000 draws total) took 105 seconds.\n",
      "There were 39 divergences after tuning. Increase `target_accept` or reparameterize.\n",
      "There were 22 divergences after tuning. Increase `target_accept` or reparameterize.\n",
      "There were 26 divergences after tuning. Increase `target_accept` or reparameterize.\n",
      "There were 12 divergences after tuning. Increase `target_accept` or reparameterize.\n",
      "The number of effective samples is smaller than 25% for some parameters.\n",
      "optimizing logp for variables: [vtravel_lat, vtravel_lon, vtravel_mag, alpha, ln(1-e), eta, M, r]\n"
     ]
    },
    {
     "data": {
      "text/html": [
       "\n",
       "    <div>\n",
       "        <style>\n",
       "            /* Turns off some styling */\n",
       "            progress {\n",
       "                /* gets rid of default border in Firefox and Opera. */\n",
       "                border: none;\n",
       "                /* Needs to be in here for Safari polyfill so background images work as expected. */\n",
       "                background-size: auto;\n",
       "            }\n",
       "            .progress-bar-interrupted, .progress-bar-interrupted::-webkit-progress-bar {\n",
       "                background: #F44336;\n",
       "            }\n",
       "        </style>\n",
       "      <progress value='168' class='' max='168' style='width:300px; height:20px; vertical-align: middle;'></progress>\n",
       "      100.00% [168/168 00:00<00:00 logp = 4.662e+01]\n",
       "    </div>\n",
       "    "
      ],
      "text/plain": [
       "<IPython.core.display.HTML object>"
      ]
     },
     "metadata": {},
     "output_type": "display_data"
    },
    {
     "name": "stdout",
     "output_type": "stream",
     "text": [
      "\n"
     ]
    },
    {
     "name": "stderr",
     "output_type": "stream",
     "text": [
      "message: Optimization terminated successfully.\n",
      "logp: -37652.41431749923 -> 46.62183235746315\n"
     ]
    },
    {
     "name": "stdout",
     "output_type": "stream",
     "text": [
      "{'r_interval__': array(-2.63144702), 'M_interval__': array(-1.39121569), 'eta_angle__': array([-3.79312579, -2.36900754]), 'ln(1-e)_interval__': array(1.82173747), 'alpha_angle__': array([ 4.43224215, -0.59601132]), 'vtravel_mag': array(61.3627299), 'vtravel_lon': array(0.96717936), 'vtravel_lat': array(-0.60127844), 'r': array(764.703441), 'M': array(4.38466813), 'eta': array(-2.12907404), 'sineta': array(-0.84816871), 'coseta': array(-0.52972619), 'ln(1-e)': array(-1.39225521), 'e': array(0.75148578), 'a': array(546.96620483), 'vscale': array(189.89874012), 'vrad': array(-86.5750092), 'vtan': array(89.61247317), 'tperi': array(13.80097347), 'sun_m31_dist': array(760.7605312), 'm31_icrs_xyz': array([561.89208049, 106.01530115, 501.79142244]), 'alpha': array(1.70446621), 'model_pmra': array(0.23597683), 'model_pmdec': array(-0.186447), 'model_rv': array(-308.8658764)}\n"
     ]
    },
    {
     "name": "stderr",
     "output_type": "stream",
     "text": [
      "Multiprocess sampling (4 chains in 4 jobs)\n",
      "NUTS: [vtravel_lat, vtravel_lon, vtravel_mag, alpha, ln(1-e), eta, M, r]\n"
     ]
    },
    {
     "data": {
      "text/html": [
       "\n",
       "    <div>\n",
       "        <style>\n",
       "            /* Turns off some styling */\n",
       "            progress {\n",
       "                /* gets rid of default border in Firefox and Opera. */\n",
       "                border: none;\n",
       "                /* Needs to be in here for Safari polyfill so background images work as expected. */\n",
       "                background-size: auto;\n",
       "            }\n",
       "            .progress-bar-interrupted, .progress-bar-interrupted::-webkit-progress-bar {\n",
       "                background: #F44336;\n",
       "            }\n",
       "        </style>\n",
       "      <progress value='24000' class='' max='24000' style='width:300px; height:20px; vertical-align: middle;'></progress>\n",
       "      100.00% [24000/24000 02:03<00:00 Sampling 4 chains, 154 divergences]\n",
       "    </div>\n",
       "    "
      ],
      "text/plain": [
       "<IPython.core.display.HTML object>"
      ]
     },
     "metadata": {},
     "output_type": "display_data"
    },
    {
     "name": "stderr",
     "output_type": "stream",
     "text": [
      "INFO (theano.gof.compilelock): Waiting for existing lock by process '39926' (I am process '39945')\n",
      "INFO (theano.gof.compilelock): To manually release the lock, delete /Users/katiechambe/.theano/compiledir_macOS-10.15.7-x86_64-i386-64bit-i386-3.9.5-64/lock_dir\n",
      "Sampling 4 chains for 4_000 tune and 2_000 draw iterations (16_000 + 8_000 draws total) took 133 seconds.\n",
      "There were 3 divergences after tuning. Increase `target_accept` or reparameterize.\n",
      "There were 2 divergences after tuning. Increase `target_accept` or reparameterize.\n",
      "There were 134 divergences after tuning. Increase `target_accept` or reparameterize.\n",
      "There were 15 divergences after tuning. Increase `target_accept` or reparameterize.\n",
      "The number of effective samples is smaller than 25% for some parameters.\n",
      "optimizing logp for variables: [vtravel_lat, vtravel_lon, vtravel_mag, alpha, ln(1-e), eta, M, r]\n"
     ]
    },
    {
     "data": {
      "text/html": [
       "\n",
       "    <div>\n",
       "        <style>\n",
       "            /* Turns off some styling */\n",
       "            progress {\n",
       "                /* gets rid of default border in Firefox and Opera. */\n",
       "                border: none;\n",
       "                /* Needs to be in here for Safari polyfill so background images work as expected. */\n",
       "                background-size: auto;\n",
       "            }\n",
       "            .progress-bar-interrupted, .progress-bar-interrupted::-webkit-progress-bar {\n",
       "                background: #F44336;\n",
       "            }\n",
       "        </style>\n",
       "      <progress value='146' class='' max='146' style='width:300px; height:20px; vertical-align: middle;'></progress>\n",
       "      100.00% [146/146 00:00<00:00 logp = 4.662e+01]\n",
       "    </div>\n",
       "    "
      ],
      "text/plain": [
       "<IPython.core.display.HTML object>"
      ]
     },
     "metadata": {},
     "output_type": "display_data"
    },
    {
     "name": "stdout",
     "output_type": "stream",
     "text": [
      "\n"
     ]
    },
    {
     "name": "stderr",
     "output_type": "stream",
     "text": [
      "message: Optimization terminated successfully.\n",
      "logp: -37778.1474558243 -> 46.62080057555527\n"
     ]
    },
    {
     "name": "stdout",
     "output_type": "stream",
     "text": [
      "{'r_interval__': array(-2.63146766), 'M_interval__': array(-1.40137732), 'eta_angle__': array([-3.76922506, -2.40685324]), 'ln(1-e)_interval__': array(1.87283952), 'alpha_angle__': array([ 4.40224342, -0.78756134]), 'vtravel_mag': array(66.47629073), 'vtravel_lon': array(0.96570556), 'vtravel_lat': array(-0.60052411), 'r': array(764.69064016), 'M': array(4.35315403), 'eta': array(-2.13908293), 'sineta': array(-0.84282434), 'coseta': array(-0.53818875), 'ln(1-e)': array(-1.33213508), 'e': array(0.73608682), 'a': array(547.71238503), 'vscale': array(189.0861428), 'vrad': array(-84.02191979), 'vtan': array(91.6732761), 'tperi': array(13.80097177), 'sun_m31_dist': array(760.7477298), 'm31_icrs_xyz': array([561.88262547, 106.01351722, 501.78297874]), 'alpha': array(1.74782358), 'model_pmra': array(0.23558779), 'model_pmdec': array(-0.18562788), 'model_rv': array(-308.8666414)}\n"
     ]
    },
    {
     "name": "stderr",
     "output_type": "stream",
     "text": [
      "Multiprocess sampling (4 chains in 4 jobs)\n",
      "NUTS: [vtravel_lat, vtravel_lon, vtravel_mag, alpha, ln(1-e), eta, M, r]\n"
     ]
    },
    {
     "data": {
      "text/html": [
       "\n",
       "    <div>\n",
       "        <style>\n",
       "            /* Turns off some styling */\n",
       "            progress {\n",
       "                /* gets rid of default border in Firefox and Opera. */\n",
       "                border: none;\n",
       "                /* Needs to be in here for Safari polyfill so background images work as expected. */\n",
       "                background-size: auto;\n",
       "            }\n",
       "            .progress-bar-interrupted, .progress-bar-interrupted::-webkit-progress-bar {\n",
       "                background: #F44336;\n",
       "            }\n",
       "        </style>\n",
       "      <progress value='24000' class='' max='24000' style='width:300px; height:20px; vertical-align: middle;'></progress>\n",
       "      100.00% [24000/24000 01:45<00:00 Sampling 4 chains, 131 divergences]\n",
       "    </div>\n",
       "    "
      ],
      "text/plain": [
       "<IPython.core.display.HTML object>"
      ]
     },
     "metadata": {},
     "output_type": "display_data"
    },
    {
     "name": "stderr",
     "output_type": "stream",
     "text": [
      "INFO (theano.gof.compilelock): Waiting for existing lock by process '40166' (I am process '40095')\n",
      "INFO (theano.gof.compilelock): To manually release the lock, delete /Users/katiechambe/.theano/compiledir_macOS-10.15.7-x86_64-i386-64bit-i386-3.9.5-64/lock_dir\n",
      "INFO (theano.gof.compilelock): Waiting for existing lock by process '40114' (I am process '40139')\n",
      "INFO (theano.gof.compilelock): To manually release the lock, delete /Users/katiechambe/.theano/compiledir_macOS-10.15.7-x86_64-i386-64bit-i386-3.9.5-64/lock_dir\n",
      "Sampling 4 chains for 4_000 tune and 2_000 draw iterations (16_000 + 8_000 draws total) took 115 seconds.\n",
      "There were 38 divergences after tuning. Increase `target_accept` or reparameterize.\n",
      "There were 36 divergences after tuning. Increase `target_accept` or reparameterize.\n",
      "There were 35 divergences after tuning. Increase `target_accept` or reparameterize.\n",
      "There were 22 divergences after tuning. Increase `target_accept` or reparameterize.\n",
      "The number of effective samples is smaller than 25% for some parameters.\n",
      "optimizing logp for variables: [vtravel_lat, vtravel_lon, vtravel_mag, alpha, ln(1-e), eta, M, r]\n"
     ]
    },
    {
     "data": {
      "text/html": [
       "\n",
       "    <div>\n",
       "        <style>\n",
       "            /* Turns off some styling */\n",
       "            progress {\n",
       "                /* gets rid of default border in Firefox and Opera. */\n",
       "                border: none;\n",
       "                /* Needs to be in here for Safari polyfill so background images work as expected. */\n",
       "                background-size: auto;\n",
       "            }\n",
       "            .progress-bar-interrupted, .progress-bar-interrupted::-webkit-progress-bar {\n",
       "                background: #F44336;\n",
       "            }\n",
       "        </style>\n",
       "      <progress value='149' class='' max='149' style='width:300px; height:20px; vertical-align: middle;'></progress>\n",
       "      100.00% [149/149 00:00<00:00 logp = 4.662e+01]\n",
       "    </div>\n",
       "    "
      ],
      "text/plain": [
       "<IPython.core.display.HTML object>"
      ]
     },
     "metadata": {},
     "output_type": "display_data"
    },
    {
     "name": "stdout",
     "output_type": "stream",
     "text": [
      "\n"
     ]
    },
    {
     "name": "stderr",
     "output_type": "stream",
     "text": [
      "message: Optimization terminated successfully.\n",
      "logp: -37910.86955026525 -> 46.61686827648699\n"
     ]
    },
    {
     "name": "stdout",
     "output_type": "stream",
     "text": [
      "{'r_interval__': array(-2.63148655), 'M_interval__': array(-1.40936841), 'eta_angle__': array([-3.74512077, -2.44419116]), 'ln(1-e)_interval__': array(1.9258608), 'alpha_angle__': array([ 4.36688527, -0.96452745]), 'vtravel_mag': array(71.58985155), 'vtravel_lon': array(0.96418285), 'vtravel_lat': array(-0.59959753), 'r': array(764.67892597), 'M': array(4.32850704), 'eta': array(-2.14902062), 'sineta': array(-0.83743446), 'coseta': array(-0.54653776), 'ln(1-e)': array(-1.27209435), 'e': array(0.71975592), 'a': array(548.79669214), 'vscale': array(188.36373258), 'vrad': array(-81.48275922), 'vtan': array(93.84935242), 'tperi': array(13.8009701), 'sun_m31_dist': array(760.7360151), 'm31_icrs_xyz': array([561.87397309, 106.01188472, 501.77525182]), 'alpha': array(1.78817926), 'model_pmra': array(0.23535634), 'model_pmdec': array(-0.18478326), 'model_rv': array(-308.8674133)}\n"
     ]
    },
    {
     "name": "stderr",
     "output_type": "stream",
     "text": [
      "Multiprocess sampling (4 chains in 4 jobs)\n",
      "NUTS: [vtravel_lat, vtravel_lon, vtravel_mag, alpha, ln(1-e), eta, M, r]\n"
     ]
    },
    {
     "data": {
      "text/html": [
       "\n",
       "    <div>\n",
       "        <style>\n",
       "            /* Turns off some styling */\n",
       "            progress {\n",
       "                /* gets rid of default border in Firefox and Opera. */\n",
       "                border: none;\n",
       "                /* Needs to be in here for Safari polyfill so background images work as expected. */\n",
       "                background-size: auto;\n",
       "            }\n",
       "            .progress-bar-interrupted, .progress-bar-interrupted::-webkit-progress-bar {\n",
       "                background: #F44336;\n",
       "            }\n",
       "        </style>\n",
       "      <progress value='24000' class='' max='24000' style='width:300px; height:20px; vertical-align: middle;'></progress>\n",
       "      100.00% [24000/24000 01:38<00:00 Sampling 4 chains, 156 divergences]\n",
       "    </div>\n",
       "    "
      ],
      "text/plain": [
       "<IPython.core.display.HTML object>"
      ]
     },
     "metadata": {},
     "output_type": "display_data"
    },
    {
     "name": "stderr",
     "output_type": "stream",
     "text": [
      "INFO (theano.gof.compilelock): Waiting for existing lock by process '40313' (I am process '40338')\n",
      "INFO (theano.gof.compilelock): To manually release the lock, delete /Users/katiechambe/.theano/compiledir_macOS-10.15.7-x86_64-i386-64bit-i386-3.9.5-64/lock_dir\n",
      "Sampling 4 chains for 4_000 tune and 2_000 draw iterations (16_000 + 8_000 draws total) took 109 seconds.\n",
      "There were 27 divergences after tuning. Increase `target_accept` or reparameterize.\n",
      "There were 27 divergences after tuning. Increase `target_accept` or reparameterize.\n",
      "There were 63 divergences after tuning. Increase `target_accept` or reparameterize.\n",
      "There were 39 divergences after tuning. Increase `target_accept` or reparameterize.\n",
      "The number of effective samples is smaller than 25% for some parameters.\n",
      "optimizing logp for variables: [vtravel_lat, vtravel_lon, vtravel_mag, alpha, ln(1-e), eta, M, r]\n"
     ]
    },
    {
     "data": {
      "text/html": [
       "\n",
       "    <div>\n",
       "        <style>\n",
       "            /* Turns off some styling */\n",
       "            progress {\n",
       "                /* gets rid of default border in Firefox and Opera. */\n",
       "                border: none;\n",
       "                /* Needs to be in here for Safari polyfill so background images work as expected. */\n",
       "                background-size: auto;\n",
       "            }\n",
       "            .progress-bar-interrupted, .progress-bar-interrupted::-webkit-progress-bar {\n",
       "                background: #F44336;\n",
       "            }\n",
       "        </style>\n",
       "      <progress value='157' class='' max='157' style='width:300px; height:20px; vertical-align: middle;'></progress>\n",
       "      100.00% [157/157 00:00<00:00 logp = 4.661e+01]\n",
       "    </div>\n",
       "    "
      ],
      "text/plain": [
       "<IPython.core.display.HTML object>"
      ]
     },
     "metadata": {},
     "output_type": "display_data"
    },
    {
     "name": "stdout",
     "output_type": "stream",
     "text": [
      "\n"
     ]
    },
    {
     "name": "stderr",
     "output_type": "stream",
     "text": [
      "message: Optimization terminated successfully.\n",
      "logp: -38050.58060082207 -> 46.609695588109304\n"
     ]
    },
    {
     "name": "stdout",
     "output_type": "stream",
     "text": [
      "{'r_interval__': array(-2.63150353), 'M_interval__': array(-1.4152055), 'eta_angle__': array([-3.72081383, -2.48103698]), 'ln(1-e)_interval__': array(1.98061854), 'alpha_angle__': array([ 4.32756899, -1.12789479]), 'vtravel_mag': array(76.70341238), 'vtravel_lon': array(0.96260877), 'vtravel_lat': array(-0.59851607), 'r': array(764.66840072), 'M': array(4.31057904), 'eta': array(-2.15889092), 'sineta': array(-0.83199926), 'coseta': array(-0.55477673), 'ln(1-e)': array(-1.21252916), 'e': array(0.70255596), 'a': array(550.2154803), 'vscale': array(187.73073061), 'vrad': array(-78.95850099), 'vtan': array(96.12765913), 'tperi': array(13.80096847), 'sun_m31_dist': array(760.72548939), 'm31_icrs_xyz': array([561.86619887, 106.01041792, 501.76830915]), 'alpha': array(1.82575451), 'model_pmra': array(0.23527049), 'model_pmdec': array(-0.18392372), 'model_rv': array(-308.86819465)}\n"
     ]
    },
    {
     "name": "stderr",
     "output_type": "stream",
     "text": [
      "Multiprocess sampling (4 chains in 4 jobs)\n",
      "NUTS: [vtravel_lat, vtravel_lon, vtravel_mag, alpha, ln(1-e), eta, M, r]\n"
     ]
    },
    {
     "data": {
      "text/html": [
       "\n",
       "    <div>\n",
       "        <style>\n",
       "            /* Turns off some styling */\n",
       "            progress {\n",
       "                /* gets rid of default border in Firefox and Opera. */\n",
       "                border: none;\n",
       "                /* Needs to be in here for Safari polyfill so background images work as expected. */\n",
       "                background-size: auto;\n",
       "            }\n",
       "            .progress-bar-interrupted, .progress-bar-interrupted::-webkit-progress-bar {\n",
       "                background: #F44336;\n",
       "            }\n",
       "        </style>\n",
       "      <progress value='24000' class='' max='24000' style='width:300px; height:20px; vertical-align: middle;'></progress>\n",
       "      100.00% [24000/24000 01:47<00:00 Sampling 4 chains, 159 divergences]\n",
       "    </div>\n",
       "    "
      ],
      "text/plain": [
       "<IPython.core.display.HTML object>"
      ]
     },
     "metadata": {},
     "output_type": "display_data"
    },
    {
     "name": "stderr",
     "output_type": "stream",
     "text": [
      "INFO (theano.gof.compilelock): Waiting for existing lock by process '40463' (I am process '40482')\n",
      "INFO (theano.gof.compilelock): To manually release the lock, delete /Users/katiechambe/.theano/compiledir_macOS-10.15.7-x86_64-i386-64bit-i386-3.9.5-64/lock_dir\n",
      "INFO (theano.gof.compilelock): Waiting for existing lock by process '39391' (I am process '40507')\n",
      "INFO (theano.gof.compilelock): To manually release the lock, delete /Users/katiechambe/.theano/compiledir_macOS-10.15.7-x86_64-i386-64bit-i386-3.9.5-64/lock_dir\n",
      "INFO (theano.gof.compilelock): Waiting for existing lock by process '40482' (I am process '40507')\n",
      "INFO (theano.gof.compilelock): To manually release the lock, delete /Users/katiechambe/.theano/compiledir_macOS-10.15.7-x86_64-i386-64bit-i386-3.9.5-64/lock_dir\n",
      "Sampling 4 chains for 4_000 tune and 2_000 draw iterations (16_000 + 8_000 draws total) took 116 seconds.\n",
      "There were 31 divergences after tuning. Increase `target_accept` or reparameterize.\n",
      "There were 19 divergences after tuning. Increase `target_accept` or reparameterize.\n",
      "There were 58 divergences after tuning. Increase `target_accept` or reparameterize.\n",
      "There were 51 divergences after tuning. Increase `target_accept` or reparameterize.\n",
      "The number of effective samples is smaller than 10% for some parameters.\n",
      "optimizing logp for variables: [vtravel_lat, vtravel_lon, vtravel_mag, alpha, ln(1-e), eta, M, r]\n"
     ]
    },
    {
     "data": {
      "text/html": [
       "\n",
       "    <div>\n",
       "        <style>\n",
       "            /* Turns off some styling */\n",
       "            progress {\n",
       "                /* gets rid of default border in Firefox and Opera. */\n",
       "                border: none;\n",
       "                /* Needs to be in here for Safari polyfill so background images work as expected. */\n",
       "                background-size: auto;\n",
       "            }\n",
       "            .progress-bar-interrupted, .progress-bar-interrupted::-webkit-progress-bar {\n",
       "                background: #F44336;\n",
       "            }\n",
       "        </style>\n",
       "      <progress value='159' class='' max='159' style='width:300px; height:20px; vertical-align: middle;'></progress>\n",
       "      100.00% [159/159 00:00<00:00 logp = 4.660e+01]\n",
       "    </div>\n",
       "    "
      ],
      "text/plain": [
       "<IPython.core.display.HTML object>"
      ]
     },
     "metadata": {},
     "output_type": "display_data"
    },
    {
     "name": "stdout",
     "output_type": "stream",
     "text": [
      "\n"
     ]
    },
    {
     "name": "stderr",
     "output_type": "stream",
     "text": [
      "message: Optimization terminated successfully.\n",
      "logp: -38197.28060749479 -> 46.598978434794915\n"
     ]
    },
    {
     "name": "stdout",
     "output_type": "stream",
     "text": [
      "{'r_interval__': array(-2.63151853), 'M_interval__': array(-1.41891066), 'eta_angle__': array([-3.69630828, -2.51740048]), 'ln(1-e)_interval__': array(2.0369528), 'alpha_angle__': array([ 4.28542393, -1.27872664]), 'vtravel_mag': array(81.8169732), 'vtravel_lon': array(0.96097861), 'vtravel_lat': array(-0.59729421), 'r': array(764.65910021), 'M': array(4.29923209), 'eta': array(-2.16869613), 'sineta': array(-0.82651966), 'coseta': array(-0.56290786), 'ln(1-e)': array(-1.15377382), 'e': array(0.68455591), 'a': array(551.96417579), 'vscale': array(187.18625943), 'vrad': array(-76.45028434), 'vtan': array(98.49652524), 'tperi': array(13.80096685), 'sun_m31_dist': array(760.71618849), 'm31_icrs_xyz': array([561.8593293 , 106.0091218 , 501.76217435]), 'alpha': array(1.86077519), 'model_pmra': array(0.2353179), 'model_pmdec': array(-0.18305704), 'model_rv': array(-308.86898816)}\n"
     ]
    },
    {
     "name": "stderr",
     "output_type": "stream",
     "text": [
      "Multiprocess sampling (4 chains in 4 jobs)\n",
      "NUTS: [vtravel_lat, vtravel_lon, vtravel_mag, alpha, ln(1-e), eta, M, r]\n"
     ]
    },
    {
     "data": {
      "text/html": [
       "\n",
       "    <div>\n",
       "        <style>\n",
       "            /* Turns off some styling */\n",
       "            progress {\n",
       "                /* gets rid of default border in Firefox and Opera. */\n",
       "                border: none;\n",
       "                /* Needs to be in here for Safari polyfill so background images work as expected. */\n",
       "                background-size: auto;\n",
       "            }\n",
       "            .progress-bar-interrupted, .progress-bar-interrupted::-webkit-progress-bar {\n",
       "                background: #F44336;\n",
       "            }\n",
       "        </style>\n",
       "      <progress value='24000' class='' max='24000' style='width:300px; height:20px; vertical-align: middle;'></progress>\n",
       "      100.00% [24000/24000 01:52<00:00 Sampling 4 chains, 95 divergences]\n",
       "    </div>\n",
       "    "
      ],
      "text/plain": [
       "<IPython.core.display.HTML object>"
      ]
     },
     "metadata": {},
     "output_type": "display_data"
    },
    {
     "name": "stderr",
     "output_type": "stream",
     "text": [
      "INFO (theano.gof.compilelock): Waiting for existing lock by process '40647' (I am process '40666')\n",
      "INFO (theano.gof.compilelock): To manually release the lock, delete /Users/katiechambe/.theano/compiledir_macOS-10.15.7-x86_64-i386-64bit-i386-3.9.5-64/lock_dir\n",
      "Sampling 4 chains for 4_000 tune and 2_000 draw iterations (16_000 + 8_000 draws total) took 121 seconds.\n",
      "There were 17 divergences after tuning. Increase `target_accept` or reparameterize.\n",
      "There were 4 divergences after tuning. Increase `target_accept` or reparameterize.\n",
      "There were 48 divergences after tuning. Increase `target_accept` or reparameterize.\n",
      "There were 26 divergences after tuning. Increase `target_accept` or reparameterize.\n",
      "The number of effective samples is smaller than 25% for some parameters.\n",
      "optimizing logp for variables: [vtravel_lat, vtravel_lon, vtravel_mag, alpha, ln(1-e), eta, M, r]\n"
     ]
    },
    {
     "data": {
      "text/html": [
       "\n",
       "    <div>\n",
       "        <style>\n",
       "            /* Turns off some styling */\n",
       "            progress {\n",
       "                /* gets rid of default border in Firefox and Opera. */\n",
       "                border: none;\n",
       "                /* Needs to be in here for Safari polyfill so background images work as expected. */\n",
       "                background-size: auto;\n",
       "            }\n",
       "            .progress-bar-interrupted, .progress-bar-interrupted::-webkit-progress-bar {\n",
       "                background: #F44336;\n",
       "            }\n",
       "        </style>\n",
       "      <progress value='184' class='' max='184' style='width:300px; height:20px; vertical-align: middle;'></progress>\n",
       "      100.00% [184/184 00:00<00:00 logp = 4.658e+01]\n",
       "    </div>\n",
       "    "
      ],
      "text/plain": [
       "<IPython.core.display.HTML object>"
      ]
     },
     "metadata": {},
     "output_type": "display_data"
    },
    {
     "name": "stdout",
     "output_type": "stream",
     "text": [
      "\n"
     ]
    },
    {
     "name": "stderr",
     "output_type": "stream",
     "text": [
      "message: Optimization terminated successfully.\n",
      "logp: -38350.96957028338 -> 46.584442848481\n"
     ]
    },
    {
     "name": "stdout",
     "output_type": "stream",
     "text": [
      "{'r_interval__': array(-2.63153156), 'M_interval__': array(-1.42051192), 'eta_angle__': array([-3.67161196, -2.55328526]), 'ln(1-e)_interval__': array(2.09472406), 'alpha_angle__': array([ 4.24134544, -1.41809337]), 'vtravel_mag': array(86.93053403), 'vtravel_lon': array(0.95928578), 'vtravel_lat': array(-0.59594349), 'r': array(764.65101691), 'M': array(4.2943362), 'eta': array(-2.17843687), 'sineta': array(-0.82099739), 'coseta': array(-0.57093194), 'ln(1-e)': array(-1.09610673), 'e': array(0.66583043), 'a': array(554.03718275), 'vscale': array(186.72932657), 'vrad': array(-73.95943628), 'vtan': array(100.94551232), 'tperi': array(13.80096524), 'sun_m31_dist': array(760.70810484), 'm31_icrs_xyz': array([561.85335877, 106.0079953 , 501.75684244]), 'alpha': array(1.8934615), 'model_pmra': array(0.23548676), 'model_pmdec': array(-0.18218862), 'model_rv': array(-308.86979672)}\n"
     ]
    },
    {
     "name": "stderr",
     "output_type": "stream",
     "text": [
      "Multiprocess sampling (4 chains in 4 jobs)\n",
      "NUTS: [vtravel_lat, vtravel_lon, vtravel_mag, alpha, ln(1-e), eta, M, r]\n"
     ]
    },
    {
     "data": {
      "text/html": [
       "\n",
       "    <div>\n",
       "        <style>\n",
       "            /* Turns off some styling */\n",
       "            progress {\n",
       "                /* gets rid of default border in Firefox and Opera. */\n",
       "                border: none;\n",
       "                /* Needs to be in here for Safari polyfill so background images work as expected. */\n",
       "                background-size: auto;\n",
       "            }\n",
       "            .progress-bar-interrupted, .progress-bar-interrupted::-webkit-progress-bar {\n",
       "                background: #F44336;\n",
       "            }\n",
       "        </style>\n",
       "      <progress value='24000' class='' max='24000' style='width:300px; height:20px; vertical-align: middle;'></progress>\n",
       "      100.00% [24000/24000 01:49<00:00 Sampling 4 chains, 245 divergences]\n",
       "    </div>\n",
       "    "
      ],
      "text/plain": [
       "<IPython.core.display.HTML object>"
      ]
     },
     "metadata": {},
     "output_type": "display_data"
    },
    {
     "name": "stderr",
     "output_type": "stream",
     "text": [
      "INFO (theano.gof.compilelock): Waiting for existing lock by process '40816' (I am process '40835')\n",
      "INFO (theano.gof.compilelock): To manually release the lock, delete /Users/katiechambe/.theano/compiledir_macOS-10.15.7-x86_64-i386-64bit-i386-3.9.5-64/lock_dir\n",
      "Sampling 4 chains for 4_000 tune and 2_000 draw iterations (16_000 + 8_000 draws total) took 119 seconds.\n",
      "There were 141 divergences after tuning. Increase `target_accept` or reparameterize.\n",
      "The acceptance probability does not match the target. It is 0.8383090109538596, but should be close to 0.9. Try to increase the number of tuning steps.\n",
      "There were 23 divergences after tuning. Increase `target_accept` or reparameterize.\n",
      "There were 34 divergences after tuning. Increase `target_accept` or reparameterize.\n",
      "There were 47 divergences after tuning. Increase `target_accept` or reparameterize.\n",
      "The number of effective samples is smaller than 10% for some parameters.\n",
      "optimizing logp for variables: [vtravel_lat, vtravel_lon, vtravel_mag, alpha, ln(1-e), eta, M, r]\n"
     ]
    },
    {
     "data": {
      "text/html": [
       "\n",
       "    <div>\n",
       "        <style>\n",
       "            /* Turns off some styling */\n",
       "            progress {\n",
       "                /* gets rid of default border in Firefox and Opera. */\n",
       "                border: none;\n",
       "                /* Needs to be in here for Safari polyfill so background images work as expected. */\n",
       "                background-size: auto;\n",
       "            }\n",
       "            .progress-bar-interrupted, .progress-bar-interrupted::-webkit-progress-bar {\n",
       "                background: #F44336;\n",
       "            }\n",
       "        </style>\n",
       "      <progress value='185' class='' max='185' style='width:300px; height:20px; vertical-align: middle;'></progress>\n",
       "      100.00% [185/185 00:00<00:00 logp = 4.657e+01]\n",
       "    </div>\n",
       "    "
      ],
      "text/plain": [
       "<IPython.core.display.HTML object>"
      ]
     },
     "metadata": {},
     "output_type": "display_data"
    },
    {
     "name": "stdout",
     "output_type": "stream",
     "text": [
      "\n"
     ]
    },
    {
     "name": "stderr",
     "output_type": "stream",
     "text": [
      "message: Optimization terminated successfully.\n",
      "logp: -38511.64748918785 -> 46.56583883229381\n"
     ]
    },
    {
     "name": "stdout",
     "output_type": "stream",
     "text": [
      "{'r_interval__': array(-2.63154269), 'M_interval__': array(-1.42004381), 'eta_angle__': array([-3.64673731, -2.58868827]), 'ln(1-e)_interval__': array(2.15381036), 'alpha_angle__': array([ 4.19603354, -1.54703023]), 'vtravel_mag': array(92.04409485), 'vtravel_lon': array(0.95752202), 'vtravel_lat': array(-0.59447248), 'r': array(764.64411775), 'M': array(4.29576695), 'eta': array(-2.18811193), 'sineta': array(-0.81543525), 'coseta': array(-0.57884829), 'ln(1-e)': array(-1.03975696), 'e': array(0.6464594), 'a': array(556.42777431), 'vscale': array(186.35880742), 'vrad': array(-71.4875002), 'vtan': array(103.46525416), 'tperi': array(13.80096363), 'sun_m31_dist': array(760.70120537), 'm31_icrs_xyz': array([561.84826288, 106.00703383, 501.75229161]), 'alpha': array(1.92402237), 'model_pmra': array(0.23576632), 'model_pmdec': array(-0.18132194), 'model_rv': array(-308.87062336)}\n"
     ]
    },
    {
     "name": "stderr",
     "output_type": "stream",
     "text": [
      "Multiprocess sampling (4 chains in 4 jobs)\n",
      "NUTS: [vtravel_lat, vtravel_lon, vtravel_mag, alpha, ln(1-e), eta, M, r]\n"
     ]
    },
    {
     "data": {
      "text/html": [
       "\n",
       "    <div>\n",
       "        <style>\n",
       "            /* Turns off some styling */\n",
       "            progress {\n",
       "                /* gets rid of default border in Firefox and Opera. */\n",
       "                border: none;\n",
       "                /* Needs to be in here for Safari polyfill so background images work as expected. */\n",
       "                background-size: auto;\n",
       "            }\n",
       "            .progress-bar-interrupted, .progress-bar-interrupted::-webkit-progress-bar {\n",
       "                background: #F44336;\n",
       "            }\n",
       "        </style>\n",
       "      <progress value='24000' class='' max='24000' style='width:300px; height:20px; vertical-align: middle;'></progress>\n",
       "      100.00% [24000/24000 01:43<00:00 Sampling 4 chains, 324 divergences]\n",
       "    </div>\n",
       "    "
      ],
      "text/plain": [
       "<IPython.core.display.HTML object>"
      ]
     },
     "metadata": {},
     "output_type": "display_data"
    },
    {
     "name": "stderr",
     "output_type": "stream",
     "text": [
      "Sampling 4 chains for 4_000 tune and 2_000 draw iterations (16_000 + 8_000 draws total) took 113 seconds.\n",
      "There were 25 divergences after tuning. Increase `target_accept` or reparameterize.\n",
      "There were 60 divergences after tuning. Increase `target_accept` or reparameterize.\n",
      "There were 25 divergences after tuning. Increase `target_accept` or reparameterize.\n",
      "There were 214 divergences after tuning. Increase `target_accept` or reparameterize.\n",
      "The acceptance probability does not match the target. It is 0.7966412501430767, but should be close to 0.9. Try to increase the number of tuning steps.\n",
      "The number of effective samples is smaller than 25% for some parameters.\n",
      "optimizing logp for variables: [vtravel_lat, vtravel_lon, vtravel_mag, alpha, ln(1-e), eta, M, r]\n"
     ]
    },
    {
     "data": {
      "text/html": [
       "\n",
       "    <div>\n",
       "        <style>\n",
       "            /* Turns off some styling */\n",
       "            progress {\n",
       "                /* gets rid of default border in Firefox and Opera. */\n",
       "                border: none;\n",
       "                /* Needs to be in here for Safari polyfill so background images work as expected. */\n",
       "                background-size: auto;\n",
       "            }\n",
       "            .progress-bar-interrupted, .progress-bar-interrupted::-webkit-progress-bar {\n",
       "                background: #F44336;\n",
       "            }\n",
       "        </style>\n",
       "      <progress value='177' class='' max='177' style='width:300px; height:20px; vertical-align: middle;'></progress>\n",
       "      100.00% [177/177 00:00<00:00 logp = 4.654e+01]\n",
       "    </div>\n",
       "    "
      ],
      "text/plain": [
       "<IPython.core.display.HTML object>"
      ]
     },
     "metadata": {},
     "output_type": "display_data"
    },
    {
     "name": "stdout",
     "output_type": "stream",
     "text": [
      "\n"
     ]
    },
    {
     "name": "stderr",
     "output_type": "stream",
     "text": [
      "message: Desired error not necessarily achieved due to precision loss.\n",
      "logp: -38679.31436420821 -> 46.54293431096862\n"
     ]
    },
    {
     "name": "stdout",
     "output_type": "stream",
     "text": [
      "{'r_interval__': array(-2.63155199), 'M_interval__': array(-1.41754762), 'eta_angle__': array([-3.62170233, -2.62359909]), 'ln(1-e)_interval__': array(2.21410445), 'alpha_angle__': array([ 4.15002846, -1.66651245]), 'vtravel_mag': array(97.15765567), 'vtravel_lon': array(0.9556775), 'vtravel_lat': array(-0.59288689), 'r': array(764.63835477), 'M': array(4.30340339), 'eta': array(-2.19771799), 'sineta': array(-0.80983726), 'coseta': array(-0.58665459), 'ln(1-e)': array(-0.98491035), 'e': array(0.62652729), 'a': array(559.1279992), 'vscale': array(186.07343491), 'vrad': array(-69.03626509), 'vtan': array(106.047308), 'tperi': array(13.80096202), 'sun_m31_dist': array(760.69544214), 'm31_icrs_xyz': array([561.8440062 , 106.0062307 , 501.74849023]), 'alpha': array(1.95265241), 'model_pmra': array(0.23614714), 'model_pmdec': array(-0.18045898), 'model_rv': array(-308.87147139)}\n"
     ]
    },
    {
     "name": "stderr",
     "output_type": "stream",
     "text": [
      "Multiprocess sampling (4 chains in 4 jobs)\n",
      "NUTS: [vtravel_lat, vtravel_lon, vtravel_mag, alpha, ln(1-e), eta, M, r]\n"
     ]
    },
    {
     "data": {
      "text/html": [
       "\n",
       "    <div>\n",
       "        <style>\n",
       "            /* Turns off some styling */\n",
       "            progress {\n",
       "                /* gets rid of default border in Firefox and Opera. */\n",
       "                border: none;\n",
       "                /* Needs to be in here for Safari polyfill so background images work as expected. */\n",
       "                background-size: auto;\n",
       "            }\n",
       "            .progress-bar-interrupted, .progress-bar-interrupted::-webkit-progress-bar {\n",
       "                background: #F44336;\n",
       "            }\n",
       "        </style>\n",
       "      <progress value='24000' class='' max='24000' style='width:300px; height:20px; vertical-align: middle;'></progress>\n",
       "      100.00% [24000/24000 01:55<00:00 Sampling 4 chains, 147 divergences]\n",
       "    </div>\n",
       "    "
      ],
      "text/plain": [
       "<IPython.core.display.HTML object>"
      ]
     },
     "metadata": {},
     "output_type": "display_data"
    },
    {
     "name": "stderr",
     "output_type": "stream",
     "text": [
      "Sampling 4 chains for 4_000 tune and 2_000 draw iterations (16_000 + 8_000 draws total) took 124 seconds.\n",
      "There were 42 divergences after tuning. Increase `target_accept` or reparameterize.\n",
      "There were 43 divergences after tuning. Increase `target_accept` or reparameterize.\n",
      "There were 30 divergences after tuning. Increase `target_accept` or reparameterize.\n",
      "There were 32 divergences after tuning. Increase `target_accept` or reparameterize.\n",
      "The number of effective samples is smaller than 25% for some parameters.\n",
      "optimizing logp for variables: [vtravel_lat, vtravel_lon, vtravel_mag, alpha, ln(1-e), eta, M, r]\n"
     ]
    },
    {
     "data": {
      "text/html": [
       "\n",
       "    <div>\n",
       "        <style>\n",
       "            /* Turns off some styling */\n",
       "            progress {\n",
       "                /* gets rid of default border in Firefox and Opera. */\n",
       "                border: none;\n",
       "                /* Needs to be in here for Safari polyfill so background images work as expected. */\n",
       "                background-size: auto;\n",
       "            }\n",
       "            .progress-bar-interrupted, .progress-bar-interrupted::-webkit-progress-bar {\n",
       "                background: #F44336;\n",
       "            }\n",
       "        </style>\n",
       "      <progress value='189' class='' max='189' style='width:300px; height:20px; vertical-align: middle;'></progress>\n",
       "      100.00% [189/189 00:00<00:00 logp = 4.652e+01]\n",
       "    </div>\n",
       "    "
      ],
      "text/plain": [
       "<IPython.core.display.HTML object>"
      ]
     },
     "metadata": {},
     "output_type": "display_data"
    },
    {
     "name": "stdout",
     "output_type": "stream",
     "text": [
      "\n"
     ]
    },
    {
     "name": "stderr",
     "output_type": "stream",
     "text": [
      "message: Optimization terminated successfully.\n",
      "logp: -38853.97019534445 -> 46.51550947508799\n"
     ]
    },
    {
     "name": "stdout",
     "output_type": "stream",
     "text": [
      "{'r_interval__': array(-2.63155954), 'M_interval__': array(-1.41307131), 'eta_angle__': array([-3.59653198, -2.65799882]), 'ln(1-e)_interval__': array(2.27551108), 'alpha_angle__': array([ 4.10374133, -1.77744398]), 'vtravel_mag': array(102.2712165), 'vtravel_lon': array(0.95374082), 'vtravel_lat': array(-0.59118981), 'r': array(764.63367424), 'M': array(4.31712661), 'eta': array(-2.20724926), 'sineta': array(-0.804209), 'coseta': array(-0.5943466), 'ln(1-e)': array(-0.93171533), 'e': array(0.6061225), 'a': array(562.12861308), 'vscale': array(185.87180365), 'vrad': array(-66.60780437), 'vtan': array(108.68402288), 'tperi': array(13.8009604), 'sun_m31_dist': array(760.69076142), 'm31_icrs_xyz': array([561.84054905, 106.00557842, 501.74540286]), 'alpha': array(1.979531), 'model_pmra': array(0.23662121), 'model_pmdec': array(-0.17960051), 'model_rv': array(-308.87234435)}\n"
     ]
    },
    {
     "name": "stderr",
     "output_type": "stream",
     "text": [
      "Multiprocess sampling (4 chains in 4 jobs)\n",
      "NUTS: [vtravel_lat, vtravel_lon, vtravel_mag, alpha, ln(1-e), eta, M, r]\n"
     ]
    },
    {
     "data": {
      "text/html": [
       "\n",
       "    <div>\n",
       "        <style>\n",
       "            /* Turns off some styling */\n",
       "            progress {\n",
       "                /* gets rid of default border in Firefox and Opera. */\n",
       "                border: none;\n",
       "                /* Needs to be in here for Safari polyfill so background images work as expected. */\n",
       "                background-size: auto;\n",
       "            }\n",
       "            .progress-bar-interrupted, .progress-bar-interrupted::-webkit-progress-bar {\n",
       "                background: #F44336;\n",
       "            }\n",
       "        </style>\n",
       "      <progress value='24000' class='' max='24000' style='width:300px; height:20px; vertical-align: middle;'></progress>\n",
       "      100.00% [24000/24000 01:58<00:00 Sampling 4 chains, 228 divergences]\n",
       "    </div>\n",
       "    "
      ],
      "text/plain": [
       "<IPython.core.display.HTML object>"
      ]
     },
     "metadata": {},
     "output_type": "display_data"
    },
    {
     "name": "stderr",
     "output_type": "stream",
     "text": [
      "INFO (theano.gof.compilelock): Waiting for existing lock by process '41327' (I am process '41350')\n",
      "INFO (theano.gof.compilelock): To manually release the lock, delete /Users/katiechambe/.theano/compiledir_macOS-10.15.7-x86_64-i386-64bit-i386-3.9.5-64/lock_dir\n",
      "Sampling 4 chains for 4_000 tune and 2_000 draw iterations (16_000 + 8_000 draws total) took 128 seconds.\n",
      "There were 77 divergences after tuning. Increase `target_accept` or reparameterize.\n",
      "There were 69 divergences after tuning. Increase `target_accept` or reparameterize.\n",
      "There were 26 divergences after tuning. Increase `target_accept` or reparameterize.\n",
      "There were 56 divergences after tuning. Increase `target_accept` or reparameterize.\n",
      "The number of effective samples is smaller than 25% for some parameters.\n",
      "optimizing logp for variables: [vtravel_lat, vtravel_lon, vtravel_mag, alpha, ln(1-e), eta, M, r]\n"
     ]
    },
    {
     "data": {
      "text/html": [
       "\n",
       "    <div>\n",
       "        <style>\n",
       "            /* Turns off some styling */\n",
       "            progress {\n",
       "                /* gets rid of default border in Firefox and Opera. */\n",
       "                border: none;\n",
       "                /* Needs to be in here for Safari polyfill so background images work as expected. */\n",
       "                background-size: auto;\n",
       "            }\n",
       "            .progress-bar-interrupted, .progress-bar-interrupted::-webkit-progress-bar {\n",
       "                background: #F44336;\n",
       "            }\n",
       "        </style>\n",
       "      <progress value='151' class='' max='151' style='width:300px; height:20px; vertical-align: middle;'></progress>\n",
       "      100.00% [151/151 00:00<00:00 logp = 3.830e+01]\n",
       "    </div>\n",
       "    "
      ],
      "text/plain": [
       "<IPython.core.display.HTML object>"
      ]
     },
     "metadata": {},
     "output_type": "display_data"
    },
    {
     "name": "stdout",
     "output_type": "stream",
     "text": [
      "\n"
     ]
    },
    {
     "name": "stderr",
     "output_type": "stream",
     "text": [
      "message: Optimization terminated successfully.\n",
      "logp: -37085.75870154044 -> 38.29982038485984\n"
     ]
    },
    {
     "name": "stdout",
     "output_type": "stream",
     "text": [
      "{'r_interval__': array(-2.63132654), 'M_interval__': array(-1.29418061), 'eta_angle__': array([-3.92319368, -2.14675368]), 'ln(1-e)_interval__': array(1.58189616), 'alpha_angle__': array([4.40757687, 0.7571434 ]), 'vtravel_mag': array(32.75021741), 'vtravel_lon': array(0.97431392), 'vtravel_lat': array(-0.60141506), 'r': array(764.77815219), 'M': array(4.69534777), 'eta': array(-2.07148377), 'sineta': array(-0.87725278), 'coseta': array(-0.48002872), 'ln(1-e)': array(-1.70527107), 'e': array(0.81827688), 'a': array(549.0954401), 'vscale': array(196.12995553), 'vrad': array(-101.08374543), 'vtan': array(80.94525501), 'tperi': array(13.80098409), 'sun_m31_dist': array(760.83524562), 'm31_icrs_xyz': array([561.94726401, 106.02571293, 501.84070346]), 'alpha': array(1.40067451), 'model_pmra': array(0.24125096), 'model_pmdec': array(-0.18974999), 'model_rv': array(-308.86160855)}\n"
     ]
    },
    {
     "name": "stderr",
     "output_type": "stream",
     "text": [
      "Multiprocess sampling (4 chains in 4 jobs)\n",
      "NUTS: [vtravel_lat, vtravel_lon, vtravel_mag, alpha, ln(1-e), eta, M, r]\n"
     ]
    },
    {
     "data": {
      "text/html": [
       "\n",
       "    <div>\n",
       "        <style>\n",
       "            /* Turns off some styling */\n",
       "            progress {\n",
       "                /* gets rid of default border in Firefox and Opera. */\n",
       "                border: none;\n",
       "                /* Needs to be in here for Safari polyfill so background images work as expected. */\n",
       "                background-size: auto;\n",
       "            }\n",
       "            .progress-bar-interrupted, .progress-bar-interrupted::-webkit-progress-bar {\n",
       "                background: #F44336;\n",
       "            }\n",
       "        </style>\n",
       "      <progress value='24000' class='' max='24000' style='width:300px; height:20px; vertical-align: middle;'></progress>\n",
       "      100.00% [24000/24000 01:59<00:00 Sampling 4 chains, 84 divergences]\n",
       "    </div>\n",
       "    "
      ],
      "text/plain": [
       "<IPython.core.display.HTML object>"
      ]
     },
     "metadata": {},
     "output_type": "display_data"
    },
    {
     "name": "stderr",
     "output_type": "stream",
     "text": [
      "Sampling 4 chains for 4_000 tune and 2_000 draw iterations (16_000 + 8_000 draws total) took 129 seconds.\n",
      "There were 2 divergences after tuning. Increase `target_accept` or reparameterize.\n",
      "There were 82 divergences after tuning. Increase `target_accept` or reparameterize.\n",
      "The acceptance probability does not match the target. It is 0.9605988793773098, but should be close to 0.9. Try to increase the number of tuning steps.\n",
      "The number of effective samples is smaller than 25% for some parameters.\n"
     ]
    },
    {
     "name": "stdout",
     "output_type": "stream",
     "text": [
      "working on vdm2012\n",
      "ALL. DAMN. DONE.\n"
     ]
    }
   ],
   "source": [
    "# ------------------------------------------- #\n",
    "# this bit of the code runs pymc3 for various #\n",
    "# values of the travel velocity of the disk   #\n",
    "# ------------------------------------------- #\n",
    "# includes ~0.1% error on velocity measure    #\n",
    "# ------------------------------------------- #\n",
    "\n",
    "modelChoices = [\"fiducial2021\",\"vdm2012\"]\n",
    "\n",
    "# travel velocities of MW disk wrt halo:\n",
    "vtravels = np.concatenate( (np.arange(0,105,5), np.array([32])) )\n",
    "vtravel_err = 1e-3\n",
    "\n",
    "for dataset in modelChoices:\n",
    "    print(f'working on {dataset}')\n",
    "#     if dataset==\"vdm2012\":\n",
    "#         continue\n",
    "    for vel in vtravels:\n",
    "        if vel == 0:\n",
    "            model = TimingArgumentModelPymc3.from_dataset(f\"../datasets/{dataset}.ecsv\", \n",
    "                                                      include_vtravel=False)\n",
    "        elif vel == 32:\n",
    "            model = TimingArgumentModelPymc3.from_dataset(f\"../datasets/{dataset}.ecsv\", \n",
    "                                                      include_vtravel=True)\n",
    "            \n",
    "        else:\n",
    "            model = TimingArgumentModelPymc3.from_dataset(f\"../datasets/{dataset}.ecsv\", \n",
    "                                                      include_vtravel=True,\n",
    "                                                      vtravel_mag=vel,\n",
    "                                                      vtravel_mag_err=vtravel_err)\n",
    "        with model.pymc3_model:\n",
    "            start = {\n",
    "            'r': 770.,  \n",
    "            'M': 4.2, \n",
    "            'eta': 4.5,\n",
    "            'ln(1-e)': -3,\n",
    "            'alpha': 0.5\n",
    "            }\n",
    "            res = pmx.optimize(start=start)\n",
    "            print(repr(res))\n",
    "\n",
    "            samples = pmx.sample(return_inferencedata=True, \n",
    "                                 start=res, tune=4000, draws=2000)\n",
    "\n",
    "        samples.to_json(f\"../pymc3-data/{dataset}_vtravel_{vel}.json\")\n",
    "print(\"ALL. DAMN. DONE.\")"
   ]
  },
  {
   "cell_type": "markdown",
   "id": "f221b3f2",
   "metadata": {},
   "source": [
    "---\n",
    "# Mass error vs. pm error"
   ]
  },
  {
   "cell_type": "code",
   "execution_count": 10,
   "id": "3b1f399a",
   "metadata": {},
   "outputs": [
    {
     "data": {
      "text/plain": [
       "1000.0"
      ]
     },
     "execution_count": 10,
     "metadata": {},
     "output_type": "execute_result"
    }
   ],
   "source": [
    "0.001**-1"
   ]
  },
  {
   "cell_type": "code",
   "execution_count": 9,
   "id": "5d373b37",
   "metadata": {},
   "outputs": [
    {
     "data": {
      "text/plain": [
       "0.5"
      ]
     },
     "execution_count": 9,
     "metadata": {},
     "output_type": "execute_result"
    }
   ],
   "source": [
    "x=1\n",
    "x/=2\n",
    "x"
   ]
  },
  {
   "cell_type": "code",
   "execution_count": 18,
   "id": "ef9ad83a",
   "metadata": {
    "scrolled": false
   },
   "outputs": [
    {
     "name": "stdout",
     "output_type": "stream",
     "text": [
      "working on fiducial2021\n"
     ]
    },
    {
     "name": "stderr",
     "output_type": "stream",
     "text": [
      "optimizing logp for variables: [vtravel_lat, vtravel_lon, vtravel_mag, alpha, ln(1-e), eta, M, r]\n"
     ]
    },
    {
     "data": {
      "text/html": [
       "\n",
       "    <div>\n",
       "        <style>\n",
       "            /* Turns off some styling */\n",
       "            progress {\n",
       "                /* gets rid of default border in Firefox and Opera. */\n",
       "                border: none;\n",
       "                /* Needs to be in here for Safari polyfill so background images work as expected. */\n",
       "                background-size: auto;\n",
       "            }\n",
       "            .progress-bar-interrupted, .progress-bar-interrupted::-webkit-progress-bar {\n",
       "                background: #F44336;\n",
       "            }\n",
       "        </style>\n",
       "      <progress value='151' class='' max='151' style='width:300px; height:20px; vertical-align: middle;'></progress>\n",
       "      100.00% [151/151 00:00<00:00 logp = 3.830e+01]\n",
       "    </div>\n",
       "    "
      ],
      "text/plain": [
       "<IPython.core.display.HTML object>"
      ]
     },
     "metadata": {},
     "output_type": "display_data"
    },
    {
     "name": "stdout",
     "output_type": "stream",
     "text": [
      "\n"
     ]
    },
    {
     "name": "stderr",
     "output_type": "stream",
     "text": [
      "message: Optimization terminated successfully.\n",
      "logp: -37085.75870154044 -> 38.29982038485984\n"
     ]
    },
    {
     "name": "stdout",
     "output_type": "stream",
     "text": [
      "{'r_interval__': array(-2.63132654), 'M_interval__': array(-1.29418061), 'eta_angle__': array([-3.92319368, -2.14675368]), 'ln(1-e)_interval__': array(1.58189616), 'alpha_angle__': array([4.40757687, 0.7571434 ]), 'vtravel_mag': array(32.75021741), 'vtravel_lon': array(0.97431392), 'vtravel_lat': array(-0.60141506), 'r': array(764.77815219), 'M': array(4.69534777), 'eta': array(-2.07148377), 'sineta': array(-0.87725278), 'coseta': array(-0.48002872), 'ln(1-e)': array(-1.70527107), 'e': array(0.81827688), 'a': array(549.0954401), 'vscale': array(196.12995553), 'vrad': array(-101.08374543), 'vtan': array(80.94525501), 'tperi': array(13.80098409), 'sun_m31_dist': array(760.83524562), 'm31_icrs_xyz': array([561.94726401, 106.02571293, 501.84070346]), 'alpha': array(1.40067451), 'model_pmra': array(0.24125096), 'model_pmdec': array(-0.18974999), 'model_rv': array(-308.86160855)}\n"
     ]
    },
    {
     "name": "stderr",
     "output_type": "stream",
     "text": [
      "Multiprocess sampling (4 chains in 4 jobs)\n",
      "NUTS: [vtravel_lat, vtravel_lon, vtravel_mag, alpha, ln(1-e), eta, M, r]\n"
     ]
    },
    {
     "data": {
      "text/html": [
       "\n",
       "    <div>\n",
       "        <style>\n",
       "            /* Turns off some styling */\n",
       "            progress {\n",
       "                /* gets rid of default border in Firefox and Opera. */\n",
       "                border: none;\n",
       "                /* Needs to be in here for Safari polyfill so background images work as expected. */\n",
       "                background-size: auto;\n",
       "            }\n",
       "            .progress-bar-interrupted, .progress-bar-interrupted::-webkit-progress-bar {\n",
       "                background: #F44336;\n",
       "            }\n",
       "        </style>\n",
       "      <progress value='24000' class='' max='24000' style='width:300px; height:20px; vertical-align: middle;'></progress>\n",
       "      100.00% [24000/24000 01:32<00:00 Sampling 4 chains, 143 divergences]\n",
       "    </div>\n",
       "    "
      ],
      "text/plain": [
       "<IPython.core.display.HTML object>"
      ]
     },
     "metadata": {},
     "output_type": "display_data"
    },
    {
     "name": "stderr",
     "output_type": "stream",
     "text": [
      "INFO (theano.gof.compilelock): Waiting for existing lock by process '50168' (I am process '50189')\n",
      "INFO (theano.gof.compilelock): To manually release the lock, delete /Users/katiechambe/.theano/compiledir_macOS-10.15.7-x86_64-i386-64bit-i386-3.9.5-64/lock_dir\n",
      "Sampling 4 chains for 4_000 tune and 2_000 draw iterations (16_000 + 8_000 draws total) took 105 seconds.\n",
      "The acceptance probability does not match the target. It is 0.9628527228042073, but should be close to 0.9. Try to increase the number of tuning steps.\n",
      "There were 104 divergences after tuning. Increase `target_accept` or reparameterize.\n",
      "There were 39 divergences after tuning. Increase `target_accept` or reparameterize.\n",
      "The number of effective samples is smaller than 10% for some parameters.\n"
     ]
    },
    {
     "name": "stdout",
     "output_type": "stream",
     "text": [
      "1 <xarray.DataArray 'M' ()>\n",
      "array(0.7281187)\n"
     ]
    },
    {
     "name": "stderr",
     "output_type": "stream",
     "text": [
      "optimizing logp for variables: [vtravel_lat, vtravel_lon, vtravel_mag, alpha, ln(1-e), eta, M, r]\n"
     ]
    },
    {
     "data": {
      "text/html": [
       "\n",
       "    <div>\n",
       "        <style>\n",
       "            /* Turns off some styling */\n",
       "            progress {\n",
       "                /* gets rid of default border in Firefox and Opera. */\n",
       "                border: none;\n",
       "                /* Needs to be in here for Safari polyfill so background images work as expected. */\n",
       "                background-size: auto;\n",
       "            }\n",
       "            .progress-bar-interrupted, .progress-bar-interrupted::-webkit-progress-bar {\n",
       "                background: #F44336;\n",
       "            }\n",
       "        </style>\n",
       "      <progress value='94' class='' max='94' style='width:300px; height:20px; vertical-align: middle;'></progress>\n",
       "      100.00% [94/94 00:00<00:00 logp = 3.965e+01]\n",
       "    </div>\n",
       "    "
      ],
      "text/plain": [
       "<IPython.core.display.HTML object>"
      ]
     },
     "metadata": {},
     "output_type": "display_data"
    },
    {
     "name": "stdout",
     "output_type": "stream",
     "text": [
      "\n"
     ]
    },
    {
     "name": "stderr",
     "output_type": "stream",
     "text": [
      "message: Optimization terminated successfully.\n",
      "logp: -37089.437776882834 -> 39.645280979758375\n"
     ]
    },
    {
     "name": "stdout",
     "output_type": "stream",
     "text": [
      "{'r_interval__': array(-2.63120274), 'M_interval__': array(-1.33766076), 'eta_angle__': array([-3.90629499, -2.17735147]), 'ln(1-e)_interval__': array(1.497425), 'alpha_angle__': array([4.41547719, 0.70962048]), 'vtravel_mag': array(32.76324496), 'vtravel_lon': array(0.97378602), 'vtravel_lat': array(-0.60348875), 'r': array(764.85492723), 'M': array(4.55395267), 'eta': array(-2.07929977), 'sineta': array(-0.87347411), 'coseta': array(-0.48687059), 'ln(1-e)': array(-1.8280989), 'e': array(0.83928118), 'a': array(542.98122195), 'vscale': array(194.23872431), 'vrad': array(-101.08787858), 'vtan': array(74.97198165), 'tperi': array(13.80098242), 'sun_m31_dist': array(760.91202398), 'm31_icrs_xyz': array([562.00397194, 106.03641233, 501.89134584]), 'alpha': array(1.41144685), 'model_pmra': array(0.23859345), 'model_pmdec': array(-0.18215542), 'model_rv': array(-308.86169753)}\n"
     ]
    },
    {
     "name": "stderr",
     "output_type": "stream",
     "text": [
      "Multiprocess sampling (4 chains in 4 jobs)\n",
      "NUTS: [vtravel_lat, vtravel_lon, vtravel_mag, alpha, ln(1-e), eta, M, r]\n"
     ]
    },
    {
     "data": {
      "text/html": [
       "\n",
       "    <div>\n",
       "        <style>\n",
       "            /* Turns off some styling */\n",
       "            progress {\n",
       "                /* gets rid of default border in Firefox and Opera. */\n",
       "                border: none;\n",
       "                /* Needs to be in here for Safari polyfill so background images work as expected. */\n",
       "                background-size: auto;\n",
       "            }\n",
       "            .progress-bar-interrupted, .progress-bar-interrupted::-webkit-progress-bar {\n",
       "                background: #F44336;\n",
       "            }\n",
       "        </style>\n",
       "      <progress value='24000' class='' max='24000' style='width:300px; height:20px; vertical-align: middle;'></progress>\n",
       "      100.00% [24000/24000 01:03<00:00 Sampling 4 chains, 39 divergences]\n",
       "    </div>\n",
       "    "
      ],
      "text/plain": [
       "<IPython.core.display.HTML object>"
      ]
     },
     "metadata": {},
     "output_type": "display_data"
    },
    {
     "name": "stderr",
     "output_type": "stream",
     "text": [
      "INFO (theano.gof.compilelock): Waiting for existing lock by process '50329' (I am process '50354')\n",
      "INFO (theano.gof.compilelock): To manually release the lock, delete /Users/katiechambe/.theano/compiledir_macOS-10.15.7-x86_64-i386-64bit-i386-3.9.5-64/lock_dir\n",
      "Sampling 4 chains for 4_000 tune and 2_000 draw iterations (16_000 + 8_000 draws total) took 73 seconds.\n",
      "There were 2 divergences after tuning. Increase `target_accept` or reparameterize.\n",
      "There were 2 divergences after tuning. Increase `target_accept` or reparameterize.\n",
      "There were 20 divergences after tuning. Increase `target_accept` or reparameterize.\n",
      "There were 15 divergences after tuning. Increase `target_accept` or reparameterize.\n"
     ]
    },
    {
     "name": "stdout",
     "output_type": "stream",
     "text": [
      "2 <xarray.DataArray 'M' ()>\n",
      "array(0.42360799)\n"
     ]
    },
    {
     "name": "stderr",
     "output_type": "stream",
     "text": [
      "optimizing logp for variables: [vtravel_lat, vtravel_lon, vtravel_mag, alpha, ln(1-e), eta, M, r]\n"
     ]
    },
    {
     "data": {
      "text/html": [
       "\n",
       "    <div>\n",
       "        <style>\n",
       "            /* Turns off some styling */\n",
       "            progress {\n",
       "                /* gets rid of default border in Firefox and Opera. */\n",
       "                border: none;\n",
       "                /* Needs to be in here for Safari polyfill so background images work as expected. */\n",
       "                background-size: auto;\n",
       "            }\n",
       "            .progress-bar-interrupted, .progress-bar-interrupted::-webkit-progress-bar {\n",
       "                background: #F44336;\n",
       "            }\n",
       "        </style>\n",
       "      <progress value='94' class='' max='94' style='width:300px; height:20px; vertical-align: middle;'></progress>\n",
       "      100.00% [94/94 00:00<00:00 logp = 4.102e+01]\n",
       "    </div>\n",
       "    "
      ],
      "text/plain": [
       "<IPython.core.display.HTML object>"
      ]
     },
     "metadata": {},
     "output_type": "display_data"
    },
    {
     "name": "stdout",
     "output_type": "stream",
     "text": [
      "\n"
     ]
    },
    {
     "name": "stderr",
     "output_type": "stream",
     "text": [
      "message: Optimization terminated successfully.\n",
      "logp: -37108.31296133572 -> 41.017752398496924\n"
     ]
    },
    {
     "name": "stdout",
     "output_type": "stream",
     "text": [
      "{'r_interval__': array(-2.63116171), 'M_interval__': array(-1.35177999), 'eta_angle__': array([-3.90086634, -2.18706251]), 'ln(1-e)_interval__': array(1.46810777), 'alpha_angle__': array([4.41785373, 0.69467134]), 'vtravel_mag': array(32.76815915), 'vtravel_lon': array(0.97360124), 'vtravel_lat': array(-0.6042313), 'r': array(764.88037694), 'M': array(4.5088006), 'eta': array(-2.08178749), 'sineta': array(-0.87226022), 'coseta': array(-0.48904204), 'ln(1-e)': array(-1.87230394), 'e': array(0.84623102), 'a': array(540.99403142), 'vscale': array(193.6280377), 'vrad': array(-101.0886055), 'vtan': array(72.97004018), 'tperi': array(13.80098191), 'sun_m31_dist': array(760.9374748), 'm31_icrs_xyz': array([562.02276972, 106.03995901, 501.90813299]), 'alpha': array(1.41483155), 'model_pmra': array(0.23776039), 'model_pmdec': array(-0.17959462), 'model_rv': array(-308.86171696)}\n"
     ]
    },
    {
     "name": "stderr",
     "output_type": "stream",
     "text": [
      "Multiprocess sampling (4 chains in 4 jobs)\n",
      "NUTS: [vtravel_lat, vtravel_lon, vtravel_mag, alpha, ln(1-e), eta, M, r]\n"
     ]
    },
    {
     "data": {
      "text/html": [
       "\n",
       "    <div>\n",
       "        <style>\n",
       "            /* Turns off some styling */\n",
       "            progress {\n",
       "                /* gets rid of default border in Firefox and Opera. */\n",
       "                border: none;\n",
       "                /* Needs to be in here for Safari polyfill so background images work as expected. */\n",
       "                background-size: auto;\n",
       "            }\n",
       "            .progress-bar-interrupted, .progress-bar-interrupted::-webkit-progress-bar {\n",
       "                background: #F44336;\n",
       "            }\n",
       "        </style>\n",
       "      <progress value='24000' class='' max='24000' style='width:300px; height:20px; vertical-align: middle;'></progress>\n",
       "      100.00% [24000/24000 00:56<00:00 Sampling 4 chains, 66 divergences]\n",
       "    </div>\n",
       "    "
      ],
      "text/plain": [
       "<IPython.core.display.HTML object>"
      ]
     },
     "metadata": {},
     "output_type": "display_data"
    },
    {
     "name": "stderr",
     "output_type": "stream",
     "text": [
      "INFO (theano.gof.compilelock): Waiting for existing lock by process '50492' (I am process '50517')\n",
      "INFO (theano.gof.compilelock): To manually release the lock, delete /Users/katiechambe/.theano/compiledir_macOS-10.15.7-x86_64-i386-64bit-i386-3.9.5-64/lock_dir\n",
      "Sampling 4 chains for 4_000 tune and 2_000 draw iterations (16_000 + 8_000 draws total) took 66 seconds.\n",
      "There were 2 divergences after tuning. Increase `target_accept` or reparameterize.\n",
      "There were 35 divergences after tuning. Increase `target_accept` or reparameterize.\n",
      "There were 19 divergences after tuning. Increase `target_accept` or reparameterize.\n",
      "There were 10 divergences after tuning. Increase `target_accept` or reparameterize.\n"
     ]
    },
    {
     "name": "stdout",
     "output_type": "stream",
     "text": [
      "4 <xarray.DataArray 'M' ()>\n",
      "array(0.30382059)\n"
     ]
    },
    {
     "name": "stderr",
     "output_type": "stream",
     "text": [
      "optimizing logp for variables: [vtravel_lat, vtravel_lon, vtravel_mag, alpha, ln(1-e), eta, M, r]\n"
     ]
    },
    {
     "data": {
      "text/html": [
       "\n",
       "    <div>\n",
       "        <style>\n",
       "            /* Turns off some styling */\n",
       "            progress {\n",
       "                /* gets rid of default border in Firefox and Opera. */\n",
       "                border: none;\n",
       "                /* Needs to be in here for Safari polyfill so background images work as expected. */\n",
       "                background-size: auto;\n",
       "            }\n",
       "            .progress-bar-interrupted, .progress-bar-interrupted::-webkit-progress-bar {\n",
       "                background: #F44336;\n",
       "            }\n",
       "        </style>\n",
       "      <progress value='99' class='' max='99' style='width:300px; height:20px; vertical-align: middle;'></progress>\n",
       "      100.00% [99/99 00:00<00:00 logp = 4.240e+01]\n",
       "    </div>\n",
       "    "
      ],
      "text/plain": [
       "<IPython.core.display.HTML object>"
      ]
     },
     "metadata": {},
     "output_type": "display_data"
    },
    {
     "name": "stdout",
     "output_type": "stream",
     "text": [
      "\n"
     ]
    },
    {
     "name": "stderr",
     "output_type": "stream",
     "text": [
      "message: Optimization terminated successfully.\n",
      "logp: -37187.97258223064 -> 42.400264092828\n"
     ]
    },
    {
     "name": "stdout",
     "output_type": "stream",
     "text": [
      "{'r_interval__': array(-2.63115052), 'M_interval__': array(-1.35559661), 'eta_angle__': array([-3.89940388, -2.18966882]), 'ln(1-e)_interval__': array(1.46000319), 'alpha_angle__': array([4.41848135, 0.69066829]), 'vtravel_mag': array(32.76955531), 'vtravel_lon': array(0.97354998), 'vtravel_lat': array(-0.60443903), 'r': array(764.88731627), 'M': array(4.49665957), 'eta': array(-2.08245575), 'sineta': array(-0.87193321), 'coseta': array(-0.48962483), 'ln(1-e)': array(-1.88466837), 'e': array(0.84812058), 'a': array(540.45675851), 'vscale': array(193.46325697), 'vrad': array(-101.08874626), 'vtan': array(72.42301524), 'tperi': array(13.80098178), 'sun_m31_dist': array(760.94441443), 'm31_icrs_xyz': array([562.02789528, 106.04092608, 501.91271032]), 'alpha': array(1.4157376), 'model_pmra': array(0.23753749), 'model_pmdec': array(-0.17889361), 'model_rv': array(-308.86172139)}\n"
     ]
    },
    {
     "name": "stderr",
     "output_type": "stream",
     "text": [
      "Multiprocess sampling (4 chains in 4 jobs)\n",
      "NUTS: [vtravel_lat, vtravel_lon, vtravel_mag, alpha, ln(1-e), eta, M, r]\n"
     ]
    },
    {
     "data": {
      "text/html": [
       "\n",
       "    <div>\n",
       "        <style>\n",
       "            /* Turns off some styling */\n",
       "            progress {\n",
       "                /* gets rid of default border in Firefox and Opera. */\n",
       "                border: none;\n",
       "                /* Needs to be in here for Safari polyfill so background images work as expected. */\n",
       "                background-size: auto;\n",
       "            }\n",
       "            .progress-bar-interrupted, .progress-bar-interrupted::-webkit-progress-bar {\n",
       "                background: #F44336;\n",
       "            }\n",
       "        </style>\n",
       "      <progress value='24000' class='' max='24000' style='width:300px; height:20px; vertical-align: middle;'></progress>\n",
       "      100.00% [24000/24000 40:50<00:00 Sampling 4 chains, 98 divergences]\n",
       "    </div>\n",
       "    "
      ],
      "text/plain": [
       "<IPython.core.display.HTML object>"
      ]
     },
     "metadata": {},
     "output_type": "display_data"
    },
    {
     "name": "stderr",
     "output_type": "stream",
     "text": [
      "INFO (theano.gof.compilelock): Refreshing lock /Users/katiechambe/.theano/compiledir_macOS-10.15.7-x86_64-i386-64bit-i386-3.9.5-64/lock_dir/lock\n",
      "INFO (theano.gof.compilelock): Waiting for existing lock by process '50708' (I am process '50656')\n",
      "INFO (theano.gof.compilelock): To manually release the lock, delete /Users/katiechambe/.theano/compiledir_macOS-10.15.7-x86_64-i386-64bit-i386-3.9.5-64/lock_dir\n",
      "INFO (theano.gof.compilelock): Waiting for existing lock by process '50708' (I am process '50681')\n",
      "INFO (theano.gof.compilelock): To manually release the lock, delete /Users/katiechambe/.theano/compiledir_macOS-10.15.7-x86_64-i386-64bit-i386-3.9.5-64/lock_dir\n",
      "INFO (theano.gof.compilelock): Waiting for existing lock by process '50656' (I am process '50681')\n",
      "INFO (theano.gof.compilelock): To manually release the lock, delete /Users/katiechambe/.theano/compiledir_macOS-10.15.7-x86_64-i386-64bit-i386-3.9.5-64/lock_dir\n",
      "INFO (theano.gof.compilelock): Waiting for existing lock by process '50681' (I am process '50656')\n",
      "INFO (theano.gof.compilelock): To manually release the lock, delete /Users/katiechambe/.theano/compiledir_macOS-10.15.7-x86_64-i386-64bit-i386-3.9.5-64/lock_dir\n",
      "INFO (theano.gof.compilelock): Waiting for existing lock by process '50681' (I am process '50656')\n",
      "INFO (theano.gof.compilelock): To manually release the lock, delete /Users/katiechambe/.theano/compiledir_macOS-10.15.7-x86_64-i386-64bit-i386-3.9.5-64/lock_dir\n",
      "INFO (theano.gof.compilelock): Waiting for existing lock by process '50681' (I am process '50656')\n",
      "INFO (theano.gof.compilelock): To manually release the lock, delete /Users/katiechambe/.theano/compiledir_macOS-10.15.7-x86_64-i386-64bit-i386-3.9.5-64/lock_dir\n",
      "INFO (theano.gof.compilelock): Waiting for existing lock by process '50681' (I am process '50656')\n",
      "INFO (theano.gof.compilelock): To manually release the lock, delete /Users/katiechambe/.theano/compiledir_macOS-10.15.7-x86_64-i386-64bit-i386-3.9.5-64/lock_dir\n",
      "Sampling 4 chains for 4_000 tune and 2_000 draw iterations (16_000 + 8_000 draws total) took 2459 seconds.\n",
      "There were 66 divergences after tuning. Increase `target_accept` or reparameterize.\n",
      "There were 6 divergences after tuning. Increase `target_accept` or reparameterize.\n",
      "There were 7 divergences after tuning. Increase `target_accept` or reparameterize.\n",
      "There were 19 divergences after tuning. Increase `target_accept` or reparameterize.\n"
     ]
    },
    {
     "name": "stdout",
     "output_type": "stream",
     "text": [
      "8 <xarray.DataArray 'M' ()>\n",
      "array(0.27099284)\n"
     ]
    },
    {
     "name": "stderr",
     "output_type": "stream",
     "text": [
      "optimizing logp for variables: [vtravel_lat, vtravel_lon, vtravel_mag, alpha, ln(1-e), eta, M, r]\n"
     ]
    },
    {
     "data": {
      "text/html": [
       "\n",
       "    <div>\n",
       "        <style>\n",
       "            /* Turns off some styling */\n",
       "            progress {\n",
       "                /* gets rid of default border in Firefox and Opera. */\n",
       "                border: none;\n",
       "                /* Needs to be in here for Safari polyfill so background images work as expected. */\n",
       "                background-size: auto;\n",
       "            }\n",
       "            .progress-bar-interrupted, .progress-bar-interrupted::-webkit-progress-bar {\n",
       "                background: #F44336;\n",
       "            }\n",
       "        </style>\n",
       "      <progress value='102' class='' max='102' style='width:300px; height:20px; vertical-align: middle;'></progress>\n",
       "      100.00% [102/102 00:00<00:00 logp = 4.379e+01]\n",
       "    </div>\n",
       "    "
      ],
      "text/plain": [
       "<IPython.core.display.HTML object>"
      ]
     },
     "metadata": {},
     "output_type": "display_data"
    },
    {
     "name": "stdout",
     "output_type": "stream",
     "text": [
      "\n"
     ]
    },
    {
     "name": "stderr",
     "output_type": "stream",
     "text": [
      "message: Optimization terminated successfully.\n",
      "logp: -37510.7699488937 -> 43.785589935941346\n"
     ]
    },
    {
     "name": "stdout",
     "output_type": "stream",
     "text": [
      "{'r_interval__': array(-2.63114765), 'M_interval__': array(-1.3565707), 'eta_angle__': array([-3.89903095, -2.19033273]), 'ln(1-e)_interval__': array(1.45792193), 'alpha_angle__': array([4.41864055, 0.68964915]), 'vtravel_mag': array(32.76991666), 'vtravel_lon': array(0.97353678), 'vtravel_lat': array(-0.60449255), 'r': array(764.88909413), 'M': array(4.49356528), 'eta': array(-2.08262603), 'sineta': array(-0.87184983), 'coseta': array(-0.48977329), 'ln(1-e)': array(-1.88785367), 'e': array(0.84860359), 'a': array(540.31962756), 'vscale': array(193.4212216), 'vrad': array(-101.08877875), 'vtan': array(72.28298482), 'tperi': array(13.80098174), 'sun_m31_dist': array(760.94619237), 'm31_icrs_xyz': array([562.02920846, 106.04117384, 501.91388303]), 'alpha': array(1.41596825), 'model_pmra': array(0.23748075), 'model_pmdec': array(-0.17871408), 'model_rv': array(-308.86172243)}\n"
     ]
    },
    {
     "name": "stderr",
     "output_type": "stream",
     "text": [
      "Multiprocess sampling (4 chains in 4 jobs)\n",
      "NUTS: [vtravel_lat, vtravel_lon, vtravel_mag, alpha, ln(1-e), eta, M, r]\n"
     ]
    },
    {
     "data": {
      "text/html": [
       "\n",
       "    <div>\n",
       "        <style>\n",
       "            /* Turns off some styling */\n",
       "            progress {\n",
       "                /* gets rid of default border in Firefox and Opera. */\n",
       "                border: none;\n",
       "                /* Needs to be in here for Safari polyfill so background images work as expected. */\n",
       "                background-size: auto;\n",
       "            }\n",
       "            .progress-bar-interrupted, .progress-bar-interrupted::-webkit-progress-bar {\n",
       "                background: #F44336;\n",
       "            }\n",
       "        </style>\n",
       "      <progress value='24000' class='' max='24000' style='width:300px; height:20px; vertical-align: middle;'></progress>\n",
       "      100.00% [24000/24000 05:52<00:00 Sampling 4 chains, 64 divergences]\n",
       "    </div>\n",
       "    "
      ],
      "text/plain": [
       "<IPython.core.display.HTML object>"
      ]
     },
     "metadata": {},
     "output_type": "display_data"
    },
    {
     "name": "stderr",
     "output_type": "stream",
     "text": [
      "INFO (theano.gof.compilelock): Waiting for existing lock by process '50835' (I am process '50816')\n",
      "INFO (theano.gof.compilelock): To manually release the lock, delete /Users/katiechambe/.theano/compiledir_macOS-10.15.7-x86_64-i386-64bit-i386-3.9.5-64/lock_dir\n",
      "INFO (theano.gof.compilelock): Waiting for existing lock by process '50860' (I am process '50887')\n",
      "INFO (theano.gof.compilelock): To manually release the lock, delete /Users/katiechambe/.theano/compiledir_macOS-10.15.7-x86_64-i386-64bit-i386-3.9.5-64/lock_dir\n",
      "INFO (theano.gof.compilelock): Waiting for existing lock by process '50860' (I am process '50816')\n",
      "INFO (theano.gof.compilelock): To manually release the lock, delete /Users/katiechambe/.theano/compiledir_macOS-10.15.7-x86_64-i386-64bit-i386-3.9.5-64/lock_dir\n",
      "INFO (theano.gof.compilelock): Waiting for existing lock by process '50860' (I am process '50887')\n",
      "INFO (theano.gof.compilelock): To manually release the lock, delete /Users/katiechambe/.theano/compiledir_macOS-10.15.7-x86_64-i386-64bit-i386-3.9.5-64/lock_dir\n",
      "INFO (theano.gof.compilelock): Waiting for existing lock by process '50860' (I am process '50816')\n",
      "INFO (theano.gof.compilelock): To manually release the lock, delete /Users/katiechambe/.theano/compiledir_macOS-10.15.7-x86_64-i386-64bit-i386-3.9.5-64/lock_dir\n",
      "INFO (theano.gof.compilelock): Waiting for existing lock by process '50887' (I am process '50816')\n",
      "INFO (theano.gof.compilelock): To manually release the lock, delete /Users/katiechambe/.theano/compiledir_macOS-10.15.7-x86_64-i386-64bit-i386-3.9.5-64/lock_dir\n",
      "INFO (theano.gof.compilelock): Waiting for existing lock by process '50887' (I am process '50816')\n",
      "INFO (theano.gof.compilelock): To manually release the lock, delete /Users/katiechambe/.theano/compiledir_macOS-10.15.7-x86_64-i386-64bit-i386-3.9.5-64/lock_dir\n",
      "INFO (theano.gof.compilelock): Waiting for existing lock by process '50887' (I am process '50816')\n",
      "INFO (theano.gof.compilelock): To manually release the lock, delete /Users/katiechambe/.theano/compiledir_macOS-10.15.7-x86_64-i386-64bit-i386-3.9.5-64/lock_dir\n",
      "Sampling 4 chains for 4_000 tune and 2_000 draw iterations (16_000 + 8_000 draws total) took 367 seconds.\n",
      "There was 1 divergence after tuning. Increase `target_accept` or reparameterize.\n",
      "There were 28 divergences after tuning. Increase `target_accept` or reparameterize.\n",
      "There were 17 divergences after tuning. Increase `target_accept` or reparameterize.\n",
      "There were 18 divergences after tuning. Increase `target_accept` or reparameterize.\n"
     ]
    },
    {
     "name": "stdout",
     "output_type": "stream",
     "text": [
      "16 <xarray.DataArray 'M' ()>\n",
      "array(0.26266124)\n",
      "working on vdm2012\n"
     ]
    },
    {
     "name": "stderr",
     "output_type": "stream",
     "text": [
      "optimizing logp for variables: [vtravel_lat, vtravel_lon, vtravel_mag, alpha, ln(1-e), eta, M, r]\n"
     ]
    },
    {
     "data": {
      "text/html": [
       "\n",
       "    <div>\n",
       "        <style>\n",
       "            /* Turns off some styling */\n",
       "            progress {\n",
       "                /* gets rid of default border in Firefox and Opera. */\n",
       "                border: none;\n",
       "                /* Needs to be in here for Safari polyfill so background images work as expected. */\n",
       "                background-size: auto;\n",
       "            }\n",
       "            .progress-bar-interrupted, .progress-bar-interrupted::-webkit-progress-bar {\n",
       "                background: #F44336;\n",
       "            }\n",
       "        </style>\n",
       "      <progress value='98' class='' max='98' style='width:300px; height:20px; vertical-align: middle;'></progress>\n",
       "      100.00% [98/98 00:00<00:00 logp = 3.532e+01]\n",
       "    </div>\n",
       "    "
      ],
      "text/plain": [
       "<IPython.core.display.HTML object>"
      ]
     },
     "metadata": {},
     "output_type": "display_data"
    },
    {
     "name": "stdout",
     "output_type": "stream",
     "text": [
      "\n"
     ]
    },
    {
     "name": "stderr",
     "output_type": "stream",
     "text": [
      "message: Optimization terminated successfully.\n",
      "logp: -2471.7525124318554 -> 35.31578311725649\n"
     ]
    },
    {
     "name": "stdout",
     "output_type": "stream",
     "text": [
      "{'r_interval__': array(-2.63023372), 'M_interval__': array(-1.4925168), 'eta_angle__': array([-3.80762514, -2.34563224]), 'ln(1-e)_interval__': array(1.32555565), 'alpha_angle__': array([ 0.60569927, -4.43092863]), 'vtravel_mag': array(32.95436051), 'vtravel_lon': array(0.96932261), 'vtravel_lat': array(-0.58632789), 'r': array(765.45617038), 'M': array(4.07911327), 'eta': array(-2.12292327), 'sineta': array(-0.85141087), 'coseta': array(-0.52449932), 'ln(1-e)': array(-2.09895463), 'e': array(0.87741549), 'a': array(524.21186472), 'vscale': array(187.09553614), 'vrad': array(-95.71818005), 'vtan': array(61.46783763), 'tperi': array(13.74948101), 'sun_m31_dist': array(761.43103752), 'm31_icrs_xyz': array([562.38731148, 106.10873913, 502.23368292]), 'alpha': array(3.00573665), 'model_pmra': array(0.14308049), 'model_pmdec': array(-0.10147462), 'model_rv': array(-308.86295031)}\n"
     ]
    },
    {
     "name": "stderr",
     "output_type": "stream",
     "text": [
      "Multiprocess sampling (4 chains in 4 jobs)\n",
      "NUTS: [vtravel_lat, vtravel_lon, vtravel_mag, alpha, ln(1-e), eta, M, r]\n"
     ]
    },
    {
     "data": {
      "text/html": [
       "\n",
       "    <div>\n",
       "        <style>\n",
       "            /* Turns off some styling */\n",
       "            progress {\n",
       "                /* gets rid of default border in Firefox and Opera. */\n",
       "                border: none;\n",
       "                /* Needs to be in here for Safari polyfill so background images work as expected. */\n",
       "                background-size: auto;\n",
       "            }\n",
       "            .progress-bar-interrupted, .progress-bar-interrupted::-webkit-progress-bar {\n",
       "                background: #F44336;\n",
       "            }\n",
       "        </style>\n",
       "      <progress value='24000' class='' max='24000' style='width:300px; height:20px; vertical-align: middle;'></progress>\n",
       "      100.00% [24000/24000 01:09<00:00 Sampling 4 chains, 157 divergences]\n",
       "    </div>\n",
       "    "
      ],
      "text/plain": [
       "<IPython.core.display.HTML object>"
      ]
     },
     "metadata": {},
     "output_type": "display_data"
    },
    {
     "name": "stderr",
     "output_type": "stream",
     "text": [
      "INFO (theano.gof.compilelock): Waiting for existing lock by process '51061' (I am process '51109')\n",
      "INFO (theano.gof.compilelock): To manually release the lock, delete /Users/katiechambe/.theano/compiledir_macOS-10.15.7-x86_64-i386-64bit-i386-3.9.5-64/lock_dir\n",
      "Sampling 4 chains for 4_000 tune and 2_000 draw iterations (16_000 + 8_000 draws total) took 80 seconds.\n",
      "There were 28 divergences after tuning. Increase `target_accept` or reparameterize.\n",
      "The acceptance probability does not match the target. It is 0.8409111058182246, but should be close to 0.9. Try to increase the number of tuning steps.\n",
      "There were 7 divergences after tuning. Increase `target_accept` or reparameterize.\n",
      "There were 119 divergences after tuning. Increase `target_accept` or reparameterize.\n",
      "The acceptance probability does not match the target. It is 0.8194175678853651, but should be close to 0.9. Try to increase the number of tuning steps.\n",
      "There were 3 divergences after tuning. Increase `target_accept` or reparameterize.\n",
      "The estimated number of effective samples is smaller than 200 for some parameters.\n"
     ]
    },
    {
     "name": "stdout",
     "output_type": "stream",
     "text": [
      "1 <xarray.DataArray 'M' ()>\n",
      "array(0.59917821)\n"
     ]
    },
    {
     "name": "stderr",
     "output_type": "stream",
     "text": [
      "optimizing logp for variables: [vtravel_lat, vtravel_lon, vtravel_mag, alpha, ln(1-e), eta, M, r]\n"
     ]
    },
    {
     "data": {
      "text/html": [
       "\n",
       "    <div>\n",
       "        <style>\n",
       "            /* Turns off some styling */\n",
       "            progress {\n",
       "                /* gets rid of default border in Firefox and Opera. */\n",
       "                border: none;\n",
       "                /* Needs to be in here for Safari polyfill so background images work as expected. */\n",
       "                background-size: auto;\n",
       "            }\n",
       "            .progress-bar-interrupted, .progress-bar-interrupted::-webkit-progress-bar {\n",
       "                background: #F44336;\n",
       "            }\n",
       "        </style>\n",
       "      <progress value='81' class='' max='81' style='width:300px; height:20px; vertical-align: middle;'></progress>\n",
       "      100.00% [81/81 00:00<00:00 logp = 3.652e+01]\n",
       "    </div>\n",
       "    "
      ],
      "text/plain": [
       "<IPython.core.display.HTML object>"
      ]
     },
     "metadata": {},
     "output_type": "display_data"
    },
    {
     "name": "stdout",
     "output_type": "stream",
     "text": [
      "\n"
     ]
    },
    {
     "name": "stderr",
     "output_type": "stream",
     "text": [
      "message: Optimization terminated successfully.\n",
      "logp: -2481.179267780537 -> 36.5216153334839\n"
     ]
    },
    {
     "name": "stdout",
     "output_type": "stream",
     "text": [
      "{'r_interval__': array(-2.63290784), 'M_interval__': array(-1.56828172), 'eta_angle__': array([-3.78396802, -2.38360866]), 'ln(1-e)_interval__': array(1.12612763), 'alpha_angle__': array([ 0.60560866, -4.4309408 ]), 'vtravel_mag': array(33.06507363), 'vtravel_lon': array(0.96694153), 'vtravel_lat': array(-0.58352687), 'r': array(763.79819655), 'M': array(3.86299895), 'eta': array(-2.13292798), 'sineta': array(-0.84612088), 'coseta': array(-0.53299104), 'ln(1-e)': array(-2.4487644), 'e': array(0.91359972), 'a': array(513.67099861), 'vscale': array(183.93049436), 'vrad': array(-95.61995366), 'vtan': array(50.29713778), 'tperi': array(13.74944722), 'sun_m31_dist': array(759.77298882), 'm31_icrs_xyz': array([561.16268902, 105.8776828 , 501.14004756]), 'alpha': array(3.0057571), 'model_pmra': array(0.15809287), 'model_pmdec': array(-0.09924019), 'model_rv': array(-308.86276056)}\n"
     ]
    },
    {
     "name": "stderr",
     "output_type": "stream",
     "text": [
      "Multiprocess sampling (4 chains in 4 jobs)\n",
      "NUTS: [vtravel_lat, vtravel_lon, vtravel_mag, alpha, ln(1-e), eta, M, r]\n"
     ]
    },
    {
     "data": {
      "text/html": [
       "\n",
       "    <div>\n",
       "        <style>\n",
       "            /* Turns off some styling */\n",
       "            progress {\n",
       "                /* gets rid of default border in Firefox and Opera. */\n",
       "                border: none;\n",
       "                /* Needs to be in here for Safari polyfill so background images work as expected. */\n",
       "                background-size: auto;\n",
       "            }\n",
       "            .progress-bar-interrupted, .progress-bar-interrupted::-webkit-progress-bar {\n",
       "                background: #F44336;\n",
       "            }\n",
       "        </style>\n",
       "      <progress value='24000' class='' max='24000' style='width:300px; height:20px; vertical-align: middle;'></progress>\n",
       "      100.00% [24000/24000 00:52<00:00 Sampling 4 chains, 13 divergences]\n",
       "    </div>\n",
       "    "
      ],
      "text/plain": [
       "<IPython.core.display.HTML object>"
      ]
     },
     "metadata": {},
     "output_type": "display_data"
    },
    {
     "name": "stderr",
     "output_type": "stream",
     "text": [
      "INFO (theano.gof.compilelock): Waiting for existing lock by process '51214' (I am process '51233')\n",
      "INFO (theano.gof.compilelock): To manually release the lock, delete /Users/katiechambe/.theano/compiledir_macOS-10.15.7-x86_64-i386-64bit-i386-3.9.5-64/lock_dir\n",
      "Sampling 4 chains for 4_000 tune and 2_000 draw iterations (16_000 + 8_000 draws total) took 63 seconds.\n",
      "There was 1 divergence after tuning. Increase `target_accept` or reparameterize.\n",
      "There were 5 divergences after tuning. Increase `target_accept` or reparameterize.\n",
      "There were 7 divergences after tuning. Increase `target_accept` or reparameterize.\n",
      "The number of effective samples is smaller than 25% for some parameters.\n"
     ]
    },
    {
     "name": "stdout",
     "output_type": "stream",
     "text": [
      "2 <xarray.DataArray 'M' ()>\n",
      "array(0.39660082)\n"
     ]
    },
    {
     "name": "stderr",
     "output_type": "stream",
     "text": [
      "optimizing logp for variables: [vtravel_lat, vtravel_lon, vtravel_mag, alpha, ln(1-e), eta, M, r]\n"
     ]
    },
    {
     "data": {
      "text/html": [
       "\n",
       "    <div>\n",
       "        <style>\n",
       "            /* Turns off some styling */\n",
       "            progress {\n",
       "                /* gets rid of default border in Firefox and Opera. */\n",
       "                border: none;\n",
       "                /* Needs to be in here for Safari polyfill so background images work as expected. */\n",
       "                background-size: auto;\n",
       "            }\n",
       "            .progress-bar-interrupted, .progress-bar-interrupted::-webkit-progress-bar {\n",
       "                background: #F44336;\n",
       "            }\n",
       "        </style>\n",
       "      <progress value='79' class='' max='79' style='width:300px; height:20px; vertical-align: middle;'></progress>\n",
       "      100.00% [79/79 00:00<00:00 logp = 3.783e+01]\n",
       "    </div>\n",
       "    "
      ],
      "text/plain": [
       "<IPython.core.display.HTML object>"
      ]
     },
     "metadata": {},
     "output_type": "display_data"
    },
    {
     "name": "stdout",
     "output_type": "stream",
     "text": [
      "\n"
     ]
    },
    {
     "name": "stderr",
     "output_type": "stream",
     "text": [
      "message: Optimization terminated successfully.\n",
      "logp: -2523.0451722586226 -> 37.83409696056382\n"
     ]
    },
    {
     "name": "stdout",
     "output_type": "stream",
     "text": [
      "{'r_interval__': array(-2.63442003), 'M_interval__': array(-1.59558933), 'eta_angle__': array([-3.77661643, -2.39523871]), 'ln(1-e)_interval__': array(1.0414772), 'alpha_angle__': array([ 0.60151006, -4.4314993 ]), 'vtravel_mag': array(33.12070589), 'vtravel_lon': array(0.96576995), 'vtravel_lat': array(-0.58210747), 'r': array(762.86232605), 'M': array(3.78767991), 'eta': array(-2.13600454), 'sineta': array(-0.8444771), 'coseta': array(-0.53559166), 'ln(1-e)': array(-2.60865069), 'e': array(0.92636617), 'a': array(509.88222542), 'vscale': array(182.80398765), 'vrad': array(-95.58284092), 'vtan': array(46.01691418), 'tperi': array(13.74943795), 'sun_m31_dist': array(758.83707591), 'm31_icrs_xyz': array([560.4714307 , 105.74725926, 500.52272707]), 'alpha': array(3.00668204), 'model_pmra': array(0.16394254), 'model_pmdec': array(-0.09836818), 'model_rv': array(-308.86264003)}\n"
     ]
    },
    {
     "name": "stderr",
     "output_type": "stream",
     "text": [
      "Multiprocess sampling (4 chains in 4 jobs)\n",
      "NUTS: [vtravel_lat, vtravel_lon, vtravel_mag, alpha, ln(1-e), eta, M, r]\n"
     ]
    },
    {
     "data": {
      "text/html": [
       "\n",
       "    <div>\n",
       "        <style>\n",
       "            /* Turns off some styling */\n",
       "            progress {\n",
       "                /* gets rid of default border in Firefox and Opera. */\n",
       "                border: none;\n",
       "                /* Needs to be in here for Safari polyfill so background images work as expected. */\n",
       "                background-size: auto;\n",
       "            }\n",
       "            .progress-bar-interrupted, .progress-bar-interrupted::-webkit-progress-bar {\n",
       "                background: #F44336;\n",
       "            }\n",
       "        </style>\n",
       "      <progress value='24000' class='' max='24000' style='width:300px; height:20px; vertical-align: middle;'></progress>\n",
       "      100.00% [24000/24000 00:47<00:00 Sampling 4 chains, 1 divergences]\n",
       "    </div>\n",
       "    "
      ],
      "text/plain": [
       "<IPython.core.display.HTML object>"
      ]
     },
     "metadata": {},
     "output_type": "display_data"
    },
    {
     "name": "stderr",
     "output_type": "stream",
     "text": [
      "INFO (theano.gof.compilelock): Waiting for existing lock by process '51394' (I am process '51419')\n",
      "INFO (theano.gof.compilelock): To manually release the lock, delete /Users/katiechambe/.theano/compiledir_macOS-10.15.7-x86_64-i386-64bit-i386-3.9.5-64/lock_dir\n",
      "Sampling 4 chains for 4_000 tune and 2_000 draw iterations (16_000 + 8_000 draws total) took 57 seconds.\n",
      "There was 1 divergence after tuning. Increase `target_accept` or reparameterize.\n"
     ]
    },
    {
     "name": "stdout",
     "output_type": "stream",
     "text": [
      "4 <xarray.DataArray 'M' ()>\n",
      "array(0.34546094)\n"
     ]
    },
    {
     "name": "stderr",
     "output_type": "stream",
     "text": [
      "optimizing logp for variables: [vtravel_lat, vtravel_lon, vtravel_mag, alpha, ln(1-e), eta, M, r]\n"
     ]
    },
    {
     "data": {
      "text/html": [
       "\n",
       "    <div>\n",
       "        <style>\n",
       "            /* Turns off some styling */\n",
       "            progress {\n",
       "                /* gets rid of default border in Firefox and Opera. */\n",
       "                border: none;\n",
       "                /* Needs to be in here for Safari polyfill so background images work as expected. */\n",
       "                background-size: auto;\n",
       "            }\n",
       "            .progress-bar-interrupted, .progress-bar-interrupted::-webkit-progress-bar {\n",
       "                background: #F44336;\n",
       "            }\n",
       "        </style>\n",
       "      <progress value='77' class='' max='77' style='width:300px; height:20px; vertical-align: middle;'></progress>\n",
       "      100.00% [77/77 00:00<00:00 logp = 3.920e+01]\n",
       "    </div>\n",
       "    "
      ],
      "text/plain": [
       "<IPython.core.display.HTML object>"
      ]
     },
     "metadata": {},
     "output_type": "display_data"
    },
    {
     "name": "stdout",
     "output_type": "stream",
     "text": [
      "\n"
     ]
    },
    {
     "name": "stderr",
     "output_type": "stream",
     "text": [
      "message: Optimization terminated successfully.\n",
      "logp: -2694.6676732543237 -> 39.19831165296814\n"
     ]
    },
    {
     "name": "stdout",
     "output_type": "stream",
     "text": [
      "{'r_interval__': array(-2.63493576), 'M_interval__': array(-1.60345978), 'eta_angle__': array([-3.7746564, -2.3983264]), 'ln(1-e)_interval__': array(1.01549967), 'alpha_angle__': array([ 0.59969625, -4.43174504]), 'vtravel_mag': array(33.13901731), 'vtravel_lon': array(0.96538616), 'vtravel_lat': array(-0.58163702), 'r': array(762.54342459), 'M': array(3.76622305), 'eta': array(-2.13682232), 'sineta': array(-0.84403882), 'coseta': array(-0.53628208), 'ln(1-e)': array(-2.65904937), 'e': array(0.92998525), 'a': array(508.79155912), 'vscale': array(182.48074113), 'vrad': array(-95.57203576), 'vtan': array(44.75732414), 'tperi': array(13.74943557), 'sun_m31_dist': array(758.51815998), 'm31_icrs_xyz': array([560.23588175, 105.70281693, 500.31237273]), 'alpha': array(3.00709133), 'model_pmra': array(0.16567889), 'model_pmdec': array(-0.09811118), 'model_rv': array(-308.86259905)}\n"
     ]
    },
    {
     "name": "stderr",
     "output_type": "stream",
     "text": [
      "Multiprocess sampling (4 chains in 4 jobs)\n",
      "NUTS: [vtravel_lat, vtravel_lon, vtravel_mag, alpha, ln(1-e), eta, M, r]\n"
     ]
    },
    {
     "data": {
      "text/html": [
       "\n",
       "    <div>\n",
       "        <style>\n",
       "            /* Turns off some styling */\n",
       "            progress {\n",
       "                /* gets rid of default border in Firefox and Opera. */\n",
       "                border: none;\n",
       "                /* Needs to be in here for Safari polyfill so background images work as expected. */\n",
       "                background-size: auto;\n",
       "            }\n",
       "            .progress-bar-interrupted, .progress-bar-interrupted::-webkit-progress-bar {\n",
       "                background: #F44336;\n",
       "            }\n",
       "        </style>\n",
       "      <progress value='24000' class='' max='24000' style='width:300px; height:20px; vertical-align: middle;'></progress>\n",
       "      100.00% [24000/24000 00:45<00:00 Sampling 4 chains, 2 divergences]\n",
       "    </div>\n",
       "    "
      ],
      "text/plain": [
       "<IPython.core.display.HTML object>"
      ]
     },
     "metadata": {},
     "output_type": "display_data"
    },
    {
     "name": "stderr",
     "output_type": "stream",
     "text": [
      "INFO (theano.gof.compilelock): Waiting for existing lock by process '51546' (I am process '51565')\n",
      "INFO (theano.gof.compilelock): To manually release the lock, delete /Users/katiechambe/.theano/compiledir_macOS-10.15.7-x86_64-i386-64bit-i386-3.9.5-64/lock_dir\n",
      "Sampling 4 chains for 4_000 tune and 2_000 draw iterations (16_000 + 8_000 draws total) took 55 seconds.\n",
      "There were 2 divergences after tuning. Increase `target_accept` or reparameterize.\n"
     ]
    },
    {
     "name": "stdout",
     "output_type": "stream",
     "text": [
      "8 <xarray.DataArray 'M' ()>\n",
      "array(0.32649246)\n"
     ]
    },
    {
     "name": "stderr",
     "output_type": "stream",
     "text": [
      "optimizing logp for variables: [vtravel_lat, vtravel_lon, vtravel_mag, alpha, ln(1-e), eta, M, r]\n"
     ]
    },
    {
     "data": {
      "text/html": [
       "\n",
       "    <div>\n",
       "        <style>\n",
       "            /* Turns off some styling */\n",
       "            progress {\n",
       "                /* gets rid of default border in Firefox and Opera. */\n",
       "                border: none;\n",
       "                /* Needs to be in here for Safari polyfill so background images work as expected. */\n",
       "                background-size: auto;\n",
       "            }\n",
       "            .progress-bar-interrupted, .progress-bar-interrupted::-webkit-progress-bar {\n",
       "                background: #F44336;\n",
       "            }\n",
       "        </style>\n",
       "      <progress value='94' class='' max='94' style='width:300px; height:20px; vertical-align: middle;'></progress>\n",
       "      100.00% [94/94 00:00<00:00 logp = 4.058e+01]\n",
       "    </div>\n",
       "    "
      ],
      "text/plain": [
       "<IPython.core.display.HTML object>"
      ]
     },
     "metadata": {},
     "output_type": "display_data"
    },
    {
     "name": "stdout",
     "output_type": "stream",
     "text": [
      "\n"
     ]
    },
    {
     "name": "stderr",
     "output_type": "stream",
     "text": [
      "message: Optimization terminated successfully.\n",
      "logp: -3385.3165603204884 -> 40.57879187584513\n"
     ]
    },
    {
     "name": "stdout",
     "output_type": "stream",
     "text": [
      "{'r_interval__': array(-2.63507715), 'M_interval__': array(-1.60551345), 'eta_angle__': array([-3.77415811, -2.39911032]), 'ln(1-e)_interval__': array(1.00859583), 'alpha_angle__': array([ 0.59916783, -4.43181652]), 'vtravel_mag': array(33.14398864), 'vtravel_lon': array(0.9652821), 'vtravel_lat': array(-0.58150898), 'r': array(762.45602404), 'M': array(3.76064265), 'eta': array(-2.13703003), 'sineta': array(-0.84392741), 'coseta': array(-0.53645738), 'ln(1-e)': array(-2.6725474), 'e': array(0.93092396), 'a': array(508.50706978), 'vscale': array(182.39650073), 'vrad': array(-95.56921125), 'vtan': array(44.42679564), 'tperi': array(13.74943497), 'sun_m31_dist': array(758.43075546), 'm31_icrs_xyz': array([560.17132543, 105.69063673, 500.25472142]), 'alpha': array(3.00721056), 'model_pmra': array(0.16613582), 'model_pmdec': array(-0.09804376), 'model_rv': array(-308.86258794)}\n"
     ]
    },
    {
     "name": "stderr",
     "output_type": "stream",
     "text": [
      "Multiprocess sampling (4 chains in 4 jobs)\n",
      "NUTS: [vtravel_lat, vtravel_lon, vtravel_mag, alpha, ln(1-e), eta, M, r]\n"
     ]
    },
    {
     "data": {
      "text/html": [
       "\n",
       "    <div>\n",
       "        <style>\n",
       "            /* Turns off some styling */\n",
       "            progress {\n",
       "                /* gets rid of default border in Firefox and Opera. */\n",
       "                border: none;\n",
       "                /* Needs to be in here for Safari polyfill so background images work as expected. */\n",
       "                background-size: auto;\n",
       "            }\n",
       "            .progress-bar-interrupted, .progress-bar-interrupted::-webkit-progress-bar {\n",
       "                background: #F44336;\n",
       "            }\n",
       "        </style>\n",
       "      <progress value='24000' class='' max='24000' style='width:300px; height:20px; vertical-align: middle;'></progress>\n",
       "      100.00% [24000/24000 00:46<00:00 Sampling 4 chains, 0 divergences]\n",
       "    </div>\n",
       "    "
      ],
      "text/plain": [
       "<IPython.core.display.HTML object>"
      ]
     },
     "metadata": {},
     "output_type": "display_data"
    },
    {
     "name": "stderr",
     "output_type": "stream",
     "text": [
      "INFO (theano.gof.compilelock): Waiting for existing lock by process '51727' (I am process '51752')\n",
      "INFO (theano.gof.compilelock): To manually release the lock, delete /Users/katiechambe/.theano/compiledir_macOS-10.15.7-x86_64-i386-64bit-i386-3.9.5-64/lock_dir\n",
      "Sampling 4 chains for 4_000 tune and 2_000 draw iterations (16_000 + 8_000 draws total) took 55 seconds.\n"
     ]
    },
    {
     "name": "stdout",
     "output_type": "stream",
     "text": [
      "16 <xarray.DataArray 'M' ()>\n",
      "array(0.32454385)\n",
      "ALL. DAMN. DONE.\n"
     ]
    }
   ],
   "source": [
    "# ------------------------------------------- #\n",
    "# this bit of the code runs pymc3 for various #\n",
    "# values of the travel velocity of the disk   #\n",
    "# ------------------------------------------- #\n",
    "# includes ~0.1% error on velocity measure    #\n",
    "# ------------------------------------------- #\n",
    "\n",
    "modelChoices = [\"fiducial2021\",\"vdm2012\"]\n",
    "# pm_errs = np.array([1,1.5,2,4,10,20,50,75,100])\n",
    "\n",
    "# pm_errs = np.array([1,10])\n",
    "pm_errs = np.array([1,2,4,8,16])\n",
    "\n",
    "for dataset in modelChoices:\n",
    "    print(f'working on {dataset}')\n",
    "#     if dataset == \"fiducial2021\":\n",
    "#         continue\n",
    "    for improv in pm_errs:\n",
    "        model = (TimingArgumentModelPymc3.from_dataset(f\"../datasets/{dataset}.ecsv\", \n",
    "                                                      include_vtravel=True))\n",
    "        \n",
    "#         params = model_default.__dict__\n",
    "#         print(params[\"pm_err\"])\n",
    "#         params[\"pm_err\"] /= improv\n",
    "#         print(params[\"pm_err\"])\n",
    "        \n",
    "#         model = TimingArgumentModelPymc3(**params)\n",
    "        \n",
    "        with model.pymc3_model:\n",
    "            pm.set_data({\n",
    "            'obs_pmra_err':model.pm_err[0].to_value(model.units['angular speed'])/improv,\n",
    "            'obs_pmdec_err':model.pm_err[1].to_value(model.units['angular speed'])/improv\n",
    "            })\n",
    "            start = {\n",
    "            'r': 770.,  \n",
    "            'M': 4.2, \n",
    "            'eta': 4.5,\n",
    "            'ln(1-e)': -3,\n",
    "            'alpha': 0.5\n",
    "            }\n",
    "            res = pmx.optimize(start=start)\n",
    "            print(repr(res))\n",
    "\n",
    "            samples = pmx.sample(return_inferencedata=True, \n",
    "                                 start=res, tune=4000, draws=2000)\n",
    "\n",
    "        samples.to_json(f\"../pymc3-data/{dataset}_pmimprov_{improv}.json\")\n",
    "        print(improv,np.std(samples.posterior.M))\n",
    "print(\"ALL. DAMN. DONE.\")"
   ]
  },
  {
   "cell_type": "code",
   "execution_count": null,
   "id": "769deb91",
   "metadata": {},
   "outputs": [],
   "source": []
  },
  {
   "cell_type": "code",
   "execution_count": 24,
   "id": "b7385cf0",
   "metadata": {},
   "outputs": [
    {
     "name": "stderr",
     "output_type": "stream",
     "text": [
      "optimizing logp for variables: [vtravel_lat, vtravel_lon, vtravel_mag, alpha, ln(1-e), eta, M, r]\n"
     ]
    },
    {
     "data": {
      "text/html": [
       "\n",
       "    <div>\n",
       "        <style>\n",
       "            /* Turns off some styling */\n",
       "            progress {\n",
       "                /* gets rid of default border in Firefox and Opera. */\n",
       "                border: none;\n",
       "                /* Needs to be in here for Safari polyfill so background images work as expected. */\n",
       "                background-size: auto;\n",
       "            }\n",
       "            .progress-bar-interrupted, .progress-bar-interrupted::-webkit-progress-bar {\n",
       "                background: #F44336;\n",
       "            }\n",
       "        </style>\n",
       "      <progress value='72' class='' max='72' style='width:300px; height:20px; vertical-align: middle;'></progress>\n",
       "      100.00% [72/72 00:00<00:00 logp = 4.507e+01]\n",
       "    </div>\n",
       "    "
      ],
      "text/plain": [
       "<IPython.core.display.HTML object>"
      ]
     },
     "metadata": {},
     "output_type": "display_data"
    },
    {
     "name": "stdout",
     "output_type": "stream",
     "text": [
      "\n"
     ]
    },
    {
     "name": "stderr",
     "output_type": "stream",
     "text": [
      "message: Optimization terminated successfully.\n",
      "logp: -2260.4941670852018 -> 45.072829861027785\n"
     ]
    },
    {
     "name": "stdout",
     "output_type": "stream",
     "text": [
      "{'r_interval__': array(-2.63133102), 'M_interval__': array(-1.29030243), 'eta_angle__': array([-3.91867302, -2.1549946 ]), 'ln(1-e)_interval__': array(1.58026439), 'alpha_angle__': array([4.40737222, 0.75833377]), 'vtravel_mag': array(32.72678928), 'vtravel_lon': array(0.97436866), 'vtravel_lat': array(-0.60140203), 'r': array(764.77537367), 'M': array(4.70813169), 'eta': array(-2.07358555), 'sineta': array(-0.87624193), 'coseta': array(-0.48187144), 'ln(1-e)': array(-1.70758042), 'e': array(0.81869606), 'a': array(548.42018359), 'vscale': array(196.51764549), 'vrad': array(-101.09456679), 'vtan': array(80.9216582), 'tperi': array(13.74967037), 'sun_m31_dist': array(760.83246699), 'm31_icrs_xyz': array([561.94521173, 106.02532571, 501.8388707 ]), 'alpha': array(1.40040443), 'model_pmra': array(0.24125054), 'model_pmdec': array(-0.18972886), 'model_rv': array(-308.86151893)}\n"
     ]
    },
    {
     "name": "stderr",
     "output_type": "stream",
     "text": [
      "Multiprocess sampling (4 chains in 4 jobs)\n",
      "NUTS: [vtravel_lat, vtravel_lon, vtravel_mag, alpha, ln(1-e), eta, M, r]\n"
     ]
    },
    {
     "data": {
      "text/html": [
       "\n",
       "    <div>\n",
       "        <style>\n",
       "            /* Turns off some styling */\n",
       "            progress {\n",
       "                /* gets rid of default border in Firefox and Opera. */\n",
       "                border: none;\n",
       "                /* Needs to be in here for Safari polyfill so background images work as expected. */\n",
       "                background-size: auto;\n",
       "            }\n",
       "            .progress-bar-interrupted, .progress-bar-interrupted::-webkit-progress-bar {\n",
       "                background: #F44336;\n",
       "            }\n",
       "        </style>\n",
       "      <progress value='24000' class='' max='24000' style='width:300px; height:20px; vertical-align: middle;'></progress>\n",
       "      100.00% [24000/24000 01:14<00:00 Sampling 4 chains, 40 divergences]\n",
       "    </div>\n",
       "    "
      ],
      "text/plain": [
       "<IPython.core.display.HTML object>"
      ]
     },
     "metadata": {},
     "output_type": "display_data"
    },
    {
     "name": "stderr",
     "output_type": "stream",
     "text": [
      "INFO (theano.gof.compilelock): Waiting for existing lock by process '18098' (I am process '18123')\n",
      "INFO (theano.gof.compilelock): To manually release the lock, delete /Users/katiechambe/.theano/compiledir_macOS-10.15.7-x86_64-i386-64bit-i386-3.9.5-64/lock_dir\n",
      "Sampling 4 chains for 4_000 tune and 2_000 draw iterations (16_000 + 8_000 draws total) took 84 seconds.\n",
      "There were 29 divergences after tuning. Increase `target_accept` or reparameterize.\n",
      "There were 8 divergences after tuning. Increase `target_accept` or reparameterize.\n",
      "There was 1 divergence after tuning. Increase `target_accept` or reparameterize.\n",
      "There were 2 divergences after tuning. Increase `target_accept` or reparameterize.\n",
      "The number of effective samples is smaller than 10% for some parameters.\n"
     ]
    },
    {
     "name": "stdout",
     "output_type": "stream",
     "text": [
      "M: 4.70 +/- 0.67\n",
      "r: 764.58 +/- 10.89\n"
     ]
    }
   ],
   "source": [
    "model = TimingArgumentModelPymc3.from_dataset(f\"../datasets/{dataset}.ecsv\", \n",
    "                                                      include_vtravel=True,\n",
    "                                                      vtravel_mag=32,\n",
    "                                                      vtravel_mag_err=1e-3)\n",
    "with model.pymc3_model:\n",
    "    start = {\n",
    "    'r': 770.,  \n",
    "    'M': 4.2, \n",
    "    'eta': 4.5,\n",
    "    'ln(1-e)': -3,\n",
    "    'alpha': 0.5\n",
    "    }\n",
    "    res = pmx.optimize(start=start)\n",
    "    print(repr(res))\n",
    "\n",
    "    samples = pmx.sample(return_inferencedata=True, \n",
    "                         start=res, tune=4000, draws=2000);\n",
    "    \n",
    "for name in ['M', 'r']:\n",
    "    chain = np.asarray(getattr(samples.posterior, name)).ravel()\n",
    "    print(f\"{name}: {chain.mean():.2f} +/- {chain.std():.2f}\")"
   ]
  },
  {
   "cell_type": "code",
   "execution_count": 25,
   "id": "5a3e160e",
   "metadata": {},
   "outputs": [
    {
     "name": "stderr",
     "output_type": "stream",
     "text": [
      "optimizing logp for variables: [vtravel_lat, vtravel_lon, vtravel_mag, alpha, ln(1-e), eta, M, r]\n"
     ]
    },
    {
     "data": {
      "text/html": [
       "\n",
       "    <div>\n",
       "        <style>\n",
       "            /* Turns off some styling */\n",
       "            progress {\n",
       "                /* gets rid of default border in Firefox and Opera. */\n",
       "                border: none;\n",
       "                /* Needs to be in here for Safari polyfill so background images work as expected. */\n",
       "                background-size: auto;\n",
       "            }\n",
       "            .progress-bar-interrupted, .progress-bar-interrupted::-webkit-progress-bar {\n",
       "                background: #F44336;\n",
       "            }\n",
       "        </style>\n",
       "      <progress value='90' class='' max='90' style='width:300px; height:20px; vertical-align: middle;'></progress>\n",
       "      100.00% [90/90 00:00<00:00 logp = 3.678e+01]\n",
       "    </div>\n",
       "    "
      ],
      "text/plain": [
       "<IPython.core.display.HTML object>"
      ]
     },
     "metadata": {},
     "output_type": "display_data"
    },
    {
     "name": "stdout",
     "output_type": "stream",
     "text": [
      "\n"
     ]
    },
    {
     "name": "stderr",
     "output_type": "stream",
     "text": [
      "message: Optimization terminated successfully.\n",
      "logp: -2268.7882167253038 -> 36.77879750386076\n"
     ]
    },
    {
     "name": "stdout",
     "output_type": "stream",
     "text": [
      "{'r_interval__': array(-2.63133109), 'M_interval__': array(-1.29041216), 'eta_angle__': array([-3.91856573, -2.15518963]), 'ln(1-e)_interval__': array(1.58042578), 'alpha_angle__': array([4.40759734, 0.75702452]), 'vtravel_mag': array(32.75084106), 'vtravel_lon': array(0.97436383), 'vtravel_lat': array(-0.60140522), 'r': array(764.77532903), 'M': array(4.70776959), 'eta': array(-2.07363532), 'sineta': array(-0.87621794), 'coseta': array(-0.48191506), 'ln(1-e)': array(-1.70735189), 'e': array(0.81865462), 'a': array(548.41396286), 'vscale': array(196.51120286), 'vrad': array(-101.0822282), 'vtan': array(80.92641658), 'tperi': array(13.74967015), 'sun_m31_dist': array(760.83242234), 'm31_icrs_xyz': array([561.94517875, 106.02531949, 501.83884125]), 'alpha': array(1.40070148), 'model_pmra': array(0.24124424), 'model_pmdec': array(-0.18972762), 'model_rv': array(-308.8615226)}\n"
     ]
    },
    {
     "name": "stderr",
     "output_type": "stream",
     "text": [
      "Multiprocess sampling (4 chains in 4 jobs)\n",
      "NUTS: [vtravel_lat, vtravel_lon, vtravel_mag, alpha, ln(1-e), eta, M, r]\n"
     ]
    },
    {
     "data": {
      "text/html": [
       "\n",
       "    <div>\n",
       "        <style>\n",
       "            /* Turns off some styling */\n",
       "            progress {\n",
       "                /* gets rid of default border in Firefox and Opera. */\n",
       "                border: none;\n",
       "                /* Needs to be in here for Safari polyfill so background images work as expected. */\n",
       "                background-size: auto;\n",
       "            }\n",
       "            .progress-bar-interrupted, .progress-bar-interrupted::-webkit-progress-bar {\n",
       "                background: #F44336;\n",
       "            }\n",
       "        </style>\n",
       "      <progress value='24000' class='' max='24000' style='width:300px; height:20px; vertical-align: middle;'></progress>\n",
       "      100.00% [24000/24000 01:09<00:00 Sampling 4 chains, 49 divergences]\n",
       "    </div>\n",
       "    "
      ],
      "text/plain": [
       "<IPython.core.display.HTML object>"
      ]
     },
     "metadata": {},
     "output_type": "display_data"
    },
    {
     "name": "stderr",
     "output_type": "stream",
     "text": [
      "INFO (theano.gof.compilelock): Waiting for existing lock by process '18261' (I am process '18286')\n",
      "INFO (theano.gof.compilelock): To manually release the lock, delete /Users/katiechambe/.theano/compiledir_macOS-10.15.7-x86_64-i386-64bit-i386-3.9.5-64/lock_dir\n",
      "Sampling 4 chains for 4_000 tune and 2_000 draw iterations (16_000 + 8_000 draws total) took 81 seconds.\n",
      "There were 8 divergences after tuning. Increase `target_accept` or reparameterize.\n",
      "There were 34 divergences after tuning. Increase `target_accept` or reparameterize.\n",
      "There were 7 divergences after tuning. Increase `target_accept` or reparameterize.\n",
      "The number of effective samples is smaller than 25% for some parameters.\n"
     ]
    },
    {
     "name": "stdout",
     "output_type": "stream",
     "text": [
      "M: 4.66 +/- 0.64\n",
      "r: 764.47 +/- 10.78\n"
     ]
    }
   ],
   "source": [
    "model = TimingArgumentModelPymc3.from_dataset(f\"../datasets/{dataset}.ecsv\", \n",
    "                                                      include_vtravel=True,\n",
    "                                                      vtravel_mag=32,\n",
    "                                                      vtravel_mag_err=4)\n",
    "with model.pymc3_model:\n",
    "    start = {\n",
    "    'r': 770.,  \n",
    "    'M': 4.2, \n",
    "    'eta': 4.5,\n",
    "    'ln(1-e)': -3,\n",
    "    'alpha': 0.5\n",
    "    }\n",
    "    res = pmx.optimize(start=start)\n",
    "    print(repr(res))\n",
    "\n",
    "    samples = pmx.sample(return_inferencedata=True, \n",
    "                         start=res, tune=4000, draws=2000);\n",
    "    \n",
    "for name in ['M', 'r']:\n",
    "    chain = np.asarray(getattr(samples.posterior, name)).ravel()\n",
    "    print(f\"{name}: {chain.mean():.2f} +/- {chain.std():.2f}\")"
   ]
  },
  {
   "cell_type": "markdown",
   "id": "79fb6801",
   "metadata": {},
   "source": [
    "___"
   ]
  },
  {
   "cell_type": "code",
   "execution_count": null,
   "id": "0a129dda",
   "metadata": {},
   "outputs": [],
   "source": []
  },
  {
   "cell_type": "code",
   "execution_count": null,
   "id": "1a9b5789",
   "metadata": {},
   "outputs": [],
   "source": []
  },
  {
   "cell_type": "markdown",
   "id": "193fd68d",
   "metadata": {},
   "source": [
    "___\n",
    "# Graveyard ⚰️☠️"
   ]
  },
  {
   "cell_type": "code",
   "execution_count": 6,
   "id": "086cb09c",
   "metadata": {},
   "outputs": [],
   "source": [
    "# truths = simulated_truths.copy()\n",
    "# for k in list(samples.posterior.data_vars):\n",
    "#     truths.setdefault(k, np.nan)\n",
    "# truths = None    "
   ]
  },
  {
   "cell_type": "code",
   "execution_count": 7,
   "id": "eaac15d4",
   "metadata": {},
   "outputs": [],
   "source": [
    "# for name in ['M', 'r']:\n",
    "#     chain = np.asarray(getattr(samples.posterior, name)).ravel()\n",
    "#     print(f\"{name}: {chain.mean():.2f} +/- {chain.std():.2f}\")"
   ]
  },
  {
   "cell_type": "code",
   "execution_count": 8,
   "id": "a2e8ea92",
   "metadata": {},
   "outputs": [],
   "source": [
    "# pcl = np.percentile(np.ravel(samples.posterior.M), [16, 50, 84])\n",
    "# err1, err2 = np.diff(pcl)\n",
    "# print(f\"{pcl[1]:.3f} +{err1:.3f} -{err2:.3f}\")"
   ]
  },
  {
   "cell_type": "code",
   "execution_count": 9,
   "id": "c4e5a58a",
   "metadata": {},
   "outputs": [],
   "source": [
    "# for name in ['M', 'r','e']:\n",
    "#     chain = np.asarray(getattr(samples.posterior, name)).ravel()\n",
    "#     print(f\"{name}: {chain.mean():.2f} +/- {chain.std():.2f}\")"
   ]
  },
  {
   "cell_type": "code",
   "execution_count": null,
   "id": "d4778cb0",
   "metadata": {},
   "outputs": [],
   "source": []
  }
 ],
 "metadata": {
  "kernelspec": {
   "display_name": "Python 3 (ipykernel)",
   "language": "python",
   "name": "python3"
  },
  "language_info": {
   "codemirror_mode": {
    "name": "ipython",
    "version": 3
   },
   "file_extension": ".py",
   "mimetype": "text/x-python",
   "name": "python",
   "nbconvert_exporter": "python",
   "pygments_lexer": "ipython3",
   "version": "3.9.5"
  },
  "toc": {
   "base_numbering": 1,
   "nav_menu": {},
   "number_sections": true,
   "sideBar": true,
   "skip_h1_title": false,
   "title_cell": "Table of Contents",
   "title_sidebar": "Contents",
   "toc_cell": false,
   "toc_position": {},
   "toc_section_display": true,
   "toc_window_display": true
  }
 },
 "nbformat": 4,
 "nbformat_minor": 5
}
