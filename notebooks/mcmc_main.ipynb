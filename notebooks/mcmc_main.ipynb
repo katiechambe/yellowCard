{
 "cells": [
  {
   "cell_type": "code",
   "execution_count": null,
   "metadata": {},
   "outputs": [],
   "source": [
    "import sys\n",
    "import os\n",
    "_path = os.path.abspath('../')\n",
    "if _path not in sys.path:\n",
    "    sys.path.insert(0, _path)\n",
    "print('done adding path')\n",
    "    \n",
    "import astropy.coordinates as coord\n",
    "import numpy as np\n",
    "from gala.units import UnitSystem\n",
    "from yellowcard.model import TimingArgumentModel \n",
    "from yellowcard.model_select import *\n",
    "from yellowcard.coordinates import fiducial_m31_c,LocalGroupHalocentric\n",
    "import astropy.units as u\n",
    "from scipy.optimize import minimize\n",
    "from yellowcard.keplerianPlane import LGKepler\n",
    "from numpy.linalg import norm\n",
    "import emcee\n",
    "import arviz as az\n",
    "from schwimmbad import MultiPool \n",
    "import warnings\n",
    "warnings.filterwarnings('ignore')\n",
    "import corner\n",
    "\n",
    "import matplotlib.pyplot as plt\n"
   ]
  },
  {
   "cell_type": "code",
   "execution_count": null,
   "metadata": {},
   "outputs": [],
   "source": [
    "# modelChoice = None\n",
    "# modelChoice = \"vdm_rad\"\n",
    "modelChoice = \"vdm\"\n",
    "# modelChoice = \"fiducial\""
   ]
  },
  {
   "cell_type": "code",
   "execution_count": null,
   "metadata": {},
   "outputs": [],
   "source": [
    "###################################################\n",
    "# testing VDM 2012 with zero transverse velocity! #\n",
    "###################################################\n",
    "if modelChoice == \"vdm_rad\":\n",
    "    model = model_vdm_rad()\n",
    "    title = \"van der Marel 2012 - Radial Only\"\n",
    "elif modelChoice == \"vdm\":\n",
    "    model = model_vdm()\n",
    "    title = \"van der Marel 2012\"\n",
    "elif modelChoice == \"fiducial\":\n",
    "    model = model_fid()\n",
    "    title = \"Fiducial\"\n",
    "else:\n",
    "    model = model_testing()\n",
    "    title = \"Testing model - small dist err\"\n",
    "    print('Warning: test model!!')\n",
    "    "
   ]
  },
  {
   "cell_type": "code",
   "execution_count": null,
   "metadata": {},
   "outputs": [],
   "source": [
    "galcen_m31     = fiducial_m31_c.transform_to(model.galcen_frame)\n",
    "galcen_m31_pos = galcen_m31.data.without_differentials()\n",
    "galcen_m31_vel = galcen_m31.velocity\n",
    "galcen_m31_L   = galcen_m31_pos.cross(galcen_m31_vel)\n",
    "galcen_m31_L   = galcen_m31_L / galcen_m31_L.norm()"
   ]
  },
  {
   "cell_type": "code",
   "execution_count": null,
   "metadata": {},
   "outputs": [],
   "source": [
    "e_init   = 0.9\n",
    "eta_init = 5*u.rad\n",
    "alpha_init = 0*u.rad\n",
    "init_par = {}\n",
    "\n",
    "init_par['lnr'] = np.log(fiducial_m31_c.distance.value)\n",
    "init_par['eParam'] = -3\n",
    "init_par['coseta'] = np.cos(eta_init)\n",
    "init_par['sineta'] = np.sin(eta_init)\n",
    "init_par['lnM'] = np.log((4e12*u.Msun).decompose(model.unit_system).value)\n",
    "# init_par['Lhatlg'] = galcen_m31_L.xyz\n",
    "init_par['cosalpha'] = np.cos(alpha_init)\n",
    "init_par['sinalpha'] = np.sin(alpha_init)"
   ]
  },
  {
   "cell_type": "code",
   "execution_count": null,
   "metadata": {},
   "outputs": [],
   "source": [
    "init_par"
   ]
  },
  {
   "cell_type": "markdown",
   "metadata": {},
   "source": [
    "---\n",
    "## creating first minimization of MCMC "
   ]
  },
  {
   "cell_type": "code",
   "execution_count": null,
   "metadata": {},
   "outputs": [],
   "source": [
    "result = minimize( lambda *args: -model(*args), model.pack_pars(init_par), method='Powell')\n",
    "# result"
   ]
  },
  {
   "cell_type": "markdown",
   "metadata": {},
   "source": [
    "____\n",
    "# MCMC"
   ]
  },
  {
   "cell_type": "code",
   "execution_count": null,
   "metadata": {},
   "outputs": [],
   "source": [
    "nwalkers = 10*len(result.x)\n",
    "sampler_x0 = np.random.normal(result.x, 1e-1, size=(nwalkers,len(result.x)))"
   ]
  },
  {
   "cell_type": "code",
   "execution_count": null,
   "metadata": {},
   "outputs": [],
   "source": [
    "with MultiPool() as pool:\n",
    "    sampler = emcee.EnsembleSampler(nwalkers = nwalkers, \n",
    "                                    ndim=len(result.x), \n",
    "                                    log_prob_fn=model, \n",
    "                                    pool=pool)\n",
    "    state = sampler.run_mcmc(sampler_x0, \n",
    "                             nsteps = 1000, \n",
    "                             progress=True)  # burn in\n",
    "    sampler.reset()\n",
    "    state = sampler.run_mcmc(state, \n",
    "                             nsteps = 2000, \n",
    "                             progress=True)"
   ]
  },
  {
   "cell_type": "markdown",
   "metadata": {},
   "source": [
    "----\n",
    "## creating list of means of each parameter"
   ]
  },
  {
   "cell_type": "code",
   "execution_count": null,
   "metadata": {},
   "outputs": [],
   "source": [
    "everyHundo = np.vstack(sampler.chain[:, ::10])\n",
    "\n",
    "lil = {}\n",
    "col_names = [\"lnr\",\"eParam\", \"coseta\", \"sineta\", \"lnM\", \"cosalpha\", \"sinalpha\"]\n",
    "for i in range(len(col_names)):\n",
    "    lil[col_names[i]] = everyHundo[:,i]\n",
    "\n",
    "means = model.whats_this_mean(lil)\n",
    "means"
   ]
  },
  {
   "cell_type": "markdown",
   "metadata": {},
   "source": [
    "---\n",
    "## figures for full sampled set of data"
   ]
  },
  {
   "cell_type": "code",
   "execution_count": null,
   "metadata": {},
   "outputs": [],
   "source": [
    "tulips = az.from_emcee(sampler,\n",
    "                       var_names=[\"ln r\",\"ln(1-e)\", \"coseta\", \"sineta\", \"ln M\", \"cosalpha\", \"sinalpha\"])\n",
    "lookout = az.convert_to_inference_data(model.whats_this(lil))\n",
    "looks = az.convert_to_dataset(lookout).to_array()"
   ]
  },
  {
   "cell_type": "code",
   "execution_count": null,
   "metadata": {},
   "outputs": [],
   "source": [
    "az.plot_trace(tulips);\n",
    "az.plot_pair(tulips);"
   ]
  },
  {
   "cell_type": "code",
   "execution_count": null,
   "metadata": {},
   "outputs": [],
   "source": [
    "fig = corner.corner(np.vstack(sampler.chain[:, ::10]),\n",
    "                    labels=[\"ln r\",\"ln(1-e)\", \"coseta\", \"sineta\", \"ln M\", \"cosalpha\", \"sinalpha\"],\n",
    "                    show_titles=True)\n",
    "ii = 0\n",
    "fig.text(0.8, 0.63,\"Means\",fontsize=20)\n",
    "for key, val in means.items():\n",
    "    try:\n",
    "        val = val.value\n",
    "    except AttributeError:\n",
    "        val\n",
    "    fig.text(0.8,0.6-0.02*ii,key+\"=%.2f\" % val,fontsize=20)\n",
    "    ii+=1\n",
    "fig.suptitle(title,fontsize=20)\n",
    "plt.show()"
   ]
  },
  {
   "cell_type": "markdown",
   "metadata": {},
   "source": [
    "___\n",
    "## the plots below are for the transformed variables"
   ]
  },
  {
   "cell_type": "code",
   "execution_count": null,
   "metadata": {},
   "outputs": [],
   "source": [
    "az.plot_trace(lookout);\n",
    "az.plot_pair(lookout);"
   ]
  },
  {
   "cell_type": "markdown",
   "metadata": {},
   "source": [
    "----\n",
    "## some extra testing stuff"
   ]
  },
  {
   "cell_type": "code",
   "execution_count": null,
   "metadata": {},
   "outputs": [],
   "source": [
    "# meanies = np.mean(np.vstack(sampler.chain[:, ::100]), axis=0)\n",
    "# whats_this_mean(model.unpack_pars(meanies))"
   ]
  },
  {
   "cell_type": "code",
   "execution_count": null,
   "metadata": {},
   "outputs": [],
   "source": [
    "# whats_this(par_dict)"
   ]
  },
  {
   "cell_type": "code",
   "execution_count": null,
   "metadata": {},
   "outputs": [],
   "source": [
    "# # def whats_this_mean(par_dict):\n",
    "# #         ''' you can tell that i hard coded this function :) '''\n",
    "# #         what_dict = {}\n",
    "# #         what_dict['r'] = np.mean(np.exp(par_dict['lnr']))*u.kpc\n",
    "# #         what_dict['e'] = np.mean(1 - np.exp(par_dict['eParam']))\n",
    "# #         etta = np.arctan2(par_dict['sineta'],par_dict['coseta']) # *u.rad\n",
    "# #         what_dict['eta'] = np.mean(etta%(2*np.pi))\n",
    "# #         what_dict['M'] = np.mean(np.exp(par_dict['lnM'])*model.unit_system['mass'])\n",
    "# #         allpha = np.arctan2(par_dict['sinalpha'],par_dict['cosalpha']) # *u.rad\n",
    "# #         what_dict['alpha'] = np.mean(allpha%(2*np.pi))\n",
    "# #         return what_dict\n",
    "\n",
    "\n",
    "\n",
    "# def whats_this(par_dict):\n",
    "#         ''' you can tell that i hard coded this function :) '''\n",
    "#         what_dict = {}\n",
    "#         what_dict['r'] = np.exp(par_dict['lnr'])\n",
    "#         what_dict['e'] = 1 - np.exp(par_dict['eParam'])\n",
    "#         etta = np.arctan2(par_dict['sineta'],par_dict['coseta']) # *u.rad\n",
    "#         what_dict['eta'] = etta%(2*np.pi)\n",
    "#         what_dict['M'] = np.exp(par_dict['lnM'])\n",
    "#         allpha = np.arctan2(par_dict['sinalpha'],par_dict['cosalpha']) # *u.rad\n",
    "#         what_dict['alpha'] = allpha%(2*np.pi)\n",
    "#         return what_dict"
   ]
  },
  {
   "cell_type": "code",
   "execution_count": null,
   "metadata": {},
   "outputs": [],
   "source": [
    "# lil"
   ]
  },
  {
   "cell_type": "code",
   "execution_count": null,
   "metadata": {},
   "outputs": [],
   "source": [
    "# whats_this(lil)"
   ]
  },
  {
   "cell_type": "code",
   "execution_count": null,
   "metadata": {},
   "outputs": [],
   "source": [
    "# last_pars = model.unpack_pars(sampler.chain[:, -1].T)\n",
    "# last_Lhatlg = coord.CartesianRepresentation(last_pars['Lhatlg'])\n",
    "# last_Lhatlg_sph = last_Lhatlg.represent_as(coord.UnitSphericalRepresentation)\n",
    "# plt.scatter(last_Lhatlg_sph.lon, last_Lhatlg_sph.lat)\n",
    "# plt.xlim(0, 2*np.pi)\n",
    "# plt.ylim(-np.pi, np.pi)"
   ]
  }
 ],
 "metadata": {
  "kernelspec": {
   "display_name": "adrian conda",
   "language": "python",
   "name": "conda-adrian"
  },
  "language_info": {
   "codemirror_mode": {
    "name": "ipython",
    "version": 3
   },
   "file_extension": ".py",
   "mimetype": "text/x-python",
   "name": "python",
   "nbconvert_exporter": "python",
   "pygments_lexer": "ipython3",
   "version": "3.7.3"
  }
 },
 "nbformat": 4,
 "nbformat_minor": 4
}
