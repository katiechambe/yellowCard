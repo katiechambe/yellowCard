{
 "cells": [
  {
   "cell_type": "code",
   "execution_count": 2,
   "id": "ab92ca3a",
   "metadata": {},
   "outputs": [],
   "source": [
    "import astropy.coordinates as coord\n",
    "import numpy as np\n",
    "from gala.units import UnitSystem\n",
    "from yellowcard.model import TimingArgumentModel \n",
    "from yellowcard.coordinates import fiducial_m31_c\n",
    "import astropy.units as u\n",
    "from scipy.optimize import minimize\n",
    "import emcee\n",
    "import arviz as az\n",
    "\n",
    "import matplotlib.pyplot as plt\n"
   ]
  },
  {
   "cell_type": "code",
   "execution_count": 3,
   "id": "4053b540",
   "metadata": {},
   "outputs": [],
   "source": [
    "plt.rcParams.update({'font.size':22,'text.usetex':False})"
   ]
  },
  {
   "cell_type": "code",
   "execution_count": 5,
   "id": "66963df9",
   "metadata": {},
   "outputs": [],
   "source": [
    "model = TimingArgumentModel(distance = fiducial_m31_c.distance,\n",
    "                            pm = u.Quantity([fiducial_m31_c.pm_ra_cosdec, fiducial_m31_c.pm_dec]),\n",
    "                            radial_velocity = fiducial_m31_c.radial_velocity,\n",
    "                            tperi = 13.7*u.Gyr,\n",
    "                            distance_err = 10*u.kpc,\n",
    "                            pm_err = u.Quantity([10*u.microarcsecond/u.yr, 10*u.microarcsecond/u.yr]),\n",
    "                            radial_velocity_err = 10 * u.km / u.s,\n",
    "                            tperi_err = .25 * u.Gyr,\n",
    "                            )"
   ]
  },
  {
   "cell_type": "code",
   "execution_count": 6,
   "id": "29d329f8",
   "metadata": {},
   "outputs": [],
   "source": [
    "galcen_m31     = fiducial_m31_c.transform_to(model.galcen_frame)\n",
    "galcen_m31_pos = galcen_m31.data.without_differentials()\n",
    "galcen_m31_vel = galcen_m31.velocity\n",
    "galcen_m31_L   = galcen_m31_pos.cross(galcen_m31_vel)\n",
    "galcen_m31_L   = galcen_m31_L / galcen_m31_L.norm()"
   ]
  },
  {
   "cell_type": "code",
   "execution_count": 7,
   "id": "ceb31e85",
   "metadata": {},
   "outputs": [],
   "source": [
    "e_init   = 0.9\n",
    "eta_init = 5*u.rad\n",
    "init_par = {}\n",
    "\n",
    "init_par['a'] = fiducial_m31_c.distance.value/(1-e_init*np.cos(eta_init))\n",
    "init_par['ecoseta'] = e_init*np.cos(eta_init)\n",
    "init_par['esineta'] = e_init*np.sin(eta_init)\n",
    "init_par['M'] = (4e12*u.Msun).decompose(model.unit_system).value\n",
    "init_par['Lhatlg'] = galcen_m31_L.xyz"
   ]
  },
  {
   "cell_type": "code",
   "execution_count": null,
   "id": "008af225",
   "metadata": {},
   "outputs": [],
   "source": [
    "init_par"
   ]
  },
  {
   "cell_type": "code",
   "execution_count": 8,
   "id": "7c12d7d9",
   "metadata": {},
   "outputs": [
    {
     "name": "stdout",
     "output_type": "stream",
     "text": [
      "/Users/katiechambe/Documents/Research/projects/yellowCard/yellowcard/keplerianPlane.py:61: RuntimeWarning: invalid value encountered in sqrt\n",
      "  return 2 * np.arctan( np.sqrt(A) * B )\n",
      "\n",
      "/Users/katiechambe/Documents/Research/projects/yellowCard/yellowcard/keplerianPlane.py:53: RuntimeWarning: invalid value encountered in double_scalars\n",
      "  B = ( 1 - self.e**2 )**(1/2)\n",
      "\n",
      "/Users/katiechambe/miniconda3/envs/BADS/lib/python3.9/site-packages/scipy/optimize/optimize.py:2215: RuntimeWarning: invalid value encountered in double_scalars\n",
      "  tmp2 = (x - v) * (fx - fw)\n",
      "\n",
      "/Users/katiechambe/miniconda3/envs/BADS/lib/python3.9/site-packages/scipy/optimize/optimize.py:2216: RuntimeWarning: invalid value encountered in double_scalars\n",
      "  p = (x - v) * tmp2 - (x - w) * tmp1\n",
      "\n"
     ]
    }
   ],
   "source": [
    "result = minimize( lambda *args: -model(*args), model.pack_pars(init_par), method='Powell')"
   ]
  },
  {
   "cell_type": "code",
   "execution_count": 9,
   "id": "d70aabec",
   "metadata": {},
   "outputs": [],
   "source": [
    "sampler = emcee.EnsembleSampler(nwalkers = 8*len(result.x), ndim=len(result.x), log_prob_fn=model)"
   ]
  },
  {
   "cell_type": "code",
   "execution_count": 10,
   "id": "2e5c31c3",
   "metadata": {},
   "outputs": [],
   "source": [
    "sampler_x0 = np.random.normal(result.x, 1e-2, size=(sampler.nwalkers,len(result.x)))"
   ]
  },
  {
   "cell_type": "code",
   "execution_count": null,
   "id": "0b69e21d",
   "metadata": {},
   "outputs": [
    {
     "name": "stderr",
     "output_type": "stream",
     "text": [
      "\r",
      "  0%|                                                  | 0/2000 [00:00<?, ?it/s]"
     ]
    },
    {
     "name": "stdout",
     "output_type": "stream",
     "text": [
      "/Users/katiechambe/miniconda3/envs/BADS/lib/python3.9/site-packages/emcee/moves/red_blue.py:99: RuntimeWarning: invalid value encountered in double_scalars\n",
      "  lnpdiff = f + nlp - state.log_prob[j]\n",
      "\n"
     ]
    },
    {
     "name": "stderr",
     "output_type": "stream",
     "text": [
      "  2%|▉                                        | 44/2000 [00:43<32:19,  1.01it/s]"
     ]
    },
    {
     "name": "stdout",
     "output_type": "stream",
     "text": [
      "/Users/katiechambe/miniconda3/envs/BADS/lib/python3.9/site-packages/astropy/units/quantity.py:479: RuntimeWarning: invalid value encountered in power\n",
      "  result = super().__array_ufunc__(function, method, *arrays, **kwargs)\n",
      "\n"
     ]
    },
    {
     "name": "stderr",
     "output_type": "stream",
     "text": [
      " 67%|█████████████████████████▉             | 1332/2000 [20:56<10:09,  1.10it/s]"
     ]
    }
   ],
   "source": [
    "state = sampler.run_mcmc(sampler_x0, 2000, progress=True)  # burn in\n",
    "sampler.reset()\n",
    "state = sampler.run_mcmc(state, 2000, progress=True)"
   ]
  },
  {
   "cell_type": "code",
   "execution_count": null,
   "id": "209155c1",
   "metadata": {},
   "outputs": [],
   "source": [
    "tulips = az.from_emcee(sampler)"
   ]
  },
  {
   "cell_type": "code",
   "execution_count": null,
   "id": "61cb6b51",
   "metadata": {},
   "outputs": [],
   "source": [
    "az.plot_trace(tulips)"
   ]
  },
  {
   "cell_type": "markdown",
   "id": "ddf98162",
   "metadata": {},
   "source": [
    "---"
   ]
  },
  {
   "cell_type": "code",
   "execution_count": null,
   "id": "f0764594",
   "metadata": {},
   "outputs": [],
   "source": [
    "last_pars = model.unpack_pars(sampler.chain[:, -1].T)\n",
    "last_Lhatlg = coord.CartesianRepresentation(last_pars['Lhatlg'])\n",
    "last_Lhatlg_sph = last_Lhatlg.represent_as(coord.UnitSphericalRepresentation)\n",
    "plt.scatter(last_Lhatlg_sph.lon, last_Lhatlg_sph.lat)\n",
    "plt.xlim(0, 2*np.pi)\n",
    "plt.ylim(-np.pi, np.pi)"
   ]
  }
 ],
 "metadata": {
  "kernelspec": {
   "display_name": "Python 3 (ipykernel)",
   "language": "python",
   "name": "python3"
  },
  "language_info": {
   "codemirror_mode": {
    "name": "ipython",
    "version": 3
   },
   "file_extension": ".py",
   "mimetype": "text/x-python",
   "name": "python",
   "nbconvert_exporter": "python",
   "pygments_lexer": "ipython3",
   "version": "3.9.5"
  },
  "toc": {
   "base_numbering": 1,
   "nav_menu": {},
   "number_sections": true,
   "sideBar": true,
   "skip_h1_title": false,
   "title_cell": "Table of Contents",
   "title_sidebar": "Contents",
   "toc_cell": false,
   "toc_position": {},
   "toc_section_display": true,
   "toc_window_display": false
  }
 },
 "nbformat": 4,
 "nbformat_minor": 5
}
