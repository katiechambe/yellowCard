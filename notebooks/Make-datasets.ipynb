{
 "cells": [
  {
   "cell_type": "code",
   "execution_count": 1,
   "id": "09ee3721",
   "metadata": {
    "ExecuteTime": {
     "end_time": "2021-07-29T14:50:08.329502Z",
     "start_time": "2021-07-29T14:50:07.390845Z"
    }
   },
   "outputs": [],
   "source": [
    "import astropy.coordinates as coord\n",
    "import astropy.table as at\n",
    "import astropy.units as u\n",
    "import numpy as np\n",
    "from yellowcard.coordinates import LocalGroupHalocentric"
   ]
  },
  {
   "cell_type": "code",
   "execution_count": 2,
   "id": "1f610cca",
   "metadata": {
    "ExecuteTime": {
     "end_time": "2021-07-29T14:50:08.333600Z",
     "start_time": "2021-07-29T14:50:08.331378Z"
    }
   },
   "outputs": [],
   "source": [
    "fiducial_ra = 10.68470833 * u.deg\n",
    "fiducial_dec = 41.26875 * u.deg"
   ]
  },
  {
   "cell_type": "markdown",
   "id": "23ec18cd",
   "metadata": {},
   "source": [
    "# van der Marel et al. 2012"
   ]
  },
  {
   "cell_type": "code",
   "execution_count": 3,
   "id": "9e388df4",
   "metadata": {
    "ExecuteTime": {
     "end_time": "2021-07-29T14:50:08.339766Z",
     "start_time": "2021-07-29T14:50:08.336328Z"
    }
   },
   "outputs": [],
   "source": [
    "vdm_galcen_frame = coord.Galactocentric(\n",
    "    galcen_distance=8.29*u.kpc, \n",
    "    galcen_v_sun=[11.1, 12.24 + 239.3, 7.25] * u.km/u.s, \n",
    "    z_sun=0*u.pc\n",
    ")"
   ]
  },
  {
   "cell_type": "code",
   "execution_count": 4,
   "id": "f3ca16d1",
   "metadata": {
    "ExecuteTime": {
     "end_time": "2021-07-29T14:50:08.353138Z",
     "start_time": "2021-07-29T14:50:08.343174Z"
    }
   },
   "outputs": [
    {
     "data": {
      "text/plain": [
       "{'galcen_distance': <Quantity 8.29 kpc>,\n",
       " 'galcen_v_sun': <CartesianDifferential (d_x, d_y, d_z) in km / s\n",
       "     (11.1, 251.54, 7.25)>,\n",
       " 'z_sun': <Quantity 0. pc>,\n",
       " 'roll': <Quantity 0. deg>}"
      ]
     },
     "execution_count": 4,
     "metadata": {},
     "output_type": "execute_result"
    }
   ],
   "source": [
    "vdm_galcen_frame_attrs = {k: getattr(vdm_galcen_frame, k) \n",
    "                          for k in vdm_galcen_frame.get_frame_attr_names()\n",
    "                          if k != 'galcen_coord'}\n",
    "vdm_galcen_frame_attrs"
   ]
  },
  {
   "cell_type": "code",
   "execution_count": 5,
   "id": "f663d3a3",
   "metadata": {
    "ExecuteTime": {
     "end_time": "2021-07-29T14:50:08.442766Z",
     "start_time": "2021-07-29T14:50:08.354431Z"
    }
   },
   "outputs": [],
   "source": [
    "name = 'vdm2012'\n",
    "\n",
    "# vw and vn + error\n",
    "vW, vW_err = (-125.2, 30.8)* u.km/u.s # in kpc\n",
    "vN, vN_err = (-73.8, 28.4)* u.km/u.s # in kpc\n",
    "vW_term = (vW_err/vW)**2\n",
    "vN_term = (vN_err/vN)**2\n",
    "\n",
    "# distance to m31\n",
    "D, D_err = (770, 40)* u.kpc # in kpc\n",
    "D_term = (D_err/D)**2\n",
    "\n",
    "# calculate equiv pms \n",
    "with u.set_enabled_equivalencies(u.dimensionless_angles()):\n",
    "    mu_alpha_star = (- vW / D).to(u.microarcsecond/u.yr)\n",
    "    mu_delta = (vN / D).to(u.microarcsecond/u.yr)\n",
    "\n",
    "# equiv pm errors\n",
    "mu_alpha_star_err = np.sqrt( mu_alpha_star**2 * (vW_term - D_term) ) \n",
    "mu_delta_err = np.sqrt( mu_delta**2 * (vN_term - D_term) ) \n",
    "\n",
    "tbl = {}\n",
    "tbl['ra'] = fiducial_ra\n",
    "tbl['dec'] = fiducial_dec\n",
    "\n",
    "tbl['distance'] = D\n",
    "tbl['distance_err'] = D_err\n",
    "\n",
    "tbl['pm_ra_cosdec'] = mu_alpha_star\n",
    "tbl['pm_ra_cosdec_err'] = mu_alpha_star_err\n",
    "\n",
    "tbl['pm_dec'] = mu_delta\n",
    "tbl['pm_dec_err'] = mu_delta_err\n",
    "\n",
    "tbl['radial_velocity'] = -302 * u.km/u.s\n",
    "tbl['radial_velocity_err'] = 1 * u.km/u.s\n",
    "\n",
    "tbl['tperi'] = 13.75 * u.Gyr\n",
    "tbl['tperi_err'] = 0.11 * u.Gyr\n",
    "\n",
    "t = at.QTable({k: [] * tbl[k].unit for k in tbl if hasattr(tbl[k], 'unit')})\n",
    "t.add_row(tbl)\n",
    "\n",
    "t.meta['title'] = 'van der Marel et al. 2012'\n",
    "t.meta['galcen_frame_attrs'] = vdm_galcen_frame_attrs\n",
    "\n",
    "t.write(f'../datasets/{name}.ecsv', overwrite=True)"
   ]
  },
  {
   "cell_type": "markdown",
   "id": "54f7e1e8",
   "metadata": {},
   "source": [
    "# van der Marel et al. 2012 — radial only"
   ]
  },
  {
   "cell_type": "code",
   "execution_count": 6,
   "id": "1413b31e",
   "metadata": {
    "ExecuteTime": {
     "end_time": "2021-07-29T14:50:08.505116Z",
     "start_time": "2021-07-29T14:50:08.444814Z"
    }
   },
   "outputs": [],
   "source": [
    "name = 'vdm2012-radial'\n",
    "\n",
    "# distance to m31\n",
    "D, D_err = [770, 40] * u.kpc\n",
    "\n",
    "m31_c = coord.SkyCoord(\n",
    "    ra=fiducial_ra,\n",
    "    dec=fiducial_dec,\n",
    "    distance=D\n",
    ")\n",
    "m31_lgh = m31_c.transform_to(vdm_galcen_frame).transform_to(LocalGroupHalocentric())\n",
    "pos = m31_lgh.data.represent_as(coord.SphericalRepresentation)\n",
    "v_rad_only = coord.SphericalDifferential(\n",
    "    0*u.mas/u.yr, 0*u.mas/u.yr, -110*u.km/u.s)\n",
    "lgh = LocalGroupHalocentric(pos.with_differentials(v_rad_only))\n",
    "v_rad_only_icrs = lgh.transform_to(vdm_galcen_frame).transform_to(coord.ICRS())\n",
    "\n",
    "\n",
    "tbl = {}\n",
    "tbl['ra'] = fiducial_ra\n",
    "tbl['dec'] = fiducial_dec\n",
    "\n",
    "tbl['distance'] = D\n",
    "tbl['distance_err'] = D_err\n",
    "\n",
    "tbl['pm_ra_cosdec'] = v_rad_only_icrs.pm_ra_cosdec\n",
    "tbl['pm_ra_cosdec_err'] = 1 * u.microarcsecond / u.yr\n",
    "\n",
    "tbl['pm_dec'] = v_rad_only_icrs.pm_dec\n",
    "tbl['pm_dec_err'] = 1 * u.microarcsecond / u.yr\n",
    "\n",
    "tbl['radial_velocity'] = v_rad_only_icrs.radial_velocity\n",
    "tbl['radial_velocity_err'] = 1 * u.km/u.s\n",
    "\n",
    "tbl['tperi'] = 13.75 * u.Gyr\n",
    "tbl['tperi_err'] = 0.11 * u.Gyr\n",
    "\n",
    "t = at.QTable({k: [] * tbl[k].unit for k in tbl})\n",
    "t.add_row(tbl)\n",
    "\n",
    "t.meta['title'] = 'van der Marel et al. 2012 - radial only'\n",
    "\n",
    "t.write(f'../datasets/{name}.ecsv', overwrite=True)"
   ]
  },
  {
   "cell_type": "markdown",
   "id": "e56f9007",
   "metadata": {},
   "source": [
    "# Fiducial 2021 values"
   ]
  },
  {
   "cell_type": "code",
   "execution_count": 7,
   "id": "0e1afa2e",
   "metadata": {
    "ExecuteTime": {
     "end_time": "2021-07-29T14:50:08.523222Z",
     "start_time": "2021-07-29T14:50:08.506924Z"
    }
   },
   "outputs": [],
   "source": [
    "name = 'fiducial2021'\n",
    "\n",
    "# distance to m31: Li et al. 2021\n",
    "# https://ui.adsabs.harvard.edu/abs/2021arXiv210708029L/abstract\n",
    "D, D_err = [761, 11] * u.kpc\n",
    "\n",
    "tbl = {}\n",
    "tbl['ra'] = fiducial_ra\n",
    "tbl['dec'] = fiducial_dec\n",
    "\n",
    "tbl['distance'] = D\n",
    "tbl['distance_err'] = D_err\n",
    "\n",
    "# Salomon et al. 2021\n",
    "# https://arxiv.org/abs/2012.09204\n",
    "tbl['pm_ra_cosdec'] = 48.98 * u.microarcsecond / u.yr\n",
    "tbl['pm_ra_cosdec_err'] = 10.47 * u.microarcsecond / u.yr\n",
    "\n",
    "tbl['pm_dec'] = -36.85 * u.microarcsecond / u.yr\n",
    "tbl['pm_dec_err'] = 8.03 * u.microarcsecond / u.yr\n",
    "\n",
    "tbl['radial_velocity'] = -302 * u.km/u.s\n",
    "tbl['radial_velocity_err'] = 1 * u.km/u.s\n",
    "\n",
    "tbl['tperi'] = 13.75 * u.Gyr\n",
    "tbl['tperi_err'] = 0.11 * u.Gyr\n",
    "\n",
    "t = at.QTable({k: [] * tbl[k].unit for k in tbl})\n",
    "t.add_row(tbl)\n",
    "\n",
    "t.meta['title'] = 'Fiducial 2021 data'\n",
    "\n",
    "t.write(f'../datasets/{name}.ecsv', overwrite=True)"
   ]
  },
  {
   "cell_type": "code",
   "execution_count": null,
   "id": "98d14b8c",
   "metadata": {},
   "outputs": [],
   "source": []
  }
 ],
 "metadata": {
  "kernelspec": {
   "display_name": "Python [conda env:root] *",
   "language": "python",
   "name": "conda-root-py"
  },
  "language_info": {
   "codemirror_mode": {
    "name": "ipython",
    "version": 3
   },
   "file_extension": ".py",
   "mimetype": "text/x-python",
   "name": "python",
   "nbconvert_exporter": "python",
   "pygments_lexer": "ipython3",
   "version": "3.8.3"
  },
  "toc": {
   "base_numbering": 1,
   "nav_menu": {},
   "number_sections": true,
   "sideBar": true,
   "skip_h1_title": false,
   "title_cell": "Table of Contents",
   "title_sidebar": "Contents",
   "toc_cell": false,
   "toc_position": {},
   "toc_section_display": true,
   "toc_window_display": false
  }
 },
 "nbformat": 4,
 "nbformat_minor": 5
}
