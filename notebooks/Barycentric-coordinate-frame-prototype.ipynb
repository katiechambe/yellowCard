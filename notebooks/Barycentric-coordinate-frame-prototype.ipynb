{
 "cells": [
  {
   "cell_type": "code",
   "execution_count": 2,
   "id": "28809904",
   "metadata": {
    "ExecuteTime": {
     "end_time": "2021-07-18T12:31:07.758098Z",
     "start_time": "2021-07-18T12:31:04.967914Z"
    }
   },
   "outputs": [],
   "source": [
    "import astropy.coordinates as coord\n",
    "import astropy.table as at\n",
    "import astropy.units as u\n",
    "import matplotlib as mpl\n",
    "import matplotlib.pyplot as plt\n",
    "%matplotlib inline\n",
    "import numpy as np\n",
    "\n",
    "# gala\n",
    "import gala.coordinates as gc\n",
    "import gala.dynamics as gd\n",
    "import gala.potential as gp\n",
    "from gala.units import galactic"
   ]
  },
  {
   "cell_type": "markdown",
   "id": "7a39674f",
   "metadata": {},
   "source": [
    "- Sky coordinates from \n",
    "- Proper motions from Table 2: (Blue sample) https://arxiv.org/pdf/2012.09204.pdf\n",
    "- Distance and RV from Mcconachie 2012"
   ]
  },
  {
   "cell_type": "code",
   "execution_count": 3,
   "id": "08e18ae9",
   "metadata": {
    "ExecuteTime": {
     "end_time": "2021-07-18T12:31:07.765799Z",
     "start_time": "2021-07-18T12:31:07.759766Z"
    }
   },
   "outputs": [],
   "source": [
    "m31_c = coord.SkyCoord(\n",
    "    ra=10.68470833 * u.deg, \n",
    "    dec=41.26875 * u.deg,\n",
    "    distance=731 * u.kpc,\n",
    "    pm_ra_cosdec=48.98 * u.microarcsecond/u.yr, \n",
    "    pm_dec=-36.85 * u.microarcsecond/u.yr,\n",
    "    radial_velocity=-300 * u.km/u.s\n",
    ")"
   ]
  },
  {
   "cell_type": "code",
   "execution_count": 8,
   "id": "7cf89b16",
   "metadata": {
    "ExecuteTime": {
     "end_time": "2021-07-18T12:33:25.910021Z",
     "start_time": "2021-07-18T12:33:25.905912Z"
    }
   },
   "outputs": [],
   "source": [
    "class HalocentricLocalGroup(coord.BaseCoordinateFrame):\n",
    "    \"\"\"\n",
    "    Position at the Milky Way Halo barycenter, x-axis toward M31, \n",
    "    z-axis toward the Local Group angular momentum vector.\n",
    "    \"\"\"\n",
    "\n",
    "    default_representation = coord.CartesianRepresentation\n",
    "    default_differential = coord.CartesianDifferential\n",
    "\n",
    "    # Frame attributes\n",
    "    m31_coord = coord.CoordinateAttribute(\n",
    "        frame=coord.ICRS,\n",
    "        default=m31_c\n",
    "    )\n",
    "    \n",
    "    M_MW_over_M_M31 = coord.Attribute(\n",
    "        default=0.5\n",
    "    )\n",
    "    \n",
    "    M_LG = coord.QuantityAttribute(\n",
    "        default=2e12*u.Msun,\n",
    "        unit=u.Msun\n",
    "    )"
   ]
  },
  {
   "cell_type": "code",
   "execution_count": 94,
   "id": "5db4ac3b",
   "metadata": {
    "ExecuteTime": {
     "end_time": "2021-07-18T14:24:10.195207Z",
     "start_time": "2021-07-18T14:24:10.185276Z"
    }
   },
   "outputs": [],
   "source": [
    "def get_galcen_to_lg_transform(lg_frame, galcen_frame, inverse=False):\n",
    "    \"\"\"\n",
    "    This function returns the matrix and (position and velocity) offset \n",
    "    vectors to transform from a Milky Way Galactocentric reference frame to\n",
    "    a Local Group Barycenter reference frame.\n",
    "    \n",
    "    Astropy coordinate frames are mostly defined as affine transformations from \n",
    "    one frame to another. Transformations between inertial frames are given by \n",
    "    affine transformations, which are defined as A x + b, where A is a matrix \n",
    "    (typically a rotation matrix: orthogonal matrix with determinant 1), \n",
    "    x and b are vectors.\n",
    "    \n",
    "    Use the ``inverse`` argument to get the inverse transformation, matrix and\n",
    "    offsets to go from LGBarycentric to Galactocentric.\n",
    "    \n",
    "    \"\"\"\n",
    "    # shorthand\n",
    "    lg = lg_frame\n",
    "    M_M31 = lg.M_LG / (1 + lg.M_MW_over_M_M31)\n",
    "    M_MW = lg.M_LG - M_M31\n",
    "    \n",
    "    # Get the line connecting M31 to MW center, and angular momentum \n",
    "    # vector to specify the orientation / rotation around the line\n",
    "    m31_galcen = lg.m31_coord.transform_to(galcen_frame)\n",
    "    m31_galcen_pos = m31_galcen.data.without_differentials()\n",
    "    m31_galcen_vel = m31_galcen.velocity    \n",
    "    L_mw_m31 = m31_galcen_pos.cross(m31_galcen_vel)\n",
    "    lg_pole = L_mw_m31 / L_mw_m31.norm()\n",
    "\n",
    "    # Rotation matrix to align x(Galcen) with the vector to M31 and \n",
    "    # z(Galcen) with the LG angular momentum vector\n",
    "    new_x = m31_galcen_pos / m31_galcen_pos.norm()\n",
    "    new_z = lg_pole\n",
    "    new_y = - new_x.cross(new_z)\n",
    "    R = coord.concatenate_representations((new_x, new_y, new_z)).xyz.T\n",
    "    \n",
    "    # Positional offset to the barycenter\n",
    "    # - This is defined already in the LG frame!\n",
    "    dpos = coord.CartesianRepresentation(lg.m31_coord.distance * [1., 0, 0])\n",
    "    \n",
    "    # Velocity offset to the barycenter\n",
    "    # - This is defined in the MW frame!\n",
    "    dvel = - m31_galcen_vel * M_M31 / lg.M_LG\n",
    "    \n",
    "    if inverse:\n",
    "        inv_dpos = (-dpos).transform(R.T)\n",
    "        b = inv_dpos.with_differentials(-dvel)\n",
    "        A = R.T\n",
    "        \n",
    "    else:\n",
    "        b = dpos.with_differentials(dvel.transform(R))\n",
    "        A = R\n",
    "    \n",
    "    return A, b\n",
    "\n",
    "\n",
    "@coord.frame_transform_graph.transform(\n",
    "    coord.transformations.AffineTransform, \n",
    "    coord.Galactocentric, \n",
    "    LGBarycentric\n",
    ")\n",
    "def galactocentric_to_lg(galactocentric_coord, lg_frame):\n",
    "    return get_galcen_to_lg_transform(lg_frame, galactocentric_coord, inverse=False)\n",
    "\n",
    "\n",
    "@coord.frame_transform_graph.transform(\n",
    "    coord.transformations.AffineTransform, \n",
    "    LGBarycentric,\n",
    "    coord.Galactocentric\n",
    ")\n",
    "def lg_to_galactocentric(lg_coord, galactocentric_frame):\n",
    "    return get_galcen_to_lg_transform(lg_coord, galactocentric_frame, inverse=True)"
   ]
  },
  {
   "cell_type": "code",
   "execution_count": 95,
   "id": "4adec69f",
   "metadata": {
    "ExecuteTime": {
     "end_time": "2021-07-18T14:24:10.783971Z",
     "start_time": "2021-07-18T14:24:10.780053Z"
    }
   },
   "outputs": [],
   "source": [
    "lg_frame = LGBarycentric()\n",
    "galcen_frame = coord.Galactocentric()"
   ]
  },
  {
   "cell_type": "code",
   "execution_count": 96,
   "id": "9560e1cb",
   "metadata": {
    "ExecuteTime": {
     "end_time": "2021-07-18T14:24:11.170149Z",
     "start_time": "2021-07-18T14:24:11.164215Z"
    }
   },
   "outputs": [],
   "source": [
    "mw_c = coord.SkyCoord(\n",
    "    coord.CartesianRepresentation([0,0,0]*u.kpc).with_differentials(coord.CartesianDifferential([0,0,0]*u.km/u.s)),\n",
    "    frame=galcen_frame\n",
    ")"
   ]
  },
  {
   "cell_type": "code",
   "execution_count": 97,
   "id": "09108ed4",
   "metadata": {
    "ExecuteTime": {
     "end_time": "2021-07-18T14:24:11.654286Z",
     "start_time": "2021-07-18T14:24:11.621897Z"
    }
   },
   "outputs": [
    {
     "data": {
      "text/plain": [
       "<SkyCoord (LGBarycentric: m31_coord=<ICRS Coordinate: (ra, dec, distance) in (deg, deg, kpc)\n",
       "    (10.68470833, 41.26875, 731.)\n",
       " (pm_ra_cosdec, pm_dec, radial_velocity) in (mas / yr, mas / yr, km / s)\n",
       "    (0.04898, -0.03685, -300.)>, M_MW_over_M_M31=0.5, M_LG=2000000000000.0 solMass): (x, y, z) in kpc\n",
       "    (1465.94425169, 5.68434189e-14, -1.42108547e-14)\n",
       " (v_x, v_y, v_z) in km / s\n",
       "    (-37.8361322, 19.51181308, -4.50111254e-15)>"
      ]
     },
     "execution_count": 97,
     "metadata": {},
     "output_type": "execute_result"
    }
   ],
   "source": [
    "m31_c.transform_to(LGBarycentric())"
   ]
  },
  {
   "cell_type": "code",
   "execution_count": 99,
   "id": "f436275d",
   "metadata": {
    "ExecuteTime": {
     "end_time": "2021-07-18T14:24:19.862600Z",
     "start_time": "2021-07-18T14:24:19.790125Z"
    }
   },
   "outputs": [
    {
     "data": {
      "text/plain": [
       "<SkyCoord (Galactocentric: galcen_coord=<ICRS Coordinate: (ra, dec) in deg\n",
       "    (266.4051, -28.936175)>, galcen_distance=8.122 kpc, galcen_v_sun=(12.9, 245.6, 7.78) km / s, z_sun=20.8 pc, roll=0.0 deg): (x, y, z) in kpc\n",
       "    (0., 0., 0.)\n",
       " (v_x, v_y, v_z) in km / s\n",
       "    (-3.55271368e-15, 0., 2.66453526e-15)>"
      ]
     },
     "execution_count": 99,
     "metadata": {},
     "output_type": "execute_result"
    }
   ],
   "source": [
    "mw_c.transform_to(LGBarycentric())"
   ]
  },
  {
   "cell_type": "code",
   "execution_count": 100,
   "id": "acb22675",
   "metadata": {
    "ExecuteTime": {
     "end_time": "2021-07-18T14:24:33.911363Z",
     "start_time": "2021-07-18T14:24:33.847678Z"
    },
    "scrolled": true
   },
   "outputs": [
    {
     "data": {
      "text/plain": [
       "<SkyCoord (Galactocentric: galcen_coord=<ICRS Coordinate: (ra, dec) in deg\n",
       "    (266.4051, -28.936175)>, galcen_distance=8.122 kpc, galcen_v_sun=(12.9, 245.6, 7.78) km / s, z_sun=20.8 pc, roll=0.0 deg): (x, y, z) in kpc\n",
       "    (-360.6982349, 581.62813522, -267.85919575)\n",
       " (v_x, v_y, v_z) in km / s\n",
       "    (41.58355717, -120.5840702, -6.39089485)>"
      ]
     },
     "execution_count": 100,
     "metadata": {},
     "output_type": "execute_result"
    }
   ],
   "source": [
    "m31_c.transform_to(LGBarycentric()).transform_to(galcen_frame)"
   ]
  },
  {
   "cell_type": "code",
   "execution_count": null,
   "id": "300de674",
   "metadata": {},
   "outputs": [],
   "source": []
  },
  {
   "cell_type": "code",
   "execution_count": null,
   "id": "f1eec8c2",
   "metadata": {},
   "outputs": [],
   "source": []
  }
 ],
 "metadata": {
  "kernelspec": {
   "display_name": "Python [conda env:root] *",
   "language": "python",
   "name": "conda-root-py"
  },
  "language_info": {
   "codemirror_mode": {
    "name": "ipython",
    "version": 3
   },
   "file_extension": ".py",
   "mimetype": "text/x-python",
   "name": "python",
   "nbconvert_exporter": "python",
   "pygments_lexer": "ipython3",
   "version": "3.8.3"
  },
  "toc": {
   "base_numbering": 1,
   "nav_menu": {},
   "number_sections": true,
   "sideBar": true,
   "skip_h1_title": false,
   "title_cell": "Table of Contents",
   "title_sidebar": "Contents",
   "toc_cell": false,
   "toc_position": {},
   "toc_section_display": true,
   "toc_window_display": false
  }
 },
 "nbformat": 4,
 "nbformat_minor": 5
}
