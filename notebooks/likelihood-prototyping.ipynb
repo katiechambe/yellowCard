{
 "cells": [
  {
   "cell_type": "code",
   "execution_count": 1,
   "id": "9d2f556a",
   "metadata": {},
   "outputs": [],
   "source": [
    "import astropy.coordinates as coord\n",
    "import numpy as np\n",
    "from gala.units import UnitSystem\n",
    "from yellowcard.model import TimingArgumentModel \n",
    "from yellowcard.coordinates import fiducial_m31_c\n",
    "import astropy.units as u\n",
    "from scipy.optimize import minimize"
   ]
  },
  {
   "cell_type": "code",
   "execution_count": 2,
   "id": "1b782f7c",
   "metadata": {},
   "outputs": [],
   "source": [
    "model = TimingArgumentModel(distance = fiducial_m31_c.distance,\n",
    "                            pm = u.Quantity([fiducial_m31_c.pm_ra_cosdec, fiducial_m31_c.pm_dec]),\n",
    "                            radial_velocity = fiducial_m31_c.radial_velocity,\n",
    "                            tperi = 13.7*u.Gyr,\n",
    "                            distance_err = 10*u.kpc,\n",
    "                            pm_err = u.Quantity([10*u.microarcsecond/u.yr, 10*u.microarcsecond/u.yr]),\n",
    "                            radial_velocity_err = 10 * u.km / u.s,\n",
    "                            tperi_err = .25 * u.Gyr,\n",
    "                            )"
   ]
  },
  {
   "cell_type": "code",
   "execution_count": 3,
   "id": "b7962068",
   "metadata": {},
   "outputs": [],
   "source": [
    "e = 0.5\n",
    "eta = 5*u.rad\n",
    "galcen_m31 = fiducial_m31_c.transform_to(model.galcen_frame)\n",
    "galcen_m31_pos = galcen_m31.data.without_differentials()\n",
    "galcen_m31_vel = galcen_m31.velocity\n",
    "galcen_m31_L   = galcen_m31_pos.cross(galcen_m31_vel)\n",
    "galcen_m31_L   = galcen_m31_L / galcen_m31_L.norm()"
   ]
  },
  {
   "cell_type": "code",
   "execution_count": 4,
   "id": "a4be5ba0",
   "metadata": {},
   "outputs": [
    {
     "data": {
      "text/latex": [
       "$[-0.83720219,~-0.3124973,~0.44881838] \\; \\mathrm{}$"
      ],
      "text/plain": [
       "<Quantity [-0.83720219, -0.3124973 ,  0.44881838]>"
      ]
     },
     "execution_count": 4,
     "metadata": {},
     "output_type": "execute_result"
    }
   ],
   "source": [
    "galcen_m31_L.xyz"
   ]
  },
  {
   "cell_type": "code",
   "execution_count": 5,
   "id": "40f385a0",
   "metadata": {},
   "outputs": [],
   "source": [
    "init_par = {}\n",
    "\n",
    "init_par['a'] = fiducial_m31_c.distance.value/(1-e*np.cos(eta))\n",
    "init_par['ecoseta'] = e*np.cos(eta)\n",
    "init_par['esineta'] = e*np.sin(eta)\n",
    "init_par['M'] = (4e12*u.Msun).decompose(model.unit_system).value\n",
    "init_par['Lhatlg'] = galcen_m31_L.xyz\n"
   ]
  },
  {
   "cell_type": "code",
   "execution_count": 6,
   "id": "165b762e",
   "metadata": {},
   "outputs": [
    {
     "data": {
      "text/plain": [
       "-1655.3552205691667"
      ]
     },
     "execution_count": 6,
     "metadata": {},
     "output_type": "execute_result"
    }
   ],
   "source": [
    "model.ln_likelihood(init_par)"
   ]
  },
  {
   "cell_type": "code",
   "execution_count": 7,
   "id": "3d67f7d1",
   "metadata": {},
   "outputs": [
    {
     "data": {
      "text/plain": [
       "-1655.3552205691667"
      ]
     },
     "execution_count": 7,
     "metadata": {},
     "output_type": "execute_result"
    }
   ],
   "source": [
    "model(model.pack_pars(init_par))"
   ]
  },
  {
   "cell_type": "code",
   "execution_count": 8,
   "id": "3dcfcee5",
   "metadata": {},
   "outputs": [
    {
     "data": {
      "text/latex": [
       "$[851.81366,~0.14183109,~-0.47946214,~4,~-0.83720219,~-0.3124973,~0.44881838] \\; \\mathrm{}$"
      ],
      "text/plain": [
       "<Quantity [ 8.51813663e+02,  1.41831093e-01, -4.79462137e-01,\n",
       "            4.00000000e+00, -8.37202186e-01, -3.12497297e-01,\n",
       "            4.48818381e-01]>"
      ]
     },
     "execution_count": 8,
     "metadata": {},
     "output_type": "execute_result"
    }
   ],
   "source": [
    "model.pack_pars(init_par)"
   ]
  },
  {
   "cell_type": "code",
   "execution_count": 16,
   "id": "bb4b5ef3",
   "metadata": {},
   "outputs": [
    {
     "name": "stdout",
     "output_type": "stream",
     "text": [
      "/Users/katiechambe/Documents/Research/projects/yellowCard/yellowcard/keplerianPlane.py:61: RuntimeWarning: invalid value encountered in sqrt\n",
      "  return 2 * np.arctan( np.sqrt(A) * B )\n",
      "\n",
      "/Users/katiechambe/Documents/Research/projects/yellowCard/yellowcard/keplerianPlane.py:53: RuntimeWarning: invalid value encountered in double_scalars\n",
      "  B = ( 1 - self.e**2 )**(1/2)\n",
      "\n",
      "/Users/katiechambe/miniconda3/envs/BADS/lib/python3.9/site-packages/scipy/optimize/_numdiff.py:557: RuntimeWarning: invalid value encountered in subtract\n",
      "  df = fun(x) - f0\n",
      "\n",
      "/Users/katiechambe/Documents/Research/projects/yellowCard/yellowcard/keplerianPlane.py:61: RuntimeWarning: invalid value encountered in sqrt\n",
      "  return 2 * np.arctan( np.sqrt(A) * B )\n",
      "\n",
      "/Users/katiechambe/Documents/Research/projects/yellowCard/yellowcard/keplerianPlane.py:53: RuntimeWarning: invalid value encountered in double_scalars\n",
      "  B = ( 1 - self.e**2 )**(1/2)\n",
      "\n",
      "/Users/katiechambe/Documents/Research/projects/yellowCard/yellowcard/keplerianPlane.py:61: RuntimeWarning: invalid value encountered in sqrt\n",
      "  return 2 * np.arctan( np.sqrt(A) * B )\n",
      "\n",
      "/Users/katiechambe/Documents/Research/projects/yellowCard/yellowcard/keplerianPlane.py:53: RuntimeWarning: invalid value encountered in double_scalars\n",
      "  B = ( 1 - self.e**2 )**(1/2)\n",
      "\n",
      "/Users/katiechambe/miniconda3/envs/BADS/lib/python3.9/site-packages/scipy/optimize/_numdiff.py:557: RuntimeWarning: invalid value encountered in subtract\n",
      "  df = fun(x) - f0\n",
      "\n",
      "/Users/katiechambe/Documents/Research/projects/yellowCard/yellowcard/keplerianPlane.py:61: RuntimeWarning: invalid value encountered in sqrt\n",
      "  return 2 * np.arctan( np.sqrt(A) * B )\n",
      "\n",
      "/Users/katiechambe/Documents/Research/projects/yellowCard/yellowcard/keplerianPlane.py:53: RuntimeWarning: invalid value encountered in double_scalars\n",
      "  B = ( 1 - self.e**2 )**(1/2)\n",
      "\n",
      "/Users/katiechambe/miniconda3/envs/BADS/lib/python3.9/site-packages/scipy/optimize/_numdiff.py:557: RuntimeWarning: invalid value encountered in subtract\n",
      "  df = fun(x) - f0\n",
      "\n",
      "/Users/katiechambe/miniconda3/envs/BADS/lib/python3.9/site-packages/scipy/optimize/_numdiff.py:557: RuntimeWarning: invalid value encountered in subtract\n",
      "  df = fun(x) - f0\n",
      "\n"
     ]
    }
   ],
   "source": [
    "result = minimize( lambda *args: -model(*args), model.pack_pars(init_par), method='BFGS')"
   ]
  },
  {
   "cell_type": "code",
   "execution_count": 17,
   "id": "e1a606c1",
   "metadata": {},
   "outputs": [
    {
     "data": {
      "text/plain": [
       "      fun: 1533.1019163661115\n",
       " hess_inv: array([[ 1.02769990e+00,  1.82828031e-04, -6.31705487e-05,\n",
       "        -1.74671699e-01, -1.58507297e-02,  2.97304271e-03,\n",
       "         3.10570231e-02],\n",
       "       [ 1.82828031e-04,  1.33527258e-04, -4.28622076e-05,\n",
       "         1.14361053e-03, -8.23792606e-04, -5.29048810e-04,\n",
       "         2.11612916e-05],\n",
       "       [-6.31705487e-05, -4.28622076e-05,  7.21989497e-05,\n",
       "        -1.35869408e-03, -2.86296741e-04, -2.79131570e-05,\n",
       "         2.81714134e-04],\n",
       "       [-1.74671699e-01,  1.14361053e-03, -1.35869408e-03,\n",
       "         1.65887668e+00,  2.81665403e-01,  2.24154573e-02,\n",
       "        -3.38942247e-01],\n",
       "       [-1.58507297e-02, -8.23792606e-04, -2.86296741e-04,\n",
       "         2.81665403e-01,  1.46754864e-01,  3.87924434e-02,\n",
       "        -1.01372889e-01],\n",
       "       [ 2.97304271e-03, -5.29048810e-04, -2.79131570e-05,\n",
       "         2.24154573e-02,  3.87924434e-02,  1.93741640e-02,\n",
       "        -2.10586577e-02],\n",
       "       [ 3.10570231e-02,  2.11612916e-05,  2.81714134e-04,\n",
       "        -3.38942247e-01, -1.01372889e-01, -2.10586577e-02,\n",
       "         9.54014783e-02]])\n",
       "      jac: array([ -0.04627991, -30.07737732, -17.22067261,   0.55844116,\n",
       "        -3.20896912,  -3.04476929,  -5.68006897])\n",
       "  message: 'Desired error not necessarily achieved due to precision loss.'\n",
       "     nfev: 286\n",
       "      nit: 8\n",
       "     njev: 34\n",
       "   status: 2\n",
       "  success: False\n",
       "        x: array([ 8.52039002e+02,  1.43513790e-01, -5.63558168e-02,  2.77875582e+00,\n",
       "       -9.78372211e-01, -2.56716055e-01,  6.90346087e-01])"
      ]
     },
     "execution_count": 17,
     "metadata": {},
     "output_type": "execute_result"
    }
   ],
   "source": [
    "result"
   ]
  },
  {
   "cell_type": "code",
   "execution_count": 18,
   "id": "2a5a0958",
   "metadata": {},
   "outputs": [
    {
     "data": {
      "text/plain": [
       "{'a': array(852.03900205),\n",
       " 'ecoseta': array(0.14351379),\n",
       " 'esineta': array(-0.05635582),\n",
       " 'M': array(2.77875582),\n",
       " 'Lhatlg': array([-0.97837221, -0.25671605,  0.69034609])}"
      ]
     },
     "execution_count": 18,
     "metadata": {},
     "output_type": "execute_result"
    }
   ],
   "source": [
    "model.unpack_pars(result.x)"
   ]
  },
  {
   "cell_type": "code",
   "execution_count": 19,
   "id": "dc312251",
   "metadata": {},
   "outputs": [
    {
     "data": {
      "text/plain": [
       "{'a': <Quantity 851.81366257>,\n",
       " 'ecoseta': <Quantity 0.14183109>,\n",
       " 'esineta': <Quantity -0.47946214>,\n",
       " 'M': 3.999999999999999,\n",
       " 'Lhatlg': <Quantity [-0.83720219, -0.3124973 ,  0.44881838]>}"
      ]
     },
     "execution_count": 19,
     "metadata": {},
     "output_type": "execute_result"
    }
   ],
   "source": [
    "init_par"
   ]
  },
  {
   "cell_type": "code",
   "execution_count": null,
   "id": "23e3dcb6",
   "metadata": {},
   "outputs": [],
   "source": []
  }
 ],
 "metadata": {
  "kernelspec": {
   "display_name": "Python 3 (ipykernel)",
   "language": "python",
   "name": "python3"
  },
  "language_info": {
   "codemirror_mode": {
    "name": "ipython",
    "version": 3
   },
   "file_extension": ".py",
   "mimetype": "text/x-python",
   "name": "python",
   "nbconvert_exporter": "python",
   "pygments_lexer": "ipython3",
   "version": "3.9.5"
  },
  "toc": {
   "base_numbering": 1,
   "nav_menu": {},
   "number_sections": true,
   "sideBar": true,
   "skip_h1_title": false,
   "title_cell": "Table of Contents",
   "title_sidebar": "Contents",
   "toc_cell": false,
   "toc_position": {},
   "toc_section_display": true,
   "toc_window_display": false
  }
 },
 "nbformat": 4,
 "nbformat_minor": 5
}
